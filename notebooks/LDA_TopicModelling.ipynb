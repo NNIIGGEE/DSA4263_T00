{
 "cells": [
  {
   "cell_type": "code",
   "execution_count": 1,
   "id": "23f375b4",
   "metadata": {},
   "outputs": [],
   "source": [
    "#TODO: try out BERT and LDA for topic modelling, calculate out the metrics and compare the models\n",
    "\n",
    "#LDA is unsupervised learning which doesnt require labeled data to train\n",
    "#BERT is a pretrained model which is a supervised learning method, requires labeled data to train\n",
    "\n",
    "#LDA can provide insights to the underlying pattern in the data, resulting topics are easily interpreted by humans\n",
    "#BERT can provide more accurate results but requires labeled data and significant computation resources\n"
   ]
  },
  {
   "cell_type": "code",
   "execution_count": 2,
   "id": "ac2da26d",
   "metadata": {},
   "outputs": [],
   "source": [
    "#import preprocessed file and sentiment analysis\n"
   ]
  },
  {
   "cell_type": "code",
   "execution_count": 1,
   "id": "2763e019",
   "metadata": {},
   "outputs": [],
   "source": [
    "import pandas as pd\n",
    "import numpy as np\n",
    "from sklearn.cluster import KMeans\n",
    "#from transformers import AutoModel\n",
    "\n",
    "import gensim\n",
    "from gensim.models import Phrases\n",
    "#Prepare objects for LDA gensim implementation\n",
    "from gensim import corpora\n",
    "#Running LDA\n",
    "from gensim import models\n",
    "\n",
    "import matplotlib.pyplot as plt\n",
    "import seaborn as sns"
   ]
  },
  {
   "cell_type": "code",
   "execution_count": 5,
   "id": "ef91b381",
   "metadata": {
    "scrolled": true
   },
   "outputs": [
    {
     "data": {
      "text/html": [
       "<div>\n",
       "<style scoped>\n",
       "    .dataframe tbody tr th:only-of-type {\n",
       "        vertical-align: middle;\n",
       "    }\n",
       "\n",
       "    .dataframe tbody tr th {\n",
       "        vertical-align: top;\n",
       "    }\n",
       "\n",
       "    .dataframe thead th {\n",
       "        text-align: right;\n",
       "    }\n",
       "</style>\n",
       "<table border=\"1\" class=\"dataframe\">\n",
       "  <thead>\n",
       "    <tr style=\"text-align: right;\">\n",
       "      <th></th>\n",
       "      <th>Unnamed: 0</th>\n",
       "      <th>Sentiment</th>\n",
       "      <th>Time</th>\n",
       "      <th>Text</th>\n",
       "      <th>cleaned</th>\n",
       "    </tr>\n",
       "  </thead>\n",
       "  <tbody>\n",
       "    <tr>\n",
       "      <th>0</th>\n",
       "      <td>0</td>\n",
       "      <td>positive</td>\n",
       "      <td>18/6/21</td>\n",
       "      <td>This is a very healthy dog food. Good for thei...</td>\n",
       "      <td>['healthy', 'dog', 'food', 'good', 'digestion'...</td>\n",
       "    </tr>\n",
       "    <tr>\n",
       "      <th>1</th>\n",
       "      <td>1</td>\n",
       "      <td>positive</td>\n",
       "      <td>7/7/21</td>\n",
       "      <td>I've been very pleased with the Natural Balanc...</td>\n",
       "      <td>['pleased', 'natural', 'balance', 'dog', 'food...</td>\n",
       "    </tr>\n",
       "    <tr>\n",
       "      <th>2</th>\n",
       "      <td>2</td>\n",
       "      <td>positive</td>\n",
       "      <td>18/6/21</td>\n",
       "      <td>Before I was educated about feline nutrition, ...</td>\n",
       "      <td>['educated', 'feline', 'nutrition', 'allowed',...</td>\n",
       "    </tr>\n",
       "    <tr>\n",
       "      <th>3</th>\n",
       "      <td>3</td>\n",
       "      <td>positive</td>\n",
       "      <td>7/7/21</td>\n",
       "      <td>My holistic vet recommended this, along with a...</td>\n",
       "      <td>['holistic', 'vet', 'recommended', 'this', 'al...</td>\n",
       "    </tr>\n",
       "    <tr>\n",
       "      <th>4</th>\n",
       "      <td>4</td>\n",
       "      <td>positive</td>\n",
       "      <td>1/7/21</td>\n",
       "      <td>I bought this coffee because its much cheaper ...</td>\n",
       "      <td>['bought', 'coffee', 'much', 'cheaper', 'ganoc...</td>\n",
       "    </tr>\n",
       "  </tbody>\n",
       "</table>\n",
       "</div>"
      ],
      "text/plain": [
       "   Unnamed: 0 Sentiment     Time  \\\n",
       "0           0  positive  18/6/21   \n",
       "1           1  positive   7/7/21   \n",
       "2           2  positive  18/6/21   \n",
       "3           3  positive   7/7/21   \n",
       "4           4  positive   1/7/21   \n",
       "\n",
       "                                                Text  \\\n",
       "0  This is a very healthy dog food. Good for thei...   \n",
       "1  I've been very pleased with the Natural Balanc...   \n",
       "2  Before I was educated about feline nutrition, ...   \n",
       "3  My holistic vet recommended this, along with a...   \n",
       "4  I bought this coffee because its much cheaper ...   \n",
       "\n",
       "                                             cleaned  \n",
       "0  ['healthy', 'dog', 'food', 'good', 'digestion'...  \n",
       "1  ['pleased', 'natural', 'balance', 'dog', 'food...  \n",
       "2  ['educated', 'feline', 'nutrition', 'allowed',...  \n",
       "3  ['holistic', 'vet', 'recommended', 'this', 'al...  \n",
       "4  ['bought', 'coffee', 'much', 'cheaper', 'ganoc...  "
      ]
     },
     "execution_count": 5,
     "metadata": {},
     "output_type": "execute_result"
    }
   ],
   "source": [
    "df = pd.read_csv('../datasets/clean 21 march.csv')\n",
    "df.head()"
   ]
  },
  {
   "cell_type": "code",
   "execution_count": 6,
   "id": "e34f3323",
   "metadata": {},
   "outputs": [
    {
     "name": "stdout",
     "output_type": "stream",
     "text": [
      "<class 'pandas.core.frame.DataFrame'>\n",
      "RangeIndex: 5444 entries, 0 to 5443\n",
      "Data columns (total 5 columns):\n",
      " #   Column      Non-Null Count  Dtype \n",
      "---  ------      --------------  ----- \n",
      " 0   Unnamed: 0  5444 non-null   int64 \n",
      " 1   Sentiment   5444 non-null   object\n",
      " 2   Time        5444 non-null   object\n",
      " 3   Text        5444 non-null   object\n",
      " 4   cleaned     5444 non-null   object\n",
      "dtypes: int64(1), object(4)\n",
      "memory usage: 212.8+ KB\n"
     ]
    }
   ],
   "source": [
    "df.info()"
   ]
  },
  {
   "cell_type": "code",
   "execution_count": 7,
   "id": "cd7168b8",
   "metadata": {},
   "outputs": [],
   "source": [
    "df['Time'] = pd.to_datetime(df['Time'])"
   ]
  },
  {
   "cell_type": "code",
   "execution_count": 8,
   "id": "a35e41a3",
   "metadata": {},
   "outputs": [
    {
     "data": {
      "text/plain": [
       "Timestamp('2017-07-12 00:00:00')"
      ]
     },
     "execution_count": 8,
     "metadata": {},
     "output_type": "execute_result"
    }
   ],
   "source": [
    "df['Time'].min()"
   ]
  },
  {
   "cell_type": "code",
   "execution_count": 9,
   "id": "a0b844bb",
   "metadata": {},
   "outputs": [
    {
     "data": {
      "text/plain": [
       "Timestamp('2021-12-10 00:00:00')"
      ]
     },
     "execution_count": 9,
     "metadata": {},
     "output_type": "execute_result"
    }
   ],
   "source": [
    "df['Time'].max()"
   ]
  },
  {
   "cell_type": "code",
   "execution_count": 10,
   "id": "25bea173",
   "metadata": {
    "scrolled": true
   },
   "outputs": [
    {
     "data": {
      "text/plain": [
       "array(['positive', 'negative'], dtype=object)"
      ]
     },
     "execution_count": 10,
     "metadata": {},
     "output_type": "execute_result"
    }
   ],
   "source": [
    "df['Sentiment'].unique()"
   ]
  },
  {
   "cell_type": "code",
   "execution_count": 11,
   "id": "7ec5af2e",
   "metadata": {},
   "outputs": [],
   "source": [
    "df_positive = df[df['Sentiment'] == 'positive']"
   ]
  },
  {
   "cell_type": "code",
   "execution_count": 12,
   "id": "cbd575f5",
   "metadata": {},
   "outputs": [],
   "source": [
    "df_negative = df[df['Sentiment'] == 'negative']\n"
   ]
  },
  {
   "cell_type": "code",
   "execution_count": 13,
   "id": "9c448084",
   "metadata": {},
   "outputs": [
    {
     "data": {
      "text/plain": [
       "4030"
      ]
     },
     "execution_count": 13,
     "metadata": {},
     "output_type": "execute_result"
    }
   ],
   "source": [
    "len(df_positive) #4030 rows"
   ]
  },
  {
   "cell_type": "code",
   "execution_count": 115,
   "id": "0b1ef1fd",
   "metadata": {},
   "outputs": [
    {
     "data": {
      "text/plain": [
       "1414"
      ]
     },
     "execution_count": 115,
     "metadata": {},
     "output_type": "execute_result"
    }
   ],
   "source": [
    "len(df_negative) #1414 rows"
   ]
  },
  {
   "cell_type": "markdown",
   "id": "6d32787c",
   "metadata": {},
   "source": [
    "# 2. LDA\n"
   ]
  },
  {
   "cell_type": "code",
   "execution_count": 14,
   "id": "c40acfa6",
   "metadata": {},
   "outputs": [
    {
     "data": {
      "text/html": [
       "<div>\n",
       "<style scoped>\n",
       "    .dataframe tbody tr th:only-of-type {\n",
       "        vertical-align: middle;\n",
       "    }\n",
       "\n",
       "    .dataframe tbody tr th {\n",
       "        vertical-align: top;\n",
       "    }\n",
       "\n",
       "    .dataframe thead th {\n",
       "        text-align: right;\n",
       "    }\n",
       "</style>\n",
       "<table border=\"1\" class=\"dataframe\">\n",
       "  <thead>\n",
       "    <tr style=\"text-align: right;\">\n",
       "      <th></th>\n",
       "      <th>Unnamed: 0</th>\n",
       "      <th>Sentiment</th>\n",
       "      <th>Time</th>\n",
       "      <th>Text</th>\n",
       "      <th>cleaned</th>\n",
       "    </tr>\n",
       "  </thead>\n",
       "  <tbody>\n",
       "    <tr>\n",
       "      <th>0</th>\n",
       "      <td>0</td>\n",
       "      <td>positive</td>\n",
       "      <td>2021-06-18</td>\n",
       "      <td>This is a very healthy dog food. Good for thei...</td>\n",
       "      <td>['healthy', 'dog', 'food', 'good', 'digestion'...</td>\n",
       "    </tr>\n",
       "    <tr>\n",
       "      <th>1</th>\n",
       "      <td>1</td>\n",
       "      <td>positive</td>\n",
       "      <td>2021-07-07</td>\n",
       "      <td>I've been very pleased with the Natural Balanc...</td>\n",
       "      <td>['pleased', 'natural', 'balance', 'dog', 'food...</td>\n",
       "    </tr>\n",
       "    <tr>\n",
       "      <th>2</th>\n",
       "      <td>2</td>\n",
       "      <td>positive</td>\n",
       "      <td>2021-06-18</td>\n",
       "      <td>Before I was educated about feline nutrition, ...</td>\n",
       "      <td>['educated', 'feline', 'nutrition', 'allowed',...</td>\n",
       "    </tr>\n",
       "    <tr>\n",
       "      <th>3</th>\n",
       "      <td>3</td>\n",
       "      <td>positive</td>\n",
       "      <td>2021-07-07</td>\n",
       "      <td>My holistic vet recommended this, along with a...</td>\n",
       "      <td>['holistic', 'vet', 'recommended', 'this', 'al...</td>\n",
       "    </tr>\n",
       "    <tr>\n",
       "      <th>4</th>\n",
       "      <td>4</td>\n",
       "      <td>positive</td>\n",
       "      <td>2021-01-07</td>\n",
       "      <td>I bought this coffee because its much cheaper ...</td>\n",
       "      <td>['bought', 'coffee', 'much', 'cheaper', 'ganoc...</td>\n",
       "    </tr>\n",
       "    <tr>\n",
       "      <th>...</th>\n",
       "      <td>...</td>\n",
       "      <td>...</td>\n",
       "      <td>...</td>\n",
       "      <td>...</td>\n",
       "      <td>...</td>\n",
       "    </tr>\n",
       "    <tr>\n",
       "      <th>4444</th>\n",
       "      <td>4444</td>\n",
       "      <td>positive</td>\n",
       "      <td>2021-02-19</td>\n",
       "      <td>I was super excited to find this online for a ...</td>\n",
       "      <td>['super', 'excited', 'find', 'online', 'better...</td>\n",
       "    </tr>\n",
       "    <tr>\n",
       "      <th>4445</th>\n",
       "      <td>4445</td>\n",
       "      <td>positive</td>\n",
       "      <td>2021-10-01</td>\n",
       "      <td>I was getting these for my pitbull mix from Wa...</td>\n",
       "      <td>['getting', 'pitbull', 'mix', 'walmart', 'arou...</td>\n",
       "    </tr>\n",
       "    <tr>\n",
       "      <th>4448</th>\n",
       "      <td>4448</td>\n",
       "      <td>positive</td>\n",
       "      <td>2021-02-24</td>\n",
       "      <td>If you love couscous but hate paying the price...</td>\n",
       "      <td>['love', 'couscous', 'hate', 'paying', 'price'...</td>\n",
       "    </tr>\n",
       "    <tr>\n",
       "      <th>4450</th>\n",
       "      <td>4450</td>\n",
       "      <td>positive</td>\n",
       "      <td>2020-12-14</td>\n",
       "      <td>My daughter teaches kindergarten and I help he...</td>\n",
       "      <td>['daughter', 'teach', 'kindergarten', 'help', ...</td>\n",
       "    </tr>\n",
       "    <tr>\n",
       "      <th>4451</th>\n",
       "      <td>4451</td>\n",
       "      <td>positive</td>\n",
       "      <td>2021-10-19</td>\n",
       "      <td>These pretzels are almost addictive they are s...</td>\n",
       "      <td>['pretzel', 'almost', 'addictive', 'good', 'pa...</td>\n",
       "    </tr>\n",
       "  </tbody>\n",
       "</table>\n",
       "<p>4030 rows × 5 columns</p>\n",
       "</div>"
      ],
      "text/plain": [
       "      Unnamed: 0 Sentiment       Time  \\\n",
       "0              0  positive 2021-06-18   \n",
       "1              1  positive 2021-07-07   \n",
       "2              2  positive 2021-06-18   \n",
       "3              3  positive 2021-07-07   \n",
       "4              4  positive 2021-01-07   \n",
       "...          ...       ...        ...   \n",
       "4444        4444  positive 2021-02-19   \n",
       "4445        4445  positive 2021-10-01   \n",
       "4448        4448  positive 2021-02-24   \n",
       "4450        4450  positive 2020-12-14   \n",
       "4451        4451  positive 2021-10-19   \n",
       "\n",
       "                                                   Text  \\\n",
       "0     This is a very healthy dog food. Good for thei...   \n",
       "1     I've been very pleased with the Natural Balanc...   \n",
       "2     Before I was educated about feline nutrition, ...   \n",
       "3     My holistic vet recommended this, along with a...   \n",
       "4     I bought this coffee because its much cheaper ...   \n",
       "...                                                 ...   \n",
       "4444  I was super excited to find this online for a ...   \n",
       "4445  I was getting these for my pitbull mix from Wa...   \n",
       "4448  If you love couscous but hate paying the price...   \n",
       "4450  My daughter teaches kindergarten and I help he...   \n",
       "4451  These pretzels are almost addictive they are s...   \n",
       "\n",
       "                                                cleaned  \n",
       "0     ['healthy', 'dog', 'food', 'good', 'digestion'...  \n",
       "1     ['pleased', 'natural', 'balance', 'dog', 'food...  \n",
       "2     ['educated', 'feline', 'nutrition', 'allowed',...  \n",
       "3     ['holistic', 'vet', 'recommended', 'this', 'al...  \n",
       "4     ['bought', 'coffee', 'much', 'cheaper', 'ganoc...  \n",
       "...                                                 ...  \n",
       "4444  ['super', 'excited', 'find', 'online', 'better...  \n",
       "4445  ['getting', 'pitbull', 'mix', 'walmart', 'arou...  \n",
       "4448  ['love', 'couscous', 'hate', 'paying', 'price'...  \n",
       "4450  ['daughter', 'teach', 'kindergarten', 'help', ...  \n",
       "4451  ['pretzel', 'almost', 'addictive', 'good', 'pa...  \n",
       "\n",
       "[4030 rows x 5 columns]"
      ]
     },
     "execution_count": 14,
     "metadata": {},
     "output_type": "execute_result"
    }
   ],
   "source": [
    "df_positive"
   ]
  },
  {
   "cell_type": "code",
   "execution_count": 15,
   "id": "6ee525dc",
   "metadata": {},
   "outputs": [],
   "source": [
    "import ast\n",
    "tokens = []\n",
    "for sentence in df_positive['cleaned']:\n",
    "    tokens.append(ast.literal_eval(sentence))\n",
    "    "
   ]
  },
  {
   "cell_type": "code",
   "execution_count": 118,
   "id": "4cb5d939",
   "metadata": {},
   "outputs": [
    {
     "data": {
      "text/plain": [
       "4030"
      ]
     },
     "execution_count": 118,
     "metadata": {},
     "output_type": "execute_result"
    }
   ],
   "source": [
    "len(tokens)"
   ]
  },
  {
   "cell_type": "code",
   "execution_count": 1,
   "id": "2a98b59d",
   "metadata": {},
   "outputs": [],
   "source": [
    "#tokens"
   ]
  },
  {
   "cell_type": "code",
   "execution_count": 16,
   "id": "870160f1",
   "metadata": {},
   "outputs": [],
   "source": [
    "import gensim.corpora as corpora\n"
   ]
  },
  {
   "cell_type": "code",
   "execution_count": 17,
   "id": "aaf2c81b",
   "metadata": {},
   "outputs": [],
   "source": [
    "import gensim.corpora as corpora\n",
    "# training a bi gram model in order to include those bigrams as tokens who occured at least 6 times\n",
    "# in the whole dataset\n",
    "bigram = gensim.models.Phrases(tokens, min_count=2, threshold=100)\n",
    "bigram_mod = gensim.models.phrases.Phraser(bigram)"
   ]
  },
  {
   "cell_type": "code",
   "execution_count": 18,
   "id": "12254890",
   "metadata": {},
   "outputs": [],
   "source": [
    "# including bigrams as tokens \n",
    "sents = [ bigram_mod[token] for token in tokens]"
   ]
  },
  {
   "cell_type": "code",
   "execution_count": 2,
   "id": "3f2302f3",
   "metadata": {},
   "outputs": [],
   "source": [
    "#sents"
   ]
  },
  {
   "cell_type": "code",
   "execution_count": 19,
   "id": "8426247b",
   "metadata": {},
   "outputs": [],
   "source": [
    "# Create Dictionary to keep track of vocab\n",
    "dct = corpora.Dictionary(tokens)"
   ]
  },
  {
   "cell_type": "code",
   "execution_count": 20,
   "id": "f8c2c08b",
   "metadata": {},
   "outputs": [
    {
     "name": "stdout",
     "output_type": "stream",
     "text": [
      "Unique words before filtering/after pre-processing 9330\n"
     ]
    }
   ],
   "source": [
    "print('Unique words before filtering/after pre-processing', len(dct))\n"
   ]
  },
  {
   "cell_type": "code",
   "execution_count": 21,
   "id": "ae96858d",
   "metadata": {},
   "outputs": [],
   "source": [
    "# no_below= 30\n",
    "# filter the words that occure in less than 20 documents and in more the 30% of documents\n",
    "#dct.filter_extremes(no_below= 20, no_above = 0.3)\n",
    "#print('Unique words after filtering', len(dct))\n",
    "\n",
    "# Create Corpus(Database)\n",
    "corpus = [dct.doc2bow(sent) for sent in sents]\n",
    "\n",
    "tfidf = gensim.models.TfidfModel(corpus)\n",
    "corpus_tfidf = tfidf[corpus]"
   ]
  },
  {
   "cell_type": "code",
   "execution_count": 22,
   "id": "cff9bb14",
   "metadata": {},
   "outputs": [
    {
     "name": "stdout",
     "output_type": "stream",
     "text": [
      "3 0.4159218444794672\n",
      "4 0.40100300354780677\n",
      "5 0.43895931929756243\n",
      "6 0.40016115452951423\n",
      "7 0.43928109311044955\n",
      "8 0.4627271921369871\n",
      "9 0.4189804815007821\n",
      "10 0.3679332231286364\n",
      "11 0.3880381151395225\n",
      "12 0.3788747804606136\n",
      "13 0.3793246538820486\n",
      "14 0.38807202736908\n"
     ]
    }
   ],
   "source": [
    "#cohernece score quite low...\n",
    "\n",
    "from gensim.models import CoherenceModel\n",
    "import time\n",
    "import os\n",
    "\n",
    "#randomstate = 12\n",
    "scores = []\n",
    "for k in range(3,15):\n",
    "    # LDA model\n",
    "    lda_model = gensim.models.LdaModel(corpus=corpus_tfidf, num_topics=k, \n",
    "                                                 id2word=dct, random_state=12)\n",
    "    # to calculate score for coherence\n",
    "    coherence_model_lda = CoherenceModel(model=lda_model, texts=sents, dictionary=dct, coherence='c_v')\n",
    "    coherence_lda = coherence_model_lda.get_coherence()\n",
    "    print(k, coherence_lda)\n",
    "    scores.append(coherence_lda)"
   ]
  },
  {
   "cell_type": "code",
   "execution_count": 23,
   "id": "a8a0c789",
   "metadata": {},
   "outputs": [
    {
     "data": {
      "image/png": "[encoded data removed]",
      "text/plain": [
       "<Figure size 720x360 with 1 Axes>"
      ]
     },
     "metadata": {
      "needs_background": "light"
     },
     "output_type": "display_data"
    },
    {
     "name": "stdout",
     "output_type": "stream",
     "text": [
      "Becuase of the highest coherence the optimum number of topics are:  8\n"
     ]
    }
   ],
   "source": [
    "selected_topics = np.argmax(scores)+3\n",
    "\n",
    "plt.figure(figsize=(10, 5))\n",
    "plt.plot(list(range(3,15)), scores, marker='o', color='green')\n",
    "sns.despine(top=True, right=True, left=False, bottom=False)\n",
    "\n",
    "plt.locator_params(integer=True)\n",
    "plt.title('Coherence score vs the number of topics for LDA')\n",
    "plt.xlabel('Number of topics')\n",
    "plt.ylabel('Coherence Scores')\n",
    "plt.savefig('lda_scores.jpg')\n",
    "plt.show()\n",
    "\n",
    "print('Becuase of the highest coherence the optimum number of topics are: ', selected_topics)"
   ]
  },
  {
   "cell_type": "code",
   "execution_count": 26,
   "id": "f9b713fd",
   "metadata": {},
   "outputs": [
    {
     "name": "stderr",
     "output_type": "stream",
     "text": [
      "/Users/admin/opt/anaconda3/lib/python3.9/site-packages/pyLDAvis/_prepare.py:243: FutureWarning: In a future version of pandas all arguments of DataFrame.drop except for the argument 'labels' will be keyword-only\n",
      "  default_term_info = default_term_info.sort_values(\n"
     ]
    },
    {
     "data": {
      "text/html": [
       "\n",
       "<link rel=\"stylesheet\" type=\"text/css\" href=\"https://cdn.jsdelivr.net/gh/bmabey/pyLDAvis@3.4.0/pyLDAvis/js/ldavis.v1.0.0.css\">\n",
       "\n",
       "\n",
       "<div id=\"ldavis_el33161406419065351041560472894\" style=\"background-color:white;\"></div>\n",
       "<script type=\"text/javascript\">\n",
       "\n",
       "var ldavis_el33161406419065351041560472894_data = {\"mdsDat\": {\"x\": [0.05522379368655403, 0.06926796528291095, -0.1648950421254113, 0.05709573347505976, -0.2622995501149813, 0.07551461401646707, 0.04852508056728104, 0.12156740521211984], \"y\": [0.01104211008903603, 0.013783183184040898, -0.20273002998904122, 0.0119860221021095, 0.14158189245418032, 0.018921893301210132, 0.00860240209943712, -0.0031874732409731027], \"topics\": [1, 2, 3, 4, 5, 6, 7, 8], \"cluster\": [1, 1, 1, 1, 1, 1, 1, 1], \"Freq\": [4.239451269920391, 5.567958192382142, 27.223195997590928, 4.407913330902902, 36.906080861328576, 5.675200812717723, 3.4918889183593844, 12.488310616797962]}, \"tinfo\": {\"Term\": [\"coffee\", \"tea\", \"quality\", \"dog\", \"cheaper\", \"deal\", \"again\", \"price\", \"purchased\", \"cat\", \"store\", \"box\", \"milk\", \"shipping\", \"use\", \"fast\", \"order\", \"walmart\", \"flour\", \"lot\", \"size\", \"value\", \"cooky\", \"jar\", \"too\", \"carry\", \"great\", \"package\", \"bought\", \"best\", \"ounce\", \"bread\", \"quick\", \"house\", \"baking\", \"compared\", \"bargain\", \"soon\", \"child\", \"absolutely\", \"chew\", \"favor\", \"red\", \"pretzel\", \"difficult\", \"deep\", \"moist\", \"consistency\", \"heavy\", \"aftertaste\", \"tough\", \"stick\", \"toast\", \"inside\", \"raspberry\", \"which\", \"fun\", \"elsewhere\", \"mention\", \"diabetic\", \"produce\", \"substitute\", \"again\", \"fast\", \"walmart\", \"flour\", \"pasta\", \"delivery\", \"often\", \"cheese\", \"couple\", \"prime\", \"mild\", \"tired\", \"bake\", \"line\", \"skin\", \"saw\", \"side\", \"wheat\", \"tuna\", \"granola\", \"wrapper\", \"reorder\", \"oat\", \"roast\", \"cheap\", \"reminds\", \"jerky\", \"mint\", \"there's\", \"understand\", \"package\", \"purchased\", \"choice\", \"lot\", \"too\", \"big\", \"bottle\", \"using\", \"come\", \"tasting\", \"cereal\", \"need\", \"keep\", \"bar\", \"perfect\", \"received\", \"two\", \"pay\", \"hot\", \"bulk\", \"per\", \"packaged\", \"money\", \"getting\", \"gift\", \"cracker\", \"delivered\", \"loved\", \"soup\", \"priced\", \"several\", \"morning\", \"plastic\", \"box\", \"order\", \"water\", \"shipping\", \"think\", \"every\", \"favorite\", \"came\", \"tried\", \"great\", \"price\", \"good\", \"product\", \"like\", \"cup\", \"taste\", \"milk\", \"jar\", \"paid\", \"gallon\", \"tasted\", \"slightly\", \"cannot\", \"butter\", \"spicy\", \"comparable\", \"dinner\", \"garlic\", \"content\", \"peanut\", \"office\", \"freezer\", \"bold\", \"noticed\", \"freshness\", \"mind\", \"searching\", \"blueberry\", \"enjoying\", \"potato\", \"single\", \"traditional\", \"fit\", \"contains\", \"nutritious\", \"near\", \"thought\", \"package\", \"use\", \"bought\", \"local\", \"cost\", \"buying\", \"bean\", \"pack\", \"beat\", \"got\", \"could\", \"half\", \"happy\", \"ordered\", \"can\", \"give\", \"purchase\", \"arrived\", \"far\", \"last\", \"mix\", \"online\", \"high\", \"store\", \"problem\", \"ever\", \"recipe\", \"long\", \"put\", \"almost\", \"sale\", \"best\", \"them\", \"find\", \"item\", \"amazon\", \"price\", \"found\", \"expensive\", \"buy\", \"bag\", \"love\", \"...\", \"product\", \"always\", \"much\", \"good\", \"great\", \"one\", \"food\", \"get\", \"like\", \"taste\", \"brand\", \"time\", \"flavor\", \"really\", \"better\", \"coffee\", \"husband\", \"green\", \"starbucks\", \"packet\", \"instant\", \"canned\", \"shipped\", \"appreciate\", \"wrong\", \"nearly\", \"iced\", \"decided\", \"away\", \"eats\", \"brewing\", \"given\", \"start\", \"style\", \"heat\", \"customer\", \"bite\", \"before\", \"job\", \"dried\", \"dollar\", \"cent\", \"regularly\", \"become\", \"assortment\", \"trying\", \"super\", \"tea\", \"purchased\", \"carry\", \"syrup\", \"place\", \"live\", \"powder\", \"ginger\", \"considering\", \"outstanding\", \"expected\", \"reviewer\", \"lab\", \"call\", \"plan\", \"hint\", \"smoothy\", \"shopping\", \"powdered\", \"oily\", \"nutrition\", \"will\", \"greasy\", \"chance\", \"remind\", \"provides\", \"totally\", \"craving\", \"interesting\", \"beef\", \"miss\", \"msg\", \"dairy\", \"carry\", \"quality\", \"dog\", \"cheaper\", \"deal\", \"cat\", \"size\", \"cooky\", \"value\", \"save\", \"week\", \"able\", \"son\", \"wanted\", \"sauce\", \"vet\", \"daughter\", \"stock\", \"pet\", \"new\", \"large\", \"pricey\", \"second\", \"liked\", \"baby\", \"probably\", \"dented\", \"seller\", \"complaint\", \"packaging\", \"fantastic\", \"strong\", \"tea\", \"different\"], \"Freq\": [54.0, 42.0, 41.0, 35.0, 30.0, 29.0, 18.0, 134.0, 18.0, 20.0, 54.0, 40.0, 11.0, 32.0, 42.0, 12.0, 37.0, 11.0, 11.0, 29.0, 16.0, 15.0, 15.0, 9.0, 26.0, 10.0, 80.0, 11.0, 35.0, 43.0, 7.506304153394921, 6.8884872576575695, 6.550402149991569, 6.282480937385704, 5.606234522626954, 5.556096306868332, 4.868464623576645, 4.3578435372575735, 3.924637711710481, 3.795585758347288, 3.71123668542163, 3.6009898778108242, 3.2307177294705514, 3.1715416574752098, 2.9924434647539617, 2.883745821700148, 2.86443447006435, 2.7685025807527115, 2.5769016397996682, 2.5449943886504784, 2.5353638888546324, 2.473737182872655, 2.441556687964117, 2.381543429315441, 2.3546467100752317, 2.240632898204715, 2.139031536566897, 2.1064019014249338, 1.9375673015340906, 1.8451508241017813, 1.8668119377958563, 1.9139839146361983, 18.09596980987867, 11.496686524219111, 11.279733589113174, 11.216094649310957, 6.619226555264218, 5.849604865238609, 5.80480833855058, 5.742301997997065, 5.295490933075944, 5.2225950114033335, 4.645706531950071, 4.542740078180794, 4.404333716585005, 4.371722000342937, 4.330418940547368, 4.200872335472386, 3.9806110995636956, 3.9748581655051765, 3.8567398351382134, 3.563006237884792, 3.535870588309969, 3.086882499219871, 3.044339487930732, 2.9891575684042087, 2.9495199012368913, 2.9154193614592567, 2.90029173280189, 2.8875996995316253, 2.5841748618402876, 2.432267026639232, 9.131262912913124, 13.61992523459518, 2.995526841018465, 29.41931555826357, 26.301442460314973, 23.20596753842429, 22.151880187179803, 21.37529224786322, 21.33977116776908, 20.885606169128632, 20.71373665033341, 18.960533484274052, 18.530284159135913, 18.00681651797427, 17.97802717725351, 17.529931090622593, 16.86344901523883, 16.643858081782266, 16.162418006561246, 15.831016180083054, 15.704243710695538, 15.660880790114563, 15.661388418876149, 15.648842120758061, 15.267134391783529, 14.822462374315158, 14.836935721744743, 14.554749096474723, 13.917816188301993, 13.91171278771418, 13.45796488531733, 13.12160317017498, 13.021758736049076, 38.15244221809634, 34.65992831641678, 22.280973091224844, 29.368938523074526, 18.488706022481022, 21.97687220776093, 21.796563764967374, 19.76958164236226, 19.491420480838574, 30.576418137299743, 37.253635379493524, 23.372536593844824, 23.300216200723963, 19.133161751791476, 16.591100256923706, 17.153345993290984, 11.16863486793808, 8.978646554350899, 7.794076983888715, 6.651752690323954, 5.5140344023706875, 5.417616817450466, 4.878353275113227, 4.477683139784455, 4.3435666013050955, 3.9535691223068445, 3.7295166333856353, 3.676877566451819, 3.4024322977920325, 3.3598062410111416, 3.3177965520342894, 3.084448287296111, 2.971016019223632, 2.871739094985978, 2.7569945149411406, 2.619862974607201, 2.5227148926236436, 2.299651349440115, 2.150014802282334, 2.1384072981810784, 2.12238365488135, 2.063001887151257, 1.9827513923979558, 1.9620706121824911, 1.86290886426156, 1.8668431825350744, 3.440939928702223, 1.9691797830774316, 42.381084426166886, 35.326226482120795, 30.463781937911243, 29.93751493821519, 29.462375243196675, 26.529101015417933, 25.80605116838619, 25.7797949479628, 25.52026893883405, 20.502974060918792, 19.96881120061239, 19.641767108803343, 19.60215484436825, 18.979211768960788, 18.109676466460623, 17.836133989745804, 17.693650525804355, 17.621280083189383, 17.395255959318728, 17.09796015063824, 17.077308763912352, 17.02514260710788, 52.87859604089012, 16.471755868553814, 16.150420349543552, 15.920045027875407, 15.76701378122742, 15.52082336051293, 15.233330166346663, 15.00760264863883, 41.71552649684352, 22.445067931586937, 47.089998022705366, 21.00836612343126, 49.8356505885716, 96.91351844199734, 28.779763190067982, 23.730820580690807, 36.80309431695645, 33.393000112941216, 45.689029221042425, 26.57855388333391, 49.30371154392933, 23.358422046023524, 34.69195392796191, 47.61547309855782, 49.246190403938904, 32.525855193112875, 33.477733041978134, 30.734570214542693, 33.2953567796939, 32.22075995735281, 27.646128591297987, 28.693031456938737, 29.335798928490032, 28.283402273823572, 26.459893884835054, 54.243291659279386, 8.390983725299122, 7.439253743313929, 5.896390612608401, 5.892677974456769, 5.588775938780493, 5.751242727824804, 5.358768074361847, 5.332752196149708, 4.77390219316763, 4.546096657432249, 4.301614806707134, 4.262373272954108, 4.198799624624162, 3.9839335001180505, 3.8493114972109734, 3.8504717528037493, 3.829562437161828, 3.6619922310891866, 3.4581253925134243, 3.4215180254082886, 3.3495738654383627, 3.3388518365570996, 3.2395807814532995, 3.206573711718155, 3.060340390302355, 2.967739681449198, 2.832664271147423, 2.825916859120575, 2.852369742973292, 5.932658261189858, 5.518646981160304, 20.595645799962462, 3.9370757107329752, 3.5813185183411607, 6.770876676411641, 6.0976721198064325, 5.07052173237495, 4.760733833788748, 3.9613339747674217, 3.210507841210174, 2.9744715140812756, 2.841735053560244, 2.455072372680951, 2.444628030495936, 2.305750352067758, 2.1228932145399555, 2.0800289706409467, 1.9153230077022656, 1.6747688631993594, 1.6653472509082523, 1.5028609353305584, 1.4154540258453372, 1.4041174562021874, 1.3842790123030981, 1.2058271614472704, 1.176465357595285, 1.164755667110873, 1.1169458785748463, 1.0503107680682924, 1.0411157378664142, 0.9553537258727668, 0.9486989311129753, 0.9458963083582856, 0.9421026136098914, 6.653802720089066, 41.17019904276894, 35.43671674470814, 29.995104249056414, 28.789228924571855, 19.962946002849453, 16.024448948274735, 15.076796642785819, 15.104434330398748, 13.628724202816986, 13.035511644605947, 11.92410183749978, 11.082464537450756, 10.971560776105376, 10.708606224543441, 10.505645726035237, 10.43847081833231, 10.258670603161136, 10.084563059460004, 9.590002708049651, 9.267776935263866, 8.759933683756753, 8.684764117579746, 7.862501874814721, 7.863847172632159, 7.813930245677299, 7.774936879905267, 7.722645287232968, 7.554816788839245, 7.413346437172186, 7.160874430382513, 12.094093887252969, 21.826798035380342, 7.986024045162914], \"Total\": [54.0, 42.0, 41.0, 35.0, 30.0, 29.0, 18.0, 134.0, 18.0, 20.0, 54.0, 40.0, 11.0, 32.0, 42.0, 12.0, 37.0, 11.0, 11.0, 29.0, 16.0, 15.0, 15.0, 9.0, 26.0, 10.0, 80.0, 11.0, 35.0, 43.0, 8.06726541162657, 7.438631801652465, 7.09992239154121, 6.838138493981768, 6.155206955757597, 6.11182207295534, 5.417652921122943, 4.906458716919192, 4.4734194253475446, 4.344154675970963, 4.259578794062941, 4.149635242385854, 3.7817775314536846, 3.7186182440709397, 3.541767402912222, 3.4340127100185285, 3.412756541281464, 3.3184698705780558, 3.128948494705094, 3.0966274312659534, 3.090337188331785, 3.023168671209007, 2.9894805817151076, 2.931641931722123, 2.9032775676919806, 2.791018454437376, 2.689670960352548, 2.6544185104582483, 2.495470817225216, 2.393238997841736, 2.4240151944311656, 3.0402897229481085, 18.639669223209577, 12.037971006731567, 11.823154084203928, 11.757813758445723, 7.1586716769426655, 6.3909696386911214, 6.34678520063444, 6.282749068284198, 5.837690226157908, 5.766733002313288, 5.187496325827014, 5.084712498303206, 4.94836285007018, 4.913029384235778, 4.876271432382995, 4.744980263696477, 4.521718931601862, 4.5155487629997, 4.397717479645675, 4.102838067287701, 4.077350154767227, 3.6271248429799767, 3.585183434111849, 3.5376457384069693, 3.4908705211687896, 3.4571551685979856, 3.4404879061695106, 3.4277058383100143, 3.128517460521599, 2.9739953613887513, 11.583846571910408, 18.03228601494123, 5.367471976027641, 29.923680688501236, 26.805570540370272, 23.71070940059267, 22.65554821985888, 21.87972187498906, 21.844989560774817, 21.38944113565692, 21.217561462612355, 19.465617565063088, 19.034796090820752, 18.51028060213757, 18.481894846491453, 18.0339142834752, 17.36851780723012, 17.14929611543347, 16.666229707557477, 16.334840201500693, 16.208157407807885, 16.16480386723063, 16.16549528605355, 16.153188882590037, 15.772915077591248, 15.326086231830415, 15.342225051276023, 15.058864338782238, 14.422164267987768, 14.41930014259002, 13.962034721412207, 13.625324563495408, 13.525593537480562, 40.85395027658973, 37.01248831868137, 23.58381817088512, 32.55245128106098, 19.804290385452624, 24.72670641224789, 24.492663466227, 22.109509625572105, 23.898295845616335, 80.22552609534178, 134.5703408088781, 71.39095025960964, 73.00680951805644, 52.83136767524656, 23.82061292527686, 49.776919473425494, 11.716780354443586, 9.525937238013084, 8.342520270700184, 7.199847596861779, 6.062911967923096, 5.971413728490718, 5.427635107633232, 5.02381527813255, 4.890700895029556, 4.504067484996785, 4.278234320029019, 4.225032430341231, 3.955918788960072, 3.907036243128455, 3.8664889942371268, 3.635780991836831, 3.5199590656220905, 3.4245335348175217, 3.308770790215347, 3.170872893612352, 3.0724499239155074, 2.846733413794584, 2.700362242984375, 2.6858469123416193, 2.6697648742270226, 2.610092346688735, 2.5329397271711014, 2.5213389787583567, 2.410761240993203, 2.4222529372787425, 6.756862101970553, 11.583846571910408, 42.88935780681645, 35.83410272800618, 30.971556573053668, 30.44633734711793, 29.971746018120882, 27.036923201737604, 26.314025204109697, 26.28805207926294, 26.02855536077616, 21.010631577613488, 20.477003648709275, 20.149456041598985, 20.109780917848042, 19.48695830555865, 18.617498748132547, 18.343760765388794, 18.20153412810847, 18.128967201668544, 17.90303450727935, 17.605707764137964, 17.58507910508544, 17.533290202048565, 54.46020449656337, 16.979492209401858, 16.65818471316656, 16.428117838799196, 16.27457095596678, 16.028656460290893, 15.741171260734726, 15.515417822095992, 43.86643129608732, 23.750904902396233, 54.418131981475305, 22.406317205550558, 60.99538498900344, 134.5703408088781, 32.887905572849995, 26.293850078146306, 45.55768234857312, 41.2653759352255, 62.35728905035886, 31.078906745532574, 73.00680951805644, 26.525435556719874, 45.93288309128455, 71.39095025960964, 80.22552609534178, 44.386452481115924, 47.1820786783242, 43.069470594175534, 52.83136767524656, 49.776919473425494, 38.53128155625505, 42.389642518985966, 45.112601901478676, 43.93101279485742, 38.25719233183855, 54.78503542825721, 8.932304602339983, 7.97987638384819, 6.436066083010876, 6.434834549004263, 6.128761875300855, 6.307096399655212, 5.901250097887019, 5.87739732222891, 5.314546318675431, 5.090428350038152, 4.841156599277152, 4.804065935637524, 4.740837304636262, 4.530054795526872, 4.389093374487499, 4.3925964233357995, 4.371020687639185, 4.202893659057036, 3.999355455163479, 3.9657534927818885, 3.8911914188549965, 3.879751922463176, 3.7821059682201303, 3.7528871672409507, 3.601393898534997, 3.5111480713954784, 3.3741835290512103, 3.367986555966613, 3.4012948134479344, 7.3744989747946095, 7.8348410545821885, 42.87717297230707, 18.03228601494123, 10.724414150057662, 7.326244971137232, 6.655831381867709, 5.62804246869491, 5.317547768146871, 4.516017084436297, 3.7675889313598248, 3.5330734211952675, 3.397335265732476, 3.0128203558269377, 3.000667821758463, 2.8653122879987536, 2.6800741913202164, 2.634016115090837, 2.471045881342146, 2.2330507930141956, 2.2214222460226214, 2.0577027043761356, 1.9721287780847734, 1.9589256052037356, 1.9392945288259449, 1.7644448169035474, 1.7344551675804085, 1.7193429116078038, 1.6749015455628173, 1.6054106169952875, 1.6109876971168107, 1.5119518374333973, 1.5027085028285747, 1.500075122396516, 1.4962644151443187, 10.724414150057662, 41.697077125954955, 35.96022099455849, 30.52037995389619, 29.315674418302617, 20.48633030827071, 16.5491262529853, 15.60007476213235, 15.631407343001555, 14.153674649208622, 13.560111390001737, 12.448360668370993, 11.606085516025743, 11.495286058147752, 11.231486835113909, 11.0298769980963, 10.961813103151064, 10.78312040013484, 10.608067040682124, 10.11408447030453, 9.792016484373855, 9.283942655752881, 9.209680884666934, 8.385762895840204, 8.387420744068216, 8.338275546628974, 8.299154807110938, 8.247357969927243, 8.078707477153026, 7.936999093638653, 7.6841706628905815, 13.674290156683478, 42.87717297230707, 10.580449553068053], \"Category\": [\"Default\", \"Default\", \"Default\", \"Default\", \"Default\", \"Default\", \"Default\", \"Default\", \"Default\", \"Default\", \"Default\", \"Default\", \"Default\", \"Default\", \"Default\", \"Default\", \"Default\", \"Default\", \"Default\", \"Default\", \"Default\", \"Default\", \"Default\", \"Default\", \"Default\", \"Default\", \"Default\", \"Default\", \"Default\", \"Default\", \"Topic1\", \"Topic1\", \"Topic1\", \"Topic1\", \"Topic1\", \"Topic1\", \"Topic1\", \"Topic1\", \"Topic1\", \"Topic1\", \"Topic1\", \"Topic1\", \"Topic1\", \"Topic1\", \"Topic1\", \"Topic1\", \"Topic1\", \"Topic1\", \"Topic1\", \"Topic1\", \"Topic1\", \"Topic1\", \"Topic1\", \"Topic1\", \"Topic1\", \"Topic1\", \"Topic1\", \"Topic1\", \"Topic1\", \"Topic1\", \"Topic1\", \"Topic1\", \"Topic2\", \"Topic2\", \"Topic2\", \"Topic2\", \"Topic2\", \"Topic2\", \"Topic2\", \"Topic2\", \"Topic2\", \"Topic2\", \"Topic2\", \"Topic2\", \"Topic2\", \"Topic2\", \"Topic2\", \"Topic2\", \"Topic2\", \"Topic2\", \"Topic2\", \"Topic2\", \"Topic2\", \"Topic2\", \"Topic2\", \"Topic2\", \"Topic2\", \"Topic2\", \"Topic2\", \"Topic2\", \"Topic2\", \"Topic2\", \"Topic2\", \"Topic2\", \"Topic2\", \"Topic3\", \"Topic3\", \"Topic3\", \"Topic3\", \"Topic3\", \"Topic3\", \"Topic3\", \"Topic3\", \"Topic3\", \"Topic3\", \"Topic3\", \"Topic3\", \"Topic3\", \"Topic3\", \"Topic3\", \"Topic3\", \"Topic3\", \"Topic3\", \"Topic3\", \"Topic3\", \"Topic3\", \"Topic3\", \"Topic3\", \"Topic3\", \"Topic3\", \"Topic3\", \"Topic3\", \"Topic3\", \"Topic3\", \"Topic3\", \"Topic3\", \"Topic3\", \"Topic3\", \"Topic3\", \"Topic3\", \"Topic3\", \"Topic3\", \"Topic3\", \"Topic3\", \"Topic3\", \"Topic3\", \"Topic3\", \"Topic3\", \"Topic3\", \"Topic3\", \"Topic3\", \"Topic4\", \"Topic4\", \"Topic4\", \"Topic4\", \"Topic4\", \"Topic4\", \"Topic4\", \"Topic4\", \"Topic4\", \"Topic4\", \"Topic4\", \"Topic4\", \"Topic4\", \"Topic4\", \"Topic4\", \"Topic4\", \"Topic4\", \"Topic4\", \"Topic4\", \"Topic4\", \"Topic4\", \"Topic4\", \"Topic4\", \"Topic4\", \"Topic4\", \"Topic4\", \"Topic4\", \"Topic4\", \"Topic4\", \"Topic4\", \"Topic4\", \"Topic4\", \"Topic5\", \"Topic5\", \"Topic5\", \"Topic5\", \"Topic5\", \"Topic5\", \"Topic5\", \"Topic5\", \"Topic5\", \"Topic5\", \"Topic5\", \"Topic5\", \"Topic5\", \"Topic5\", \"Topic5\", \"Topic5\", \"Topic5\", \"Topic5\", \"Topic5\", \"Topic5\", \"Topic5\", \"Topic5\", \"Topic5\", \"Topic5\", \"Topic5\", \"Topic5\", \"Topic5\", \"Topic5\", \"Topic5\", \"Topic5\", \"Topic5\", \"Topic5\", \"Topic5\", \"Topic5\", \"Topic5\", \"Topic5\", \"Topic5\", \"Topic5\", \"Topic5\", \"Topic5\", \"Topic5\", \"Topic5\", \"Topic5\", \"Topic5\", \"Topic5\", \"Topic5\", \"Topic5\", \"Topic5\", \"Topic5\", \"Topic5\", \"Topic5\", \"Topic5\", \"Topic5\", \"Topic5\", \"Topic5\", \"Topic5\", \"Topic5\", \"Topic6\", \"Topic6\", \"Topic6\", \"Topic6\", \"Topic6\", \"Topic6\", \"Topic6\", \"Topic6\", \"Topic6\", \"Topic6\", \"Topic6\", \"Topic6\", \"Topic6\", \"Topic6\", \"Topic6\", \"Topic6\", \"Topic6\", \"Topic6\", \"Topic6\", \"Topic6\", \"Topic6\", \"Topic6\", \"Topic6\", \"Topic6\", \"Topic6\", \"Topic6\", \"Topic6\", \"Topic6\", \"Topic6\", \"Topic6\", \"Topic6\", \"Topic6\", \"Topic6\", \"Topic6\", \"Topic6\", \"Topic7\", \"Topic7\", \"Topic7\", \"Topic7\", \"Topic7\", \"Topic7\", \"Topic7\", \"Topic7\", \"Topic7\", \"Topic7\", \"Topic7\", \"Topic7\", \"Topic7\", \"Topic7\", \"Topic7\", \"Topic7\", \"Topic7\", \"Topic7\", \"Topic7\", \"Topic7\", \"Topic7\", \"Topic7\", \"Topic7\", \"Topic7\", \"Topic7\", \"Topic7\", \"Topic7\", \"Topic7\", \"Topic7\", \"Topic7\", \"Topic7\", \"Topic8\", \"Topic8\", \"Topic8\", \"Topic8\", \"Topic8\", \"Topic8\", \"Topic8\", \"Topic8\", \"Topic8\", \"Topic8\", \"Topic8\", \"Topic8\", \"Topic8\", \"Topic8\", \"Topic8\", \"Topic8\", \"Topic8\", \"Topic8\", \"Topic8\", \"Topic8\", \"Topic8\", \"Topic8\", \"Topic8\", \"Topic8\", \"Topic8\", \"Topic8\", \"Topic8\", \"Topic8\", \"Topic8\", \"Topic8\", \"Topic8\", \"Topic8\", \"Topic8\"], \"logprob\": [30.0, 29.0, 28.0, 27.0, 26.0, 25.0, 24.0, 23.0, 22.0, 21.0, 20.0, 19.0, 18.0, 17.0, 16.0, 15.0, 14.0, 13.0, 12.0, 11.0, 10.0, 9.0, 8.0, 7.0, 6.0, 5.0, 4.0, 3.0, 2.0, 1.0, -4.5647, -4.6506, -4.7009, -4.7427, -4.8566, -4.8656, -4.9977, -5.1085, -5.2132, -5.2466, -5.2691, -5.2992, -5.4078, -5.4262, -5.4844, -5.5214, -5.5281, -5.5621, -5.6339, -5.6463, -5.6501, -5.6747, -5.6878, -5.7127, -5.7241, -5.7737, -5.8201, -5.8355, -5.919, -5.9679, -5.9562, -5.9313, -3.9574, -4.411, -4.43, -4.4357, -4.9631, -5.0867, -5.0944, -5.1052, -5.1862, -5.2001, -5.3171, -5.3395, -5.3705, -5.3779, -5.3874, -5.4178, -5.4716, -5.4731, -5.5032, -5.5824, -5.5901, -5.7259, -5.7398, -5.7581, -5.7714, -5.783, -5.7882, -5.7926, -5.9036, -5.9642, -4.6413, -4.2415, -5.7559, -5.0584, -5.1705, -5.2957, -5.3422, -5.3779, -5.3795, -5.401, -5.4093, -5.4977, -5.5207, -5.5493, -5.5509, -5.5762, -5.6149, -5.6281, -5.6574, -5.6781, -5.6862, -5.6889, -5.6889, -5.6897, -5.7144, -5.7439, -5.743, -5.7622, -5.8069, -5.8074, -5.8405, -5.8658, -5.8735, -4.7985, -4.8945, -5.3364, -5.0602, -5.5229, -5.3501, -5.3583, -5.4559, -5.4701, -5.0199, -4.8223, -5.2885, -5.2916, -5.4887, -5.6312, -5.5979, -4.2063, -4.4246, -4.5661, -4.7245, -4.9121, -4.9298, -5.0346, -5.1203, -5.1507, -5.2448, -5.3031, -5.3174, -5.3949, -5.4075, -5.4201, -5.4931, -5.5305, -5.5645, -5.6053, -5.6563, -5.6941, -5.7867, -5.8539, -5.8594, -5.8669, -5.8953, -5.9349, -5.9454, -5.9973, -5.9952, -5.3837, -5.9418, -4.9977, -5.1798, -5.3279, -5.3453, -5.3613, -5.4662, -5.4938, -5.4948, -5.5049, -5.7238, -5.7502, -5.7667, -5.7688, -5.8011, -5.848, -5.8632, -5.8712, -5.8753, -5.8882, -5.9054, -5.9066, -5.9097, -4.7764, -5.9428, -5.9625, -5.9768, -5.9865, -6.0022, -6.0209, -6.0358, -5.0135, -5.6333, -4.8923, -5.6995, -4.8357, -4.1706, -5.3847, -5.5776, -5.1388, -5.2361, -4.9225, -5.4643, -4.8464, -5.5934, -5.1979, -4.8812, -4.8476, -5.2624, -5.2335, -5.319, -5.239, -5.2718, -5.4249, -5.3877, -5.3656, -5.4021, -5.4688, -2.8786, -4.745, -4.8654, -5.0978, -5.0984, -5.1514, -5.1227, -5.1934, -5.1983, -5.309, -5.3579, -5.4131, -5.4223, -5.4373, -5.4899, -5.5242, -5.5239, -5.5294, -5.5741, -5.6314, -5.642, -5.6633, -5.6665, -5.6967, -5.7069, -5.7536, -5.7843, -5.8309, -5.8333, -5.824, -5.0917, -5.164, -3.847, -5.5017, -5.5964, -4.4738, -4.5786, -4.763, -4.8261, -5.0099, -5.22, -5.2964, -5.3421, -5.4883, -5.4926, -5.5511, -5.6337, -5.6541, -5.7366, -5.8708, -5.8764, -5.9791, -6.039, -6.0471, -6.0613, -6.1993, -6.224, -6.234, -6.2759, -6.3374, -6.3462, -6.4321, -6.4391, -6.4421, -6.4461, -4.4913, -3.9431, -4.0931, -4.2598, -4.3008, -4.6669, -4.8867, -4.9477, -4.9458, -5.0486, -5.0931, -5.1823, -5.2555, -5.2655, -5.2898, -5.3089, -5.3153, -5.3327, -5.3498, -5.4001, -5.4343, -5.4906, -5.4992, -5.5987, -5.5985, -5.6049, -5.6099, -5.6167, -5.6386, -5.6575, -5.6922, -5.1681, -4.5777, -5.5831], \"loglift\": [30.0, 29.0, 28.0, 27.0, 26.0, 25.0, 24.0, 23.0, 22.0, 21.0, 20.0, 19.0, 18.0, 17.0, 16.0, 15.0, 14.0, 13.0, 12.0, 11.0, 10.0, 9.0, 8.0, 7.0, 6.0, 5.0, 4.0, 3.0, 2.0, 1.0, 3.0887, 3.0839, 3.0802, 3.076, 3.0673, 3.0654, 3.0539, 3.0422, 3.0299, 3.0257, 3.0229, 3.0189, 3.0032, 3.0016, 2.9922, 2.9861, 2.9856, 2.9795, 2.9666, 2.9646, 2.9628, 2.9602, 2.9583, 2.9529, 2.9513, 2.9411, 2.9317, 2.9295, 2.9077, 2.9006, 2.8995, 2.698, 2.8585, 2.8421, 2.8411, 2.841, 2.8098, 2.7996, 2.7989, 2.7982, 2.7907, 2.789, 2.7778, 2.7754, 2.7717, 2.7714, 2.7694, 2.7663, 2.7607, 2.7606, 2.7569, 2.7471, 2.7457, 2.7269, 2.7246, 2.7197, 2.7196, 2.7177, 2.7173, 2.7167, 2.697, 2.6871, 2.6502, 2.6075, 2.3049, 1.2841, 1.2821, 1.2796, 1.2786, 1.2778, 1.2777, 1.2773, 1.2771, 1.2748, 1.2742, 1.2735, 1.2735, 1.2728, 1.2716, 1.2712, 1.2704, 1.2698, 1.2695, 1.2694, 1.2694, 1.2694, 1.2685, 1.2677, 1.2676, 1.2671, 1.2655, 1.2653, 1.2643, 1.2634, 1.2631, 1.2327, 1.2354, 1.2443, 1.1982, 1.2324, 1.1832, 1.1845, 1.1892, 1.0973, 0.3365, 0.0168, 0.1845, 0.159, 0.2854, 0.9394, 0.2357, 3.0739, 3.0626, 3.0538, 3.0426, 3.0269, 3.0244, 3.0151, 3.0067, 3.0031, 2.9914, 2.9845, 2.9828, 2.971, 2.9709, 2.9687, 2.9573, 2.9522, 2.9457, 2.9393, 2.9309, 2.9246, 2.9084, 2.8939, 2.8938, 2.8923, 2.8865, 2.8769, 2.871, 2.864, 2.8613, 2.447, 1.3498, 0.9849, 0.9825, 0.9803, 0.9799, 0.9797, 0.9778, 0.9773, 0.9773, 0.9771, 0.9723, 0.9717, 0.9713, 0.9712, 0.9704, 0.9691, 0.9687, 0.9685, 0.9684, 0.968, 0.9675, 0.9675, 0.9674, 0.9673, 0.9664, 0.9658, 0.9654, 0.9651, 0.9646, 0.964, 0.9635, 0.9465, 0.9402, 0.8522, 0.9324, 0.7947, 0.6685, 0.8634, 0.8942, 0.7834, 0.7851, 0.6858, 0.8404, 0.6042, 0.8696, 0.7161, 0.5918, 0.5088, 0.6859, 0.6537, 0.6594, 0.5351, 0.5619, 0.6648, 0.6065, 0.5664, 0.5564, 0.6281, 2.8591, 2.8065, 2.7989, 2.7815, 2.781, 2.7768, 2.7768, 2.7726, 2.7718, 2.7618, 2.756, 2.7509, 2.7494, 2.7476, 2.7406, 2.7378, 2.7373, 2.7368, 2.7313, 2.7237, 2.7215, 2.7192, 2.7189, 2.7142, 2.7117, 2.7063, 2.7009, 2.6941, 2.6936, 2.6931, 2.6515, 2.5186, 2.1358, 1.3473, 1.7723, 3.2759, 3.2671, 3.2504, 3.2441, 3.2237, 3.1947, 3.1826, 3.1762, 3.15, 3.1498, 3.1375, 3.1217, 3.1186, 3.1, 3.067, 3.0666, 3.0405, 3.0231, 3.0217, 3.0176, 2.9741, 2.9665, 2.9653, 2.9496, 2.9304, 2.9182, 2.8957, 2.8948, 2.8936, 2.8921, 2.8774, 2.0677, 2.0657, 2.063, 2.0623, 2.0545, 2.0482, 2.0463, 2.0461, 2.0426, 2.0409, 2.0373, 2.0342, 2.0337, 2.0327, 2.0317, 2.0315, 2.0305, 2.0298, 2.0272, 2.0254, 2.0223, 2.0217, 2.0159, 2.0159, 2.0154, 2.0151, 2.0146, 2.0133, 2.0121, 2.0098, 1.9576, 1.4052, 1.7991]}, \"token.table\": {\"Topic\": [3, 5, 8, 1, 1, 2, 5, 3, 5, 3, 5, 6, 5, 6, 6, 8, 3, 5, 2, 1, 3, 1, 5, 5, 6, 7, 6, 5, 8, 3, 5, 3, 6, 4, 4, 3, 5, 3, 8, 3, 5, 1, 6, 3, 4, 3, 5, 5, 7, 3, 8, 5, 6, 4, 6, 7, 8, 6, 3, 7, 2, 8, 2, 1, 1, 2, 6, 6, 3, 4, 1, 8, 7, 1, 4, 4, 8, 5, 5, 2, 3, 7, 3, 5, 6, 7, 8, 8, 6, 1, 3, 2, 8, 1, 6, 8, 1, 4, 8, 6, 6, 6, 1, 4, 5, 3, 8, 7, 5, 8, 8, 5, 2, 1, 3, 8, 3, 5, 4, 3, 5, 2, 3, 5, 8, 3, 5, 4, 4, 1, 4, 4, 3, 5, 3, 3, 7, 5, 6, 3, 5, 5, 2, 7, 3, 5, 6, 5, 5, 6, 1, 5, 7, 3, 1, 6, 6, 1, 6, 7, 3, 5, 4, 2, 6, 3, 7, 8, 5, 3, 5, 8, 2, 7, 5, 5, 3, 3, 5, 3, 1, 2, 4, 4, 2, 7, 5, 1, 3, 3, 7, 3, 5, 4, 6, 3, 8, 4, 7, 4, 2, 4, 2, 7, 3, 5, 5, 3, 8, 5, 1, 7, 5, 2, 4, 3, 8, 6, 4, 2, 3, 4, 3, 3, 8, 7, 7, 3, 4, 7, 7, 1, 3, 5, 3, 8, 2, 8, 5, 1, 3, 5, 7, 5, 2, 6, 5, 8, 1, 1, 3, 5, 3, 5, 1, 6, 7, 2, 2, 7, 2, 5, 8, 8, 2, 4, 8, 8, 3, 6, 2, 3, 7, 2, 4, 8, 2, 4, 7, 8, 1, 3, 4, 6, 6, 1, 8, 3, 5, 2, 8, 6, 1, 6, 2, 6, 7, 3, 5, 4, 3, 6, 8, 3, 5, 2, 3, 8, 4, 6, 3, 5, 2, 1, 3, 7, 1, 4, 3, 8, 1, 6, 2, 3, 2, 5, 3, 8, 8, 2, 8, 3, 8, 8, 2, 1, 7, 2, 6], \"Freq\": [0.12870465595045355, 0.8687564276655615, 0.9639823523502018, 0.9207775271275208, 0.968795913163357, 0.9656823726027778, 0.9529151135923711, 0.1130989911017687, 0.86709226511356, 0.18034151275515575, 0.8197341488870716, 0.8507166907177596, 0.9889276295783638, 0.882017044843832, 0.8437328140512719, 0.9538093108847308, 0.1696337387302115, 0.7997019111567114, 0.8083481590165261, 0.9747844456127643, 0.9724325841889916, 0.9229088819081503, 0.9986343415830973, 0.9890424715230168, 0.8907398976059746, 0.6613967292090088, 0.7732453156683691, 0.9574519458059084, 0.04559294980028135, 0.2875276341396735, 0.6796107716028648, 0.9700258061205497, 0.7709720949381529, 0.7025596391669421, 0.8522826385396625, 0.9710645616033139, 0.9767232143542892, 0.9301426114912293, 0.04895487428901207, 0.25952939004637465, 0.726682292129849, 0.9410332688391668, 0.9113499437607814, 0.9795014706375927, 0.7962076188213031, 0.1756015580158362, 0.8121572058232426, 0.9675779309776159, 0.6980041960441521, 0.9045881314738784, 0.09045881314738784, 0.9750110664823588, 0.9513093854611133, 0.921211522301523, 0.372980746922991, 0.6527163071152342, 0.9762607406522988, 0.8544213855406199, 0.9897461608396553, 0.5667505100867456, 0.8593844950157477, 0.9829497550593318, 0.9549959635167451, 0.9390599853617579, 0.894170570578509, 0.5589223406100091, 0.3726148937400061, 0.9856706229699306, 0.9613188388841305, 0.888086160636835, 0.9817039711528662, 0.9902574171207938, 0.7962652122234627, 0.9040311098191226, 0.7932293185682268, 0.7583573273476216, 0.9615338534409481, 0.9853401957013992, 0.9994939905745235, 0.8565031384494624, 0.9787234505340853, 0.6228936008107484, 0.7136676144030166, 0.29386313534241865, 0.7564766709429451, 0.6683310716198162, 0.9122578451119019, 0.9892318896096918, 0.832628039163076, 0.8736135399987536, 0.9776939100989424, 0.9388246759421013, 0.9639535815316261, 0.8356875355130158, 0.1890278848709271, 0.7561115394837084, 0.8470347311721393, 0.9349651516920346, 0.9732976892799465, 0.8330107965197485, 0.7993845448344618, 0.8829915267139228, 0.7534606890812888, 0.7406413732809597, 0.9604888092850637, 0.8897262592604218, 0.08088420538731107, 0.8830450236277139, 0.9127609661069452, 0.07606341384224544, 0.9109636299210961, 0.9928861252693604, 0.9137752528103665, 0.963940145664509, 0.8982281584171464, 0.08165710531064967, 0.12863359591951629, 0.8636827154596093, 0.7895963644716048, 0.3325013270739398, 0.6428358990096169, 0.9355480726252039, 0.14836141594617475, 0.6994181037462524, 0.12716692795386408, 0.12162525798852106, 0.8817831204167776, 0.8251322086604485, 0.9066811182181492, 0.7435853788367668, 0.9722428017852923, 0.9467382951370491, 0.2786196308998237, 0.7197673798245446, 0.9905164928297753, 0.9509973220683007, 0.8857362417395045, 0.966832346466816, 0.9106231518902763, 0.32216968560246984, 0.6723541264747197, 0.9989029217956832, 0.9749348949188031, 0.5156514315571257, 0.38641067885499336, 0.610778169803054, 0.8772065710401823, 0.9767053980703206, 0.9925826264842867, 0.7501208716336445, 0.9587885531119145, 0.9695841341868477, 0.759296797214556, 0.960025169504572, 0.8774317755161859, 0.8956255251197157, 0.8262488349575909, 0.6822115546782167, 0.9789905566702192, 0.620737204753148, 0.044630270598520184, 0.9372356825689239, 0.9447889247144795, 0.8719693490624908, 0.793208869663641, 0.9981719745956442, 0.666518294860093, 0.9191160997698729, 0.9495596957648617, 0.35963483127661294, 0.624628917480433, 0.9539978770409114, 0.8141616276170919, 0.8884083636205135, 0.9686306830991195, 0.9831288359791682, 0.9691321165294957, 0.2565858818377853, 0.7376844102836327, 0.9960910505959842, 0.8014519689810904, 0.9638561043612648, 0.938824460921831, 0.9461117177050612, 0.8752209616327844, 0.6654650573399181, 0.9655959435285093, 0.8790547944781092, 0.9897624364038925, 0.9541057124488058, 0.666633280606909, 0.23947985102827507, 0.7619813441808753, 0.825677603366592, 0.9822356108720252, 0.9760800003643975, 0.9887202375420645, 0.8760317192104404, 0.5070662783853024, 0.8296134706297275, 0.8367772682022293, 0.7758977212844522, 0.9453604951685186, 0.9719577059147472, 0.2478233646782183, 0.7434700940346549, 0.9667286623171207, 0.9456267759856177, 0.054035815770606725, 0.9945409192523521, 0.991661931497924, 0.8491190650051862, 0.9880662421779298, 0.7769439921471369, 0.17265422047714155, 0.9898047716146607, 0.8819454201034697, 0.9324249060806777, 0.9589428302735863, 0.977835039221909, 0.9912943298413799, 0.7678454494186698, 0.9871572441844864, 0.9739261125282869, 0.9426788086509845, 0.9014651447369337, 0.7462479980879899, 0.9611408152977466, 0.7446440788601488, 0.9402830436147575, 0.9003241070359, 0.8067512724069692, 0.27494914390198955, 0.7208126204998105, 0.9709209088899162, 0.969415724947748, 0.8670420492841063, 0.9594309944859362, 0.942313221307084, 0.8250773363940618, 0.3150391059660197, 0.671170269231955, 0.5816175431024827, 0.9812600714877723, 0.7763852008780168, 0.22182434310800478, 0.9982121732809056, 0.9832823503707637, 0.9859262698898995, 0.6888766069962579, 0.3414444385802074, 0.6373629520163872, 0.9981194163983425, 0.9739399337769488, 0.7932777576281237, 0.8891039785389423, 0.5765499268539845, 0.8677655047854331, 0.8271013901840933, 0.6638298218252227, 0.8480216001930494, 0.9667802808789352, 0.9793894754530458, 0.9891424203948892, 0.8429961301638553, 0.9764194939837529, 0.9772325569916295, 0.9700076108216477, 0.9310963809639559, 0.8472781049883452, 0.0921589582946523, 0.890869930181639, 0.8956356954605492, 0.8846193362538263, 0.749129640331739, 0.9668184141814591, 0.8202988811156543, 0.83732265546165, 0.8093738829785313, 0.9477786446438933, 0.8152519425480124, 0.9707280918353686, 0.8178786815740909, 0.932246487623558, 0.9151180664304804, 0.6615575303643816, 0.9273753448839311, 0.018362031675130848, 0.9731876787819349, 0.07312993863240774, 0.8775592635888929, 0.9517252456245687, 0.6578320430793154, 0.3289160215396577, 0.25527001582633313, 0.7658100474789995, 0.9554690059611002, 0.3415237459416472, 0.6428682276548653, 0.9896234732986487, 0.9817928325856206, 0.4897710959993374, 0.513093529142163, 0.042103658959920714, 0.9262804971182558, 0.9589206510293307, 0.9088939643715799, 0.050494109131754436, 0.4439930776632378, 0.4439930776632378, 0.30667868912028234, 0.6841293834221683, 0.983339766342448, 0.6690125409185871, 0.9699476443093404, 0.5970500192379785, 0.9707678538533361, 0.766256413317053, 0.7950357683552223, 0.16737595123267837, 0.1356024325744586, 0.8136145954467515, 0.9095627489745614, 0.9787824262657165, 0.6724960051941945, 0.9792639047937645, 0.9597928218642177, 0.9596064942108845, 0.9972912664301282, 0.9303777927326782, 0.9569139858162383, 0.9328430129757196, 0.04240195513525998, 0.9586941896056457, 0.885828104166631, 0.716584298043693, 0.5104839088036711, 0.9810293078025715, 0.9408140789797789], \"Term\": [\"...\", \"...\", \"able\", \"absolutely\", \"aftertaste\", \"again\", \"almost\", \"always\", \"always\", \"amazon\", \"amazon\", \"appreciate\", \"arrived\", \"assortment\", \"away\", \"baby\", \"bag\", \"bag\", \"bake\", \"baking\", \"bar\", \"bargain\", \"bean\", \"beat\", \"become\", \"beef\", \"before\", \"best\", \"best\", \"better\", \"better\", \"big\", \"bite\", \"blueberry\", \"bold\", \"bottle\", \"bought\", \"box\", \"box\", \"brand\", \"brand\", \"bread\", \"brewing\", \"bulk\", \"butter\", \"buy\", \"buy\", \"buying\", \"call\", \"came\", \"came\", \"can\", \"canned\", \"cannot\", \"carry\", \"carry\", \"cat\", \"cent\", \"cereal\", \"chance\", \"cheap\", \"cheaper\", \"cheese\", \"chew\", \"child\", \"choice\", \"choice\", \"coffee\", \"come\", \"comparable\", \"compared\", \"complaint\", \"considering\", \"consistency\", \"contains\", \"content\", \"cooky\", \"cost\", \"could\", \"couple\", \"cracker\", \"craving\", \"cup\", \"cup\", \"customer\", \"dairy\", \"daughter\", \"deal\", \"decided\", \"deep\", \"delivered\", \"delivery\", \"dented\", \"diabetic\", \"different\", \"different\", \"difficult\", \"dinner\", \"dog\", \"dollar\", \"dried\", \"eats\", \"elsewhere\", \"enjoying\", \"ever\", \"every\", \"every\", \"expected\", \"expensive\", \"expensive\", \"fantastic\", \"far\", \"fast\", \"favor\", \"favorite\", \"favorite\", \"find\", \"find\", \"fit\", \"flavor\", \"flavor\", \"flour\", \"food\", \"food\", \"food\", \"found\", \"found\", \"freezer\", \"freshness\", \"fun\", \"gallon\", \"garlic\", \"get\", \"get\", \"getting\", \"gift\", \"ginger\", \"give\", \"given\", \"good\", \"good\", \"got\", \"granola\", \"greasy\", \"great\", \"great\", \"green\", \"half\", \"happy\", \"heat\", \"heavy\", \"high\", \"hint\", \"hot\", \"house\", \"husband\", \"iced\", \"inside\", \"instant\", \"interesting\", \"item\", \"item\", \"jar\", \"jerky\", \"job\", \"keep\", \"lab\", \"large\", \"last\", \"like\", \"like\", \"liked\", \"line\", \"live\", \"local\", \"long\", \"lot\", \"love\", \"love\", \"loved\", \"mention\", \"mild\", \"milk\", \"mind\", \"mint\", \"miss\", \"mix\", \"moist\", \"money\", \"morning\", \"msg\", \"much\", \"much\", \"near\", \"nearly\", \"need\", \"new\", \"noticed\", \"nutrition\", \"nutritious\", \"oat\", \"office\", \"often\", \"oily\", \"one\", \"one\", \"online\", \"order\", \"order\", \"ordered\", \"ounce\", \"outstanding\", \"pack\", \"package\", \"package\", \"packaged\", \"packaging\", \"packet\", \"paid\", \"pasta\", \"pay\", \"peanut\", \"per\", \"perfect\", \"pet\", \"place\", \"plan\", \"plastic\", \"potato\", \"powder\", \"powdered\", \"pretzel\", \"price\", \"price\", \"priced\", \"pricey\", \"prime\", \"probably\", \"problem\", \"produce\", \"product\", \"product\", \"provides\", \"purchase\", \"purchased\", \"purchased\", \"put\", \"quality\", \"quick\", \"raspberry\", \"really\", \"really\", \"received\", \"recipe\", \"red\", \"regularly\", \"remind\", \"reminds\", \"reorder\", \"reviewer\", \"roast\", \"sale\", \"sauce\", \"save\", \"saw\", \"searching\", \"second\", \"seller\", \"several\", \"shipped\", \"shipping\", \"shipping\", \"shopping\", \"side\", \"single\", \"size\", \"skin\", \"slightly\", \"smoothy\", \"son\", \"soon\", \"soup\", \"spicy\", \"starbucks\", \"start\", \"stick\", \"stock\", \"store\", \"store\", \"strong\", \"strong\", \"style\", \"substitute\", \"substitute\", \"super\", \"super\", \"syrup\", \"taste\", \"taste\", \"tasted\", \"tasting\", \"tea\", \"tea\", \"them\", \"them\", \"there's\", \"think\", \"think\", \"thought\", \"thought\", \"time\", \"time\", \"tired\", \"toast\", \"too\", \"totally\", \"tough\", \"traditional\", \"tried\", \"tried\", \"trying\", \"trying\", \"tuna\", \"two\", \"understand\", \"use\", \"using\", \"value\", \"vet\", \"walmart\", \"wanted\", \"water\", \"water\", \"week\", \"wheat\", \"which\", \"will\", \"wrapper\", \"wrong\"]}, \"R\": 30, \"lambda.step\": 0.01, \"plot.opts\": {\"xlab\": \"PC1\", \"ylab\": \"PC2\"}, \"topic.order\": [1, 2, 3, 4, 5, 6, 7, 8]};\n",
       "\n",
       "function LDAvis_load_lib(url, callback){\n",
       "  var s = document.createElement('script');\n",
       "  s.src = url;\n",
       "  s.async = true;\n",
       "  s.onreadystatechange = s.onload = callback;\n",
       "  s.onerror = function(){console.warn(\"failed to load library \" + url);};\n",
       "  document.getElementsByTagName(\"head\")[0].appendChild(s);\n",
       "}\n",
       "\n",
       "if(typeof(LDAvis) !== \"undefined\"){\n",
       "   // already loaded: just create the visualization\n",
       "   !function(LDAvis){\n",
       "       new LDAvis(\"#\" + \"ldavis_el33161406419065351041560472894\", ldavis_el33161406419065351041560472894_data);\n",
       "   }(LDAvis);\n",
       "}else if(typeof define === \"function\" && define.amd){\n",
       "   // require.js is available: use it to load d3/LDAvis\n",
       "   require.config({paths: {d3: \"https://d3js.org/d3.v5\"}});\n",
       "   require([\"d3\"], function(d3){\n",
       "      window.d3 = d3;\n",
       "      LDAvis_load_lib(\"https://cdn.jsdelivr.net/gh/bmabey/pyLDAvis@3.4.0/pyLDAvis/js/ldavis.v3.0.0.js\", function(){\n",
       "        new LDAvis(\"#\" + \"ldavis_el33161406419065351041560472894\", ldavis_el33161406419065351041560472894_data);\n",
       "      });\n",
       "    });\n",
       "}else{\n",
       "    // require.js not available: dynamically load d3 & LDAvis\n",
       "    LDAvis_load_lib(\"https://d3js.org/d3.v5.js\", function(){\n",
       "         LDAvis_load_lib(\"https://cdn.jsdelivr.net/gh/bmabey/pyLDAvis@3.4.0/pyLDAvis/js/ldavis.v3.0.0.js\", function(){\n",
       "                 new LDAvis(\"#\" + \"ldavis_el33161406419065351041560472894\", ldavis_el33161406419065351041560472894_data);\n",
       "            })\n",
       "         });\n",
       "}\n",
       "</script>"
      ],
      "text/plain": [
       "PreparedData(topic_coordinates=              x         y  topics  cluster       Freq\n",
       "topic                                                \n",
       "0      0.055224  0.011042       1        1   4.239451\n",
       "1      0.069268  0.013783       2        1   5.567958\n",
       "2     -0.164895 -0.202730       3        1  27.223196\n",
       "3      0.057096  0.011986       4        1   4.407913\n",
       "4     -0.262300  0.141582       5        1  36.906081\n",
       "5      0.075515  0.018922       6        1   5.675201\n",
       "6      0.048525  0.008602       7        1   3.491889\n",
       "7      0.121567 -0.003187       8        1  12.488311, topic_info=           Term       Freq      Total Category  logprob  loglift\n",
       "121      coffee  54.000000  54.000000  Default  30.0000  30.0000\n",
       "641         tea  42.000000  42.000000  Default  29.0000  29.0000\n",
       "67      quality  41.000000  41.000000  Default  28.0000  28.0000\n",
       "3           dog  35.000000  35.000000  Default  27.0000  27.0000\n",
       "120     cheaper  30.000000  30.000000  Default  26.0000  26.0000\n",
       "...         ...        ...        ...      ...      ...      ...\n",
       "1053  packaging   7.413346   7.936999   Topic8  -5.6575   2.0121\n",
       "1946  fantastic   7.160874   7.684171   Topic8  -5.6922   2.0098\n",
       "333      strong  12.094094  13.674290   Topic8  -5.1681   1.9576\n",
       "641         tea  21.826798  42.877173   Topic8  -4.5777   1.4052\n",
       "15    different   7.986024  10.580450   Topic8  -5.5831   1.7991\n",
       "\n",
       "[329 rows x 6 columns], token_table=      Topic      Freq        Term\n",
       "term                             \n",
       "155       3  0.128705         ...\n",
       "155       5  0.868756         ...\n",
       "564       8  0.963982        able\n",
       "280       1  0.920778  absolutely\n",
       "1117      1  0.968796  aftertaste\n",
       "...     ...       ...         ...\n",
       "255       2  0.885828       wheat\n",
       "1803      1  0.716584       which\n",
       "1762      7  0.510484        will\n",
       "1530      2  0.981029     wrapper\n",
       "2173      6  0.940814       wrong\n",
       "\n",
       "[339 rows x 3 columns], R=30, lambda_step=0.01, plot_opts={'xlab': 'PC1', 'ylab': 'PC2'}, topic_order=[1, 2, 3, 4, 5, 6, 7, 8])"
      ]
     },
     "execution_count": 26,
     "metadata": {},
     "output_type": "execute_result"
    }
   ],
   "source": [
    "import pyLDAvis.gensim_models\n",
    "\n",
    "selected_topics=8\n",
    "lda_model = gensim.models.LdaModel(corpus=corpus_tfidf, id2word=dct, num_topics=selected_topics,\\\n",
    "                                           random_state=12, chunksize=128, passes=10 )\n",
    "\n",
    "pyLDAvis.enable_notebook()\n",
    "results = pyLDAvis.gensim_models.prepare(lda_model, corpus_tfidf, dct, sort_topics=False)\n",
    "pyLDAvis.save_html(results, 'ldavis_english' +'.html')\n",
    "results"
   ]
  },
  {
   "cell_type": "code",
   "execution_count": 27,
   "id": "f23fcf47",
   "metadata": {},
   "outputs": [
    {
     "data": {
      "text/html": [
       "<div>\n",
       "<style scoped>\n",
       "    .dataframe tbody tr th:only-of-type {\n",
       "        vertical-align: middle;\n",
       "    }\n",
       "\n",
       "    .dataframe tbody tr th {\n",
       "        vertical-align: top;\n",
       "    }\n",
       "\n",
       "    .dataframe thead th {\n",
       "        text-align: right;\n",
       "    }\n",
       "</style>\n",
       "<table border=\"1\" class=\"dataframe\">\n",
       "  <thead>\n",
       "    <tr style=\"text-align: right;\">\n",
       "      <th></th>\n",
       "      <th>Topic 0</th>\n",
       "      <th>Topic 1</th>\n",
       "      <th>Topic 2</th>\n",
       "      <th>Topic 3</th>\n",
       "      <th>Topic 4</th>\n",
       "      <th>Topic 5</th>\n",
       "      <th>Topic 6</th>\n",
       "      <th>Topic 7</th>\n",
       "    </tr>\n",
       "  </thead>\n",
       "  <tbody>\n",
       "    <tr>\n",
       "      <th>0</th>\n",
       "      <td>ounce</td>\n",
       "      <td>again</td>\n",
       "      <td>box</td>\n",
       "      <td>milk</td>\n",
       "      <td>price</td>\n",
       "      <td>coffee</td>\n",
       "      <td>syrup</td>\n",
       "      <td>quality</td>\n",
       "    </tr>\n",
       "    <tr>\n",
       "      <th>1</th>\n",
       "      <td>bread</td>\n",
       "      <td>purchased</td>\n",
       "      <td>price</td>\n",
       "      <td>jar</td>\n",
       "      <td>store</td>\n",
       "      <td>tea</td>\n",
       "      <td>carry</td>\n",
       "      <td>dog</td>\n",
       "    </tr>\n",
       "    <tr>\n",
       "      <th>2</th>\n",
       "      <td>quick</td>\n",
       "      <td>fast</td>\n",
       "      <td>order</td>\n",
       "      <td>paid</td>\n",
       "      <td>amazon</td>\n",
       "      <td>husband</td>\n",
       "      <td>place</td>\n",
       "      <td>cheaper</td>\n",
       "    </tr>\n",
       "    <tr>\n",
       "      <th>3</th>\n",
       "      <td>house</td>\n",
       "      <td>walmart</td>\n",
       "      <td>great</td>\n",
       "      <td>gallon</td>\n",
       "      <td>product</td>\n",
       "      <td>green</td>\n",
       "      <td>live</td>\n",
       "      <td>deal</td>\n",
       "    </tr>\n",
       "    <tr>\n",
       "      <th>4</th>\n",
       "      <td>baking</td>\n",
       "      <td>flour</td>\n",
       "      <td>lot</td>\n",
       "      <td>tasted</td>\n",
       "      <td>great</td>\n",
       "      <td>trying</td>\n",
       "      <td>powder</td>\n",
       "      <td>tea</td>\n",
       "    </tr>\n",
       "    <tr>\n",
       "      <th>5</th>\n",
       "      <td>compared</td>\n",
       "      <td>package</td>\n",
       "      <td>shipping</td>\n",
       "      <td>slightly</td>\n",
       "      <td>good</td>\n",
       "      <td>starbucks</td>\n",
       "      <td>ginger</td>\n",
       "      <td>cat</td>\n",
       "    </tr>\n",
       "    <tr>\n",
       "      <th>6</th>\n",
       "      <td>bargain</td>\n",
       "      <td>pasta</td>\n",
       "      <td>too</td>\n",
       "      <td>cannot</td>\n",
       "      <td>find</td>\n",
       "      <td>packet</td>\n",
       "      <td>considering</td>\n",
       "      <td>size</td>\n",
       "    </tr>\n",
       "    <tr>\n",
       "      <th>7</th>\n",
       "      <td>soon</td>\n",
       "      <td>delivery</td>\n",
       "      <td>good</td>\n",
       "      <td>butter</td>\n",
       "      <td>love</td>\n",
       "      <td>canned</td>\n",
       "      <td>outstanding</td>\n",
       "      <td>value</td>\n",
       "    </tr>\n",
       "    <tr>\n",
       "      <th>8</th>\n",
       "      <td>child</td>\n",
       "      <td>often</td>\n",
       "      <td>product</td>\n",
       "      <td>spicy</td>\n",
       "      <td>use</td>\n",
       "      <td>instant</td>\n",
       "      <td>expected</td>\n",
       "      <td>cooky</td>\n",
       "    </tr>\n",
       "    <tr>\n",
       "      <th>9</th>\n",
       "      <td>absolutely</td>\n",
       "      <td>cheese</td>\n",
       "      <td>big</td>\n",
       "      <td>comparable</td>\n",
       "      <td>best</td>\n",
       "      <td>super</td>\n",
       "      <td>reviewer</td>\n",
       "      <td>save</td>\n",
       "    </tr>\n",
       "  </tbody>\n",
       "</table>\n",
       "</div>"
      ],
      "text/plain": [
       "      Topic 0    Topic 1   Topic 2     Topic 3  Topic 4    Topic 5  \\\n",
       "0       ounce      again       box        milk    price     coffee   \n",
       "1       bread  purchased     price         jar    store        tea   \n",
       "2       quick       fast     order        paid   amazon    husband   \n",
       "3       house    walmart     great      gallon  product      green   \n",
       "4      baking      flour       lot      tasted    great     trying   \n",
       "5    compared    package  shipping    slightly     good  starbucks   \n",
       "6     bargain      pasta       too      cannot     find     packet   \n",
       "7        soon   delivery      good      butter     love     canned   \n",
       "8       child      often   product       spicy      use    instant   \n",
       "9  absolutely     cheese       big  comparable     best      super   \n",
       "\n",
       "       Topic 6  Topic 7  \n",
       "0        syrup  quality  \n",
       "1        carry      dog  \n",
       "2        place  cheaper  \n",
       "3         live     deal  \n",
       "4       powder      tea  \n",
       "5       ginger      cat  \n",
       "6  considering     size  \n",
       "7  outstanding    value  \n",
       "8     expected    cooky  \n",
       "9     reviewer     save  "
      ]
     },
     "execution_count": 27,
     "metadata": {},
     "output_type": "execute_result"
    }
   ],
   "source": [
    "top_words_df = pd.DataFrame()\n",
    "for k in range(selected_topics):\n",
    "  # top words with it's weight for a given id k \n",
    "  top_words = lda_model.show_topic(topicid=k)\n",
    "  \n",
    "  # only keep the word and discard the weight\n",
    "  top_words_df['Topic {}'.format(k)] = [pair[0] for pair in top_words]\n",
    "top_words_df\n"
   ]
  },
  {
   "cell_type": "code",
   "execution_count": null,
   "id": "a9b602a0",
   "metadata": {},
   "outputs": [],
   "source": []
  }
 ],
 "metadata": {
  "kernelspec": {
   "display_name": "base",
   "language": "python",
   "name": "python3"
  },
  "language_info": {
   "codemirror_mode": {
    "name": "ipython",
    "version": 3
   },
   "file_extension": ".py",
   "mimetype": "text/x-python",
   "name": "python",
   "nbconvert_exporter": "python",
   "pygments_lexer": "ipython3",
   "version": "3.9.13"
  },
  "vscode": {
   "interpreter": {
    "hash": "f24b807562de8427071b250817eaaa559836b2b5074b24445f57f385616f7f98"
   }
  }
 },
 "nbformat": 4,
 "nbformat_minor": 5
}
