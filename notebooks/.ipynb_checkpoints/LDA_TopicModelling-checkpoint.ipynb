{
 "cells": [
  {
   "cell_type": "code",
   "execution_count": 1,
   "id": "23f375b4",
   "metadata": {},
   "outputs": [],
   "source": [
    "#TODO: try out BERT and LDA for topic modelling, calculate out the metrics and compare the models\n",
    "\n",
    "#LDA is unsupervised learning which doesnt require labeled data to train\n",
    "#BERT is a pretrained model which is a supervised learning method, requires labeled data to train\n",
    "\n",
    "#LDA can provide insights to the underlying pattern in the data, resulting topics are easily interpreted by humans\n",
    "#BERT can provide more accurate results but requires labeled data and significant computation resources\n"
   ]
  },
  {
   "cell_type": "code",
   "execution_count": 2,
   "id": "ac2da26d",
   "metadata": {},
   "outputs": [],
   "source": [
    "#import preprocessed file and sentiment analysis\n"
   ]
  },
  {
   "cell_type": "code",
   "execution_count": null,
   "id": "14d55f99",
   "metadata": {},
   "outputs": [],
   "source": []
  },
  {
   "cell_type": "code",
   "execution_count": 39,
   "id": "565b8673",
   "metadata": {},
   "outputs": [
    {
     "name": "stdout",
     "output_type": "stream",
     "text": [
      "Requirement already satisfied: transformers in /usr/local/lib/python3.11/site-packages (4.27.2)\n",
      "Requirement already satisfied: filelock in /usr/local/lib/python3.11/site-packages (from transformers) (3.9.0)\n",
      "Requirement already satisfied: huggingface-hub<1.0,>=0.11.0 in /usr/local/lib/python3.11/site-packages (from transformers) (0.13.3)\n",
      "Requirement already satisfied: numpy>=1.17 in /usr/local/lib/python3.11/site-packages (from transformers) (1.24.2)\n",
      "Requirement already satisfied: packaging>=20.0 in /usr/local/lib/python3.11/site-packages (from transformers) (23.0)\n",
      "Requirement already satisfied: pyyaml>=5.1 in /usr/local/lib/python3.11/site-packages (from transformers) (6.0)\n",
      "Requirement already satisfied: regex!=2019.12.17 in /usr/local/lib/python3.11/site-packages (from transformers) (2022.10.31)\n",
      "Requirement already satisfied: requests in /usr/local/lib/python3.11/site-packages (from transformers) (2.28.2)\n",
      "Requirement already satisfied: tokenizers!=0.11.3,<0.14,>=0.11.1 in /usr/local/lib/python3.11/site-packages (from transformers) (0.13.2)\n",
      "Requirement already satisfied: tqdm>=4.27 in /usr/local/lib/python3.11/site-packages (from transformers) (4.65.0)\n",
      "Requirement already satisfied: typing-extensions>=3.7.4.3 in /usr/local/lib/python3.11/site-packages (from huggingface-hub<1.0,>=0.11.0->transformers) (4.5.0)\n",
      "Requirement already satisfied: charset-normalizer<4,>=2 in /usr/local/lib/python3.11/site-packages (from requests->transformers) (3.1.0)\n",
      "Requirement already satisfied: idna<4,>=2.5 in /usr/local/lib/python3.11/site-packages (from requests->transformers) (3.4)\n",
      "Requirement already satisfied: urllib3<1.27,>=1.21.1 in /usr/local/lib/python3.11/site-packages (from requests->transformers) (1.26.15)\n",
      "Requirement already satisfied: certifi>=2017.4.17 in /usr/local/lib/python3.11/site-packages (from requests->transformers) (2022.12.7)\n"
     ]
    }
   ],
   "source": [
    "!pip install transformers"
   ]
  },
  {
   "cell_type": "code",
   "execution_count": 2,
   "id": "2763e019",
   "metadata": {},
   "outputs": [],
   "source": [
    "import pandas as pd\n",
    "import numpy as np\n",
    "from sklearn.cluster import KMeans\n",
    "#from transformers import AutoModel\n",
    "\n",
    "import gensim\n",
    "from gensim.models import Phrases\n",
    "#Prepare objects for LDA gensim implementation\n",
    "from gensim import corpora\n",
    "#Running LDA\n",
    "from gensim import models\n",
    "\n",
    "import matplotlib.pyplot as plt\n",
    "import seaborn as sns\n",
    "\n",
    "\n"
   ]
  },
  {
   "cell_type": "code",
   "execution_count": 3,
   "id": "ef91b381",
   "metadata": {
    "scrolled": true
   },
   "outputs": [
    {
     "data": {
      "text/html": [
       "<div>\n",
       "<style scoped>\n",
       "    .dataframe tbody tr th:only-of-type {\n",
       "        vertical-align: middle;\n",
       "    }\n",
       "\n",
       "    .dataframe tbody tr th {\n",
       "        vertical-align: top;\n",
       "    }\n",
       "\n",
       "    .dataframe thead th {\n",
       "        text-align: right;\n",
       "    }\n",
       "</style>\n",
       "<table border=\"1\" class=\"dataframe\">\n",
       "  <thead>\n",
       "    <tr style=\"text-align: right;\">\n",
       "      <th></th>\n",
       "      <th>Unnamed: 0</th>\n",
       "      <th>Sentiment</th>\n",
       "      <th>Time</th>\n",
       "      <th>Text</th>\n",
       "      <th>cleaned</th>\n",
       "    </tr>\n",
       "  </thead>\n",
       "  <tbody>\n",
       "    <tr>\n",
       "      <th>0</th>\n",
       "      <td>0</td>\n",
       "      <td>positive</td>\n",
       "      <td>18/6/21</td>\n",
       "      <td>This is a very healthy dog food. Good for thei...</td>\n",
       "      <td>['healthy', 'dog', 'food', 'good', 'digestion'...</td>\n",
       "    </tr>\n",
       "    <tr>\n",
       "      <th>1</th>\n",
       "      <td>1</td>\n",
       "      <td>positive</td>\n",
       "      <td>7/7/21</td>\n",
       "      <td>I've been very pleased with the Natural Balanc...</td>\n",
       "      <td>['pleased', 'natural', 'balance', 'dog', 'food...</td>\n",
       "    </tr>\n",
       "    <tr>\n",
       "      <th>2</th>\n",
       "      <td>2</td>\n",
       "      <td>positive</td>\n",
       "      <td>18/6/21</td>\n",
       "      <td>Before I was educated about feline nutrition, ...</td>\n",
       "      <td>['educated', 'feline', 'nutrition', 'allowed',...</td>\n",
       "    </tr>\n",
       "    <tr>\n",
       "      <th>3</th>\n",
       "      <td>3</td>\n",
       "      <td>positive</td>\n",
       "      <td>7/7/21</td>\n",
       "      <td>My holistic vet recommended this, along with a...</td>\n",
       "      <td>['holistic', 'vet', 'recommended', 'this', 'al...</td>\n",
       "    </tr>\n",
       "    <tr>\n",
       "      <th>4</th>\n",
       "      <td>4</td>\n",
       "      <td>positive</td>\n",
       "      <td>1/7/21</td>\n",
       "      <td>I bought this coffee because its much cheaper ...</td>\n",
       "      <td>['bought', 'coffee', 'much', 'cheaper', 'ganoc...</td>\n",
       "    </tr>\n",
       "  </tbody>\n",
       "</table>\n",
       "</div>"
      ],
      "text/plain": [
       "   Unnamed: 0 Sentiment     Time  \\\n",
       "0           0  positive  18/6/21   \n",
       "1           1  positive   7/7/21   \n",
       "2           2  positive  18/6/21   \n",
       "3           3  positive   7/7/21   \n",
       "4           4  positive   1/7/21   \n",
       "\n",
       "                                                Text  \\\n",
       "0  This is a very healthy dog food. Good for thei...   \n",
       "1  I've been very pleased with the Natural Balanc...   \n",
       "2  Before I was educated about feline nutrition, ...   \n",
       "3  My holistic vet recommended this, along with a...   \n",
       "4  I bought this coffee because its much cheaper ...   \n",
       "\n",
       "                                             cleaned  \n",
       "0  ['healthy', 'dog', 'food', 'good', 'digestion'...  \n",
       "1  ['pleased', 'natural', 'balance', 'dog', 'food...  \n",
       "2  ['educated', 'feline', 'nutrition', 'allowed',...  \n",
       "3  ['holistic', 'vet', 'recommended', 'this', 'al...  \n",
       "4  ['bought', 'coffee', 'much', 'cheaper', 'ganoc...  "
      ]
     },
     "execution_count": 3,
     "metadata": {},
     "output_type": "execute_result"
    }
   ],
   "source": [
    "df = pd.read_csv('/Users/charlenechan/Desktop/y4s2/DSA4263/project/clean 21 march.csv')\n",
    "df.head()"
   ]
  },
  {
   "cell_type": "code",
   "execution_count": 4,
   "id": "e34f3323",
   "metadata": {},
   "outputs": [
    {
     "name": "stdout",
     "output_type": "stream",
     "text": [
      "<class 'pandas.core.frame.DataFrame'>\n",
      "RangeIndex: 5444 entries, 0 to 5443\n",
      "Data columns (total 5 columns):\n",
      " #   Column      Non-Null Count  Dtype \n",
      "---  ------      --------------  ----- \n",
      " 0   Unnamed: 0  5444 non-null   int64 \n",
      " 1   Sentiment   5444 non-null   object\n",
      " 2   Time        5444 non-null   object\n",
      " 3   Text        5444 non-null   object\n",
      " 4   cleaned     5444 non-null   object\n",
      "dtypes: int64(1), object(4)\n",
      "memory usage: 212.8+ KB\n"
     ]
    }
   ],
   "source": [
    "df.info()"
   ]
  },
  {
   "cell_type": "code",
   "execution_count": 5,
   "id": "cd7168b8",
   "metadata": {},
   "outputs": [],
   "source": [
    "df['Time'] = pd.to_datetime(df['Time'])"
   ]
  },
  {
   "cell_type": "code",
   "execution_count": 8,
   "id": "a35e41a3",
   "metadata": {},
   "outputs": [
    {
     "data": {
      "text/plain": [
       "Timestamp('2017-07-12 00:00:00')"
      ]
     },
     "execution_count": 8,
     "metadata": {},
     "output_type": "execute_result"
    }
   ],
   "source": [
    "df['Time'].min()"
   ]
  },
  {
   "cell_type": "code",
   "execution_count": 9,
   "id": "a0b844bb",
   "metadata": {},
   "outputs": [
    {
     "data": {
      "text/plain": [
       "Timestamp('2021-12-10 00:00:00')"
      ]
     },
     "execution_count": 9,
     "metadata": {},
     "output_type": "execute_result"
    }
   ],
   "source": [
    "df['Time'].max()"
   ]
  },
  {
   "cell_type": "code",
   "execution_count": 111,
   "id": "25bea173",
   "metadata": {
    "scrolled": true
   },
   "outputs": [
    {
     "data": {
      "text/plain": [
       "array(['positive', 'negative'], dtype=object)"
      ]
     },
     "execution_count": 111,
     "metadata": {},
     "output_type": "execute_result"
    }
   ],
   "source": [
    "df['Sentiment'].unique()"
   ]
  },
  {
   "cell_type": "code",
   "execution_count": 112,
   "id": "7ec5af2e",
   "metadata": {},
   "outputs": [],
   "source": [
    "df_positive = df[df['Sentiment'] == 'positive']"
   ]
  },
  {
   "cell_type": "code",
   "execution_count": 113,
   "id": "cbd575f5",
   "metadata": {},
   "outputs": [],
   "source": [
    "df_negative = df[df['Sentiment'] == 'negative']\n"
   ]
  },
  {
   "cell_type": "code",
   "execution_count": 114,
   "id": "9c448084",
   "metadata": {},
   "outputs": [
    {
     "data": {
      "text/plain": [
       "4030"
      ]
     },
     "execution_count": 114,
     "metadata": {},
     "output_type": "execute_result"
    }
   ],
   "source": [
    "len(df_positive) #4030 rows"
   ]
  },
  {
   "cell_type": "code",
   "execution_count": 115,
   "id": "0b1ef1fd",
   "metadata": {},
   "outputs": [
    {
     "data": {
      "text/plain": [
       "1414"
      ]
     },
     "execution_count": 115,
     "metadata": {},
     "output_type": "execute_result"
    }
   ],
   "source": [
    "len(df_negative) #1414 rows"
   ]
  },
  {
   "cell_type": "markdown",
   "id": "668b344e",
   "metadata": {},
   "source": [
    "# 1. BERT model for topic modelling"
   ]
  },
  {
   "cell_type": "code",
   "execution_count": 11,
   "id": "59e84925",
   "metadata": {},
   "outputs": [
    {
     "ename": "NameError",
     "evalue": "name 'AutoModel' is not defined",
     "output_type": "error",
     "traceback": [
      "\u001b[0;31m---------------------------------------------------------------------------\u001b[0m",
      "\u001b[0;31mNameError\u001b[0m                                 Traceback (most recent call last)",
      "\u001b[0;32m/var/folders/ht/cj1ls1bj3s549x8c5ymchh2r0000gn/T/ipykernel_1207/4118091221.py\u001b[0m in \u001b[0;36m<module>\u001b[0;34m\u001b[0m\n\u001b[1;32m      1\u001b[0m \u001b[0;31m# Apply BERT\u001b[0m\u001b[0;34m\u001b[0m\u001b[0;34m\u001b[0m\u001b[0;34m\u001b[0m\u001b[0m\n\u001b[0;32m----> 2\u001b[0;31m \u001b[0mmodel\u001b[0m \u001b[0;34m=\u001b[0m \u001b[0mAutoModel\u001b[0m\u001b[0;34m.\u001b[0m\u001b[0mfrom_pretrained\u001b[0m\u001b[0;34m(\u001b[0m\u001b[0;34m'bert-base-uncased'\u001b[0m\u001b[0;34m)\u001b[0m\u001b[0;34m\u001b[0m\u001b[0;34m\u001b[0m\u001b[0m\n\u001b[0m\u001b[1;32m      3\u001b[0m \u001b[0membeddings\u001b[0m \u001b[0;34m=\u001b[0m \u001b[0;34m[\u001b[0m\u001b[0;34m]\u001b[0m\u001b[0;34m\u001b[0m\u001b[0;34m\u001b[0m\u001b[0m\n\u001b[1;32m      4\u001b[0m \u001b[0;34m\u001b[0m\u001b[0m\n\u001b[1;32m      5\u001b[0m \u001b[0;32mfor\u001b[0m \u001b[0mi\u001b[0m \u001b[0;32min\u001b[0m \u001b[0mtokenized_data\u001b[0m\u001b[0;34m:\u001b[0m\u001b[0;34m\u001b[0m\u001b[0;34m\u001b[0m\u001b[0m\n",
      "\u001b[0;31mNameError\u001b[0m: name 'AutoModel' is not defined"
     ]
    }
   ],
   "source": [
    "# Apply BERT\n",
    "model = AutoModel.from_pretrained('bert-base-uncased')\n",
    "embeddings = []\n",
    "\n",
    "for i in tokenized_data:\n",
    "    input_ids = torch.tensor([i])\n",
    "    with torch.no_grad():\n",
    "        last_hidden_states = model(input_ids)[0]\n",
    "    embeddings.append(last_hidden_states.mean(dim=1).numpy())"
   ]
  },
  {
   "cell_type": "code",
   "execution_count": null,
   "id": "95fe9a5a",
   "metadata": {},
   "outputs": [],
   "source": [
    "from transformers import pipeline\n",
    "unmasker = pipeline('fill-mask', model='bert-base-uncased')\n",
    "unmasker(\"Hello I'm a [MASK] model.\")\n"
   ]
  },
  {
   "cell_type": "code",
   "execution_count": null,
   "id": "ec8beb22",
   "metadata": {},
   "outputs": [],
   "source": []
  },
  {
   "cell_type": "markdown",
   "id": "6d32787c",
   "metadata": {},
   "source": [
    "# 2. LDA\n"
   ]
  },
  {
   "cell_type": "code",
   "execution_count": 116,
   "id": "c40acfa6",
   "metadata": {},
   "outputs": [
    {
     "data": {
      "text/html": [
       "<div>\n",
       "<style scoped>\n",
       "    .dataframe tbody tr th:only-of-type {\n",
       "        vertical-align: middle;\n",
       "    }\n",
       "\n",
       "    .dataframe tbody tr th {\n",
       "        vertical-align: top;\n",
       "    }\n",
       "\n",
       "    .dataframe thead th {\n",
       "        text-align: right;\n",
       "    }\n",
       "</style>\n",
       "<table border=\"1\" class=\"dataframe\">\n",
       "  <thead>\n",
       "    <tr style=\"text-align: right;\">\n",
       "      <th></th>\n",
       "      <th>Unnamed: 0</th>\n",
       "      <th>Sentiment</th>\n",
       "      <th>Time</th>\n",
       "      <th>Text</th>\n",
       "      <th>cleaned</th>\n",
       "    </tr>\n",
       "  </thead>\n",
       "  <tbody>\n",
       "    <tr>\n",
       "      <th>0</th>\n",
       "      <td>0</td>\n",
       "      <td>positive</td>\n",
       "      <td>18/6/21</td>\n",
       "      <td>This is a very healthy dog food. Good for thei...</td>\n",
       "      <td>['healthy', 'dog', 'food', 'good', 'digestion'...</td>\n",
       "    </tr>\n",
       "    <tr>\n",
       "      <th>1</th>\n",
       "      <td>1</td>\n",
       "      <td>positive</td>\n",
       "      <td>7/7/21</td>\n",
       "      <td>I've been very pleased with the Natural Balanc...</td>\n",
       "      <td>['pleased', 'natural', 'balance', 'dog', 'food...</td>\n",
       "    </tr>\n",
       "    <tr>\n",
       "      <th>2</th>\n",
       "      <td>2</td>\n",
       "      <td>positive</td>\n",
       "      <td>18/6/21</td>\n",
       "      <td>Before I was educated about feline nutrition, ...</td>\n",
       "      <td>['educated', 'feline', 'nutrition', 'allowed',...</td>\n",
       "    </tr>\n",
       "    <tr>\n",
       "      <th>3</th>\n",
       "      <td>3</td>\n",
       "      <td>positive</td>\n",
       "      <td>7/7/21</td>\n",
       "      <td>My holistic vet recommended this, along with a...</td>\n",
       "      <td>['holistic', 'vet', 'recommended', 'this', 'al...</td>\n",
       "    </tr>\n",
       "    <tr>\n",
       "      <th>4</th>\n",
       "      <td>4</td>\n",
       "      <td>positive</td>\n",
       "      <td>1/7/21</td>\n",
       "      <td>I bought this coffee because its much cheaper ...</td>\n",
       "      <td>['bought', 'coffee', 'much', 'cheaper', 'ganoc...</td>\n",
       "    </tr>\n",
       "    <tr>\n",
       "      <th>...</th>\n",
       "      <td>...</td>\n",
       "      <td>...</td>\n",
       "      <td>...</td>\n",
       "      <td>...</td>\n",
       "      <td>...</td>\n",
       "    </tr>\n",
       "    <tr>\n",
       "      <th>4444</th>\n",
       "      <td>4444</td>\n",
       "      <td>positive</td>\n",
       "      <td>19/2/21</td>\n",
       "      <td>I was super excited to find this online for a ...</td>\n",
       "      <td>['super', 'excited', 'find', 'online', 'better...</td>\n",
       "    </tr>\n",
       "    <tr>\n",
       "      <th>4445</th>\n",
       "      <td>4445</td>\n",
       "      <td>positive</td>\n",
       "      <td>10/1/21</td>\n",
       "      <td>I was getting these for my pitbull mix from Wa...</td>\n",
       "      <td>['getting', 'pitbull', 'mix', 'walmart', 'arou...</td>\n",
       "    </tr>\n",
       "    <tr>\n",
       "      <th>4448</th>\n",
       "      <td>4448</td>\n",
       "      <td>positive</td>\n",
       "      <td>24/2/21</td>\n",
       "      <td>If you love couscous but hate paying the price...</td>\n",
       "      <td>['love', 'couscous', 'hate', 'paying', 'price'...</td>\n",
       "    </tr>\n",
       "    <tr>\n",
       "      <th>4450</th>\n",
       "      <td>4450</td>\n",
       "      <td>positive</td>\n",
       "      <td>14/12/20</td>\n",
       "      <td>My daughter teaches kindergarten and I help he...</td>\n",
       "      <td>['daughter', 'teach', 'kindergarten', 'help', ...</td>\n",
       "    </tr>\n",
       "    <tr>\n",
       "      <th>4451</th>\n",
       "      <td>4451</td>\n",
       "      <td>positive</td>\n",
       "      <td>19/10/21</td>\n",
       "      <td>These pretzels are almost addictive they are s...</td>\n",
       "      <td>['pretzel', 'almost', 'addictive', 'good', 'pa...</td>\n",
       "    </tr>\n",
       "  </tbody>\n",
       "</table>\n",
       "<p>4030 rows × 5 columns</p>\n",
       "</div>"
      ],
      "text/plain": [
       "      Unnamed: 0 Sentiment      Time  \\\n",
       "0              0  positive   18/6/21   \n",
       "1              1  positive    7/7/21   \n",
       "2              2  positive   18/6/21   \n",
       "3              3  positive    7/7/21   \n",
       "4              4  positive    1/7/21   \n",
       "...          ...       ...       ...   \n",
       "4444        4444  positive   19/2/21   \n",
       "4445        4445  positive   10/1/21   \n",
       "4448        4448  positive   24/2/21   \n",
       "4450        4450  positive  14/12/20   \n",
       "4451        4451  positive  19/10/21   \n",
       "\n",
       "                                                   Text  \\\n",
       "0     This is a very healthy dog food. Good for thei...   \n",
       "1     I've been very pleased with the Natural Balanc...   \n",
       "2     Before I was educated about feline nutrition, ...   \n",
       "3     My holistic vet recommended this, along with a...   \n",
       "4     I bought this coffee because its much cheaper ...   \n",
       "...                                                 ...   \n",
       "4444  I was super excited to find this online for a ...   \n",
       "4445  I was getting these for my pitbull mix from Wa...   \n",
       "4448  If you love couscous but hate paying the price...   \n",
       "4450  My daughter teaches kindergarten and I help he...   \n",
       "4451  These pretzels are almost addictive they are s...   \n",
       "\n",
       "                                                cleaned  \n",
       "0     ['healthy', 'dog', 'food', 'good', 'digestion'...  \n",
       "1     ['pleased', 'natural', 'balance', 'dog', 'food...  \n",
       "2     ['educated', 'feline', 'nutrition', 'allowed',...  \n",
       "3     ['holistic', 'vet', 'recommended', 'this', 'al...  \n",
       "4     ['bought', 'coffee', 'much', 'cheaper', 'ganoc...  \n",
       "...                                                 ...  \n",
       "4444  ['super', 'excited', 'find', 'online', 'better...  \n",
       "4445  ['getting', 'pitbull', 'mix', 'walmart', 'arou...  \n",
       "4448  ['love', 'couscous', 'hate', 'paying', 'price'...  \n",
       "4450  ['daughter', 'teach', 'kindergarten', 'help', ...  \n",
       "4451  ['pretzel', 'almost', 'addictive', 'good', 'pa...  \n",
       "\n",
       "[4030 rows x 5 columns]"
      ]
     },
     "execution_count": 116,
     "metadata": {},
     "output_type": "execute_result"
    }
   ],
   "source": [
    "df_positive"
   ]
  },
  {
   "cell_type": "code",
   "execution_count": 117,
   "id": "6ee525dc",
   "metadata": {},
   "outputs": [],
   "source": [
    "import ast\n",
    "tokens = []\n",
    "for sentence in df_positive['cleaned']:\n",
    "    tokens.append(ast.literal_eval(sentence))\n",
    "    "
   ]
  },
  {
   "cell_type": "code",
   "execution_count": 118,
   "id": "4cb5d939",
   "metadata": {},
   "outputs": [
    {
     "data": {
      "text/plain": [
       "4030"
      ]
     },
     "execution_count": 118,
     "metadata": {},
     "output_type": "execute_result"
    }
   ],
   "source": [
    "len(tokens)"
   ]
  },
  {
   "cell_type": "code",
   "execution_count": 1,
   "id": "2a98b59d",
   "metadata": {},
   "outputs": [],
   "source": [
    "#tokens"
   ]
  },
  {
   "cell_type": "code",
   "execution_count": 120,
   "id": "870160f1",
   "metadata": {},
   "outputs": [],
   "source": [
    "import gensim.corpora as corpora\n"
   ]
  },
  {
   "cell_type": "code",
   "execution_count": 121,
   "id": "aaf2c81b",
   "metadata": {},
   "outputs": [],
   "source": [
    "import gensim.corpora as corpora\n",
    "# training a bi gram model in order to include those bigrams as tokens who occured at least 6 times\n",
    "# in the whole dataset\n",
    "bigram = gensim.models.Phrases(tokens, min_count=2, threshold=100)\n",
    "bigram_mod = gensim.models.phrases.Phraser(bigram)"
   ]
  },
  {
   "cell_type": "code",
   "execution_count": 122,
   "id": "12254890",
   "metadata": {},
   "outputs": [],
   "source": [
    "# including bigrams as tokens \n",
    "sents = [ bigram_mod[token] for token in tokens]"
   ]
  },
  {
   "cell_type": "code",
   "execution_count": 2,
   "id": "3f2302f3",
   "metadata": {},
   "outputs": [],
   "source": [
    "#sents"
   ]
  },
  {
   "cell_type": "code",
   "execution_count": 124,
   "id": "8426247b",
   "metadata": {},
   "outputs": [],
   "source": [
    "# Create Dictionary to keep track of vocab\n",
    "dct = corpora.Dictionary(tokens)"
   ]
  },
  {
   "cell_type": "code",
   "execution_count": 125,
   "id": "f8c2c08b",
   "metadata": {},
   "outputs": [
    {
     "name": "stdout",
     "output_type": "stream",
     "text": [
      "Unique words before filtering/after pre-processing 9330\n"
     ]
    }
   ],
   "source": [
    "print('Unique words before filtering/after pre-processing', len(dct))\n"
   ]
  },
  {
   "cell_type": "code",
   "execution_count": 126,
   "id": "ae96858d",
   "metadata": {},
   "outputs": [],
   "source": [
    "# no_below= 30\n",
    "# filter the words that occure in less than 20 documents and in more the 30% of documents\n",
    "#dct.filter_extremes(no_below= 20, no_above = 0.3)\n",
    "#print('Unique words after filtering', len(dct))\n",
    "\n",
    "# Create Corpus(Database)\n",
    "corpus = [dct.doc2bow(sent) for sent in sents]\n",
    "\n",
    "tfidf = gensim.models.TfidfModel(corpus)\n",
    "corpus_tfidf = tfidf[corpus]"
   ]
  },
  {
   "cell_type": "code",
   "execution_count": 127,
   "id": "cff9bb14",
   "metadata": {},
   "outputs": [
    {
     "name": "stdout",
     "output_type": "stream",
     "text": [
      "3 0.4255431537476582\n",
      "4 0.4095406565556138\n",
      "5 0.4508489592410922\n",
      "6 0.406534714238654\n",
      "7 0.44132318436618095\n",
      "8 0.46872029372299434\n",
      "9 0.4194038467866498\n",
      "10 0.3673826335905649\n",
      "11 0.3882777305714453\n",
      "12 0.3786035305344804\n",
      "13 0.3794890910215799\n",
      "14 0.3881804011019709\n"
     ]
    }
   ],
   "source": [
    "#cohernece score quite low...\n",
    "\n",
    "from gensim.models import CoherenceModel\n",
    "import time\n",
    "import os\n",
    "\n",
    "#randomstate = 12\n",
    "scores = []\n",
    "for k in range(3,15):\n",
    "    # LDA model\n",
    "    lda_model = gensim.models.LdaModel(corpus=corpus_tfidf, num_topics=k, \n",
    "                                                 id2word=dct, random_state=12)\n",
    "    # to calculate score for coherence\n",
    "    coherence_model_lda = CoherenceModel(model=lda_model, texts=sents, dictionary=dct, coherence='c_v')\n",
    "    coherence_lda = coherence_model_lda.get_coherence()\n",
    "    print(k, coherence_lda)\n",
    "    scores.append(coherence_lda)"
   ]
  },
  {
   "cell_type": "code",
   "execution_count": 128,
   "id": "a8a0c789",
   "metadata": {},
   "outputs": [
    {
     "data": {
      "image/png": "[encoded data removed]",
      "text/plain": [
       "<Figure size 720x360 with 1 Axes>"
      ]
     },
     "metadata": {
      "needs_background": "light"
     },
     "output_type": "display_data"
    },
    {
     "name": "stdout",
     "output_type": "stream",
     "text": [
      "Becuase of the highest coherence the optimum number of topics are:  8\n"
     ]
    }
   ],
   "source": [
    "selected_topics = np.argmax(scores)+3\n",
    "\n",
    "plt.figure(figsize=(10, 5))\n",
    "plt.plot(list(range(3,15)), scores, marker='o', color='green')\n",
    "sns.despine(top=True, right=True, left=False, bottom=False)\n",
    "\n",
    "plt.locator_params(integer=True)\n",
    "plt.title('Coherence score vs the number of topics for LDA')\n",
    "plt.xlabel('Number of topics')\n",
    "plt.ylabel('Coherence Scores')\n",
    "plt.savefig('lda_scores.jpg')\n",
    "plt.show()\n",
    "\n",
    "print('Becuase of the highest coherence the optimum number of topics are: ', selected_topics)"
   ]
  },
  {
   "cell_type": "code",
   "execution_count": 131,
   "id": "f9b713fd",
   "metadata": {},
   "outputs": [
    {
     "name": "stderr",
     "output_type": "stream",
     "text": [
      "/opt/anaconda3/lib/python3.8/site-packages/pyLDAvis/_prepare.py:246: FutureWarning: In a future version of pandas all arguments of DataFrame.drop except for the argument 'labels' will be keyword-only\n",
      "  default_term_info = default_term_info.sort_values(\n"
     ]
    },
    {
     "data": {
      "text/html": [
       "\n",
       "<link rel=\"stylesheet\" type=\"text/css\" href=\"https://cdn.jsdelivr.net/gh/bmabey/pyLDAvis@3.3.1/pyLDAvis/js/ldavis.v1.0.0.css\">\n",
       "\n",
       "\n",
       "<div id=\"ldavis_el12071403229406909443103157272\"></div>\n",
       "<script type=\"text/javascript\">\n",
       "\n",
       "var ldavis_el12071403229406909443103157272_data = {\"mdsDat\": {\"x\": [0.05522386201277971, 0.06926803682359832, -0.16489581995186048, 0.057095802120337824, -0.26229913170824715, 0.07551468893459834, 0.04852514459370242, 0.12156741717509074], \"y\": [0.011042117999502752, 0.013783192561893939, -0.2027296041526753, 0.01198603234566091, 0.1415821500229912, 0.018921859534607278, 0.00860240815064363, -0.003188156462624311], \"topics\": [1, 2, 3, 4, 5, 6, 7, 8], \"cluster\": [1, 1, 1, 1, 1, 1, 1, 1], \"Freq\": [4.239451259949072, 5.567958157071513, 27.223257905004562, 4.407913251717058, 36.90602021620094, 5.675200824697965, 3.4918888890232385, 12.488309496335653]}, \"tinfo\": {\"Term\": [\"coffee\", \"tea\", \"quality\", \"dog\", \"cheaper\", \"deal\", \"again\", \"price\", \"purchased\", \"cat\", \"store\", \"box\", \"milk\", \"shipping\", \"use\", \"fast\", \"order\", \"walmart\", \"flour\", \"lot\", \"size\", \"value\", \"cooky\", \"jar\", \"too\", \"carry\", \"great\", \"package\", \"bought\", \"best\", \"ounce\", \"bread\", \"quick\", \"house\", \"baking\", \"compared\", \"bargain\", \"soon\", \"child\", \"absolutely\", \"chew\", \"favor\", \"red\", \"pretzel\", \"difficult\", \"deep\", \"moist\", \"consistency\", \"heavy\", \"aftertaste\", \"tough\", \"stick\", \"toast\", \"inside\", \"raspberry\", \"which\", \"fun\", \"elsewhere\", \"mention\", \"diabetic\", \"produce\", \"substitute\", \"again\", \"fast\", \"walmart\", \"flour\", \"pasta\", \"delivery\", \"often\", \"cheese\", \"couple\", \"prime\", \"mild\", \"tired\", \"bake\", \"line\", \"skin\", \"saw\", \"side\", \"wheat\", \"tuna\", \"granola\", \"wrapper\", \"reorder\", \"oat\", \"roast\", \"cheap\", \"reminds\", \"jerky\", \"mint\", \"there's\", \"understand\", \"package\", \"purchased\", \"choice\", \"lot\", \"too\", \"big\", \"bottle\", \"using\", \"come\", \"tasting\", \"cereal\", \"need\", \"keep\", \"bar\", \"perfect\", \"received\", \"two\", \"pay\", \"hot\", \"bulk\", \"per\", \"packaged\", \"money\", \"getting\", \"gift\", \"cracker\", \"delivered\", \"loved\", \"soup\", \"priced\", \"several\", \"morning\", \"plastic\", \"box\", \"order\", \"water\", \"shipping\", \"think\", \"every\", \"favorite\", \"came\", \"tried\", \"great\", \"price\", \"good\", \"product\", \"like\", \"cup\", \"taste\", \"milk\", \"jar\", \"paid\", \"gallon\", \"tasted\", \"slightly\", \"cannot\", \"butter\", \"spicy\", \"comparable\", \"dinner\", \"garlic\", \"content\", \"peanut\", \"office\", \"freezer\", \"bold\", \"noticed\", \"freshness\", \"mind\", \"searching\", \"blueberry\", \"enjoying\", \"potato\", \"single\", \"traditional\", \"fit\", \"contains\", \"nutritious\", \"near\", \"thought\", \"package\", \"use\", \"bought\", \"local\", \"cost\", \"buying\", \"bean\", \"pack\", \"beat\", \"got\", \"could\", \"half\", \"happy\", \"ordered\", \"can\", \"give\", \"purchase\", \"arrived\", \"far\", \"last\", \"mix\", \"online\", \"high\", \"store\", \"problem\", \"ever\", \"recipe\", \"long\", \"put\", \"almost\", \"sale\", \"best\", \"them\", \"find\", \"item\", \"amazon\", \"price\", \"found\", \"expensive\", \"buy\", \"bag\", \"love\", \"...\", \"product\", \"always\", \"much\", \"good\", \"great\", \"one\", \"food\", \"get\", \"like\", \"taste\", \"brand\", \"time\", \"flavor\", \"really\", \"better\", \"coffee\", \"husband\", \"green\", \"starbucks\", \"packet\", \"instant\", \"canned\", \"shipped\", \"appreciate\", \"wrong\", \"nearly\", \"iced\", \"decided\", \"away\", \"eats\", \"brewing\", \"given\", \"start\", \"style\", \"heat\", \"customer\", \"bite\", \"before\", \"job\", \"dried\", \"dollar\", \"cent\", \"regularly\", \"become\", \"assortment\", \"trying\", \"super\", \"tea\", \"purchased\", \"carry\", \"syrup\", \"place\", \"live\", \"powder\", \"ginger\", \"considering\", \"outstanding\", \"expected\", \"reviewer\", \"lab\", \"call\", \"plan\", \"hint\", \"smoothy\", \"shopping\", \"powdered\", \"oily\", \"nutrition\", \"will\", \"greasy\", \"chance\", \"remind\", \"provides\", \"totally\", \"craving\", \"interesting\", \"beef\", \"miss\", \"msg\", \"dairy\", \"carry\", \"quality\", \"dog\", \"cheaper\", \"deal\", \"cat\", \"size\", \"cooky\", \"value\", \"save\", \"week\", \"able\", \"son\", \"wanted\", \"sauce\", \"vet\", \"daughter\", \"stock\", \"pet\", \"new\", \"large\", \"pricey\", \"second\", \"liked\", \"baby\", \"probably\", \"dented\", \"seller\", \"complaint\", \"packaging\", \"fantastic\", \"strong\", \"tea\", \"different\"], \"Freq\": [54.0, 42.0, 41.0, 35.0, 30.0, 29.0, 18.0, 134.0, 18.0, 20.0, 54.0, 40.0, 11.0, 32.0, 42.0, 12.0, 37.0, 11.0, 11.0, 29.0, 16.0, 15.0, 15.0, 9.0, 26.0, 10.0, 80.0, 11.0, 35.0, 43.0, 7.506304133178778, 6.888488581826517, 6.550402132349882, 6.282480920465589, 5.606234507528121, 5.556096627584825, 4.868465281825376, 4.357843525520934, 3.9246377011405604, 3.7955857481249335, 3.711237011106739, 3.6009895324322665, 3.230717720769512, 3.171541648933544, 2.9924434566946476, 2.883745813933581, 2.8644344623497924, 2.76850257329652, 2.5769016328595007, 2.5449942139560977, 2.535363882026335, 2.473737176210332, 2.4415566813884633, 2.3815434229014163, 2.354646703733646, 2.2406328921701935, 2.13903153080601, 2.1064018957519264, 1.9375671284756455, 1.8451508191323807, 1.8668119327681176, 1.913983909481415, 18.095976742890496, 11.496687329130648, 11.279733513731317, 11.216094574354393, 6.6192265110282795, 5.849604826146011, 5.804808299757355, 5.742301959621567, 5.295490897686459, 5.222594535629371, 4.645706500903063, 4.542740047821904, 4.404333687151078, 4.371721971126952, 4.330419352479049, 4.20087274826982, 3.980611072961484, 3.974858138941411, 3.8567402502354655, 3.563006214073411, 3.535870564679934, 3.0868824785904, 3.0443394675855737, 2.989157548427828, 2.949519881525407, 2.915419341975664, 2.9002919338552147, 2.8875996802339507, 2.5841748445703847, 2.432267230820341, 9.13126285188938, 13.619924261830665, 2.9955270414353383, 29.41933287232197, 26.301461307344212, 23.20598150272858, 22.1518939103179, 21.375306360793125, 21.33978519993373, 20.88562347972799, 20.713751414607298, 18.960544262241953, 18.530298269916244, 18.006828360761382, 17.978038954581514, 17.529944004643312, 16.863459336090507, 16.643870058885074, 16.16242996677111, 15.831026309004997, 15.704256784683018, 15.660891609965539, 15.661399239881334, 15.648852913236386, 15.267146471903596, 14.82247128783125, 14.836945745939804, 14.554759556824859, 13.917826278210876, 13.911722863745595, 13.457972851879207, 13.12161252748307, 13.021767866338145, 38.152468611198465, 34.65995970174078, 22.280995730049177, 29.368962189212414, 18.488722194265048, 21.97689199960173, 21.796578835753845, 19.76959425988509, 19.491436776980848, 30.576595436790114, 37.253870971976234, 23.37266086947496, 23.30035971178664, 19.133297943649524, 16.591147680496825, 17.15346906142362, 11.168634663488787, 8.97864778606734, 7.79407684121295, 6.651751172482655, 5.514034301432619, 5.417616718277387, 4.878353185811725, 4.477683057817486, 4.343566521793219, 3.9535693989532668, 3.729516216095217, 3.676877499144129, 3.402432933546516, 3.359806179507653, 3.3177957932615456, 3.0844485798523684, 2.9710159648372074, 2.8717390424168836, 2.7569951625107922, 2.6198629266488664, 2.5227146719341014, 2.2996511328338993, 2.150014762924883, 2.13840725903611, 2.122383790539273, 2.063001849386635, 1.9827513561023724, 1.962070576265483, 1.8629090046693415, 1.866843148361268, 3.4409398657135286, 1.9691797470302854, 42.3810615254712, 35.326209332129714, 30.463766935240326, 29.93750372272422, 29.46235896418415, 26.52908955744632, 25.806040898797463, 25.7797817993046, 25.520253294501558, 20.502963740637195, 19.968801758264735, 19.641755281752076, 19.60214600464591, 18.97920103086546, 18.109667157507253, 17.836123669266886, 17.693640439506954, 17.621271576949557, 17.395249285677025, 17.097951043399547, 17.077299690615654, 17.0251336195499, 52.87851497567383, 16.471746329413858, 16.150411338540952, 15.920036395510724, 15.76700393926857, 15.52081538429692, 15.233322662645783, 15.00759551593688, 41.71549007892174, 22.445048574891718, 47.08991770478371, 21.00833451693872, 49.835492702393275, 96.91327149116393, 28.77969835517817, 23.73080349410648, 36.80301337293856, 33.39293354032136, 45.68891321680653, 26.578466366274597, 49.30356622092356, 23.35833397702882, 34.69184723151657, 47.615339316959954, 49.24602179768591, 32.52574913457858, 33.477622496742754, 30.734470022333678, 33.29522023419601, 32.22063394470001, 27.646065619615754, 28.69292585347095, 29.335604601886974, 28.283297343609934, 26.459789029461316, 54.24329175527862, 8.3909837401494, 7.439253756479846, 5.896390623043773, 5.892677984885572, 5.588775948671453, 5.751242738003295, 5.358768533208868, 5.332752654950687, 4.7739026509795615, 4.546096665477885, 4.301615263683216, 4.262373280497614, 4.198799632055156, 3.983933956531903, 3.8493115040234462, 3.850471759618275, 3.8295624439393494, 3.6619922375701432, 3.45812539863358, 3.421518031463657, 3.3495734220032776, 3.338851842466166, 3.239580787186677, 3.2065728186668623, 3.0603403957185145, 2.9677399113830374, 2.832664276160644, 2.8259164147587272, 2.8523697480213874, 5.932658271689417, 5.51864699092715, 20.595645836412427, 3.9370752683376447, 3.5813187493609058, 6.770876617217815, 6.097672066498042, 5.070521688046336, 4.76073379216843, 3.961333940135789, 3.2105078131425766, 2.974471488077206, 2.841735028716612, 2.455072351217685, 2.444628285612188, 2.3057503319099273, 2.1228931959807382, 2.0800289524564666, 1.9153229909577136, 1.674768848557832, 1.6653472363490927, 1.5028609221919218, 1.4154537369826392, 1.4041174439268074, 1.3842791384452586, 1.2058271509054268, 1.1764656237983435, 1.1647553804398847, 1.11694586881004, 1.050310758886038, 1.0411157287645465, 0.9553537175206664, 0.9486989228190539, 0.9458963000888658, 0.9421024671295333, 6.653802661918751, 41.17019929019901, 35.436713553203774, 29.995107480590637, 28.789224354102167, 19.962944204945035, 16.024447505079554, 15.076795284938171, 15.104433958887938, 13.628720008907923, 13.035509481774728, 11.924100763590381, 11.082463539340962, 10.971559787983805, 10.708603282452218, 10.505644779874943, 10.438469878221929, 10.258668690417993, 10.084563140049235, 9.590001844354072, 9.26777610058861, 8.759932894818915, 8.684763335411835, 7.862501166701458, 7.863846464397736, 7.813929541938498, 7.77493617967829, 7.72264459171548, 7.554814625197825, 7.413345769510796, 7.160872796633333, 12.09409180920779, 21.826794091961652, 7.986023325924988], \"Total\": [54.0, 42.0, 41.0, 35.0, 30.0, 29.0, 18.0, 134.0, 18.0, 20.0, 54.0, 40.0, 11.0, 32.0, 42.0, 12.0, 37.0, 11.0, 11.0, 29.0, 16.0, 15.0, 15.0, 9.0, 26.0, 10.0, 80.0, 11.0, 35.0, 43.0, 8.067265396256845, 7.4386331515129065, 7.099922382884822, 6.838138494447417, 6.155206949139418, 6.111822391900042, 5.417653596438497, 4.906458713684224, 4.473419423663837, 4.344154674043731, 4.259579127562493, 4.149634905547652, 3.781777533700278, 3.718618243815654, 3.5417674022871664, 3.434012727386588, 3.4127565429391207, 3.318469881655572, 3.1289485251887683, 3.096627266867875, 3.090337199868617, 3.023168684985426, 2.9894806013103055, 2.9316419202176682, 2.903277570392782, 2.7910184762282517, 2.6896709627770408, 2.6544185136897362, 2.4954706631203303, 2.3932390005367643, 2.424015197851041, 3.040289727185193, 18.63967616521001, 12.037971820978177, 11.823154016980691, 11.757813693997523, 7.158671641540379, 6.3909696098718465, 6.34678515973034, 6.2827490388794835, 5.837690210208331, 5.7667325363964395, 5.187496304207077, 5.084712482374633, 4.9483628279408425, 4.913029363755383, 4.876271880887097, 4.7449806753313775, 4.5217189144117995, 4.515548745665583, 4.397717903111604, 4.10283805265084, 4.077350149499056, 3.627124847945977, 3.585183424224182, 3.537645718414892, 3.4908705028263975, 3.457155166386824, 3.44048811651396, 3.4277058367204147, 3.128517452318717, 2.97399558428424, 11.58384648514512, 18.032284609450336, 5.367472196817983, 29.923697940200498, 26.805589320109068, 23.710723302480268, 22.655561881541608, 21.879735926079384, 21.8450035304772, 21.389458384684687, 21.217576165232227, 19.465628280626422, 19.034810139201454, 18.510292372274836, 18.48190656237388, 18.033927135906232, 17.368528050358666, 17.14930802920888, 16.666241606271665, 16.334850268832835, 16.208170420119412, 16.1648146253873, 16.165506033888313, 16.15319961281724, 15.772927095492413, 15.326095083910666, 15.342234998838665, 15.058874737191989, 14.422174288643674, 14.419310153853436, 13.962042626367687, 13.62533385942037, 13.525602606163753, 40.853973936219816, 37.012513171362585, 23.58383621507575, 32.55247311462904, 19.804303950403543, 24.72672297298456, 24.49267407470217, 22.10952114996755, 23.898306042532603, 80.22553477873824, 134.57032944067356, 71.3909407437994, 73.00680769627347, 52.831367311769334, 23.820620627358338, 49.77691651907005, 11.716780160615555, 9.5259384793586, 8.342520137110904, 7.199846099035447, 6.062911876090927, 5.97141362035059, 5.427635028776958, 5.023815206220672, 4.890700833829881, 4.50406776018446, 4.278233911362332, 4.225032372965813, 3.9559194438482903, 3.9070361915088534, 3.8664882535947007, 3.635781294862927, 3.5199590326506502, 3.4245334828327674, 3.3087714481063686, 3.1708728530343926, 3.072449724135295, 2.8467332069446143, 2.7003622024756173, 2.6858468823827852, 2.6697650203340246, 2.6100923185361258, 2.532939712024778, 2.5213389852672425, 2.410761392610367, 2.422252913656166, 6.756862054740704, 11.58384648514512, 42.889334999516166, 35.834085638457516, 30.971541630504976, 30.446326193756686, 29.971729800994787, 27.03691180404617, 26.314014994979924, 26.288038999308917, 26.02853978529956, 21.010621317455534, 20.47699428402921, 20.149444274691803, 20.109772138024628, 19.48694762757433, 18.617489499493136, 18.34375051333039, 18.2015241022106, 18.128958755430656, 17.903027902163217, 17.605698717045033, 17.585070091752925, 17.53328127468295, 54.46018091137383, 16.979482730377335, 16.658175762263326, 16.428109266963638, 16.27456117397381, 16.02864855273697, 15.741163848057854, 15.515410749584852, 43.86640294844929, 23.750895806925676, 54.418118593791604, 22.406312168943078, 60.995376572030175, 134.57032944067356, 32.887895766317776, 26.29383757224377, 45.55767588940771, 41.265362980583525, 62.35728330759536, 31.07890182370517, 73.00680769627347, 26.525427320653066, 45.93287754939099, 71.3909407437994, 80.22553477873824, 44.386446830767156, 47.18206476174287, 43.069470810629845, 52.831367311769334, 49.77691651907005, 38.53128120801362, 42.38964473153286, 45.11259879804361, 43.93101149456526, 38.257190973903896, 54.78503554211622, 8.932304624963699, 7.979876394004098, 6.436066110434154, 6.434834568581129, 6.128761882503871, 6.307096441114983, 5.901250566370642, 5.8773978066415875, 5.31454678504419, 5.090428359606093, 4.841157064773303, 4.804065951133118, 4.740837328636438, 4.530055263497012, 4.389093389284733, 4.3925964373333635, 4.371020704441142, 4.202893673259019, 3.999355478492664, 3.965753517533531, 3.891190992307875, 3.879751936321752, 3.782105982388277, 3.752886289483527, 3.601393913125909, 3.511148319578104, 3.3741835431654463, 3.367986108410523, 3.401294836750231, 7.374499241613427, 7.834841060525525, 42.87716908134507, 18.032284609450336, 10.724414331576623, 7.326244921927221, 6.655831338217112, 5.628042433124819, 5.317547736010572, 4.516017057994908, 3.7675889006581116, 3.533073401431979, 3.397335246976267, 3.012820350754808, 3.000668083293649, 2.8653122865535474, 2.6800741817969342, 2.634016114276818, 2.4710458731102465, 2.233050785526248, 2.221422233550131, 2.05770270027736, 1.972128500499674, 1.9589256018316077, 1.9392946811846463, 1.7644448182710533, 1.7344554602828117, 1.7193426355297254, 1.6749015459601406, 1.6054106166431337, 1.6109876966692211, 1.5119518386277446, 1.5027085039660628, 1.5000751410076951, 1.4962642857935093, 10.724414331576623, 41.697077389211984, 35.96021781899764, 30.52038320112609, 29.31566985177623, 20.48632852611956, 16.549124834486147, 15.600073428895627, 15.631407015086124, 14.153670482583212, 13.560109244400604, 12.44835961046073, 11.606084542511885, 11.495285086374452, 11.231483917445416, 11.029876084618378, 10.96181217892935, 10.783118503664173, 10.608067136995613, 10.114083622808087, 9.79201566576641, 9.283941884048923, 9.209680118915804, 8.385762204139429, 8.38742005212173, 8.33827485975161, 8.299154122564845, 8.24735729189129, 8.07870532886511, 7.936998442320898, 7.684169053638223, 13.674288104554217, 42.87716908134507, 10.58044907855271], \"Category\": [\"Default\", \"Default\", \"Default\", \"Default\", \"Default\", \"Default\", \"Default\", \"Default\", \"Default\", \"Default\", \"Default\", \"Default\", \"Default\", \"Default\", \"Default\", \"Default\", \"Default\", \"Default\", \"Default\", \"Default\", \"Default\", \"Default\", \"Default\", \"Default\", \"Default\", \"Default\", \"Default\", \"Default\", \"Default\", \"Default\", \"Topic1\", \"Topic1\", \"Topic1\", \"Topic1\", \"Topic1\", \"Topic1\", \"Topic1\", \"Topic1\", \"Topic1\", \"Topic1\", \"Topic1\", \"Topic1\", \"Topic1\", \"Topic1\", \"Topic1\", \"Topic1\", \"Topic1\", \"Topic1\", \"Topic1\", \"Topic1\", \"Topic1\", \"Topic1\", \"Topic1\", \"Topic1\", \"Topic1\", \"Topic1\", \"Topic1\", \"Topic1\", \"Topic1\", \"Topic1\", \"Topic1\", \"Topic1\", \"Topic2\", \"Topic2\", \"Topic2\", \"Topic2\", \"Topic2\", \"Topic2\", \"Topic2\", \"Topic2\", \"Topic2\", \"Topic2\", \"Topic2\", \"Topic2\", \"Topic2\", \"Topic2\", \"Topic2\", \"Topic2\", \"Topic2\", \"Topic2\", \"Topic2\", \"Topic2\", \"Topic2\", \"Topic2\", \"Topic2\", \"Topic2\", \"Topic2\", \"Topic2\", \"Topic2\", \"Topic2\", \"Topic2\", \"Topic2\", \"Topic2\", \"Topic2\", \"Topic2\", \"Topic3\", \"Topic3\", \"Topic3\", \"Topic3\", \"Topic3\", \"Topic3\", \"Topic3\", \"Topic3\", \"Topic3\", \"Topic3\", \"Topic3\", \"Topic3\", \"Topic3\", \"Topic3\", \"Topic3\", \"Topic3\", \"Topic3\", \"Topic3\", \"Topic3\", \"Topic3\", \"Topic3\", \"Topic3\", \"Topic3\", \"Topic3\", \"Topic3\", \"Topic3\", \"Topic3\", \"Topic3\", \"Topic3\", \"Topic3\", \"Topic3\", \"Topic3\", \"Topic3\", \"Topic3\", \"Topic3\", \"Topic3\", \"Topic3\", \"Topic3\", \"Topic3\", \"Topic3\", \"Topic3\", \"Topic3\", \"Topic3\", \"Topic3\", \"Topic3\", \"Topic3\", \"Topic4\", \"Topic4\", \"Topic4\", \"Topic4\", \"Topic4\", \"Topic4\", \"Topic4\", \"Topic4\", \"Topic4\", \"Topic4\", \"Topic4\", \"Topic4\", \"Topic4\", \"Topic4\", \"Topic4\", \"Topic4\", \"Topic4\", \"Topic4\", \"Topic4\", \"Topic4\", \"Topic4\", \"Topic4\", \"Topic4\", \"Topic4\", \"Topic4\", \"Topic4\", \"Topic4\", \"Topic4\", \"Topic4\", \"Topic4\", \"Topic4\", \"Topic4\", \"Topic5\", \"Topic5\", \"Topic5\", \"Topic5\", \"Topic5\", \"Topic5\", \"Topic5\", \"Topic5\", \"Topic5\", \"Topic5\", \"Topic5\", \"Topic5\", \"Topic5\", \"Topic5\", \"Topic5\", \"Topic5\", \"Topic5\", \"Topic5\", \"Topic5\", \"Topic5\", \"Topic5\", \"Topic5\", \"Topic5\", \"Topic5\", \"Topic5\", \"Topic5\", \"Topic5\", \"Topic5\", \"Topic5\", \"Topic5\", \"Topic5\", \"Topic5\", \"Topic5\", \"Topic5\", \"Topic5\", \"Topic5\", \"Topic5\", \"Topic5\", \"Topic5\", \"Topic5\", \"Topic5\", \"Topic5\", \"Topic5\", \"Topic5\", \"Topic5\", \"Topic5\", \"Topic5\", \"Topic5\", \"Topic5\", \"Topic5\", \"Topic5\", \"Topic5\", \"Topic5\", \"Topic5\", \"Topic5\", \"Topic5\", \"Topic5\", \"Topic6\", \"Topic6\", \"Topic6\", \"Topic6\", \"Topic6\", \"Topic6\", \"Topic6\", \"Topic6\", \"Topic6\", \"Topic6\", \"Topic6\", \"Topic6\", \"Topic6\", \"Topic6\", \"Topic6\", \"Topic6\", \"Topic6\", \"Topic6\", \"Topic6\", \"Topic6\", \"Topic6\", \"Topic6\", \"Topic6\", \"Topic6\", \"Topic6\", \"Topic6\", \"Topic6\", \"Topic6\", \"Topic6\", \"Topic6\", \"Topic6\", \"Topic6\", \"Topic6\", \"Topic6\", \"Topic6\", \"Topic7\", \"Topic7\", \"Topic7\", \"Topic7\", \"Topic7\", \"Topic7\", \"Topic7\", \"Topic7\", \"Topic7\", \"Topic7\", \"Topic7\", \"Topic7\", \"Topic7\", \"Topic7\", \"Topic7\", \"Topic7\", \"Topic7\", \"Topic7\", \"Topic7\", \"Topic7\", \"Topic7\", \"Topic7\", \"Topic7\", \"Topic7\", \"Topic7\", \"Topic7\", \"Topic7\", \"Topic7\", \"Topic7\", \"Topic7\", \"Topic7\", \"Topic8\", \"Topic8\", \"Topic8\", \"Topic8\", \"Topic8\", \"Topic8\", \"Topic8\", \"Topic8\", \"Topic8\", \"Topic8\", \"Topic8\", \"Topic8\", \"Topic8\", \"Topic8\", \"Topic8\", \"Topic8\", \"Topic8\", \"Topic8\", \"Topic8\", \"Topic8\", \"Topic8\", \"Topic8\", \"Topic8\", \"Topic8\", \"Topic8\", \"Topic8\", \"Topic8\", \"Topic8\", \"Topic8\", \"Topic8\", \"Topic8\", \"Topic8\", \"Topic8\"], \"logprob\": [30.0, 29.0, 28.0, 27.0, 26.0, 25.0, 24.0, 23.0, 22.0, 21.0, 20.0, 19.0, 18.0, 17.0, 16.0, 15.0, 14.0, 13.0, 12.0, 11.0, 10.0, 9.0, 8.0, 7.0, 6.0, 5.0, 4.0, 3.0, 2.0, 1.0, -4.5647, -4.6506, -4.7009, -4.7427, -4.8566, -4.8656, -4.9977, -5.1085, -5.2132, -5.2466, -5.2691, -5.2992, -5.4078, -5.4262, -5.4844, -5.5214, -5.5281, -5.5621, -5.6339, -5.6463, -5.6501, -5.6747, -5.6878, -5.7127, -5.7241, -5.7737, -5.8201, -5.8355, -5.919, -5.9679, -5.9562, -5.9313, -3.9574, -4.411, -4.43, -4.4357, -4.9631, -5.0867, -5.0944, -5.1052, -5.1862, -5.2001, -5.3171, -5.3395, -5.3705, -5.3779, -5.3874, -5.4178, -5.4716, -5.4731, -5.5032, -5.5824, -5.5901, -5.7259, -5.7398, -5.7581, -5.7714, -5.783, -5.7882, -5.7926, -5.9036, -5.9642, -4.6413, -4.2415, -5.7559, -5.0584, -5.1705, -5.2957, -5.3422, -5.3779, -5.3795, -5.401, -5.4093, -5.4977, -5.5207, -5.5493, -5.5509, -5.5762, -5.6149, -5.6281, -5.6574, -5.6781, -5.6862, -5.6889, -5.6889, -5.6897, -5.7144, -5.7439, -5.743, -5.7622, -5.8069, -5.8074, -5.8405, -5.8658, -5.8735, -4.7985, -4.8945, -5.3364, -5.0602, -5.5229, -5.3501, -5.3583, -5.4559, -5.4701, -5.0199, -4.8223, -5.2885, -5.2916, -5.4887, -5.6312, -5.5979, -4.2063, -4.4246, -4.5661, -4.7245, -4.9121, -4.9298, -5.0346, -5.1203, -5.1507, -5.2448, -5.3031, -5.3174, -5.3949, -5.4075, -5.4201, -5.4931, -5.5305, -5.5645, -5.6053, -5.6563, -5.6941, -5.7867, -5.8539, -5.8594, -5.8669, -5.8953, -5.9349, -5.9454, -5.9973, -5.9952, -5.3837, -5.9418, -4.9977, -5.1798, -5.3279, -5.3453, -5.3613, -5.4662, -5.4938, -5.4948, -5.5049, -5.7238, -5.7502, -5.7667, -5.7688, -5.8011, -5.848, -5.8632, -5.8712, -5.8753, -5.8882, -5.9054, -5.9066, -5.9097, -4.7764, -5.9428, -5.9625, -5.9768, -5.9865, -6.0022, -6.0209, -6.0358, -5.0135, -5.6333, -4.8923, -5.6995, -4.8357, -4.1706, -5.3847, -5.5776, -5.1388, -5.2361, -4.9225, -5.4643, -4.8464, -5.5934, -5.1979, -4.8812, -4.8476, -5.2624, -5.2335, -5.319, -5.239, -5.2718, -5.4249, -5.3877, -5.3656, -5.4021, -5.4688, -2.8786, -4.745, -4.8654, -5.0978, -5.0984, -5.1514, -5.1227, -5.1934, -5.1983, -5.309, -5.3579, -5.4131, -5.4223, -5.4373, -5.4899, -5.5242, -5.5239, -5.5294, -5.5741, -5.6314, -5.642, -5.6633, -5.6665, -5.6967, -5.7069, -5.7536, -5.7843, -5.8309, -5.8333, -5.824, -5.0917, -5.164, -3.847, -5.5017, -5.5964, -4.4738, -4.5786, -4.763, -4.8261, -5.0099, -5.22, -5.2964, -5.3421, -5.4883, -5.4926, -5.5511, -5.6337, -5.6541, -5.7366, -5.8708, -5.8764, -5.9791, -6.039, -6.0471, -6.0613, -6.1993, -6.224, -6.234, -6.2759, -6.3374, -6.3462, -6.4321, -6.4391, -6.4421, -6.4461, -4.4913, -3.9431, -4.0931, -4.2598, -4.3008, -4.6669, -4.8867, -4.9477, -4.9458, -5.0486, -5.0931, -5.1823, -5.2555, -5.2655, -5.2898, -5.3089, -5.3153, -5.3327, -5.3498, -5.4001, -5.4343, -5.4906, -5.4992, -5.5987, -5.5985, -5.6049, -5.6099, -5.6167, -5.6386, -5.6575, -5.6922, -5.1681, -4.5777, -5.5831], \"loglift\": [30.0, 29.0, 28.0, 27.0, 26.0, 25.0, 24.0, 23.0, 22.0, 21.0, 20.0, 19.0, 18.0, 17.0, 16.0, 15.0, 14.0, 13.0, 12.0, 11.0, 10.0, 9.0, 8.0, 7.0, 6.0, 5.0, 4.0, 3.0, 2.0, 1.0, 3.0887, 3.0839, 3.0802, 3.076, 3.0673, 3.0654, 3.0539, 3.0422, 3.0299, 3.0257, 3.0229, 3.0189, 3.0032, 3.0016, 2.9922, 2.9861, 2.9856, 2.9795, 2.9666, 2.9646, 2.9628, 2.9602, 2.9583, 2.9529, 2.9513, 2.9411, 2.9317, 2.9295, 2.9077, 2.9006, 2.8995, 2.698, 2.8585, 2.8421, 2.8411, 2.841, 2.8098, 2.7996, 2.7989, 2.7982, 2.7907, 2.789, 2.7778, 2.7754, 2.7717, 2.7714, 2.7694, 2.7663, 2.7607, 2.7606, 2.7569, 2.7471, 2.7457, 2.7269, 2.7246, 2.7197, 2.7196, 2.7177, 2.7173, 2.7167, 2.697, 2.6871, 2.6502, 2.6075, 2.3049, 1.2841, 1.2821, 1.2796, 1.2786, 1.2778, 1.2777, 1.2773, 1.2771, 1.2748, 1.2742, 1.2735, 1.2735, 1.2728, 1.2716, 1.2712, 1.2704, 1.2698, 1.2695, 1.2694, 1.2694, 1.2694, 1.2685, 1.2677, 1.2676, 1.267, 1.2655, 1.2653, 1.2643, 1.2634, 1.2631, 1.2327, 1.2354, 1.2443, 1.1982, 1.2324, 1.1832, 1.1845, 1.1892, 1.0973, 0.3365, 0.0168, 0.1845, 0.159, 0.2854, 0.9394, 0.2357, 3.0739, 3.0626, 3.0538, 3.0426, 3.0269, 3.0244, 3.0151, 3.0067, 3.0031, 2.9914, 2.9845, 2.9828, 2.971, 2.9709, 2.9687, 2.9573, 2.9522, 2.9457, 2.9393, 2.9309, 2.9246, 2.9084, 2.8939, 2.8938, 2.8923, 2.8865, 2.8769, 2.871, 2.864, 2.8613, 2.447, 1.3498, 0.9849, 0.9825, 0.9803, 0.9799, 0.9797, 0.9778, 0.9773, 0.9773, 0.9771, 0.9723, 0.9717, 0.9713, 0.9712, 0.9704, 0.9691, 0.9687, 0.9685, 0.9684, 0.968, 0.9675, 0.9675, 0.9674, 0.9673, 0.9664, 0.9658, 0.9654, 0.9651, 0.9646, 0.964, 0.9635, 0.9465, 0.9402, 0.8522, 0.9324, 0.7947, 0.6685, 0.8634, 0.8942, 0.7834, 0.7851, 0.6858, 0.8404, 0.6042, 0.8696, 0.7161, 0.5918, 0.5088, 0.6859, 0.6537, 0.6594, 0.5351, 0.5619, 0.6648, 0.6065, 0.5664, 0.5564, 0.6281, 2.8591, 2.8065, 2.7989, 2.7815, 2.781, 2.7768, 2.7768, 2.7726, 2.7718, 2.7618, 2.756, 2.7509, 2.7494, 2.7476, 2.7406, 2.7378, 2.7373, 2.7368, 2.7313, 2.7237, 2.7215, 2.7192, 2.7189, 2.7142, 2.7117, 2.7063, 2.7009, 2.6941, 2.6936, 2.6931, 2.6515, 2.5186, 2.1358, 1.3473, 1.7723, 3.2759, 3.2671, 3.2504, 3.2441, 3.2237, 3.1947, 3.1826, 3.1762, 3.15, 3.1498, 3.1375, 3.1217, 3.1186, 3.1, 3.067, 3.0666, 3.0405, 3.0231, 3.0217, 3.0176, 2.9741, 2.9665, 2.9653, 2.9496, 2.9304, 2.9182, 2.8957, 2.8948, 2.8936, 2.8921, 2.8774, 2.0677, 2.0657, 2.063, 2.0623, 2.0545, 2.0482, 2.0463, 2.0461, 2.0426, 2.0409, 2.0373, 2.0342, 2.0337, 2.0327, 2.0317, 2.0315, 2.0305, 2.0298, 2.0272, 2.0254, 2.0223, 2.0217, 2.0159, 2.0159, 2.0154, 2.0151, 2.0146, 2.0133, 2.0121, 2.0098, 1.9576, 1.4052, 1.7991]}, \"token.table\": {\"Topic\": [3, 5, 8, 1, 1, 2, 5, 3, 5, 3, 5, 6, 5, 6, 6, 8, 3, 5, 2, 1, 3, 1, 5, 5, 6, 7, 6, 5, 8, 3, 5, 3, 6, 4, 4, 3, 5, 3, 8, 3, 5, 1, 6, 3, 4, 3, 5, 5, 7, 3, 8, 5, 6, 4, 6, 7, 8, 6, 3, 7, 2, 8, 2, 1, 1, 2, 6, 6, 3, 4, 1, 8, 7, 1, 4, 4, 8, 5, 5, 2, 3, 7, 3, 5, 6, 7, 8, 8, 6, 1, 3, 2, 8, 1, 6, 8, 1, 4, 8, 6, 6, 6, 1, 4, 5, 3, 8, 7, 5, 8, 8, 5, 2, 1, 3, 8, 3, 5, 4, 3, 5, 2, 3, 5, 8, 3, 5, 4, 4, 1, 4, 4, 3, 5, 3, 3, 7, 5, 6, 3, 5, 5, 2, 7, 3, 5, 6, 5, 5, 6, 1, 5, 7, 3, 1, 6, 6, 1, 6, 7, 3, 5, 4, 2, 6, 3, 7, 8, 5, 3, 5, 8, 2, 7, 5, 5, 3, 3, 5, 3, 1, 2, 4, 4, 2, 7, 5, 1, 3, 3, 7, 3, 5, 4, 6, 3, 8, 4, 7, 4, 2, 4, 2, 7, 3, 5, 5, 3, 8, 5, 1, 7, 5, 2, 4, 3, 8, 6, 4, 2, 3, 4, 3, 3, 8, 7, 7, 3, 4, 7, 7, 1, 3, 5, 3, 8, 2, 8, 5, 1, 3, 5, 7, 5, 2, 6, 5, 8, 1, 1, 3, 5, 3, 5, 1, 6, 7, 2, 2, 7, 2, 5, 8, 8, 2, 4, 8, 8, 3, 6, 2, 3, 7, 2, 4, 8, 2, 4, 7, 8, 1, 3, 4, 6, 6, 1, 8, 3, 5, 2, 8, 6, 1, 6, 2, 6, 7, 3, 5, 4, 3, 6, 8, 3, 5, 2, 3, 8, 4, 6, 3, 5, 2, 1, 3, 7, 1, 4, 3, 8, 1, 6, 2, 3, 2, 5, 3, 8, 8, 2, 8, 3, 8, 8, 2, 1, 7, 2, 6], \"Freq\": [0.12870467633283728, 0.8687565652466516, 0.9639824342731904, 0.9207775275360128, 0.9687959645961491, 0.9656820129523531, 0.9529155623299546, 0.11309902621867125, 0.8670925343431464, 0.18034153764113528, 0.8197342620051603, 0.8507166206020446, 0.9889281743067811, 0.8820170388011266, 0.8437328097799301, 0.9538093895722171, 0.1696337919841803, 0.7997021622111357, 0.8083481626315013, 0.9747844466608684, 0.9724319658484074, 0.9229087668667008, 0.9986347625677927, 0.9890429636338988, 0.8907400159722781, 0.6613967286865468, 0.7732453129063164, 0.9574525645368588, 0.04559297926365995, 0.2875276443454343, 0.679610795725572, 0.9700252373825339, 0.7709721794510767, 0.7025596902164888, 0.85228264652299, 0.9710639760351422, 0.9767236801610373, 0.9301420728207404, 0.0489548459379337, 0.2595293923919724, 0.7266822986975229, 0.9410330980734417, 0.9113499406882883, 0.979500866961007, 0.7962076302183755, 0.17560158291261788, 0.8121573209708576, 0.9675784545154102, 0.6980041963962115, 0.9045876599651891, 0.0904587659965189, 0.9750116007452448, 0.9513093792076701, 0.9212115356854936, 0.3729807406100049, 0.6527162960675086, 0.9762608255793856, 0.8544213251465483, 0.989745474999696, 0.5667505096474944, 0.8593844995312881, 0.9829496504779504, 0.9549959679863465, 0.9390599118389815, 0.8941705709150574, 0.558922317618804, 0.372614878412536, 0.9856706209214244, 0.9613182241285387, 0.8880861063769128, 0.9817039199227648, 0.990257680449874, 0.79626521871215, 0.9040311068013405, 0.7932293165204898, 0.7583572018042969, 0.9615339356169872, 0.9853405566597322, 0.9994944786593859, 0.8565031407895768, 0.9787228852408073, 0.6228936009473829, 0.7136673836480669, 0.2938630403256746, 0.756476666221512, 0.6683311293964843, 0.9122579220269681, 0.9892320437031697, 0.8326280364774207, 0.8736135355803157, 0.977693276184039, 0.9388246801756133, 0.9639536610422181, 0.8356875345719473, 0.18902789334850975, 0.756111573394039, 0.8470347313216251, 0.9349652410020439, 0.9732977752295382, 0.8330107931448365, 0.7993847318014159, 0.8829914354978903, 0.7534606881640261, 0.7406413843914922, 0.9604893253825352, 0.8897256633657573, 0.08088415121506885, 0.883045028502881, 0.9127614002352709, 0.0760634500196059, 0.9109638206990919, 0.9928865878525966, 0.9137751910027454, 0.9639402239103964, 0.898227769368932, 0.08165706994263018, 0.1286336275653346, 0.8636829279386753, 0.7895963691931864, 0.3325013499477335, 0.6428359432322848, 0.9355480777532311, 0.1483614597061018, 0.6994183100430512, 0.12716696546237297, 0.12162529425481244, 0.8817833833473903, 0.8251321398893723, 0.9066809379405518, 0.7435853781664926, 0.9722430040466808, 0.9467383079936383, 0.2786196294995646, 0.7197673762072085, 0.9905158348507203, 0.9509965974728115, 0.8857362469255116, 0.9668328267616347, 0.9106231489884604, 0.3221697285449715, 0.6723542160938536, 0.9989035195391299, 0.97493489839688, 0.5156513910454988, 0.3864106370309391, 0.610778103694065, 0.8772065699237703, 0.9767058447439605, 0.992583206134399, 0.7501208672580123, 0.9587885437709497, 0.9695846278669483, 0.7592967974492099, 0.9600244841031854, 0.8774317754564364, 0.8956255228512778, 0.8262487555105399, 0.6822115573553759, 0.9789905555196303, 0.6207372049256108, 0.04463028063074472, 0.9372358932456392, 0.9447888015970041, 0.8719692957520574, 0.7932088666922014, 0.9981712379085009, 0.6665182367670345, 0.9191161766075034, 0.9495600460939848, 0.359634833750883, 0.6246289217778495, 0.9539979557315605, 0.8141616310109963, 0.8884083692353905, 0.9686311504252643, 0.9831294268989023, 0.9691315578025679, 0.2565859054679365, 0.7376844782203176, 0.996090362778131, 0.8014520184738237, 0.9638561083783295, 0.9388244764525907, 0.9461117298125422, 0.8752209620386684, 0.6654650568361886, 0.9655964397221779, 0.8790547940511314, 0.989761778348209, 0.9541050615073169, 0.6666332723361024, 0.23947987992199818, 0.7619814361154488, 0.8256776114188611, 0.9822356090258207, 0.9760794630456471, 0.988720320390587, 0.8760317325086878, 0.5070663497569413, 0.8296134184538291, 0.8367772705099983, 0.7758978699109921, 0.9453605012612285, 0.9719577078508075, 0.2478233962258763, 0.7434701886776289, 0.9667291578196602, 0.9456261410284424, 0.05403577948733957, 0.9945413534638184, 0.9916619333872349, 0.8491190697549842, 0.9880666255210453, 0.7769439979666003, 0.1726542217703556, 0.9898041128706508, 0.8819454924767623, 0.9324249032439369, 0.9589428456291959, 0.9778350440576659, 0.9912936411804736, 0.7678454595634124, 0.9871564516707569, 0.9739254951458871, 0.9426788000921505, 0.9014651506489663, 0.7462480007396816, 0.9611401708694125, 0.7446440871661578, 0.9402830492973048, 0.9003241120908976, 0.8067512724623531, 0.2749491671290866, 0.7208126813924703, 0.9709202347838132, 0.9694158055279543, 0.8670421193358204, 0.9594310735204419, 0.9423137473661091, 0.8250773352300173, 0.3150391138273808, 0.6711702859800722, 0.5816176364939047, 0.981260619899917, 0.7763852613918315, 0.22182436039766615, 0.9982126657376813, 0.983282344162751, 0.9859262710919634, 0.6888766063554239, 0.3414444486864515, 0.6373629708813762, 0.9981187050579414, 0.9739404419579464, 0.7932777571568711, 0.8891039748198135, 0.5765498295568483, 0.8677655053404472, 0.8271013890516853, 0.6638298229427905, 0.8480216049854211, 0.9667807215739588, 0.9793897298747976, 0.9891427115833796, 0.8429960570325505, 0.9764195574735774, 0.9772326382449331, 0.9700076905684092, 0.9310958538007295, 0.8472780377253283, 0.09215889648187142, 0.8908693326580904, 0.8956356984638276, 0.8846193396168531, 0.7491295993344659, 0.9668184970517689, 0.8202988056671515, 0.8373226706252587, 0.8093738856748328, 0.9477787241431974, 0.8152519430855312, 0.9707274173647934, 0.8178786918085974, 0.9322464836513716, 0.9151180629128182, 0.6615575273496992, 0.927375507985184, 0.018362039627216026, 0.9731881002424493, 0.0731299496071719, 0.8775593952860627, 0.9517252424085975, 0.6578320421625311, 0.32891602108126555, 0.25527001563269097, 0.765810046898073, 0.9554690123789364, 0.3415237662117364, 0.6428682658103274, 0.9896234882880255, 0.9817920408417846, 0.48977114044445264, 0.5130935757037123, 0.04210367508363216, 0.9262808518399074, 0.9589206535435928, 0.9088933418249836, 0.05049407454583242, 0.44399308076670885, 0.44399308076670885, 0.3066786731130479, 0.6841293477137222, 0.9833397694228974, 0.6690125365333995, 0.9699469647733232, 0.5970500190963451, 0.9707678502292703, 0.7662564215819397, 0.7950354291297916, 0.16737587981679825, 0.13560242766818908, 0.8136145660091345, 0.9095626613907638, 0.9787818490265756, 0.6724959547918581, 0.9792644255378127, 0.9597922054886051, 0.9596065143414958, 0.9972913490243067, 0.9303777980225532, 0.956914066710575, 0.9328422992497167, 0.04240192269316895, 0.9586943412987701, 0.8858281075671142, 0.7165842924489614, 0.5104839096824269, 0.9810293090701178, 0.9408139964202847], \"Term\": [\"...\", \"...\", \"able\", \"absolutely\", \"aftertaste\", \"again\", \"almost\", \"always\", \"always\", \"amazon\", \"amazon\", \"appreciate\", \"arrived\", \"assortment\", \"away\", \"baby\", \"bag\", \"bag\", \"bake\", \"baking\", \"bar\", \"bargain\", \"bean\", \"beat\", \"become\", \"beef\", \"before\", \"best\", \"best\", \"better\", \"better\", \"big\", \"bite\", \"blueberry\", \"bold\", \"bottle\", \"bought\", \"box\", \"box\", \"brand\", \"brand\", \"bread\", \"brewing\", \"bulk\", \"butter\", \"buy\", \"buy\", \"buying\", \"call\", \"came\", \"came\", \"can\", \"canned\", \"cannot\", \"carry\", \"carry\", \"cat\", \"cent\", \"cereal\", \"chance\", \"cheap\", \"cheaper\", \"cheese\", \"chew\", \"child\", \"choice\", \"choice\", \"coffee\", \"come\", \"comparable\", \"compared\", \"complaint\", \"considering\", \"consistency\", \"contains\", \"content\", \"cooky\", \"cost\", \"could\", \"couple\", \"cracker\", \"craving\", \"cup\", \"cup\", \"customer\", \"dairy\", \"daughter\", \"deal\", \"decided\", \"deep\", \"delivered\", \"delivery\", \"dented\", \"diabetic\", \"different\", \"different\", \"difficult\", \"dinner\", \"dog\", \"dollar\", \"dried\", \"eats\", \"elsewhere\", \"enjoying\", \"ever\", \"every\", \"every\", \"expected\", \"expensive\", \"expensive\", \"fantastic\", \"far\", \"fast\", \"favor\", \"favorite\", \"favorite\", \"find\", \"find\", \"fit\", \"flavor\", \"flavor\", \"flour\", \"food\", \"food\", \"food\", \"found\", \"found\", \"freezer\", \"freshness\", \"fun\", \"gallon\", \"garlic\", \"get\", \"get\", \"getting\", \"gift\", \"ginger\", \"give\", \"given\", \"good\", \"good\", \"got\", \"granola\", \"greasy\", \"great\", \"great\", \"green\", \"half\", \"happy\", \"heat\", \"heavy\", \"high\", \"hint\", \"hot\", \"house\", \"husband\", \"iced\", \"inside\", \"instant\", \"interesting\", \"item\", \"item\", \"jar\", \"jerky\", \"job\", \"keep\", \"lab\", \"large\", \"last\", \"like\", \"like\", \"liked\", \"line\", \"live\", \"local\", \"long\", \"lot\", \"love\", \"love\", \"loved\", \"mention\", \"mild\", \"milk\", \"mind\", \"mint\", \"miss\", \"mix\", \"moist\", \"money\", \"morning\", \"msg\", \"much\", \"much\", \"near\", \"nearly\", \"need\", \"new\", \"noticed\", \"nutrition\", \"nutritious\", \"oat\", \"office\", \"often\", \"oily\", \"one\", \"one\", \"online\", \"order\", \"order\", \"ordered\", \"ounce\", \"outstanding\", \"pack\", \"package\", \"package\", \"packaged\", \"packaging\", \"packet\", \"paid\", \"pasta\", \"pay\", \"peanut\", \"per\", \"perfect\", \"pet\", \"place\", \"plan\", \"plastic\", \"potato\", \"powder\", \"powdered\", \"pretzel\", \"price\", \"price\", \"priced\", \"pricey\", \"prime\", \"probably\", \"problem\", \"produce\", \"product\", \"product\", \"provides\", \"purchase\", \"purchased\", \"purchased\", \"put\", \"quality\", \"quick\", \"raspberry\", \"really\", \"really\", \"received\", \"recipe\", \"red\", \"regularly\", \"remind\", \"reminds\", \"reorder\", \"reviewer\", \"roast\", \"sale\", \"sauce\", \"save\", \"saw\", \"searching\", \"second\", \"seller\", \"several\", \"shipped\", \"shipping\", \"shipping\", \"shopping\", \"side\", \"single\", \"size\", \"skin\", \"slightly\", \"smoothy\", \"son\", \"soon\", \"soup\", \"spicy\", \"starbucks\", \"start\", \"stick\", \"stock\", \"store\", \"store\", \"strong\", \"strong\", \"style\", \"substitute\", \"substitute\", \"super\", \"super\", \"syrup\", \"taste\", \"taste\", \"tasted\", \"tasting\", \"tea\", \"tea\", \"them\", \"them\", \"there's\", \"think\", \"think\", \"thought\", \"thought\", \"time\", \"time\", \"tired\", \"toast\", \"too\", \"totally\", \"tough\", \"traditional\", \"tried\", \"tried\", \"trying\", \"trying\", \"tuna\", \"two\", \"understand\", \"use\", \"using\", \"value\", \"vet\", \"walmart\", \"wanted\", \"water\", \"water\", \"week\", \"wheat\", \"which\", \"will\", \"wrapper\", \"wrong\"]}, \"R\": 30, \"lambda.step\": 0.01, \"plot.opts\": {\"xlab\": \"PC1\", \"ylab\": \"PC2\"}, \"topic.order\": [1, 2, 3, 4, 5, 6, 7, 8]};\n",
       "\n",
       "function LDAvis_load_lib(url, callback){\n",
       "  var s = document.createElement('script');\n",
       "  s.src = url;\n",
       "  s.async = true;\n",
       "  s.onreadystatechange = s.onload = callback;\n",
       "  s.onerror = function(){console.warn(\"failed to load library \" + url);};\n",
       "  document.getElementsByTagName(\"head\")[0].appendChild(s);\n",
       "}\n",
       "\n",
       "if(typeof(LDAvis) !== \"undefined\"){\n",
       "   // already loaded: just create the visualization\n",
       "   !function(LDAvis){\n",
       "       new LDAvis(\"#\" + \"ldavis_el12071403229406909443103157272\", ldavis_el12071403229406909443103157272_data);\n",
       "   }(LDAvis);\n",
       "}else if(typeof define === \"function\" && define.amd){\n",
       "   // require.js is available: use it to load d3/LDAvis\n",
       "   require.config({paths: {d3: \"https://d3js.org/d3.v5\"}});\n",
       "   require([\"d3\"], function(d3){\n",
       "      window.d3 = d3;\n",
       "      LDAvis_load_lib(\"https://cdn.jsdelivr.net/gh/bmabey/pyLDAvis@3.3.1/pyLDAvis/js/ldavis.v3.0.0.js\", function(){\n",
       "        new LDAvis(\"#\" + \"ldavis_el12071403229406909443103157272\", ldavis_el12071403229406909443103157272_data);\n",
       "      });\n",
       "    });\n",
       "}else{\n",
       "    // require.js not available: dynamically load d3 & LDAvis\n",
       "    LDAvis_load_lib(\"https://d3js.org/d3.v5.js\", function(){\n",
       "         LDAvis_load_lib(\"https://cdn.jsdelivr.net/gh/bmabey/pyLDAvis@3.3.1/pyLDAvis/js/ldavis.v3.0.0.js\", function(){\n",
       "                 new LDAvis(\"#\" + \"ldavis_el12071403229406909443103157272\", ldavis_el12071403229406909443103157272_data);\n",
       "            })\n",
       "         });\n",
       "}\n",
       "</script>"
      ],
      "text/plain": [
       "PreparedData(topic_coordinates=              x         y  topics  cluster       Freq\n",
       "topic                                                \n",
       "0      0.055224  0.011042       1        1   4.239451\n",
       "1      0.069268  0.013783       2        1   5.567958\n",
       "2     -0.164896 -0.202730       3        1  27.223258\n",
       "3      0.057096  0.011986       4        1   4.407913\n",
       "4     -0.262299  0.141582       5        1  36.906020\n",
       "5      0.075515  0.018922       6        1   5.675201\n",
       "6      0.048525  0.008602       7        1   3.491889\n",
       "7      0.121567 -0.003188       8        1  12.488309, topic_info=           Term       Freq      Total Category  logprob  loglift\n",
       "121      coffee  54.000000  54.000000  Default  30.0000  30.0000\n",
       "641         tea  42.000000  42.000000  Default  29.0000  29.0000\n",
       "67      quality  41.000000  41.000000  Default  28.0000  28.0000\n",
       "3           dog  35.000000  35.000000  Default  27.0000  27.0000\n",
       "120     cheaper  30.000000  30.000000  Default  26.0000  26.0000\n",
       "...         ...        ...        ...      ...      ...      ...\n",
       "1053  packaging   7.413346   7.936998   Topic8  -5.6575   2.0121\n",
       "1946  fantastic   7.160873   7.684169   Topic8  -5.6922   2.0098\n",
       "333      strong  12.094092  13.674288   Topic8  -5.1681   1.9576\n",
       "641         tea  21.826794  42.877169   Topic8  -4.5777   1.4052\n",
       "15    different   7.986023  10.580449   Topic8  -5.5831   1.7991\n",
       "\n",
       "[329 rows x 6 columns], token_table=      Topic      Freq        Term\n",
       "term                             \n",
       "155       3  0.128705         ...\n",
       "155       5  0.868757         ...\n",
       "564       8  0.963982        able\n",
       "280       1  0.920778  absolutely\n",
       "1117      1  0.968796  aftertaste\n",
       "...     ...       ...         ...\n",
       "255       2  0.885828       wheat\n",
       "1803      1  0.716584       which\n",
       "1762      7  0.510484        will\n",
       "1530      2  0.981029     wrapper\n",
       "2173      6  0.940814       wrong\n",
       "\n",
       "[339 rows x 3 columns], R=30, lambda_step=0.01, plot_opts={'xlab': 'PC1', 'ylab': 'PC2'}, topic_order=[1, 2, 3, 4, 5, 6, 7, 8])"
      ]
     },
     "execution_count": 131,
     "metadata": {},
     "output_type": "execute_result"
    }
   ],
   "source": [
    "import pyLDAvis.gensim_models\n",
    "\n",
    "selected_topics=8\n",
    "lda_model = gensim.models.LdaModel(corpus=corpus_tfidf, id2word=dct, num_topics=selected_topics,\\\n",
    "                                           random_state=12, chunksize=128, passes=10 )\n",
    "\n",
    "pyLDAvis.enable_notebook()\n",
    "results = pyLDAvis.gensim_models.prepare(lda_model, corpus_tfidf, dct, sort_topics=False)\n",
    "pyLDAvis.save_html(results, 'ldavis_english' +'.html')\n",
    "results"
   ]
  },
  {
   "cell_type": "code",
   "execution_count": 132,
   "id": "f23fcf47",
   "metadata": {},
   "outputs": [
    {
     "data": {
      "text/html": [
       "<div>\n",
       "<style scoped>\n",
       "    .dataframe tbody tr th:only-of-type {\n",
       "        vertical-align: middle;\n",
       "    }\n",
       "\n",
       "    .dataframe tbody tr th {\n",
       "        vertical-align: top;\n",
       "    }\n",
       "\n",
       "    .dataframe thead th {\n",
       "        text-align: right;\n",
       "    }\n",
       "</style>\n",
       "<table border=\"1\" class=\"dataframe\">\n",
       "  <thead>\n",
       "    <tr style=\"text-align: right;\">\n",
       "      <th></th>\n",
       "      <th>Topic 0</th>\n",
       "      <th>Topic 1</th>\n",
       "      <th>Topic 2</th>\n",
       "      <th>Topic 3</th>\n",
       "      <th>Topic 4</th>\n",
       "      <th>Topic 5</th>\n",
       "      <th>Topic 6</th>\n",
       "      <th>Topic 7</th>\n",
       "    </tr>\n",
       "  </thead>\n",
       "  <tbody>\n",
       "    <tr>\n",
       "      <th>0</th>\n",
       "      <td>ounce</td>\n",
       "      <td>again</td>\n",
       "      <td>box</td>\n",
       "      <td>milk</td>\n",
       "      <td>price</td>\n",
       "      <td>coffee</td>\n",
       "      <td>syrup</td>\n",
       "      <td>quality</td>\n",
       "    </tr>\n",
       "    <tr>\n",
       "      <th>1</th>\n",
       "      <td>bread</td>\n",
       "      <td>purchased</td>\n",
       "      <td>price</td>\n",
       "      <td>jar</td>\n",
       "      <td>store</td>\n",
       "      <td>tea</td>\n",
       "      <td>carry</td>\n",
       "      <td>dog</td>\n",
       "    </tr>\n",
       "    <tr>\n",
       "      <th>2</th>\n",
       "      <td>quick</td>\n",
       "      <td>fast</td>\n",
       "      <td>order</td>\n",
       "      <td>paid</td>\n",
       "      <td>amazon</td>\n",
       "      <td>husband</td>\n",
       "      <td>place</td>\n",
       "      <td>cheaper</td>\n",
       "    </tr>\n",
       "    <tr>\n",
       "      <th>3</th>\n",
       "      <td>house</td>\n",
       "      <td>walmart</td>\n",
       "      <td>great</td>\n",
       "      <td>gallon</td>\n",
       "      <td>product</td>\n",
       "      <td>green</td>\n",
       "      <td>live</td>\n",
       "      <td>deal</td>\n",
       "    </tr>\n",
       "    <tr>\n",
       "      <th>4</th>\n",
       "      <td>baking</td>\n",
       "      <td>flour</td>\n",
       "      <td>lot</td>\n",
       "      <td>tasted</td>\n",
       "      <td>great</td>\n",
       "      <td>trying</td>\n",
       "      <td>powder</td>\n",
       "      <td>tea</td>\n",
       "    </tr>\n",
       "    <tr>\n",
       "      <th>5</th>\n",
       "      <td>compared</td>\n",
       "      <td>package</td>\n",
       "      <td>shipping</td>\n",
       "      <td>slightly</td>\n",
       "      <td>good</td>\n",
       "      <td>starbucks</td>\n",
       "      <td>ginger</td>\n",
       "      <td>cat</td>\n",
       "    </tr>\n",
       "    <tr>\n",
       "      <th>6</th>\n",
       "      <td>bargain</td>\n",
       "      <td>pasta</td>\n",
       "      <td>too</td>\n",
       "      <td>cannot</td>\n",
       "      <td>find</td>\n",
       "      <td>packet</td>\n",
       "      <td>considering</td>\n",
       "      <td>size</td>\n",
       "    </tr>\n",
       "    <tr>\n",
       "      <th>7</th>\n",
       "      <td>soon</td>\n",
       "      <td>delivery</td>\n",
       "      <td>good</td>\n",
       "      <td>butter</td>\n",
       "      <td>love</td>\n",
       "      <td>canned</td>\n",
       "      <td>outstanding</td>\n",
       "      <td>value</td>\n",
       "    </tr>\n",
       "    <tr>\n",
       "      <th>8</th>\n",
       "      <td>child</td>\n",
       "      <td>often</td>\n",
       "      <td>product</td>\n",
       "      <td>spicy</td>\n",
       "      <td>use</td>\n",
       "      <td>instant</td>\n",
       "      <td>expected</td>\n",
       "      <td>cooky</td>\n",
       "    </tr>\n",
       "    <tr>\n",
       "      <th>9</th>\n",
       "      <td>absolutely</td>\n",
       "      <td>cheese</td>\n",
       "      <td>big</td>\n",
       "      <td>comparable</td>\n",
       "      <td>best</td>\n",
       "      <td>super</td>\n",
       "      <td>reviewer</td>\n",
       "      <td>save</td>\n",
       "    </tr>\n",
       "  </tbody>\n",
       "</table>\n",
       "</div>"
      ],
      "text/plain": [
       "      Topic 0    Topic 1   Topic 2     Topic 3  Topic 4    Topic 5  \\\n",
       "0       ounce      again       box        milk    price     coffee   \n",
       "1       bread  purchased     price         jar    store        tea   \n",
       "2       quick       fast     order        paid   amazon    husband   \n",
       "3       house    walmart     great      gallon  product      green   \n",
       "4      baking      flour       lot      tasted    great     trying   \n",
       "5    compared    package  shipping    slightly     good  starbucks   \n",
       "6     bargain      pasta       too      cannot     find     packet   \n",
       "7        soon   delivery      good      butter     love     canned   \n",
       "8       child      often   product       spicy      use    instant   \n",
       "9  absolutely     cheese       big  comparable     best      super   \n",
       "\n",
       "       Topic 6  Topic 7  \n",
       "0        syrup  quality  \n",
       "1        carry      dog  \n",
       "2        place  cheaper  \n",
       "3         live     deal  \n",
       "4       powder      tea  \n",
       "5       ginger      cat  \n",
       "6  considering     size  \n",
       "7  outstanding    value  \n",
       "8     expected    cooky  \n",
       "9     reviewer     save  "
      ]
     },
     "execution_count": 132,
     "metadata": {},
     "output_type": "execute_result"
    },
    {
     "name": "stderr",
     "output_type": "stream",
     "text": [
      "/opt/anaconda3/lib/python3.8/site-packages/past/builtins/misc.py:45: DeprecationWarning: the imp module is deprecated in favour of importlib; see the module's documentation for alternative uses\n",
      "  from imp import reload\n",
      "/opt/anaconda3/lib/python3.8/site-packages/past/builtins/misc.py:45: DeprecationWarning: the imp module is deprecated in favour of importlib; see the module's documentation for alternative uses\n",
      "  from imp import reload\n",
      "/opt/anaconda3/lib/python3.8/site-packages/past/builtins/misc.py:45: DeprecationWarning: the imp module is deprecated in favour of importlib; see the module's documentation for alternative uses\n",
      "  from imp import reload\n",
      "/opt/anaconda3/lib/python3.8/site-packages/past/builtins/misc.py:45: DeprecationWarning: the imp module is deprecated in favour of importlib; see the module's documentation for alternative uses\n",
      "  from imp import reload\n",
      "/opt/anaconda3/lib/python3.8/site-packages/past/builtins/misc.py:45: DeprecationWarning: the imp module is deprecated in favour of importlib; see the module's documentation for alternative uses\n",
      "  from imp import reload\n",
      "/opt/anaconda3/lib/python3.8/site-packages/past/builtins/misc.py:45: DeprecationWarning: the imp module is deprecated in favour of importlib; see the module's documentation for alternative uses\n",
      "  from imp import reload\n",
      "/opt/anaconda3/lib/python3.8/site-packages/past/builtins/misc.py:45: DeprecationWarning: the imp module is deprecated in favour of importlib; see the module's documentation for alternative uses\n",
      "  from imp import reload\n",
      "/opt/anaconda3/lib/python3.8/site-packages/past/builtins/misc.py:45: DeprecationWarning: the imp module is deprecated in favour of importlib; see the module's documentation for alternative uses\n",
      "  from imp import reload\n"
     ]
    }
   ],
   "source": [
    "top_words_df = pd.DataFrame()\n",
    "for k in range(selected_topics):\n",
    "  # top words with it's weight for a given id k \n",
    "  top_words = lda_model.show_topic(topicid=k)\n",
    "  \n",
    "  # only keep the word and discard the weight\n",
    "  top_words_df['Topic {}'.format(k)] = [pair[0] for pair in top_words]\n",
    "top_words_df\n"
   ]
  },
  {
   "cell_type": "code",
   "execution_count": null,
   "id": "a9b602a0",
   "metadata": {},
   "outputs": [],
   "source": []
  }
 ],
 "metadata": {
  "kernelspec": {
   "display_name": "Python 3 (ipykernel)",
   "language": "python",
   "name": "python3"
  },
  "language_info": {
   "codemirror_mode": {
    "name": "ipython",
    "version": 3
   },
   "file_extension": ".py",
   "mimetype": "text/x-python",
   "name": "python",
   "nbconvert_exporter": "python",
   "pygments_lexer": "ipython3",
   "version": "3.9.7"
  }
 },
 "nbformat": 4,
 "nbformat_minor": 5
}
