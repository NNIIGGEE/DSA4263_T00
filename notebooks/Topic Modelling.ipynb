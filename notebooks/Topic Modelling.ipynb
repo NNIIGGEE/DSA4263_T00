{
 "cells": [
  {
   "cell_type": "code",
   "execution_count": 90,
   "id": "23f375b4",
   "metadata": {},
   "outputs": [],
   "source": [
    "#TODO: try out BERT and LDA for topic modelling, calculate out the metrics and compare the models\n",
    "\n",
    "#LDA is unsupervised learning which doesnt require labeled data to train\n",
    "#BERT is a pretrained model which is a supervised learning method, requires labeled data to train\n",
    "\n",
    "#LDA can provide insights to the underlying pattern in the data, resulting topics are easily interpreted by humans\n",
    "#BERT can provide more accurate results but requires labeled data and significant computation resources\n"
   ]
  },
  {
   "cell_type": "code",
   "execution_count": 91,
   "id": "ac2da26d",
   "metadata": {},
   "outputs": [],
   "source": [
    "#import preprocessed file and sentiment analysis\n"
   ]
  },
  {
   "cell_type": "code",
   "execution_count": null,
   "id": "14d55f99",
   "metadata": {},
   "outputs": [],
   "source": []
  },
  {
   "cell_type": "code",
   "execution_count": 92,
   "id": "565b8673",
   "metadata": {},
   "outputs": [
    {
     "name": "stdout",
     "output_type": "stream",
     "text": [
      "Requirement already satisfied: transformers in /Users/charlenechan/miniconda3/lib/python3.10/site-packages (4.27.2)\n",
      "Requirement already satisfied: filelock in /Users/charlenechan/miniconda3/lib/python3.10/site-packages (from transformers) (3.9.0)\n",
      "Requirement already satisfied: huggingface-hub<1.0,>=0.11.0 in /Users/charlenechan/miniconda3/lib/python3.10/site-packages/huggingface_hub-0.13.3-py3.8.egg (from transformers) (0.13.3)\n",
      "Requirement already satisfied: numpy>=1.17 in /Users/charlenechan/miniconda3/lib/python3.10/site-packages (from transformers) (1.24.2)\n",
      "Requirement already satisfied: packaging>=20.0 in /Users/charlenechan/miniconda3/lib/python3.10/site-packages (from transformers) (23.0)\n",
      "Requirement already satisfied: pyyaml>=5.1 in /Users/charlenechan/miniconda3/lib/python3.10/site-packages (from transformers) (6.0)\n",
      "Requirement already satisfied: regex!=2019.12.17 in /Users/charlenechan/miniconda3/lib/python3.10/site-packages (from transformers) (2022.7.9)\n",
      "Requirement already satisfied: requests in /Users/charlenechan/miniconda3/lib/python3.10/site-packages (from transformers) (2.28.1)\n",
      "Requirement already satisfied: tokenizers!=0.11.3,<0.14,>=0.11.1 in /Users/charlenechan/miniconda3/lib/python3.10/site-packages (from transformers) (0.11.4)\n",
      "Requirement already satisfied: tqdm>=4.27 in /Users/charlenechan/miniconda3/lib/python3.10/site-packages (from transformers) (4.64.1)\n",
      "Requirement already satisfied: typing-extensions>=3.7.4.3 in /Users/charlenechan/miniconda3/lib/python3.10/site-packages (from huggingface-hub<1.0,>=0.11.0->transformers) (4.5.0)\n",
      "Requirement already satisfied: certifi>=2017.4.17 in /Users/charlenechan/miniconda3/lib/python3.10/site-packages (from requests->transformers) (2022.12.7)\n",
      "Requirement already satisfied: idna<4,>=2.5 in /Users/charlenechan/miniconda3/lib/python3.10/site-packages (from requests->transformers) (3.4)\n",
      "Requirement already satisfied: urllib3<1.27,>=1.21.1 in /Users/charlenechan/miniconda3/lib/python3.10/site-packages (from requests->transformers) (1.26.14)\n",
      "Requirement already satisfied: charset-normalizer<3,>=2 in /Users/charlenechan/miniconda3/lib/python3.10/site-packages (from requests->transformers) (2.0.4)\n"
     ]
    }
   ],
   "source": [
    "!pip install transformers"
   ]
  },
  {
   "cell_type": "code",
   "execution_count": 93,
   "id": "2763e019",
   "metadata": {},
   "outputs": [],
   "source": [
    "import pandas as pd\n",
    "import numpy as np\n",
    "from sklearn.cluster import KMeans\n",
    "#from transformers import AutoModel\n",
    "\n",
    "import gensim\n",
    "from gensim.models import Phrases\n",
    "#Prepare objects for LDA gensim implementation\n",
    "from gensim import corpora\n",
    "#Running LDA\n",
    "from gensim import models\n",
    "\n",
    "import matplotlib.pyplot as plt\n",
    "import seaborn as sns\n",
    "\n",
    "import gensim.corpora as corpora\n",
    "\n",
    "from gensim.models import CoherenceModel\n",
    "\n",
    "\n",
    "\n"
   ]
  },
  {
   "cell_type": "code",
   "execution_count": 94,
   "id": "ef91b381",
   "metadata": {
    "scrolled": true
   },
   "outputs": [],
   "source": [
    "df = pd.read_csv('/Users/charlenechan/Desktop/y4s2/DSA4263/project/final_cleaned_tokens.csv')"
   ]
  },
  {
   "cell_type": "code",
   "execution_count": 95,
   "id": "7ec5af2e",
   "metadata": {},
   "outputs": [],
   "source": [
    "df_positive = df[df['Sentiment'] == 'positive']"
   ]
  },
  {
   "cell_type": "code",
   "execution_count": 96,
   "id": "cbd575f5",
   "metadata": {},
   "outputs": [],
   "source": [
    "df_negative = df[df['Sentiment'] == 'negative']\n"
   ]
  },
  {
   "cell_type": "code",
   "execution_count": 97,
   "id": "9c448084",
   "metadata": {},
   "outputs": [
    {
     "data": {
      "text/plain": [
       "4030"
      ]
     },
     "execution_count": 97,
     "metadata": {},
     "output_type": "execute_result"
    }
   ],
   "source": [
    "len(df_positive) #4030 rows"
   ]
  },
  {
   "cell_type": "code",
   "execution_count": 98,
   "id": "0b1ef1fd",
   "metadata": {},
   "outputs": [
    {
     "data": {
      "text/plain": [
       "1414"
      ]
     },
     "execution_count": 98,
     "metadata": {},
     "output_type": "execute_result"
    }
   ],
   "source": [
    "len(df_negative) #1414 rows"
   ]
  },
  {
   "cell_type": "markdown",
   "id": "6d32787c",
   "metadata": {},
   "source": [
    "# 2. LDA: for positive\n",
    "\n"
   ]
  },
  {
   "cell_type": "code",
   "execution_count": 99,
   "id": "c40acfa6",
   "metadata": {},
   "outputs": [
    {
     "data": {
      "text/html": [
       "<div>\n",
       "<style scoped>\n",
       "    .dataframe tbody tr th:only-of-type {\n",
       "        vertical-align: middle;\n",
       "    }\n",
       "\n",
       "    .dataframe tbody tr th {\n",
       "        vertical-align: top;\n",
       "    }\n",
       "\n",
       "    .dataframe thead th {\n",
       "        text-align: right;\n",
       "    }\n",
       "</style>\n",
       "<table border=\"1\" class=\"dataframe\">\n",
       "  <thead>\n",
       "    <tr style=\"text-align: right;\">\n",
       "      <th></th>\n",
       "      <th>Unnamed: 0</th>\n",
       "      <th>Sentiment</th>\n",
       "      <th>Time</th>\n",
       "      <th>cleaned</th>\n",
       "      <th>Text</th>\n",
       "    </tr>\n",
       "  </thead>\n",
       "  <tbody>\n",
       "    <tr>\n",
       "      <th>0</th>\n",
       "      <td>0</td>\n",
       "      <td>positive</td>\n",
       "      <td>18/6/21</td>\n",
       "      <td>['every', 'puppy', 'good', 'also', 'amount', '...</td>\n",
       "      <td>this is a very healthy dog food. good for thei...</td>\n",
       "    </tr>\n",
       "    <tr>\n",
       "      <th>1</th>\n",
       "      <td>1</td>\n",
       "      <td>positive</td>\n",
       "      <td>7/7/21</td>\n",
       "      <td>['free', 'different', 'allergic', 'large', 'do...</td>\n",
       "      <td>i've been very pleased with the natural balanc...</td>\n",
       "    </tr>\n",
       "    <tr>\n",
       "      <th>2</th>\n",
       "      <td>2</td>\n",
       "      <td>positive</td>\n",
       "      <td>18/6/21</td>\n",
       "      <td>['year', 'palatable', 'innova', 'always', 'fee...</td>\n",
       "      <td>before i was educated about feline nutrition, ...</td>\n",
       "    </tr>\n",
       "    <tr>\n",
       "      <th>3</th>\n",
       "      <td>3</td>\n",
       "      <td>positive</td>\n",
       "      <td>7/7/21</td>\n",
       "      <td>['want', 'sardine', 'especially', 'less', 'odo...</td>\n",
       "      <td>my holistic vet recommended this, along with a...</td>\n",
       "    </tr>\n",
       "    <tr>\n",
       "      <th>4</th>\n",
       "      <td>4</td>\n",
       "      <td>positive</td>\n",
       "      <td>1/7/21</td>\n",
       "      <td>['organic', 'actually', 'buy', 'do', 'less', '...</td>\n",
       "      <td>i bought this coffee because its much cheaper ...</td>\n",
       "    </tr>\n",
       "  </tbody>\n",
       "</table>\n",
       "</div>"
      ],
      "text/plain": [
       "   Unnamed: 0 Sentiment     Time  \\\n",
       "0           0  positive  18/6/21   \n",
       "1           1  positive   7/7/21   \n",
       "2           2  positive  18/6/21   \n",
       "3           3  positive   7/7/21   \n",
       "4           4  positive   1/7/21   \n",
       "\n",
       "                                             cleaned  \\\n",
       "0  ['every', 'puppy', 'good', 'also', 'amount', '...   \n",
       "1  ['free', 'different', 'allergic', 'large', 'do...   \n",
       "2  ['year', 'palatable', 'innova', 'always', 'fee...   \n",
       "3  ['want', 'sardine', 'especially', 'less', 'odo...   \n",
       "4  ['organic', 'actually', 'buy', 'do', 'less', '...   \n",
       "\n",
       "                                                Text  \n",
       "0  this is a very healthy dog food. good for thei...  \n",
       "1  i've been very pleased with the natural balanc...  \n",
       "2  before i was educated about feline nutrition, ...  \n",
       "3  my holistic vet recommended this, along with a...  \n",
       "4  i bought this coffee because its much cheaper ...  "
      ]
     },
     "execution_count": 99,
     "metadata": {},
     "output_type": "execute_result"
    }
   ],
   "source": [
    "df_positive.head()"
   ]
  },
  {
   "cell_type": "code",
   "execution_count": 100,
   "id": "6ee525dc",
   "metadata": {},
   "outputs": [],
   "source": [
    "import ast\n",
    "tokens = []\n",
    "for sentence in df_positive['cleaned']:\n",
    "    tokens.append(ast.literal_eval(sentence))\n",
    "    "
   ]
  },
  {
   "cell_type": "code",
   "execution_count": 101,
   "id": "aaf2c81b",
   "metadata": {},
   "outputs": [],
   "source": [
    "# training a bi gram model in order to include those bigrams as tokens who occured at least 6 times\n",
    "# in the whole dataset\n",
    "bigram = gensim.models.Phrases(tokens, min_count=2, threshold=100)\n",
    "bigram_mod = gensim.models.phrases.Phraser(bigram)"
   ]
  },
  {
   "cell_type": "code",
   "execution_count": 102,
   "id": "12254890",
   "metadata": {},
   "outputs": [],
   "source": [
    "# including bigrams as tokens \n",
    "sents = [ bigram_mod[token] for token in tokens]"
   ]
  },
  {
   "cell_type": "code",
   "execution_count": 103,
   "id": "8426247b",
   "metadata": {},
   "outputs": [
    {
     "name": "stdout",
     "output_type": "stream",
     "text": [
      "Unique words before filtering/after pre-processing 8617\n"
     ]
    }
   ],
   "source": [
    "# Create Dictionary to keep track of vocab\n",
    "dct = corpora.Dictionary(tokens)\n",
    "print('Unique words before filtering/after pre-processing', len(dct))"
   ]
  },
  {
   "cell_type": "code",
   "execution_count": 104,
   "id": "ae96858d",
   "metadata": {},
   "outputs": [],
   "source": [
    "# no_below= 30\n",
    "# filter the words that occure in less than 20 documents and in more the 30% of documents\n",
    "#dct.filter_extremes(no_below= 20, no_above = 0.3)\n",
    "#print('Unique words after filtering', len(dct))\n",
    "\n",
    "# Create Corpus(Database)\n",
    "corpus = [dct.doc2bow(sent) for sent in sents]\n",
    "\n",
    "tfidf = gensim.models.TfidfModel(corpus)\n",
    "corpus_tfidf = tfidf[corpus]"
   ]
  },
  {
   "cell_type": "code",
   "execution_count": 105,
   "id": "cff9bb14",
   "metadata": {},
   "outputs": [
    {
     "name": "stdout",
     "output_type": "stream",
     "text": [
      "3 0.3554885489565522\n",
      "4 0.40669132584753054\n",
      "5 0.43077378434340474\n",
      "6 0.34863715766102504\n",
      "7 0.3805231578035019\n",
      "8 0.41846675631755703\n",
      "9 0.4017064128296324\n",
      "10 0.415950439994812\n",
      "11 0.39813702043821836\n",
      "12 0.39075014328945895\n",
      "13 0.40325584936585174\n",
      "14 0.3741980530131027\n"
     ]
    }
   ],
   "source": [
    "#randomstate = 12\n",
    "scores = []\n",
    "for k in range(3,15):\n",
    "    # LDA model\n",
    "    lda_model = gensim.models.LdaModel(corpus=corpus_tfidf, num_topics=k, \n",
    "                                                 id2word=dct, random_state=12)\n",
    "    # to calculate score for coherence\n",
    "    coherence_model_lda = CoherenceModel(model=lda_model, texts=sents, dictionary=dct, coherence='c_v')\n",
    "    coherence_lda = coherence_model_lda.get_coherence()\n",
    "    print(k, coherence_lda)\n",
    "    scores.append(coherence_lda)"
   ]
  },
  {
   "cell_type": "code",
   "execution_count": 106,
   "id": "a8a0c789",
   "metadata": {},
   "outputs": [
    {
     "data": {
      "image/png": "[encoded data removed]",
      "text/plain": [
       "<Figure size 720x360 with 1 Axes>"
      ]
     },
     "metadata": {
      "needs_background": "light"
     },
     "output_type": "display_data"
    },
    {
     "name": "stdout",
     "output_type": "stream",
     "text": [
      "Becuase of the highest coherence the optimum number of topics are:  5\n"
     ]
    }
   ],
   "source": [
    "selected_topics = np.argmax(scores)+3\n",
    "\n",
    "plt.figure(figsize=(10, 5))\n",
    "plt.plot(list(range(3,15)), scores, marker='o', color='green')\n",
    "sns.despine(top=True, right=True, left=False, bottom=False)\n",
    "\n",
    "plt.locator_params(integer=True)\n",
    "plt.title('Coherence score vs the number of topics for LDA')\n",
    "plt.xlabel('Number of topics')\n",
    "plt.ylabel('Coherence Scores')\n",
    "plt.savefig('lda_scores.jpg')\n",
    "plt.show()\n",
    "\n",
    "print('Becuase of the highest coherence the optimum number of topics are: ', selected_topics)"
   ]
  },
  {
   "cell_type": "code",
   "execution_count": 107,
   "id": "f9b713fd",
   "metadata": {
    "scrolled": true
   },
   "outputs": [
    {
     "name": "stderr",
     "output_type": "stream",
     "text": [
      "/opt/anaconda3/lib/python3.8/site-packages/pyLDAvis/_prepare.py:246: FutureWarning: In a future version of pandas all arguments of DataFrame.drop except for the argument 'labels' will be keyword-only.\n",
      "  default_term_info = default_term_info.sort_values(\n"
     ]
    },
    {
     "data": {
      "text/html": [
       "\n",
       "<link rel=\"stylesheet\" type=\"text/css\" href=\"https://cdn.jsdelivr.net/gh/bmabey/pyLDAvis@3.3.1/pyLDAvis/js/ldavis.v1.0.0.css\">\n",
       "\n",
       "\n",
       "<div id=\"ldavis_el67069140693270120480640832204\"></div>\n",
       "<script type=\"text/javascript\">\n",
       "\n",
       "var ldavis_el67069140693270120480640832204_data = {\"mdsDat\": {\"x\": [0.056230538140004026, 0.07398513072662612, 0.06294652372815235, -0.19316219259478243], \"y\": [0.0073715212992494375, -0.029856740353043386, 0.023965386770316347, -0.0014801677165224383], \"topics\": [1, 2, 3, 4], \"cluster\": [1, 1, 1, 1], \"Freq\": [5.520259145602354, 6.936783234470697, 6.14938269546485, 81.3935749244621]}, \"tinfo\": {\"Term\": [\"costco\", \"price\", \"olive\", \"cooking\", \"noodle\", \"pasta\", \"pez\", \"ginger\", \"steak\", \"ridiculous\", \"skin\", \"loose\", \"previous\", \"timely\", \"school\", \"affordable\", \"hurry\", \"licorice\", \"impossible\", \"harder\", \"tuna\", \"wholesome\", \"wonderfully\", \"earl\", \"grey\", \"leaf\", \"coupon\", \"reasonably\", \"moisturizer\", \"teavana\", \"timely\", \"ginger\", \"school\", \"manner\", \"petsmart\", \"chai\", \"florida\", \"bear\", \"soothe\", \"match\", \"class\", \"anxious\", \"finicky\", \"trail\", \"cachet\", \"post\", \"significantly\", \"cautious\", \"generous\", \"calm\", \"fellow\", \"germany\", \"fav\", \"shitzu\", \"yorkie\", \"coffees\", \"mimsid\", \"purchasesd\", \"superfresh\", \"wegman\", \"mid-western\", \"suppliments\", \"necessarily\", \"limeted\", \"qty\", \"bully\", \"price-gouger\", \"yosemite\", \"crystalize\", \"region\", \"costco\", \"loose\", \"affordable\", \"leaf\", \"previous\", \"licorice\", \"harder\", \"wholesome\", \"wonderfully\", \"earl\", \"grey\", \"ridiculous\", \"coupon\", \"reasonably\", \"regularly\", \"cant\", \"lab\", \"impossible\", \"cherry\", \"thus\", \"gas\", \"fruity\", \"tired\", \"teavana\", \"pie\", \"effect\", \"enjoyed\", \"kashi\", \"closely\", \"city\", \"golden\", \"on-line\", \"pez\", \"olive\", \"steak\", \"noodle\", \"cooking\", \"skin\", \"hurry\", \"tuna\", \"trader\", \"hair\", \"pasta\", \"joe\", \"smoke\", \"hook\", \"table\", \"herb\", \"robust\", \"moisturizer\", \"ramen\", \"chef\", \"holiday\", \"philadelphia\", \"tender\", \"link\", \"joes\", \"mimi\", \"moo\", \"grill\", \"udon\", \"-this\", \"tofu\", \"rub\", \"medicine\", \"adventurous\", \"length\", \"buds\", \"caper\", \"price\", \"great\", \"good\", \"buy\", \"find\", \"store\", \"love\", \"product\", \"amazon\", \"get\", \"use\", \"order\", \"quality\", \"like\", \"coffee\", \"well\", \"best\", \"taste\", \"flavor\", \"much\", \"local\", \"time\", \"make\", \"one\", \"really\", \"purchase\", \"would\", \"cheap\", \"food\", \"can\"], \"Freq\": [6.0, 124.0, 4.0, 4.0, 4.0, 4.0, 6.0, 3.0, 3.0, 3.0, 3.0, 3.0, 3.0, 3.0, 3.0, 3.0, 3.0, 3.0, 3.0, 3.0, 2.0, 3.0, 3.0, 2.0, 2.0, 2.0, 2.0, 2.0, 2.0, 2.0, 2.742438255411345, 3.0548845129967597, 2.716141537204317, 1.745345887392325, 1.9400428923430757, 1.2680456400917564, 1.2329487502029421, 1.0340064431707623, 1.0328528284747216, 1.1669783965539888, 0.8846159036217248, 1.1171274298420264, 0.8246036138239022, 0.7600211868336963, 0.9768239559801705, 0.6875729875811837, 0.8394586390540327, 0.6778398976642194, 0.5968803576686331, 0.5565193387737484, 0.562357426696491, 0.5034184827993154, 0.4853424514005859, 0.5513829903979601, 0.5513829903979601, 0.4982796278039408, 0.6178253860899453, 0.6178253860899453, 0.6178253860899453, 0.6178253860899453, 0.5486520283585137, 0.5486520283585137, 0.774189512234391, 0.5718529004703845, 0.5718529004703845, 0.8650831844315011, 0.6055606673592848, 0.5718529004703845, 0.5915415997612383, 0.5798919143272917, 6.266083546030626, 3.1042749502111078, 2.985815865003427, 2.50461064054579, 3.031527626701946, 2.8311271511671596, 2.6477303159001044, 2.5685284184485213, 2.5443291351924975, 2.494264595068055, 2.494264595068055, 3.234178512449832, 2.4390669777734852, 2.41032964883007, 2.318067411663575, 2.178471966325513, 2.3432471510297463, 2.634341248494056, 1.8525444738754564, 2.164631900562723, 1.7497841403566674, 1.6642496532801052, 1.7001373822020573, 2.3221487320309646, 1.5134592833350637, 1.8075414238803889, 1.7930824165632515, 1.4689138177044871, 1.6682109937671934, 1.8947121043603932, 1.9596362528820248, 1.5970126706458372, 2.157083906159846, 3.9189230923795635, 3.2101957812285784, 3.561300073115448, 3.6272303498097553, 2.954243332264948, 2.748066494485972, 2.4591800031293825, 1.822147143202253, 1.6653730190021216, 3.2480617688790336, 1.7100491475434159, 1.5172264355626652, 1.3372020567947636, 1.4121895061066765, 1.6165165788390021, 1.1738853438321275, 2.0775672801989797, 0.9822012514639406, 1.0525928456681812, 1.624828717778562, 1.1872921423690908, 0.9655316623372802, 0.8813387317445934, 0.9004732781219057, 1.8581669196293942, 1.8581669196293942, 0.8743517246816326, 0.8688217851866386, 0.9250387646298379, 0.7550913788548567, 0.8004761143849973, 1.315544295848533, 1.2075361162387024, 0.9989004134776511, 1.0796149760186031, 1.0796149760186031, 124.45112688977497, 69.80236056659305, 65.63486780519584, 62.75074275427335, 61.975176948393035, 61.246595989497216, 60.293526646274884, 59.91881039593218, 56.965041329828445, 53.9435971501691, 53.70147936852225, 49.84525113869615, 49.27253931856303, 47.80836528866779, 46.886499340321386, 46.81102589797209, 46.53422050475002, 43.42526099976137, 42.10922161794245, 42.15478858696446, 42.16953182985404, 41.67253872479833, 40.9569236214884, 39.176065540700975, 39.03846754023216, 38.37474945826967, 37.45096836670379, 37.67181125911252, 36.63531894922987, 36.09713346545349], \"Total\": [6.0, 124.0, 4.0, 4.0, 4.0, 4.0, 6.0, 3.0, 3.0, 3.0, 3.0, 3.0, 3.0, 3.0, 3.0, 3.0, 3.0, 3.0, 3.0, 3.0, 2.0, 3.0, 3.0, 2.0, 2.0, 2.0, 2.0, 2.0, 2.0, 2.0, 3.1819713424310296, 3.547637256472783, 3.1912973802768105, 2.1838131661474933, 2.611418314639507, 1.7227707774169139, 1.7011764705199166, 1.4866639690503065, 1.512933283275371, 1.7132816094518832, 1.3496074402968405, 1.7093262081451361, 1.2640137900200854, 1.2091811300528472, 1.5907848204585775, 1.1368439832561326, 1.4235628378874396, 1.2021082751399488, 1.0675361888293773, 1.0176353732975953, 1.0364545250049522, 0.9445621958117082, 0.9188300853403921, 1.0508677832307984, 1.0508677832307984, 0.9508991671756739, 1.2002769962955266, 1.2002769962955266, 1.2002769962955266, 1.2002769962955266, 1.0999330657691582, 1.0999330657691582, 1.8634226323999004, 1.1764223911948763, 1.1764223911948763, 2.542780996999013, 1.3416613870832828, 1.1764223911948763, 1.5668173247185535, 2.3842938847598014, 6.842051498375026, 3.561184097180231, 3.4303995167931687, 2.935958335920832, 3.5654749383154503, 3.3326981564902054, 3.1427251683910167, 3.0667929935368576, 3.0505093155782004, 2.999690474234601, 2.999690474234601, 3.933211831148111, 2.974920042464103, 2.9459181990142342, 2.8512022523890153, 2.6805249594783414, 2.891830965847232, 3.2604395335139653, 2.3246348097067253, 2.731951164033459, 2.2108509932898754, 2.124345346387075, 2.1797917536235145, 2.9787519143878245, 1.9551740839880465, 2.34496777631576, 2.3416709598906547, 1.9216999538264843, 2.2034552478914735, 2.505053001973161, 2.6381026491150212, 2.123180676125147, 6.017741281691526, 4.380819301777598, 3.647270819804874, 4.048793330121052, 4.205657344837982, 3.445073885339815, 3.2064797650890777, 2.977691031892166, 2.2543878875635466, 2.098307959329725, 4.094105575597196, 2.1605564628156992, 1.9622795802236321, 1.776879963560263, 1.895415128036186, 2.1714162880959473, 1.609459687642786, 2.8727697027295847, 1.4161097481692801, 1.525074306231099, 2.366972509872497, 1.7533328479203742, 1.4419390702802897, 1.317249471948624, 1.3522606312983583, 2.8008918603599358, 2.8008918603599358, 1.3187671731893065, 1.3181951255715791, 1.4472051999724616, 1.1988438576203653, 1.2749144328494424, 2.209519357568256, 2.116973555667083, 1.6518082101310751, 2.4462268866114534, 2.4462268866114534, 124.78714893565275, 70.1333650365874, 65.96559252260246, 63.08182643150893, 62.30799413719822, 61.577955788094876, 60.62371076703498, 60.25006745673344, 57.29718914573215, 54.27466372597143, 54.03254780072924, 50.17633739426462, 49.60931963792557, 48.13809883038082, 47.21664089848686, 47.14155840343193, 46.865236834917084, 43.75506189094169, 42.43828547651409, 42.486384504060226, 42.50150120718875, 42.002370916943384, 41.28755521711595, 39.50496936396145, 39.36868405295557, 38.70456879049208, 37.78065825039498, 38.005395713467024, 36.96494085146085, 36.4287608844794], \"Category\": [\"Default\", \"Default\", \"Default\", \"Default\", \"Default\", \"Default\", \"Default\", \"Default\", \"Default\", \"Default\", \"Default\", \"Default\", \"Default\", \"Default\", \"Default\", \"Default\", \"Default\", \"Default\", \"Default\", \"Default\", \"Default\", \"Default\", \"Default\", \"Default\", \"Default\", \"Default\", \"Default\", \"Default\", \"Default\", \"Default\", \"Topic1\", \"Topic1\", \"Topic1\", \"Topic1\", \"Topic1\", \"Topic1\", \"Topic1\", \"Topic1\", \"Topic1\", \"Topic1\", \"Topic1\", \"Topic1\", \"Topic1\", \"Topic1\", \"Topic1\", \"Topic1\", \"Topic1\", \"Topic1\", \"Topic1\", \"Topic1\", \"Topic1\", \"Topic1\", \"Topic1\", \"Topic1\", \"Topic1\", \"Topic1\", \"Topic1\", \"Topic1\", \"Topic1\", \"Topic1\", \"Topic1\", \"Topic1\", \"Topic1\", \"Topic1\", \"Topic1\", \"Topic1\", \"Topic1\", \"Topic1\", \"Topic1\", \"Topic1\", \"Topic2\", \"Topic2\", \"Topic2\", \"Topic2\", \"Topic2\", \"Topic2\", \"Topic2\", \"Topic2\", \"Topic2\", \"Topic2\", \"Topic2\", \"Topic2\", \"Topic2\", \"Topic2\", \"Topic2\", \"Topic2\", \"Topic2\", \"Topic2\", \"Topic2\", \"Topic2\", \"Topic2\", \"Topic2\", \"Topic2\", \"Topic2\", \"Topic2\", \"Topic2\", \"Topic2\", \"Topic2\", \"Topic2\", \"Topic2\", \"Topic2\", \"Topic2\", \"Topic2\", \"Topic3\", \"Topic3\", \"Topic3\", \"Topic3\", \"Topic3\", \"Topic3\", \"Topic3\", \"Topic3\", \"Topic3\", \"Topic3\", \"Topic3\", \"Topic3\", \"Topic3\", \"Topic3\", \"Topic3\", \"Topic3\", \"Topic3\", \"Topic3\", \"Topic3\", \"Topic3\", \"Topic3\", \"Topic3\", \"Topic3\", \"Topic3\", \"Topic3\", \"Topic3\", \"Topic3\", \"Topic3\", \"Topic3\", \"Topic3\", \"Topic3\", \"Topic3\", \"Topic3\", \"Topic3\", \"Topic3\", \"Topic3\", \"Topic4\", \"Topic4\", \"Topic4\", \"Topic4\", \"Topic4\", \"Topic4\", \"Topic4\", \"Topic4\", \"Topic4\", \"Topic4\", \"Topic4\", \"Topic4\", \"Topic4\", \"Topic4\", \"Topic4\", \"Topic4\", \"Topic4\", \"Topic4\", \"Topic4\", \"Topic4\", \"Topic4\", \"Topic4\", \"Topic4\", \"Topic4\", \"Topic4\", \"Topic4\", \"Topic4\", \"Topic4\", \"Topic4\", \"Topic4\"], \"logprob\": [30.0, 29.0, 28.0, 27.0, 26.0, 25.0, 24.0, 23.0, 22.0, 21.0, 20.0, 19.0, 18.0, 17.0, 16.0, 15.0, 14.0, 13.0, 12.0, 11.0, 10.0, 9.0, 8.0, 7.0, 6.0, 5.0, 4.0, 3.0, 2.0, 1.0, -5.8774, -5.7695, -5.887, -6.3293, -6.2235, -6.6488, -6.6768, -6.8528, -6.8539, -6.7318, -7.0088, -6.7755, -7.0791, -7.1606, -6.9097, -7.2608, -7.0612, -7.2751, -7.4023, -7.4723, -7.4619, -7.5726, -7.6091, -7.4816, -7.4816, -7.5828, -7.3678, -7.3678, -7.3678, -7.3678, -7.4865, -7.4865, -7.1422, -7.4451, -7.4451, -7.0312, -7.3878, -7.4451, -7.4113, -7.4312, -5.2795, -5.9819, -6.0208, -6.1965, -6.0056, -6.074, -6.1409, -6.1713, -6.1808, -6.2007, -6.2007, -5.9409, -6.223, -6.2349, -6.2739, -6.336, -6.2631, -6.146, -6.4981, -6.3424, -6.5552, -6.6053, -6.5839, -6.2722, -6.7003, -6.5227, -6.5307, -6.7301, -6.6029, -6.4756, -6.4419, -6.6465, -6.3459, -5.6283, -5.8278, -5.724, -5.7057, -5.9109, -5.9833, -6.0943, -6.3942, -6.4841, -5.8161, -6.4576, -6.5773, -6.7036, -6.649, -6.5139, -6.8338, -6.263, -7.0121, -6.9429, -6.5088, -6.8225, -7.0292, -7.1205, -7.099, -6.3746, -6.3746, -7.1284, -7.1348, -7.0721, -7.2751, -7.2167, -6.7199, -6.8056, -6.9953, -6.9176, -6.9176, -4.7532, -5.3314, -5.393, -5.4379, -5.4504, -5.4622, -5.4779, -5.4841, -5.5347, -5.5892, -5.5937, -5.6682, -5.6797, -5.7099, -5.7294, -5.731, -5.7369, -5.8061, -5.8368, -5.8358, -5.8354, -5.8473, -5.8646, -5.909, -5.9126, -5.9297, -5.9541, -5.9482, -5.9761, -5.9909], \"loglift\": [30.0, 29.0, 28.0, 27.0, 26.0, 25.0, 24.0, 23.0, 22.0, 21.0, 20.0, 19.0, 18.0, 17.0, 16.0, 15.0, 14.0, 13.0, 12.0, 11.0, 10.0, 9.0, 8.0, 7.0, 6.0, 5.0, 4.0, 3.0, 2.0, 1.0, 2.7481, 2.7472, 2.7355, 2.6726, 2.5996, 2.5903, 2.5748, 2.5337, 2.515, 2.5128, 2.4743, 2.4714, 2.4696, 2.4324, 2.4091, 2.3939, 2.3686, 2.3238, 2.3154, 2.2932, 2.2853, 2.2674, 2.2585, 2.2518, 2.2518, 2.2505, 2.2326, 2.2326, 2.2326, 2.2326, 2.2012, 2.2012, 2.0184, 2.1754, 2.1754, 1.8186, 2.1012, 2.1754, 1.9227, 1.4829, 2.5804, 2.531, 2.5295, 2.5094, 2.5061, 2.5052, 2.4969, 2.491, 2.4869, 2.4838, 2.4838, 2.4727, 2.4697, 2.4677, 2.4613, 2.4609, 2.458, 2.4551, 2.4413, 2.4356, 2.4344, 2.4242, 2.4198, 2.4193, 2.4123, 2.408, 2.4014, 2.3996, 2.3901, 2.3891, 2.371, 2.3836, 1.6424, 2.6774, 2.6612, 2.6605, 2.6409, 2.6351, 2.6345, 2.5975, 2.576, 2.5577, 2.5573, 2.555, 2.5316, 2.5045, 2.4945, 2.4937, 2.4732, 2.4647, 2.4229, 2.418, 2.4126, 2.399, 2.3878, 2.387, 2.3822, 2.3785, 2.3785, 2.3778, 2.3719, 2.3413, 2.3265, 2.3234, 2.2703, 2.2274, 2.2858, 1.9709, 1.9709, 0.2032, 0.2011, 0.2008, 0.2006, 0.2005, 0.2005, 0.2004, 0.2004, 0.2001, 0.1998, 0.1997, 0.1993, 0.1991, 0.199, 0.1989, 0.1988, 0.1988, 0.1983, 0.1981, 0.198, 0.198, 0.198, 0.1978, 0.1975, 0.1975, 0.1973, 0.1971, 0.1971, 0.1969, 0.1967]}, \"token.table\": {\"Topic\": [3, 3, 4, 2, 4, 1, 1, 4, 3, 4, 1, 4, 4, 1, 1, 4, 2, 3, 4, 1, 1, 4, 3, 2, 2, 1, 2, 4, 3, 2, 2, 1, 4, 2, 2, 2, 1, 4, 1, 4, 1, 4, 2, 2, 1, 1, 4, 1, 2, 4, 4, 2, 3, 3, 2, 3, 3, 4, 3, 3, 2, 3, 3, 2, 2, 2, 3, 2, 4, 1, 3, 4, 2, 4, 4, 1, 1, 3, 4, 1, 3, 4, 1, 3, 4, 3, 4, 4, 1, 4, 3, 3, 2, 4, 4, 3, 4, 1, 2, 4, 3, 2, 1, 2, 4, 1, 4, 4, 1, 1, 4, 3, 4, 2, 1, 4, 2, 2, 3, 3, 1, 1, 1, 3, 3, 1, 3, 4, 1, 1, 3, 4, 2, 3, 2, 4, 1, 2, 3, 3, 1, 3, 3, 4, 1, 4, 2, 2, 4, 1, 1], \"Freq\": [0.6909870141559944, 0.4723724570498418, 0.4723724570498418, 0.8745337052765452, 0.9948131985152664, 0.5850258395588185, 0.6726469604552322, 1.002875546443041, 0.40879282517625076, 0.40879282517625076, 0.39327020344268687, 0.39327020344268687, 0.9987028525307876, 0.6286205319156419, 0.982670243428696, 0.9882301545792606, 0.7461225059397399, 0.40879282517625076, 0.40879282517625076, 0.8318718210999592, 0.5804602754519547, 0.9998580276993376, 0.6557057553944963, 0.8603501899088911, 0.7983863009783247, 0.7409561996635512, 0.9076653596272656, 0.9954117680892924, 0.9510998333969349, 0.8769299677772067, 0.6722869762722818, 0.6382364965102932, 0.6382364965102932, 0.6667354572675764, 0.8528901847607697, 0.8540909607955299, 0.9648276657340292, 0.9950569081630194, 0.7911306094090238, 0.9896724037836863, 0.5878284924164148, 1.000948443247347, 0.9414665103305581, 0.9046290347337624, 0.9367363940107406, 1.0586915339552112, 0.9949393748921562, 0.8456332435133833, 0.7581206139461331, 1.0005215973370625, 0.9980984081325938, 0.6667354572675764, 0.7582839642433623, 0.9531489365549906, 0.9545855393826601, 0.9210578418170302, 0.8449612285981872, 0.4224806142990936, 0.5627842175654568, 0.9356054676105708, 0.9201213422801083, 0.9256874487758319, 0.7395024131108964, 0.520372599275346, 0.6916033556664165, 1.0218128654264715, 0.6053971604370749, 0.9001715304332922, 0.9971311947555839, 0.8500348237883448, 0.7591576396843699, 0.9882003883876006, 0.8424164317636429, 0.9897117685614499, 0.9930353052971094, 0.9158292618632016, 0.5836752081404307, 0.4525871188114758, 0.4525871188114758, 0.9091462300032982, 0.7140582713332548, 0.3570291356666274, 0.833141019186695, 0.6961922489295554, 0.3480961244647777, 0.7140582713332548, 0.3570291356666274, 0.9885519911911134, 0.5366469112334977, 0.5366469112334977, 0.987948673557118, 0.9130712144134605, 0.9419829515639928, 0.987217573583993, 0.9964856463539968, 0.732760781226898, 0.24425359374229935, 0.7658673406662119, 0.33235061236095886, 0.6647012247219177, 0.5703423632233313, 1.0229268157649267, 0.879628176538186, 0.8414026327211781, 0.9936920673132884, 0.7453445479070985, 0.9958495074397549, 0.98179623717536, 0.833141019186695, 0.8500348237883448, 0.9877176376863722, 0.7061599577947832, 0.9906350933025944, 0.6789054769644458, 0.41941138480952905, 0.8388227696190581, 0.70145848065468, 0.7627354255985483, 0.6213265281994106, 0.7843663654861865, 0.9400565483307552, 0.9515944973834767, 0.7024628442001164, 0.8708086095819934, 1.0192227550836914, 0.66096767851857, 0.8225328329637166, 0.9906142420498049, 0.833141019186695, 0.9091462300032982, 0.5275889092623665, 0.9827434390831474, 0.6714221450734773, 0.6935105793378746, 0.7320775079475416, 0.9999435527830542, 0.9428117594886938, 0.9175188394374633, 0.8341369842649412, 0.8871587764612775, 0.8270059589470231, 0.6716613572661718, 0.7586130312584737, 0.999397626022573, 0.833141019186695, 0.9969971632626039, 0.9782205731923801, 0.9834423336063057, 0.9793370924026498, 0.9515944973834767, 0.8500348237883448], \"Term\": [\"-this\", \"adventurous\", \"adventurous\", \"affordable\", \"amazon\", \"anxious\", \"bear\", \"best\", \"buds\", \"buds\", \"bully\", \"bully\", \"buy\", \"cachet\", \"calm\", \"can\", \"cant\", \"caper\", \"caper\", \"cautious\", \"chai\", \"cheap\", \"chef\", \"cherry\", \"city\", \"class\", \"closely\", \"coffee\", \"cooking\", \"costco\", \"coupon\", \"crystalize\", \"crystalize\", \"earl\", \"effect\", \"enjoyed\", \"fellow\", \"find\", \"finicky\", \"flavor\", \"florida\", \"food\", \"fruity\", \"gas\", \"generous\", \"germany\", \"get\", \"ginger\", \"golden\", \"good\", \"great\", \"grey\", \"grill\", \"hair\", \"harder\", \"herb\", \"holiday\", \"holiday\", \"hook\", \"hurry\", \"impossible\", \"joe\", \"joes\", \"kashi\", \"lab\", \"leaf\", \"length\", \"licorice\", \"like\", \"limeted\", \"link\", \"local\", \"loose\", \"love\", \"make\", \"manner\", \"match\", \"medicine\", \"medicine\", \"mid-western\", \"mimi\", \"mimi\", \"mimsid\", \"moisturizer\", \"moisturizer\", \"moo\", \"moo\", \"much\", \"necessarily\", \"necessarily\", \"noodle\", \"olive\", \"on-line\", \"one\", \"order\", \"pasta\", \"pasta\", \"petsmart\", \"pez\", \"pez\", \"philadelphia\", \"pie\", \"post\", \"previous\", \"price\", \"price-gouger\", \"product\", \"purchase\", \"purchasesd\", \"qty\", \"quality\", \"ramen\", \"really\", \"reasonably\", \"region\", \"region\", \"regularly\", \"ridiculous\", \"robust\", \"rub\", \"school\", \"shitzu\", \"significantly\", \"skin\", \"smoke\", \"soothe\", \"steak\", \"store\", \"superfresh\", \"suppliments\", \"table\", \"taste\", \"teavana\", \"tender\", \"thus\", \"time\", \"timely\", \"tired\", \"tofu\", \"trader\", \"trail\", \"tuna\", \"udon\", \"use\", \"wegman\", \"well\", \"wholesome\", \"wonderfully\", \"would\", \"yorkie\", \"yosemite\"]}, \"R\": 30, \"lambda.step\": 0.01, \"plot.opts\": {\"xlab\": \"PC1\", \"ylab\": \"PC2\"}, \"topic.order\": [1, 2, 3, 4]};\n",
       "\n",
       "function LDAvis_load_lib(url, callback){\n",
       "  var s = document.createElement('script');\n",
       "  s.src = url;\n",
       "  s.async = true;\n",
       "  s.onreadystatechange = s.onload = callback;\n",
       "  s.onerror = function(){console.warn(\"failed to load library \" + url);};\n",
       "  document.getElementsByTagName(\"head\")[0].appendChild(s);\n",
       "}\n",
       "\n",
       "if(typeof(LDAvis) !== \"undefined\"){\n",
       "   // already loaded: just create the visualization\n",
       "   !function(LDAvis){\n",
       "       new LDAvis(\"#\" + \"ldavis_el67069140693270120480640832204\", ldavis_el67069140693270120480640832204_data);\n",
       "   }(LDAvis);\n",
       "}else if(typeof define === \"function\" && define.amd){\n",
       "   // require.js is available: use it to load d3/LDAvis\n",
       "   require.config({paths: {d3: \"https://d3js.org/d3.v5\"}});\n",
       "   require([\"d3\"], function(d3){\n",
       "      window.d3 = d3;\n",
       "      LDAvis_load_lib(\"https://cdn.jsdelivr.net/gh/bmabey/pyLDAvis@3.3.1/pyLDAvis/js/ldavis.v3.0.0.js\", function(){\n",
       "        new LDAvis(\"#\" + \"ldavis_el67069140693270120480640832204\", ldavis_el67069140693270120480640832204_data);\n",
       "      });\n",
       "    });\n",
       "}else{\n",
       "    // require.js not available: dynamically load d3 & LDAvis\n",
       "    LDAvis_load_lib(\"https://d3js.org/d3.v5.js\", function(){\n",
       "         LDAvis_load_lib(\"https://cdn.jsdelivr.net/gh/bmabey/pyLDAvis@3.3.1/pyLDAvis/js/ldavis.v3.0.0.js\", function(){\n",
       "                 new LDAvis(\"#\" + \"ldavis_el67069140693270120480640832204\", ldavis_el67069140693270120480640832204_data);\n",
       "            })\n",
       "         });\n",
       "}\n",
       "</script>"
      ],
      "text/plain": [
       "PreparedData(topic_coordinates=              x         y  topics  cluster       Freq\n",
       "topic                                                \n",
       "0      0.056231  0.007372       1        1   5.520259\n",
       "1      0.073985 -0.029857       2        1   6.936783\n",
       "2      0.062947  0.023965       3        1   6.149383\n",
       "3     -0.193162 -0.001480       4        1  81.393575, topic_info=          Term        Freq       Total Category  logprob  loglift\n",
       "1848    costco    6.000000    6.000000  Default  30.0000  30.0000\n",
       "588      price  124.000000  124.000000  Default  29.0000  29.0000\n",
       "1834     olive    4.000000    4.000000  Default  28.0000  28.0000\n",
       "159    cooking    4.000000    4.000000  Default  27.0000  27.0000\n",
       "2568    noodle    4.000000    4.000000  Default  26.0000  26.0000\n",
       "...        ...         ...         ...      ...      ...      ...\n",
       "64    purchase   38.374749   38.704569   Topic4  -5.9297   0.1973\n",
       "77       would   37.450968   37.780658   Topic4  -5.9541   0.1971\n",
       "116      cheap   37.671811   38.005396   Topic4  -5.9482   0.1971\n",
       "7         food   36.635319   36.964941   Topic4  -5.9761   0.1969\n",
       "37         can   36.097133   36.428761   Topic4  -5.9909   0.1967\n",
       "\n",
       "[169 rows x 6 columns], token_table=      Topic      Freq         Term\n",
       "term                              \n",
       "4054      3  0.690987        -this\n",
       "4817      3  0.472372  adventurous\n",
       "4817      4  0.472372  adventurous\n",
       "1910      2  0.874534   affordable\n",
       "209       4  0.994813       amazon\n",
       "...     ...       ...          ...\n",
       "1399      2  0.978221    wholesome\n",
       "3103      2  0.983442  wonderfully\n",
       "77        4  0.979337        would\n",
       "8325      1  0.951594       yorkie\n",
       "8320      1  0.850035     yosemite\n",
       "\n",
       "[151 rows x 3 columns], R=30, lambda_step=0.01, plot_opts={'xlab': 'PC1', 'ylab': 'PC2'}, topic_order=[1, 2, 3, 4])"
      ]
     },
     "execution_count": 107,
     "metadata": {},
     "output_type": "execute_result"
    }
   ],
   "source": [
    "#chosen number of topic = 4 as the intertopic distance map shows a better result than 5 topics (topic 1 and 5 are relatively close tgt which means they're similar)\n",
    "import pyLDAvis.gensim_models\n",
    "\n",
    "selected_topics=4\n",
    "lda_model = gensim.models.LdaModel(corpus=corpus_tfidf, id2word=dct, num_topics=selected_topics,\\\n",
    "                                           random_state=12, chunksize=128, passes=10 )\n",
    "\n",
    "pyLDAvis.enable_notebook()\n",
    "results = pyLDAvis.gensim_models.prepare(lda_model, corpus_tfidf, dct, sort_topics=False)\n",
    "pyLDAvis.save_html(results, 'ldavis_english' +'.html')\n",
    "results"
   ]
  },
  {
   "cell_type": "code",
   "execution_count": 108,
   "id": "f23fcf47",
   "metadata": {
    "scrolled": false
   },
   "outputs": [
    {
     "data": {
      "text/html": [
       "<div>\n",
       "<style scoped>\n",
       "    .dataframe tbody tr th:only-of-type {\n",
       "        vertical-align: middle;\n",
       "    }\n",
       "\n",
       "    .dataframe tbody tr th {\n",
       "        vertical-align: top;\n",
       "    }\n",
       "\n",
       "    .dataframe thead th {\n",
       "        text-align: right;\n",
       "    }\n",
       "</style>\n",
       "<table border=\"1\" class=\"dataframe\">\n",
       "  <thead>\n",
       "    <tr style=\"text-align: right;\">\n",
       "      <th></th>\n",
       "      <th>Topic 0</th>\n",
       "      <th>Topic 1</th>\n",
       "      <th>Topic 2</th>\n",
       "      <th>Topic 3</th>\n",
       "    </tr>\n",
       "  </thead>\n",
       "  <tbody>\n",
       "    <tr>\n",
       "      <th>0</th>\n",
       "      <td>ginger</td>\n",
       "      <td>costco</td>\n",
       "      <td>olive</td>\n",
       "      <td>price</td>\n",
       "    </tr>\n",
       "    <tr>\n",
       "      <th>1</th>\n",
       "      <td>timely</td>\n",
       "      <td>ridiculous</td>\n",
       "      <td>cooking</td>\n",
       "      <td>great</td>\n",
       "    </tr>\n",
       "    <tr>\n",
       "      <th>2</th>\n",
       "      <td>school</td>\n",
       "      <td>loose</td>\n",
       "      <td>noodle</td>\n",
       "      <td>good</td>\n",
       "    </tr>\n",
       "    <tr>\n",
       "      <th>3</th>\n",
       "      <td>petsmart</td>\n",
       "      <td>previous</td>\n",
       "      <td>pasta</td>\n",
       "      <td>buy</td>\n",
       "    </tr>\n",
       "    <tr>\n",
       "      <th>4</th>\n",
       "      <td>manner</td>\n",
       "      <td>affordable</td>\n",
       "      <td>steak</td>\n",
       "      <td>find</td>\n",
       "    </tr>\n",
       "    <tr>\n",
       "      <th>5</th>\n",
       "      <td>chai</td>\n",
       "      <td>licorice</td>\n",
       "      <td>skin</td>\n",
       "      <td>store</td>\n",
       "    </tr>\n",
       "    <tr>\n",
       "      <th>6</th>\n",
       "      <td>florida</td>\n",
       "      <td>harder</td>\n",
       "      <td>hurry</td>\n",
       "      <td>love</td>\n",
       "    </tr>\n",
       "    <tr>\n",
       "      <th>7</th>\n",
       "      <td>match</td>\n",
       "      <td>impossible</td>\n",
       "      <td>tuna</td>\n",
       "      <td>product</td>\n",
       "    </tr>\n",
       "    <tr>\n",
       "      <th>8</th>\n",
       "      <td>anxious</td>\n",
       "      <td>wholesome</td>\n",
       "      <td>moisturizer</td>\n",
       "      <td>amazon</td>\n",
       "    </tr>\n",
       "    <tr>\n",
       "      <th>9</th>\n",
       "      <td>bear</td>\n",
       "      <td>wonderfully</td>\n",
       "      <td>moo</td>\n",
       "      <td>get</td>\n",
       "    </tr>\n",
       "  </tbody>\n",
       "</table>\n",
       "</div>"
      ],
      "text/plain": [
       "    Topic 0      Topic 1      Topic 2  Topic 3\n",
       "0    ginger       costco        olive    price\n",
       "1    timely   ridiculous      cooking    great\n",
       "2    school        loose       noodle     good\n",
       "3  petsmart     previous        pasta      buy\n",
       "4    manner   affordable        steak     find\n",
       "5      chai     licorice         skin    store\n",
       "6   florida       harder        hurry     love\n",
       "7     match   impossible         tuna  product\n",
       "8   anxious    wholesome  moisturizer   amazon\n",
       "9      bear  wonderfully          moo      get"
      ]
     },
     "execution_count": 108,
     "metadata": {},
     "output_type": "execute_result"
    }
   ],
   "source": [
    "top_words_df = pd.DataFrame()\n",
    "for k in range(selected_topics):\n",
    "  # top words with it's weight for a given id k \n",
    "  top_words = lda_model.show_topic(topicid=k)\n",
    "  \n",
    "  # only keep the word and discard the weight\n",
    "  top_words_df['Topic {}'.format(k)] = [pair[0] for pair in top_words]\n",
    "top_words_df"
   ]
  },
  {
   "cell_type": "code",
   "execution_count": 109,
   "id": "0dc0468d",
   "metadata": {},
   "outputs": [
    {
     "name": "stderr",
     "output_type": "stream",
     "text": [
      "/var/folders/ht/cj1ls1bj3s549x8c5ymchh2r0000gn/T/ipykernel_67069/2463061490.py:8: SettingWithCopyWarning: \n",
      "A value is trying to be set on a copy of a slice from a DataFrame.\n",
      "Try using .loc[row_indexer,col_indexer] = value instead\n",
      "\n",
      "See the caveats in the documentation: https://pandas.pydata.org/pandas-docs/stable/user_guide/indexing.html#returning-a-view-versus-a-copy\n",
      "  df_positive['Topics'] = predicted_topics\n"
     ]
    },
    {
     "data": {
      "text/plain": [
       "array([3, 2, 1, 0])"
      ]
     },
     "execution_count": 109,
     "metadata": {},
     "output_type": "execute_result"
    }
   ],
   "source": [
    "predicted_topics = lda_model[corpus_tfidf]\n",
    "\n",
    "# Extract the predicted topic for each document\n",
    "predicted_topics = [max(prob, key=lambda x: x[1])[0] for prob in predicted_topics]\n",
    "\n",
    "\n",
    "# Append the predicted topics to the DataFrame\n",
    "df_positive['Topics'] = predicted_topics\n",
    "df_positive['Topics'].unique()"
   ]
  },
  {
   "cell_type": "markdown",
   "id": "07fd3d16",
   "metadata": {},
   "source": [
    "# LDA for negative"
   ]
  },
  {
   "cell_type": "code",
   "execution_count": 111,
   "id": "d68f7bbc",
   "metadata": {},
   "outputs": [
    {
     "data": {
      "text/html": [
       "<div>\n",
       "<style scoped>\n",
       "    .dataframe tbody tr th:only-of-type {\n",
       "        vertical-align: middle;\n",
       "    }\n",
       "\n",
       "    .dataframe tbody tr th {\n",
       "        vertical-align: top;\n",
       "    }\n",
       "\n",
       "    .dataframe thead th {\n",
       "        text-align: right;\n",
       "    }\n",
       "</style>\n",
       "<table border=\"1\" class=\"dataframe\">\n",
       "  <thead>\n",
       "    <tr style=\"text-align: right;\">\n",
       "      <th></th>\n",
       "      <th>Unnamed: 0</th>\n",
       "      <th>Sentiment</th>\n",
       "      <th>Time</th>\n",
       "      <th>cleaned</th>\n",
       "      <th>Text</th>\n",
       "    </tr>\n",
       "  </thead>\n",
       "  <tbody>\n",
       "    <tr>\n",
       "      <th>44</th>\n",
       "      <td>44</td>\n",
       "      <td>negative</td>\n",
       "      <td>10/3/21</td>\n",
       "      <td>['stuff', 'take', 'finish', 'basically', 'pres...</td>\n",
       "      <td>something to eat if you're starving - but plea...</td>\n",
       "    </tr>\n",
       "    <tr>\n",
       "      <th>62</th>\n",
       "      <td>62</td>\n",
       "      <td>negative</td>\n",
       "      <td>25/4/21</td>\n",
       "      <td>['sale', 'chicken', 'throughout', 'buy', 'comp...</td>\n",
       "      <td>i ordered a flat of food (they were on sale) t...</td>\n",
       "    </tr>\n",
       "    <tr>\n",
       "      <th>70</th>\n",
       "      <td>70</td>\n",
       "      <td>negative</td>\n",
       "      <td>28/9/21</td>\n",
       "      <td>['grape', 'particularly', 'quite', 'pomegranat...</td>\n",
       "      <td>unlike another product i reviewed for vine, at...</td>\n",
       "    </tr>\n",
       "    <tr>\n",
       "      <th>76</th>\n",
       "      <td>76</td>\n",
       "      <td>negative</td>\n",
       "      <td>25/5/21</td>\n",
       "      <td>['alone', 'gimme', 'size', 'kind', 'genuine', ...</td>\n",
       "      <td>gimme better ingredients (kind/larabars) for m...</td>\n",
       "    </tr>\n",
       "    <tr>\n",
       "      <th>93</th>\n",
       "      <td>93</td>\n",
       "      <td>negative</td>\n",
       "      <td>3/6/21</td>\n",
       "      <td>['google', 'dogswell', 'safe', 'eat', 'happy',...</td>\n",
       "      <td>do not fed your dog any happy hip = dogswell p...</td>\n",
       "    </tr>\n",
       "  </tbody>\n",
       "</table>\n",
       "</div>"
      ],
      "text/plain": [
       "    Unnamed: 0 Sentiment     Time  \\\n",
       "44          44  negative  10/3/21   \n",
       "62          62  negative  25/4/21   \n",
       "70          70  negative  28/9/21   \n",
       "76          76  negative  25/5/21   \n",
       "93          93  negative   3/6/21   \n",
       "\n",
       "                                              cleaned  \\\n",
       "44  ['stuff', 'take', 'finish', 'basically', 'pres...   \n",
       "62  ['sale', 'chicken', 'throughout', 'buy', 'comp...   \n",
       "70  ['grape', 'particularly', 'quite', 'pomegranat...   \n",
       "76  ['alone', 'gimme', 'size', 'kind', 'genuine', ...   \n",
       "93  ['google', 'dogswell', 'safe', 'eat', 'happy',...   \n",
       "\n",
       "                                                 Text  \n",
       "44  something to eat if you're starving - but plea...  \n",
       "62  i ordered a flat of food (they were on sale) t...  \n",
       "70  unlike another product i reviewed for vine, at...  \n",
       "76  gimme better ingredients (kind/larabars) for m...  \n",
       "93  do not fed your dog any happy hip = dogswell p...  "
      ]
     },
     "execution_count": 111,
     "metadata": {},
     "output_type": "execute_result"
    }
   ],
   "source": [
    "df_negative.head()"
   ]
  },
  {
   "cell_type": "code",
   "execution_count": 112,
   "id": "463049b0",
   "metadata": {},
   "outputs": [
    {
     "name": "stdout",
     "output_type": "stream",
     "text": [
      "Unique words before filtering/after pre-processing 6592\n"
     ]
    }
   ],
   "source": [
    "tokens = []\n",
    "for sentence in df_negative['cleaned']:\n",
    "    tokens.append(ast.literal_eval(sentence))\n",
    "\n",
    "len(tokens)\n",
    "\n",
    "# including bigrams as tokens \n",
    "sents = [bigram_mod[token] for token in tokens]\n",
    "\n",
    "# Create Dictionary to keep track of vocab\n",
    "dct = corpora.Dictionary(tokens)\n",
    "\n",
    "print('Unique words before filtering/after pre-processing', len(dct))\n",
    "\n",
    "# Create Corpus(Database)\n",
    "corpus = [dct.doc2bow(sent) for sent in sents]\n",
    "\n",
    "tfidf = gensim.models.TfidfModel(corpus)\n",
    "corpus_tfidf = tfidf[corpus]\n",
    "\n"
   ]
  },
  {
   "cell_type": "code",
   "execution_count": 113,
   "id": "e1b813be",
   "metadata": {},
   "outputs": [
    {
     "name": "stdout",
     "output_type": "stream",
     "text": [
      "3 0.40311109681128193\n",
      "4 0.40759950948842844\n",
      "5 0.4154874057852701\n",
      "6 0.3923397662487154\n",
      "7 0.4000904325775257\n",
      "8 0.3968686293860405\n",
      "9 0.40449149555581465\n",
      "10 0.3929205214225029\n",
      "11 0.4077315910322087\n",
      "12 0.4018966401437993\n",
      "13 0.3658446166303413\n",
      "14 0.3756409938124247\n"
     ]
    },
    {
     "data": {
      "image/png": "[encoded data removed]",
      "text/plain": [
       "<Figure size 720x360 with 1 Axes>"
      ]
     },
     "metadata": {
      "needs_background": "light"
     },
     "output_type": "display_data"
    },
    {
     "name": "stdout",
     "output_type": "stream",
     "text": [
      "Becuase of the highest coherence the optimum number of topics are:  5\n"
     ]
    }
   ],
   "source": [
    "#randomstate = 12\n",
    "scores = []\n",
    "for k in range(3,15):\n",
    "    # LDA model\n",
    "    lda_model = gensim.models.LdaModel(corpus=corpus_tfidf, num_topics=k, \n",
    "                                                 id2word=dct, random_state=12)\n",
    "    # to calculate score for coherence\n",
    "    coherence_model_lda = CoherenceModel(model=lda_model, texts=sents, dictionary=dct, coherence='c_v')\n",
    "    coherence_lda = coherence_model_lda.get_coherence()\n",
    "    print(k, coherence_lda)\n",
    "    scores.append(coherence_lda)\n",
    "\n",
    "selected_topics = np.argmax(scores)+3\n",
    "\n",
    "plt.figure(figsize=(10, 5))\n",
    "plt.plot(list(range(3,15)), scores, marker='o', color='green')\n",
    "sns.despine(top=True, right=True, left=False, bottom=False)\n",
    "\n",
    "plt.locator_params(integer=True)\n",
    "plt.title('Coherence score vs the number of topics for LDA')\n",
    "plt.xlabel('Number of topics')\n",
    "plt.ylabel('Coherence Scores')\n",
    "plt.savefig('lda_scores.jpg')\n",
    "plt.show()\n",
    "\n",
    "print('Becuase of the highest coherence the optimum number of topics are: ', selected_topics)\n",
    "\n"
   ]
  },
  {
   "cell_type": "code",
   "execution_count": 114,
   "id": "8885670c",
   "metadata": {},
   "outputs": [
    {
     "name": "stderr",
     "output_type": "stream",
     "text": [
      "/opt/anaconda3/lib/python3.8/site-packages/pyLDAvis/_prepare.py:246: FutureWarning: In a future version of pandas all arguments of DataFrame.drop except for the argument 'labels' will be keyword-only.\n",
      "  default_term_info = default_term_info.sort_values(\n"
     ]
    },
    {
     "data": {
      "text/html": [
       "\n",
       "<link rel=\"stylesheet\" type=\"text/css\" href=\"https://cdn.jsdelivr.net/gh/bmabey/pyLDAvis@3.3.1/pyLDAvis/js/ldavis.v1.0.0.css\">\n",
       "\n",
       "\n",
       "<div id=\"ldavis_el670691406932776555527037144444\"></div>\n",
       "<script type=\"text/javascript\">\n",
       "\n",
       "var ldavis_el670691406932776555527037144444_data = {\"mdsDat\": {\"x\": [0.05712185225307824, 0.03888503361402089, 0.030715002009048812, -0.12672188787614788], \"y\": [0.025608964399558693, -0.024031145503140998, -0.004626131587867764, 0.0030483126914501568], \"topics\": [1, 2, 3, 4], \"cluster\": [1, 1, 1, 1], \"Freq\": [4.727738870803414, 4.329192766244887, 4.427285331344171, 86.51578303160753]}, \"tinfo\": {\"Term\": [\"tropic\", \"hawaiian\", \"paragon\", \"concentrate\", \"supplement\", \"legal\", \"pricey\", \"quantity\", \"dupe\", \"shall\", \"llike\", \"recourse\", \"rear\", \"pre-purchase\", \"declaration\", \"cya\", \"degraded\", \"junky\", \"intolerably\", \"inexcusable\", \"remembered\", \"enjoyment\", \"trap\", \"risky\", \"strike\", \"unsuitable\", \"disclaimer\", \"wind\", \"storage\", \"pointless\", \"cya\", \"declaration\", \"degraded\", \"disclaimer\", \"enjoyment\", \"inexcusable\", \"intolerably\", \"junky\", \"llike\", \"pre-purchase\", \"rear\", \"recourse\", \"remembered\", \"risky\", \"strike\", \"trap\", \"unsuitable\", \"refrain\", \"differ\", \"storage\", \"pointless\", \"gustaf\", \"substantial\", \"walked\", \"proper\", \"utterly\", \"returnable\", \"preserve\", \"dupe\", \"shall\", \"tropic\", \"hawaiian\", \"paragon\", \"concentrate\", \"maui\", \"combimation\", \"quenches\", \"tos\", \"unpleant\", \"yor\", \"honeymooning\", \"roaster\", \"ceramic\", \"creaminess\", \"runny\", \"analog\", \"audacity\", \"loudly\", \"macbook\", \"maximum\", \"mike\", \"mixer\", \"sm57\", \"beter\", \"dave\", \"lavazza\", \"underorganic\", \"sadden\", \"specs\", \"wast\", \"carry\", \"pleasant\", \"syrup\", \"b0040pyn86\", \"libby\", \"unpeeled\", \"simply\", \"holder\", \"amozon\", \"works\", \"hire\", \"instructions\", \"interpreter\", \"exceed\", \"hum\", \"linux\", \"fed\", \"build\", \"condenser\", \"chlothianidin\", \"clothianidin\", \"collapse\", \"colony\", \"honeybee\", \"minus\", \"pesticide\", \"pesticides\", \"amazonians\", \"fellow\", \"winco\", \"availability\", \"envelop\", \"metabolic\", \"phosphorous\", \"sojo\", \"supplementation\", \"copetitively\", \"microphone\", \"windows\", \"office\", \"signal\", \"dynamic\", \"cupboard\", \"thank\", \"again\", \"item\", \"cheese\", \"product\", \"purchase\", \"taste\", \"all\", \"lately\", \"flavor\", \"reese\", \"buy\", \"cheesy\", \"sex\", \"get\", \"make\", \"good\", \"that\", \"like\", \"would\", \"much\", \"swallow\", \"begin\", \"even\", \"metal\", \"god\", \"reason\", \"them\", \"long\", \"purchasing\", \"simply\"], \"Freq\": [4.0, 4.0, 4.0, 3.0, 3.0, 2.0, 2.0, 2.0, 1.0, 1.0, 1.0, 1.0, 1.0, 1.0, 1.0, 1.0, 1.0, 1.0, 1.0, 1.0, 1.0, 1.0, 1.0, 1.0, 1.0, 1.0, 1.0, 4.0, 1.0, 1.0, 1.3417881728126173, 1.3417881728126173, 1.3417881728126173, 1.3417881728126173, 1.3417881728126173, 1.3417881728126173, 1.3417881728126173, 1.3417881728126173, 1.3417881728126173, 1.3417881728126173, 1.3417881728126173, 1.3417881728126173, 1.3417881728126173, 1.3417881728126173, 1.3417881728126173, 1.3417881728126173, 1.3417881728126173, 1.2360415918103422, 1.2385600581923868, 1.2494965713639041, 1.2415231432910832, 1.2279621164813574, 1.1793357066858883, 1.21981378841179, 1.2211665147352684, 1.164856279447414, 1.17276444167214, 1.080356734073112, 1.1387982073061655, 1.089571148970821, 4.112969457592867, 3.7691054328773927, 3.765810060500883, 3.195864012130052, 0.19834781143645214, 0.07884531139598183, 0.07884531139598183, 0.07884531139598183, 0.07884531139598183, 0.07884531139598183, 0.08077542160732847, 0.08077542160732847, 0.07594683032114567, 0.07594683032114567, 0.07594683032114567, 0.06410833875988677, 0.06410833875988677, 0.06410833875988677, 0.06410833875988677, 0.06410833875988677, 0.06410833875988677, 0.06410833875988677, 0.06410833875988677, 0.0636045176156368, 0.0636045176156368, 0.0636045176156368, 0.0636045176156368, 0.07230539189971776, 0.07230539189971776, 0.11096239315252569, 0.14369556323956803, 0.11115060145688806, 0.08527673019266886, 0.06752929490585285, 0.06752929490585285, 0.06752929490585285, 0.07445150387394549, 0.2316477861312956, 0.20129957056284983, 0.20129957056284983, 0.12521614049315394, 0.12521614049315394, 0.12521614049315394, 0.0817546370481648, 0.0817546370481648, 0.0817546370481648, 0.08048566925436086, 0.08485032115769078, 0.07834783101741832, 0.06706610162579278, 0.06706610162579278, 0.06706610162579278, 0.06706610162579278, 0.06706610162579278, 0.06706610162579278, 0.06706610162579278, 0.06706610162579278, 0.06698598449079562, 0.06698598449079562, 0.06698598449079562, 0.07232942088336335, 0.11706067709209203, 0.06723033832970292, 0.06723033832970292, 0.06723033832970292, 0.06723033832970292, 0.06300796679097972, 0.07829614165991461, 0.07612461360864288, 0.09613368894586796, 0.07604584278836085, 0.07745668020668896, 0.08477071972968621, 30.513197520233035, 26.456694984135, 22.78091567749361, 22.098225715465418, 21.882319929755482, 21.96648448786562, 21.037216899485657, 21.446250401951556, 20.199720828157986, 20.065632302216443, 19.076679124147397, 18.735490391867902, 17.93668550262925, 18.026171079290375, 17.189947828704852, 16.69913273969764, 16.405537800056795, 16.609320396276477, 15.571238049875332, 15.543295924569518, 15.838611740684613, 15.522622576013159, 15.292463195691857, 15.121225998000162, 15.043011734166663, 15.014829884774885, 14.838328745695529, 14.67234550088791, 14.66023372683032, 14.553590754873664, 15.105525497298503], \"Total\": [4.0, 4.0, 4.0, 3.0, 3.0, 2.0, 2.0, 2.0, 1.0, 1.0, 1.0, 1.0, 1.0, 1.0, 1.0, 1.0, 1.0, 1.0, 1.0, 1.0, 1.0, 1.0, 1.0, 1.0, 1.0, 1.0, 1.0, 4.0, 1.0, 1.0, 1.6809575281058127, 1.6809575281058127, 1.6809575281058127, 1.6809575281058127, 1.6809575281058127, 1.6809575281058127, 1.6809575281058127, 1.6809575281058127, 1.6809575281058127, 1.6809575281058127, 1.6809575281058127, 1.6809575281058127, 1.6809575281058127, 1.6809575281058127, 1.6809575281058127, 1.6809575281058127, 1.6809575281058127, 1.5616592558123026, 1.5660684386265955, 1.5820677366223794, 1.576554447429798, 1.5614296121228217, 1.505613434005455, 1.5595517590926347, 1.5652285244883077, 1.494234829158879, 1.5321016176740943, 1.4520777136417322, 1.8039409408705882, 1.7931391370056413, 4.443793757283976, 4.089211692905434, 4.086935181520791, 3.5164731974740087, 0.5180750669548245, 0.38652940923384815, 0.38652940923384815, 0.38652940923384815, 0.38652940923384815, 0.38652940923384815, 0.39736024404380255, 0.39736024404380255, 0.396111848152076, 0.396111848152076, 0.396111848152076, 0.3534361677118436, 0.3534361677118436, 0.3534361677118436, 0.3534361677118436, 0.3534361677118436, 0.3534361677118436, 0.3534361677118436, 0.3534361677118436, 0.35119534216768167, 0.35119534216768167, 0.35119534216768167, 0.35119534216768167, 0.4096942235460692, 0.4096942235460692, 0.6523679303355829, 11.804964647523414, 12.875601697731545, 11.352408622702251, 0.7188529905506951, 0.7188529905506951, 0.7188529905506951, 15.28042722344924, 0.520220487040733, 0.5361719456754597, 0.5361719456754597, 0.427794483454195, 0.427794483454195, 0.427794483454195, 0.35794776100775383, 0.35794776100775383, 0.35794776100775383, 0.37182606775431226, 0.41674544098808874, 0.38487980889645335, 0.347284051152215, 0.347284051152215, 0.347284051152215, 0.347284051152215, 0.347284051152215, 0.347284051152215, 0.347284051152215, 0.347284051152215, 0.3530253822753829, 0.3530253822753829, 0.3530253822753829, 0.3816224853873694, 0.6250719519622929, 0.359190065360131, 0.359190065360131, 0.359190065360131, 0.359190065360131, 0.35182173851267473, 0.453170127456316, 0.46197786453906664, 0.9578603860746661, 0.5020622238125945, 0.5786831122743974, 0.8079811415022663, 30.648716474050445, 26.594854357942534, 22.9174158337924, 22.232815805753606, 22.01699447755558, 22.102093332098544, 21.172619316735613, 21.587460716472176, 20.335672506057822, 20.20200077786339, 19.213618805776232, 18.87014726563256, 18.0723262213284, 18.163182491008442, 17.324777095233188, 16.833234868848194, 16.539590896611067, 16.746067541783134, 15.705225178383529, 15.67735458972732, 15.977440603240407, 15.658991584098482, 15.42724396389763, 15.25525549313229, 15.178857781047542, 15.150723036810417, 14.972740783346605, 14.806368178884213, 14.794608597411413, 14.688781735759415, 15.28042722344924], \"Category\": [\"Default\", \"Default\", \"Default\", \"Default\", \"Default\", \"Default\", \"Default\", \"Default\", \"Default\", \"Default\", \"Default\", \"Default\", \"Default\", \"Default\", \"Default\", \"Default\", \"Default\", \"Default\", \"Default\", \"Default\", \"Default\", \"Default\", \"Default\", \"Default\", \"Default\", \"Default\", \"Default\", \"Default\", \"Default\", \"Default\", \"Topic1\", \"Topic1\", \"Topic1\", \"Topic1\", \"Topic1\", \"Topic1\", \"Topic1\", \"Topic1\", \"Topic1\", \"Topic1\", \"Topic1\", \"Topic1\", \"Topic1\", \"Topic1\", \"Topic1\", \"Topic1\", \"Topic1\", \"Topic1\", \"Topic1\", \"Topic1\", \"Topic1\", \"Topic1\", \"Topic1\", \"Topic1\", \"Topic1\", \"Topic1\", \"Topic1\", \"Topic1\", \"Topic1\", \"Topic1\", \"Topic2\", \"Topic2\", \"Topic2\", \"Topic2\", \"Topic2\", \"Topic2\", \"Topic2\", \"Topic2\", \"Topic2\", \"Topic2\", \"Topic2\", \"Topic2\", \"Topic2\", \"Topic2\", \"Topic2\", \"Topic2\", \"Topic2\", \"Topic2\", \"Topic2\", \"Topic2\", \"Topic2\", \"Topic2\", \"Topic2\", \"Topic2\", \"Topic2\", \"Topic2\", \"Topic2\", \"Topic2\", \"Topic2\", \"Topic2\", \"Topic2\", \"Topic2\", \"Topic2\", \"Topic2\", \"Topic2\", \"Topic2\", \"Topic2\", \"Topic3\", \"Topic3\", \"Topic3\", \"Topic3\", \"Topic3\", \"Topic3\", \"Topic3\", \"Topic3\", \"Topic3\", \"Topic3\", \"Topic3\", \"Topic3\", \"Topic3\", \"Topic3\", \"Topic3\", \"Topic3\", \"Topic3\", \"Topic3\", \"Topic3\", \"Topic3\", \"Topic3\", \"Topic3\", \"Topic3\", \"Topic3\", \"Topic3\", \"Topic3\", \"Topic3\", \"Topic3\", \"Topic3\", \"Topic3\", \"Topic3\", \"Topic3\", \"Topic3\", \"Topic3\", \"Topic3\", \"Topic3\", \"Topic4\", \"Topic4\", \"Topic4\", \"Topic4\", \"Topic4\", \"Topic4\", \"Topic4\", \"Topic4\", \"Topic4\", \"Topic4\", \"Topic4\", \"Topic4\", \"Topic4\", \"Topic4\", \"Topic4\", \"Topic4\", \"Topic4\", \"Topic4\", \"Topic4\", \"Topic4\", \"Topic4\", \"Topic4\", \"Topic4\", \"Topic4\", \"Topic4\", \"Topic4\", \"Topic4\", \"Topic4\", \"Topic4\", \"Topic4\", \"Topic4\"], \"logprob\": [30.0, 29.0, 28.0, 27.0, 26.0, 25.0, 24.0, 23.0, 22.0, 21.0, 20.0, 19.0, 18.0, 17.0, 16.0, 15.0, 14.0, 13.0, 12.0, 11.0, 10.0, 9.0, 8.0, 7.0, 6.0, 5.0, 4.0, 3.0, 2.0, 1.0, -5.5198, -5.5198, -5.5198, -5.5198, -5.5198, -5.5198, -5.5198, -5.5198, -5.5198, -5.5198, -5.5198, -5.5198, -5.5198, -5.5198, -5.5198, -5.5198, -5.5198, -5.6019, -5.5999, -5.5911, -5.5975, -5.6085, -5.6489, -5.6151, -5.614, -5.6612, -5.6545, -5.7366, -5.6839, -5.7281, -4.3116, -4.3989, -4.3998, -4.5639, -7.3435, -8.266, -8.266, -8.266, -8.266, -8.266, -8.2419, -8.2419, -8.3035, -8.3035, -8.3035, -8.473, -8.473, -8.473, -8.473, -8.473, -8.473, -8.473, -8.473, -8.4808, -8.4808, -8.4808, -8.4808, -8.3526, -8.3526, -7.9243, -7.6658, -7.9226, -8.1876, -8.421, -8.421, -8.421, -8.3234, -7.2107, -7.3511, -7.3511, -7.8259, -7.8259, -7.8259, -8.2522, -8.2522, -8.2522, -8.2679, -8.2151, -8.2948, -8.4503, -8.4503, -8.4503, -8.4503, -8.4503, -8.4503, -8.4503, -8.4503, -8.4515, -8.4515, -8.4515, -8.3747, -7.8932, -8.4478, -8.4478, -8.4478, -8.4478, -8.5127, -8.2954, -8.3236, -8.0902, -8.3246, -8.3062, -8.216, -5.3026, -5.4452, -5.5948, -5.6252, -5.635, -5.6312, -5.6744, -5.6552, -5.7151, -5.7217, -5.7723, -5.7903, -5.8339, -5.8289, -5.8764, -5.9054, -5.9231, -5.9108, -5.9753, -5.9771, -5.9583, -5.9784, -5.9934, -6.0046, -6.0098, -6.0117, -6.0235, -6.0348, -6.0356, -6.0429, -6.0057], \"loglift\": [30.0, 29.0, 28.0, 27.0, 26.0, 25.0, 24.0, 23.0, 22.0, 21.0, 20.0, 19.0, 18.0, 17.0, 16.0, 15.0, 14.0, 13.0, 12.0, 11.0, 10.0, 9.0, 8.0, 7.0, 6.0, 5.0, 4.0, 3.0, 2.0, 1.0, 2.8264, 2.8264, 2.8264, 2.8264, 2.8264, 2.8264, 2.8264, 2.8264, 2.8264, 2.8264, 2.8264, 2.8264, 2.8264, 2.8264, 2.8264, 2.8264, 2.8264, 2.8179, 2.8171, 2.8157, 2.8128, 2.8115, 2.8075, 2.806, 2.8035, 2.8027, 2.7844, 2.756, 2.5917, 2.5535, 3.0624, 3.0583, 3.058, 3.0442, 2.1797, 1.5501, 1.5501, 1.5501, 1.5501, 1.5501, 1.5466, 1.5466, 1.4881, 1.4881, 1.4881, 1.4327, 1.4327, 1.4327, 1.4327, 1.4327, 1.4327, 1.4327, 1.4327, 1.4311, 1.4311, 1.4311, 1.4311, 1.4053, 1.4053, 1.3684, -1.2688, -1.6124, -1.7515, 0.7747, 0.7747, 0.7747, -2.1844, 2.3083, 2.1377, 2.1377, 1.8888, 1.8888, 1.8888, 1.6407, 1.6407, 1.6407, 1.587, 1.5258, 1.5256, 1.4729, 1.4729, 1.4729, 1.4729, 1.4729, 1.4729, 1.4729, 1.4729, 1.4553, 1.4553, 1.4553, 1.4542, 1.4422, 1.4417, 1.4417, 1.4417, 1.4417, 1.3975, 1.3616, 1.3142, 0.8184, 1.23, 1.1063, 0.8628, 0.1404, 0.1396, 0.1389, 0.1388, 0.1387, 0.1387, 0.1384, 0.1383, 0.1381, 0.1381, 0.1377, 0.1377, 0.1373, 0.1373, 0.137, 0.1368, 0.1367, 0.1366, 0.1363, 0.1363, 0.1361, 0.1361, 0.1361, 0.136, 0.1359, 0.1358, 0.1358, 0.1358, 0.1357, 0.1356, 0.1333]}, \"token.table\": {\"Topic\": [4, 4, 4, 4, 4, 4, 4, 4, 2, 4, 1, 1, 1, 1, 1, 1, 4, 1, 4, 4, 4, 4, 4, 1, 2, 1, 1, 4, 1, 4, 1, 4, 4, 4, 1, 4, 4, 4, 4, 4, 2, 4, 1, 1, 1, 1, 4, 4, 1, 4, 4, 1, 4, 1, 4, 1, 4, 1, 1, 1, 1, 4, 1, 4, 4, 1, 1, 1, 1, 4, 4, 4, 4, 4, 4, 4, 1, 2, 4, 1, 1, 1, 4, 4], \"Freq\": [0.9776327273713804, 0.9727869468212202, 1.3911050147178567, 0.9723058788142941, 1.0068813842594613, 1.016521468576994, 0.989528280727565, 0.9959979572943387, 0.8531275034756394, 1.2376526488486057, 0.5948990282501962, 0.5948990282501962, 0.5948990282501962, 0.6385416980096834, 0.5948990282501962, 0.5543418730312737, 0.5543418730312737, 0.5948990282501962, 0.9832677012032212, 0.9900009518817198, 0.9812536061244592, 0.9900517594807707, 0.9673758014944839, 0.6404387314266845, 0.9781836452585198, 0.5948990282501962, 0.5948990282501962, 1.0036035549036828, 0.5948990282501962, 0.9834934150342052, 0.34215362386245274, 0.6843072477249055, 1.3911050147178567, 1.0187692196876104, 0.5948990282501962, 1.0138828547734966, 1.0099068974235264, 0.9882166508424063, 1.0014119530981087, 1.0439934822840133, 0.9787285147281339, 1.0096615525385793, 0.6342946173728826, 0.5948990282501962, 0.6886683753943542, 0.4062356029824113, 0.4062356029824113, 0.9992281200064385, 0.6388843445891789, 0.995380829744743, 1.0211874796589109, 0.36260713155764246, 0.7252142631152849, 0.5948990282501962, 1.0018205896333765, 0.5948990282501962, 0.9888819067383594, 0.6403445542157316, 0.5948990282501962, 0.652698220838716, 0.5948990282501962, 0.9910157544753391, 0.5576812079791519, 0.5576812079791519, 0.9816479461373371, 0.6320841875803248, 0.5948990282501962, 0.664181108785442, 0.31325996452083327, 0.6265199290416665, 1.0217771632400523, 0.968957369804544, 0.9918470495240441, 1.011461606434546, 1.0151637067976276, 1.013077604094158, 0.5948990282501962, 0.9001317834436986, 1.3911050147178567, 0.5948990282501962, 0.6692388508725304, 0.6412098823714653, 0.9388630121177463, 1.020580347814809], \"Term\": [\"again\", \"all\", \"b0040pyn86\", \"begin\", \"buy\", \"carry\", \"cheese\", \"cheesy\", \"concentrate\", \"cupboard\", \"cya\", \"declaration\", \"degraded\", \"differ\", \"disclaimer\", \"dupe\", \"dupe\", \"enjoyment\", \"even\", \"flavor\", \"get\", \"god\", \"good\", \"gustaf\", \"hawaiian\", \"inexcusable\", \"intolerably\", \"item\", \"junky\", \"lately\", \"legal\", \"legal\", \"libby\", \"like\", \"llike\", \"long\", \"make\", \"metal\", \"much\", \"office\", \"paragon\", \"pleasant\", \"pointless\", \"pre-purchase\", \"preserve\", \"pricey\", \"pricey\", \"product\", \"proper\", \"purchase\", \"purchasing\", \"quantity\", \"quantity\", \"rear\", \"reason\", \"recourse\", \"reese\", \"refrain\", \"remembered\", \"returnable\", \"risky\", \"sex\", \"shall\", \"shall\", \"simply\", \"storage\", \"strike\", \"substantial\", \"supplement\", \"supplement\", \"swallow\", \"syrup\", \"taste\", \"thank\", \"that\", \"them\", \"trap\", \"tropic\", \"unpeeled\", \"unsuitable\", \"utterly\", \"walked\", \"wind\", \"would\"]}, \"R\": 30, \"lambda.step\": 0.01, \"plot.opts\": {\"xlab\": \"PC1\", \"ylab\": \"PC2\"}, \"topic.order\": [1, 2, 3, 4]};\n",
       "\n",
       "function LDAvis_load_lib(url, callback){\n",
       "  var s = document.createElement('script');\n",
       "  s.src = url;\n",
       "  s.async = true;\n",
       "  s.onreadystatechange = s.onload = callback;\n",
       "  s.onerror = function(){console.warn(\"failed to load library \" + url);};\n",
       "  document.getElementsByTagName(\"head\")[0].appendChild(s);\n",
       "}\n",
       "\n",
       "if(typeof(LDAvis) !== \"undefined\"){\n",
       "   // already loaded: just create the visualization\n",
       "   !function(LDAvis){\n",
       "       new LDAvis(\"#\" + \"ldavis_el670691406932776555527037144444\", ldavis_el670691406932776555527037144444_data);\n",
       "   }(LDAvis);\n",
       "}else if(typeof define === \"function\" && define.amd){\n",
       "   // require.js is available: use it to load d3/LDAvis\n",
       "   require.config({paths: {d3: \"https://d3js.org/d3.v5\"}});\n",
       "   require([\"d3\"], function(d3){\n",
       "      window.d3 = d3;\n",
       "      LDAvis_load_lib(\"https://cdn.jsdelivr.net/gh/bmabey/pyLDAvis@3.3.1/pyLDAvis/js/ldavis.v3.0.0.js\", function(){\n",
       "        new LDAvis(\"#\" + \"ldavis_el670691406932776555527037144444\", ldavis_el670691406932776555527037144444_data);\n",
       "      });\n",
       "    });\n",
       "}else{\n",
       "    // require.js not available: dynamically load d3 & LDAvis\n",
       "    LDAvis_load_lib(\"https://d3js.org/d3.v5.js\", function(){\n",
       "         LDAvis_load_lib(\"https://cdn.jsdelivr.net/gh/bmabey/pyLDAvis@3.3.1/pyLDAvis/js/ldavis.v3.0.0.js\", function(){\n",
       "                 new LDAvis(\"#\" + \"ldavis_el670691406932776555527037144444\", ldavis_el670691406932776555527037144444_data);\n",
       "            })\n",
       "         });\n",
       "}\n",
       "</script>"
      ],
      "text/plain": [
       "PreparedData(topic_coordinates=              x         y  topics  cluster       Freq\n",
       "topic                                                \n",
       "0      0.057122  0.025609       1        1   4.727739\n",
       "1      0.038885 -0.024031       2        1   4.329193\n",
       "2      0.030715 -0.004626       3        1   4.427285\n",
       "3     -0.126722  0.003048       4        1  86.515783, topic_info=             Term       Freq      Total Category  logprob  loglift\n",
       "6591       tropic   4.000000   4.000000  Default  30.0000  30.0000\n",
       "4711     hawaiian   4.000000   4.000000  Default  29.0000  29.0000\n",
       "4806      paragon   4.000000   4.000000  Default  28.0000  28.0000\n",
       "188   concentrate   3.000000   3.000000  Default  27.0000  27.0000\n",
       "2825   supplement   3.000000   3.000000  Default  26.0000  26.0000\n",
       "...           ...        ...        ...      ...      ...      ...\n",
       "889        reason  14.838329  14.972741   Topic4  -6.0235   0.1358\n",
       "75           them  14.672346  14.806368   Topic4  -6.0348   0.1358\n",
       "40           long  14.660234  14.794609   Topic4  -6.0356   0.1357\n",
       "2197   purchasing  14.553591  14.688782   Topic4  -6.0429   0.1356\n",
       "1491       simply  15.105525  15.280427   Topic4  -6.0057   0.1333\n",
       "\n",
       "[164 rows x 6 columns], token_table=      Topic      Freq        Term\n",
       "term                             \n",
       "87        4  0.977633       again\n",
       "1         4  0.972787         all\n",
       "6297      4  1.391105  b0040pyn86\n",
       "922       4  0.972306       begin\n",
       "97        4  1.006881         buy\n",
       "...     ...       ...         ...\n",
       "6589      1  0.594899  unsuitable\n",
       "1986      1  0.669239     utterly\n",
       "1899      1  0.641210      walked\n",
       "2124      4  0.938863        wind\n",
       "165       4  1.020580       would\n",
       "\n",
       "[84 rows x 3 columns], R=30, lambda_step=0.01, plot_opts={'xlab': 'PC1', 'ylab': 'PC2'}, topic_order=[1, 2, 3, 4])"
      ]
     },
     "execution_count": 114,
     "metadata": {},
     "output_type": "execute_result"
    }
   ],
   "source": [
    "#chosen number of topic = 4 for negative sentiments\n",
    "import pyLDAvis.gensim_models\n",
    "\n",
    "selected_topics=4\n",
    "lda_model = gensim.models.LdaModel(corpus=corpus_tfidf, id2word=dct, num_topics=selected_topics,\\\n",
    "                                           random_state=12, chunksize=128, passes=10 )\n",
    "\n",
    "pyLDAvis.enable_notebook()\n",
    "results = pyLDAvis.gensim_models.prepare(lda_model, corpus_tfidf, dct, sort_topics=False)\n",
    "pyLDAvis.save_html(results, 'ldavis_english' +'.html')\n",
    "results"
   ]
  },
  {
   "cell_type": "code",
   "execution_count": 116,
   "id": "090336ec",
   "metadata": {},
   "outputs": [
    {
     "data": {
      "text/html": [
       "<div>\n",
       "<style scoped>\n",
       "    .dataframe tbody tr th:only-of-type {\n",
       "        vertical-align: middle;\n",
       "    }\n",
       "\n",
       "    .dataframe tbody tr th {\n",
       "        vertical-align: top;\n",
       "    }\n",
       "\n",
       "    .dataframe thead th {\n",
       "        text-align: right;\n",
       "    }\n",
       "</style>\n",
       "<table border=\"1\" class=\"dataframe\">\n",
       "  <thead>\n",
       "    <tr style=\"text-align: right;\">\n",
       "      <th></th>\n",
       "      <th>Topic 4</th>\n",
       "      <th>Topic 5</th>\n",
       "      <th>Topic 6</th>\n",
       "      <th>Topic 7</th>\n",
       "    </tr>\n",
       "  </thead>\n",
       "  <tbody>\n",
       "    <tr>\n",
       "      <th>0</th>\n",
       "      <td>rear</td>\n",
       "      <td>tropic</td>\n",
       "      <td>holder</td>\n",
       "      <td>thank</td>\n",
       "    </tr>\n",
       "    <tr>\n",
       "      <th>1</th>\n",
       "      <td>recourse</td>\n",
       "      <td>hawaiian</td>\n",
       "      <td>amozon</td>\n",
       "      <td>again</td>\n",
       "    </tr>\n",
       "    <tr>\n",
       "      <th>2</th>\n",
       "      <td>degraded</td>\n",
       "      <td>paragon</td>\n",
       "      <td>works</td>\n",
       "      <td>item</td>\n",
       "    </tr>\n",
       "    <tr>\n",
       "      <th>3</th>\n",
       "      <td>disclaimer</td>\n",
       "      <td>concentrate</td>\n",
       "      <td>hire</td>\n",
       "      <td>cheese</td>\n",
       "    </tr>\n",
       "    <tr>\n",
       "      <th>4</th>\n",
       "      <td>enjoyment</td>\n",
       "      <td>maui</td>\n",
       "      <td>instructions</td>\n",
       "      <td>purchase</td>\n",
       "    </tr>\n",
       "    <tr>\n",
       "      <th>5</th>\n",
       "      <td>inexcusable</td>\n",
       "      <td>carry</td>\n",
       "      <td>interpreter</td>\n",
       "      <td>product</td>\n",
       "    </tr>\n",
       "    <tr>\n",
       "      <th>6</th>\n",
       "      <td>intolerably</td>\n",
       "      <td>pleasant</td>\n",
       "      <td>envelop</td>\n",
       "      <td>all</td>\n",
       "    </tr>\n",
       "    <tr>\n",
       "      <th>7</th>\n",
       "      <td>junky</td>\n",
       "      <td>wast</td>\n",
       "      <td>office</td>\n",
       "      <td>taste</td>\n",
       "    </tr>\n",
       "    <tr>\n",
       "      <th>8</th>\n",
       "      <td>llike</td>\n",
       "      <td>syrup</td>\n",
       "      <td>build</td>\n",
       "      <td>lately</td>\n",
       "    </tr>\n",
       "    <tr>\n",
       "      <th>9</th>\n",
       "      <td>pre-purchase</td>\n",
       "      <td>roaster</td>\n",
       "      <td>cupboard</td>\n",
       "      <td>flavor</td>\n",
       "    </tr>\n",
       "  </tbody>\n",
       "</table>\n",
       "</div>"
      ],
      "text/plain": [
       "        Topic 4      Topic 5       Topic 6   Topic 7\n",
       "0          rear       tropic        holder     thank\n",
       "1      recourse     hawaiian        amozon     again\n",
       "2      degraded      paragon         works      item\n",
       "3    disclaimer  concentrate          hire    cheese\n",
       "4     enjoyment         maui  instructions  purchase\n",
       "5   inexcusable        carry   interpreter   product\n",
       "6   intolerably     pleasant       envelop       all\n",
       "7         junky         wast        office     taste\n",
       "8         llike        syrup         build    lately\n",
       "9  pre-purchase      roaster      cupboard    flavor"
      ]
     },
     "execution_count": 116,
     "metadata": {},
     "output_type": "execute_result"
    }
   ],
   "source": [
    "top_words_df = pd.DataFrame()\n",
    "for k in range(selected_topics):\n",
    "  # top words with it's weight for a given id k \n",
    "  top_words = lda_model.show_topic(topicid=k)\n",
    "  \n",
    "  # only keep the word and discard the weight\n",
    "  top_words_df['Topic {}'.format(k+4)] = [pair[0] for pair in top_words]\n",
    "top_words_df\n"
   ]
  },
  {
   "cell_type": "code",
   "execution_count": 130,
   "id": "0beeb32a",
   "metadata": {},
   "outputs": [
    {
     "name": "stderr",
     "output_type": "stream",
     "text": [
      "/var/folders/ht/cj1ls1bj3s549x8c5ymchh2r0000gn/T/ipykernel_67069/121665238.py:8: SettingWithCopyWarning: \n",
      "A value is trying to be set on a copy of a slice from a DataFrame.\n",
      "Try using .loc[row_indexer,col_indexer] = value instead\n",
      "\n",
      "See the caveats in the documentation: https://pandas.pydata.org/pandas-docs/stable/user_guide/indexing.html#returning-a-view-versus-a-copy\n",
      "  df_negative['Topics'] = predicted_topics\n"
     ]
    },
    {
     "data": {
      "text/plain": [
       "array([7, 4, 6, 5])"
      ]
     },
     "execution_count": 130,
     "metadata": {},
     "output_type": "execute_result"
    }
   ],
   "source": [
    "predicted_topics = lda_model[corpus_tfidf]\n",
    "\n",
    "# Extract the predicted topic for each document\n",
    "predicted_topics = [(max(prob, key=lambda x: x[1])[0] + 4) for prob in predicted_topics]\n",
    "\n",
    "\n",
    "# Append the predicted topics to the DataFrame\n",
    "df_negative['Topics'] = predicted_topics\n",
    "df_negative['Topics'].unique()"
   ]
  },
  {
   "cell_type": "code",
   "execution_count": 131,
   "id": "9d39d251",
   "metadata": {},
   "outputs": [],
   "source": [
    "#combine the positive and negative dataset\n",
    "df_result = pd.concat([df_positive, df_negative])"
   ]
  },
  {
   "cell_type": "code",
   "execution_count": 132,
   "id": "92b8898f",
   "metadata": {
    "scrolled": true
   },
   "outputs": [],
   "source": [
    "df_result\n",
    "#df_result.to_csv('/Users/charlenechan/Desktop/y4s2/DSA4263/project/topic_whole_data.csv')"
   ]
  }
 ],
 "metadata": {
  "kernelspec": {
   "display_name": "Python 3 (ipykernel)",
   "language": "python",
   "name": "python3"
  },
  "language_info": {
   "codemirror_mode": {
    "name": "ipython",
    "version": 3
   },
   "file_extension": ".py",
   "mimetype": "text/x-python",
   "name": "python",
   "nbconvert_exporter": "python",
   "pygments_lexer": "ipython3",
   "version": "3.8.2"
  }
 },
 "nbformat": 4,
 "nbformat_minor": 5
}
