{
  "cells": [
    {
      "cell_type": "code",
      "execution_count": 23,
      "metadata": {
        "colab": {
          "base_uri": "https://localhost:8080/"
        },
        "id": "Jx7QG_1apB3b",
        "outputId": "c88e615f-b3ee-4287-b29c-399dba646c06"
      },
      "outputs": [
        {
          "name": "stdout",
          "output_type": "stream",
          "text": [
            "Looking in indexes: https://pypi.org/simple, https://us-python.pkg.dev/colab-wheels/public/simple/\n",
            "Requirement already satisfied: bertopic in /usr/local/lib/python3.9/dist-packages (0.14.1)\n",
            "Requirement already satisfied: umap-learn>=0.5.0 in /usr/local/lib/python3.9/dist-packages (from bertopic) (0.5.3)\n",
            "Requirement already satisfied: plotly>=4.7.0 in /usr/local/lib/python3.9/dist-packages (from bertopic) (5.13.1)\n",
            "Requirement already satisfied: tqdm>=4.41.1 in /usr/local/lib/python3.9/dist-packages (from bertopic) (4.65.0)\n",
            "Requirement already satisfied: sentence-transformers>=0.4.1 in /usr/local/lib/python3.9/dist-packages (from bertopic) (2.2.2)\n",
            "Requirement already satisfied: scikit-learn>=0.22.2.post1 in /usr/local/lib/python3.9/dist-packages (from bertopic) (1.2.2)\n",
            "Requirement already satisfied: pandas>=1.1.5 in /usr/local/lib/python3.9/dist-packages (from bertopic) (1.4.4)\n",
            "Requirement already satisfied: hdbscan>=0.8.29 in /usr/local/lib/python3.9/dist-packages (from bertopic) (0.8.29)\n",
            "Requirement already satisfied: numpy>=1.20.0 in /usr/local/lib/python3.9/dist-packages (from bertopic) (1.22.4)\n",
            "Requirement already satisfied: scipy>=1.0 in /usr/local/lib/python3.9/dist-packages (from hdbscan>=0.8.29->bertopic) (1.10.1)\n",
            "Requirement already satisfied: joblib>=1.0 in /usr/local/lib/python3.9/dist-packages (from hdbscan>=0.8.29->bertopic) (1.1.1)\n",
            "Requirement already satisfied: cython>=0.27 in /usr/local/lib/python3.9/dist-packages (from hdbscan>=0.8.29->bertopic) (0.29.34)\n",
            "Requirement already satisfied: python-dateutil>=2.8.1 in /usr/local/lib/python3.9/dist-packages (from pandas>=1.1.5->bertopic) (2.8.2)\n",
            "Requirement already satisfied: pytz>=2020.1 in /usr/local/lib/python3.9/dist-packages (from pandas>=1.1.5->bertopic) (2022.7.1)\n",
            "Requirement already satisfied: tenacity>=6.2.0 in /usr/local/lib/python3.9/dist-packages (from plotly>=4.7.0->bertopic) (8.2.2)\n",
            "Requirement already satisfied: threadpoolctl>=2.0.0 in /usr/local/lib/python3.9/dist-packages (from scikit-learn>=0.22.2.post1->bertopic) (3.1.0)\n",
            "Requirement already satisfied: huggingface-hub>=0.4.0 in /usr/local/lib/python3.9/dist-packages (from sentence-transformers>=0.4.1->bertopic) (0.13.4)\n",
            "Requirement already satisfied: sentencepiece in /usr/local/lib/python3.9/dist-packages (from sentence-transformers>=0.4.1->bertopic) (0.1.97)\n",
            "Requirement already satisfied: transformers<5.0.0,>=4.6.0 in /usr/local/lib/python3.9/dist-packages (from sentence-transformers>=0.4.1->bertopic) (4.27.4)\n",
            "Requirement already satisfied: torchvision in /usr/local/lib/python3.9/dist-packages (from sentence-transformers>=0.4.1->bertopic) (0.15.1+cu118)\n",
            "Requirement already satisfied: nltk in /usr/local/lib/python3.9/dist-packages (from sentence-transformers>=0.4.1->bertopic) (3.8.1)\n",
            "Requirement already satisfied: torch>=1.6.0 in /usr/local/lib/python3.9/dist-packages (from sentence-transformers>=0.4.1->bertopic) (2.0.0+cu118)\n",
            "Requirement already satisfied: numba>=0.49 in /usr/local/lib/python3.9/dist-packages (from umap-learn>=0.5.0->bertopic) (0.56.4)\n",
            "Requirement already satisfied: pynndescent>=0.5 in /usr/local/lib/python3.9/dist-packages (from umap-learn>=0.5.0->bertopic) (0.5.8)\n",
            "Requirement already satisfied: pyyaml>=5.1 in /usr/local/lib/python3.9/dist-packages (from huggingface-hub>=0.4.0->sentence-transformers>=0.4.1->bertopic) (6.0)\n",
            "Requirement already satisfied: requests in /usr/local/lib/python3.9/dist-packages (from huggingface-hub>=0.4.0->sentence-transformers>=0.4.1->bertopic) (2.27.1)\n",
            "Requirement already satisfied: packaging>=20.9 in /usr/local/lib/python3.9/dist-packages (from huggingface-hub>=0.4.0->sentence-transformers>=0.4.1->bertopic) (23.0)\n",
            "Requirement already satisfied: filelock in /usr/local/lib/python3.9/dist-packages (from huggingface-hub>=0.4.0->sentence-transformers>=0.4.1->bertopic) (3.10.7)\n",
            "Requirement already satisfied: typing-extensions>=3.7.4.3 in /usr/local/lib/python3.9/dist-packages (from huggingface-hub>=0.4.0->sentence-transformers>=0.4.1->bertopic) (4.5.0)\n",
            "Requirement already satisfied: setuptools in /usr/local/lib/python3.9/dist-packages (from numba>=0.49->umap-learn>=0.5.0->bertopic) (67.6.1)\n",
            "Requirement already satisfied: llvmlite<0.40,>=0.39.0dev0 in /usr/local/lib/python3.9/dist-packages (from numba>=0.49->umap-learn>=0.5.0->bertopic) (0.39.1)\n",
            "Requirement already satisfied: six>=1.5 in /usr/local/lib/python3.9/dist-packages (from python-dateutil>=2.8.1->pandas>=1.1.5->bertopic) (1.16.0)\n",
            "Requirement already satisfied: jinja2 in /usr/local/lib/python3.9/dist-packages (from torch>=1.6.0->sentence-transformers>=0.4.1->bertopic) (3.1.2)\n",
            "Requirement already satisfied: networkx in /usr/local/lib/python3.9/dist-packages (from torch>=1.6.0->sentence-transformers>=0.4.1->bertopic) (3.0)\n",
            "Requirement already satisfied: triton==2.0.0 in /usr/local/lib/python3.9/dist-packages (from torch>=1.6.0->sentence-transformers>=0.4.1->bertopic) (2.0.0)\n",
            "Requirement already satisfied: sympy in /usr/local/lib/python3.9/dist-packages (from torch>=1.6.0->sentence-transformers>=0.4.1->bertopic) (1.11.1)\n",
            "Requirement already satisfied: lit in /usr/local/lib/python3.9/dist-packages (from triton==2.0.0->torch>=1.6.0->sentence-transformers>=0.4.1->bertopic) (16.0.0)\n",
            "Requirement already satisfied: cmake in /usr/local/lib/python3.9/dist-packages (from triton==2.0.0->torch>=1.6.0->sentence-transformers>=0.4.1->bertopic) (3.25.2)\n",
            "Requirement already satisfied: regex!=2019.12.17 in /usr/local/lib/python3.9/dist-packages (from transformers<5.0.0,>=4.6.0->sentence-transformers>=0.4.1->bertopic) (2022.10.31)\n",
            "Requirement already satisfied: tokenizers!=0.11.3,<0.14,>=0.11.1 in /usr/local/lib/python3.9/dist-packages (from transformers<5.0.0,>=4.6.0->sentence-transformers>=0.4.1->bertopic) (0.13.3)\n",
            "Requirement already satisfied: click in /usr/local/lib/python3.9/dist-packages (from nltk->sentence-transformers>=0.4.1->bertopic) (8.1.3)\n",
            "Requirement already satisfied: pillow!=8.3.*,>=5.3.0 in /usr/local/lib/python3.9/dist-packages (from torchvision->sentence-transformers>=0.4.1->bertopic) (8.4.0)\n",
            "Requirement already satisfied: MarkupSafe>=2.0 in /usr/local/lib/python3.9/dist-packages (from jinja2->torch>=1.6.0->sentence-transformers>=0.4.1->bertopic) (2.1.2)\n",
            "Requirement already satisfied: urllib3<1.27,>=1.21.1 in /usr/local/lib/python3.9/dist-packages (from requests->huggingface-hub>=0.4.0->sentence-transformers>=0.4.1->bertopic) (1.26.15)\n",
            "Requirement already satisfied: certifi>=2017.4.17 in /usr/local/lib/python3.9/dist-packages (from requests->huggingface-hub>=0.4.0->sentence-transformers>=0.4.1->bertopic) (2022.12.7)\n",
            "Requirement already satisfied: idna<4,>=2.5 in /usr/local/lib/python3.9/dist-packages (from requests->huggingface-hub>=0.4.0->sentence-transformers>=0.4.1->bertopic) (3.4)\n",
            "Requirement already satisfied: charset-normalizer~=2.0.0 in /usr/local/lib/python3.9/dist-packages (from requests->huggingface-hub>=0.4.0->sentence-transformers>=0.4.1->bertopic) (2.0.12)\n",
            "Requirement already satisfied: mpmath>=0.19 in /usr/local/lib/python3.9/dist-packages (from sympy->torch>=1.6.0->sentence-transformers>=0.4.1->bertopic) (1.3.0)\n"
          ]
        }
      ],
      "source": [
        "pip install bertopic"
      ]
    },
    {
      "cell_type": "code",
      "execution_count": 24,
      "metadata": {
        "id": "WvC4OMM2i7n0"
      },
      "outputs": [],
      "source": [
        "from bertopic import BERTopic\n",
        "import pandas as pd"
      ]
    },
    {
      "cell_type": "code",
      "execution_count": 28,
      "metadata": {
        "id": "eZOByyO0jE_8"
      },
      "outputs": [],
      "source": [
        "\n",
        "reviews =  \"reviews.csv\"\n",
        "\n",
        "df = pd.read_csv(reviews)\n",
        "df.head()\n",
        "data = df['Text']\n",
        "time = df['Time']\n",
        "df.head()\n",
        "data_list = data.to_list()\n",
        "time_list = time.to_list()"
      ]
    },
    {
      "cell_type": "code",
      "execution_count": 29,
      "metadata": {
        "colab": {
          "base_uri": "https://localhost:8080/"
        },
        "id": "SMpHKWqr4GoN",
        "outputId": "efb2de54-d2c5-4a69-de5a-180f8edd53d9"
      },
      "outputs": [
        {
          "data": {
            "text/plain": [
              "SentenceTransformer(\n",
              "  (0): Transformer({'max_seq_length': 256, 'do_lower_case': False}) with Transformer model: BertModel \n",
              "  (1): Pooling({'word_embedding_dimension': 384, 'pooling_mode_cls_token': False, 'pooling_mode_mean_tokens': True, 'pooling_mode_max_tokens': False, 'pooling_mode_mean_sqrt_len_tokens': False})\n",
              "  (2): Normalize()\n",
              ")"
            ]
          },
          "execution_count": 29,
          "metadata": {},
          "output_type": "execute_result"
        }
      ],
      "source": [
        "from sentence_transformers import SentenceTransformer\n",
        "\n",
        "model = SentenceTransformer('all-MiniLM-L6-v2')\n",
        "model"
      ]
    },
    {
      "cell_type": "code",
      "execution_count": 30,
      "metadata": {
        "colab": {
          "base_uri": "https://localhost:8080/"
        },
        "id": "sN_yxw_y4GqY",
        "outputId": "055dc19e-821e-4af6-b817-d4b0409d8e14"
      },
      "outputs": [
        {
          "name": "stdout",
          "output_type": "stream",
          "text": [
            "Looking in indexes: https://pypi.org/simple, https://us-python.pkg.dev/colab-wheels/public/simple/\n",
            "Requirement already satisfied: umap-learn in /usr/local/lib/python3.9/dist-packages (0.5.3)\n",
            "Requirement already satisfied: scipy>=1.0 in /usr/local/lib/python3.9/dist-packages (from umap-learn) (1.10.1)\n",
            "Requirement already satisfied: tqdm in /usr/local/lib/python3.9/dist-packages (from umap-learn) (4.65.0)\n",
            "Requirement already satisfied: scikit-learn>=0.22 in /usr/local/lib/python3.9/dist-packages (from umap-learn) (1.2.2)\n",
            "Requirement already satisfied: numba>=0.49 in /usr/local/lib/python3.9/dist-packages (from umap-learn) (0.56.4)\n",
            "Requirement already satisfied: pynndescent>=0.5 in /usr/local/lib/python3.9/dist-packages (from umap-learn) (0.5.8)\n",
            "Requirement already satisfied: numpy>=1.17 in /usr/local/lib/python3.9/dist-packages (from umap-learn) (1.22.4)\n",
            "Requirement already satisfied: llvmlite<0.40,>=0.39.0dev0 in /usr/local/lib/python3.9/dist-packages (from numba>=0.49->umap-learn) (0.39.1)\n",
            "Requirement already satisfied: setuptools in /usr/local/lib/python3.9/dist-packages (from numba>=0.49->umap-learn) (67.6.1)\n",
            "Requirement already satisfied: joblib>=0.11 in /usr/local/lib/python3.9/dist-packages (from pynndescent>=0.5->umap-learn) (1.1.1)\n",
            "Requirement already satisfied: threadpoolctl>=2.0.0 in /usr/local/lib/python3.9/dist-packages (from scikit-learn>=0.22->umap-learn) (3.1.0)\n"
          ]
        }
      ],
      "source": [
        "!pip install umap-learn\n",
        "from sentence_transformers import SentenceTransformer\n",
        "import umap.umap_ as UMAP\n",
        "from hdbscan import HDBSCAN\n",
        "\n",
        "embedding_model = SentenceTransformer('all-MiniLM-L6-v2')\n",
        "umap_model = UMAP.UMAP(n_neighbors=3, n_components=3, min_dist=0.05)\n",
        "hdbscan_model = HDBSCAN(min_cluster_size=80, min_samples=40,\n",
        "                        gen_min_span_tree=True,\n",
        "                        prediction_data=True)"
      ]
    },
    {
      "cell_type": "code",
      "execution_count": 27,
      "metadata": {
        "colab": {
          "base_uri": "https://localhost:8080/"
        },
        "id": "unuRR5vZ4GsL",
        "outputId": "d3bd4954-2174-4af2-f375-faa208eabf34"
      },
      "outputs": [
        {
          "name": "stdout",
          "output_type": "stream",
          "text": [
            "Looking in indexes: https://pypi.org/simple, https://us-python.pkg.dev/colab-wheels/public/simple/\n",
            "Requirement already satisfied: nltk in /usr/local/lib/python3.9/dist-packages (3.8.1)\n",
            "Requirement already satisfied: regex>=2021.8.3 in /usr/local/lib/python3.9/dist-packages (from nltk) (2022.10.31)\n",
            "Requirement already satisfied: click in /usr/local/lib/python3.9/dist-packages (from nltk) (8.1.3)\n",
            "Requirement already satisfied: joblib in /usr/local/lib/python3.9/dist-packages (from nltk) (1.1.1)\n",
            "Requirement already satisfied: tqdm in /usr/local/lib/python3.9/dist-packages (from nltk) (4.65.0)\n"
          ]
        },
        {
          "name": "stderr",
          "output_type": "stream",
          "text": [
            "[nltk_data] Downloading package stopwords to /root/nltk_data...\n",
            "[nltk_data]   Unzipping corpora/stopwords.zip.\n"
          ]
        }
      ],
      "source": [
        "!pip install nltk\n",
        "import nltk\n",
        "nltk.download('stopwords')\n",
        "from sklearn.feature_extraction.text import CountVectorizer\n",
        "from nltk.corpus import stopwords\n",
        "\n",
        "stopwords = list(stopwords.words('english')) + ['http', 'https', 'amp', 'com']\n",
        "\n",
        "# we add this to remove stopwords that can pollute topcs\n",
        "vectorizer_model = CountVectorizer(ngram_range=(1, 2), stop_words=stopwords)"
      ]
    },
    {
      "cell_type": "code",
      "execution_count": 31,
      "metadata": {
        "colab": {
          "base_uri": "https://localhost:8080/",
          "height": 119,
          "referenced_widgets": [
            "2622ae864a0741eeb5bf6bb30d42c2a0",
            "0934cbd0bd2b4f57844bab7f2df826e8",
            "8c3479ea98874be886ddcded00e92074",
            "908c7e80fd56497e89702efef01e9f51",
            "f755ac33c5934b228fbbdd27eb678f45",
            "20396d7dd3024efea7161c4c9b86ee49",
            "4dfa3c2102794b368637cc47605e6480",
            "5f87a9fa3298428aaa6eb026a039c6b4",
            "73c58c05e4174ba1a73393955ad51296",
            "172711f25df94ce299232e7d53eaba5e",
            "3eb8311230804053bcc91946379de9ce"
          ]
        },
        "id": "1aVmrdww4F5J",
        "outputId": "5789befb-a8f7-427a-f6ca-f099d65747d1"
      },
      "outputs": [
        {
          "data": {
            "application/vnd.jupyter.widget-view+json": {
              "model_id": "2622ae864a0741eeb5bf6bb30d42c2a0",
              "version_major": 2,
              "version_minor": 0
            },
            "text/plain": [
              "Batches:   0%|          | 0/171 [00:00<?, ?it/s]"
            ]
          },
          "metadata": {},
          "output_type": "display_data"
        },
        {
          "name": "stderr",
          "output_type": "stream",
          "text": [
            "2023-04-11 20:00:01,641 - BERTopic - Transformed documents to Embeddings\n",
            "2023-04-11 20:00:23,003 - BERTopic - Reduced dimensionality\n",
            "2023-04-11 20:00:23,914 - BERTopic - Clustered reduced embeddings\n"
          ]
        }
      ],
      "source": [
        "from bertopic import BERTopic\n",
        "\n",
        "model = BERTopic(\n",
        "    umap_model=umap_model,\n",
        "    hdbscan_model=hdbscan_model,\n",
        "    embedding_model=embedding_model,\n",
        "    vectorizer_model=vectorizer_model,\n",
        "    top_n_words=10,\n",
        "    language='english',\n",
        "    calculate_probabilities=True,\n",
        "    verbose=True\n",
        ")\n",
        "topics, probs = model.fit_transform(data)"
      ]
    },
    {
      "cell_type": "code",
      "execution_count": 32,
      "metadata": {
        "id": "GBeWhxmm4hiP"
      },
      "outputs": [],
      "source": [
        "# Save the model in the previously created folder with the name 'my_best_model'\n",
        "model.save(\"./nigel_bert\")"
      ]
    },
    {
      "cell_type": "code",
      "execution_count": 35,
      "metadata": {
        "colab": {
          "base_uri": "https://localhost:8080/"
        },
        "id": "F3U4qYyV6Yv8",
        "outputId": "593f1270-ba5a-46eb-b149-20b2aa6303f5"
      },
      "outputs": [
        {
          "name": "stderr",
          "output_type": "stream",
          "text": [
            "[nltk_data] Downloading package wordnet to /root/nltk_data...\n",
            "[nltk_data] Downloading package omw-1.4 to /root/nltk_data...\n",
            "[nltk_data] Downloading package punkt to /root/nltk_data...\n",
            "[nltk_data]   Unzipping tokenizers/punkt.zip.\n"
          ]
        },
        {
          "name": "stdout",
          "output_type": "stream",
          "text": [
            "['This is a very healthy dog food. Good for their digestion. Also good for small puppies. My dog eats her required amount at every feeding.']\n"
          ]
        }
      ],
      "source": [
        "#If the following packages are not already downloaded, the following lines are needed \n",
        "nltk.download('wordnet')\n",
        "nltk.download('omw-1.4')\n",
        "nltk.download('punkt')\n",
        "from nltk.stem import WordNetLemmatizer\n",
        "\n",
        "filtered_text = []\n",
        "lemmatizer = WordNetLemmatizer()\n",
        "\n",
        "for w in data:\n",
        "  filtered_text.append(lemmatizer.lemmatize(w))\n",
        "print(filtered_text[:1])"
      ]
    },
    {
      "cell_type": "code",
      "execution_count": 37,
      "metadata": {
        "id": "2q0kDcEB60ES"
      },
      "outputs": [],
      "source": [
        "from bertopic.vectorizers import ClassTfidfTransformer\n",
        "# Step 2.5 - Create topic representation\n",
        "ctfidf_model = ClassTfidfTransformer()"
      ]
    },
    {
      "cell_type": "code",
      "execution_count": 43,
      "metadata": {
        "id": "jlz4qhSZ65Kf"
      },
      "outputs": [],
      "source": [
        "topic_model = BERTopic(\n",
        "  embedding_model=embedding_model,    # Step 1 - Extract embeddings\n",
        "  umap_model=umap_model,              # Step 2 - Reduce dimensionality\n",
        "  hdbscan_model=hdbscan_model,        # Step 3 - Cluster reduced embeddings\n",
        "  vectorizer_model=vectorizer_model,  # Step 4 - Tokenize topics\n",
        "  ctfidf_model=ctfidf_model,          # Step 5 - Extract topic words\n",
        "  nr_topics=10                        # Step 6 - Diversify topic words\n",
        ")"
      ]
    },
    {
      "cell_type": "code",
      "execution_count": null,
      "metadata": {
        "id": "MojAuEDo9H3p"
      },
      "outputs": [],
      "source": [
        "#topics, probabilities = topic_model.fit_transform(filtered_text)"
      ]
    },
    {
      "cell_type": "code",
      "execution_count": 50,
      "metadata": {
        "id": "BNPOiug_9gn6"
      },
      "outputs": [],
      "source": [
        "from sklearn.feature_extraction.text import CountVectorizer\n",
        "from bertopic.vectorizers import ClassTfidfTransformer\n",
        "from gensim.models.coherencemodel import CoherenceModel\n",
        "import gensim.corpora as corpora"
      ]
    },
    {
      "cell_type": "code",
      "execution_count": 51,
      "metadata": {
        "id": "KQEEUehK9T3w"
      },
      "outputs": [],
      "source": [
        "documents = pd.DataFrame({\"Document\": filtered_text,\n",
        "                          \"ID\": range(len(filtered_text)),\n",
        "                          \"Topic\": topics})\n",
        "documents_per_topic = documents.groupby(['Topic'], as_index=False).agg({'Document': ' '.join})\n",
        "cleaned_docs = model._preprocess_text(documents_per_topic.Document.values)\n",
        "\n",
        "# Extract vectorizer and analyzer from BERTopic\n",
        "vectorizer = model.vectorizer_model\n",
        "analyzer = vectorizer.build_analyzer()\n",
        "\n",
        "# Extract features for Topic Coherence evaluation\n",
        "words = vectorizer.get_feature_names_out()\n",
        "tokens = [analyzer(doc) for doc in cleaned_docs]\n",
        "dictionary = corpora.Dictionary(tokens)\n",
        "corpus = [dictionary.doc2bow(token) for token in tokens]\n",
        "topic_words = [[words for words, _ in model.get_topic(topic)] \n",
        "               for topic in range(len(set(topics))-1)]\n",
        "\n",
        "# Evaluate\n",
        "coherence_model = CoherenceModel(topics=topic_words, \n",
        "                                 texts=tokens, \n",
        "                                 corpus=corpus,\n",
        "                                 dictionary=dictionary, \n",
        "                                 coherence='c_v')\n",
        "coherence = coherence_model.get_coherence()"
      ]
    },
    {
      "cell_type": "code",
      "execution_count": 52,
      "metadata": {
        "colab": {
          "base_uri": "https://localhost:8080/"
        },
        "id": "FG7_MNIN9-Pc",
        "outputId": "6014a9b5-efc0-437d-84a8-ea3bcc599f01"
      },
      "outputs": [
        {
          "name": "stdout",
          "output_type": "stream",
          "text": [
            "0.6808601199657041\n"
          ]
        }
      ],
      "source": [
        "print(coherence)"
      ]
    },
    {
      "cell_type": "code",
      "execution_count": null,
      "metadata": {
        "id": "yJVTUloD4i0A"
      },
      "outputs": [],
      "source": [
        "\n",
        "# Load the serialized model\n",
        "# my_best_model = BERTopic.load(\"./model_dir/my_best_model\")"
      ]
    },
    {
      "cell_type": "code",
      "execution_count": null,
      "metadata": {
        "id": "wXsXGCtP4ZoH"
      },
      "outputs": [],
      "source": [
        "model.visualize_barchart()"
      ]
    },
    {
      "cell_type": "code",
      "execution_count": 14,
      "metadata": {
        "id": "RrSj-LaHngf_"
      },
      "outputs": [],
      "source": [
        "top_10_words_berttopic.to_csv('top_10_words_bert.csv', index=False)"
      ]
    },
    {
      "cell_type": "code",
      "execution_count": 13,
      "metadata": {
        "id": "zWEqLwICliPA"
      },
      "outputs": [],
      "source": [
        "fig = model.visualize_barchart()"
      ]
    },
    {
      "cell_type": "code",
      "execution_count": 10,
      "metadata": {
        "id": "hUfoqnUhlqB3"
      },
      "outputs": [],
      "source": [
        "fig.write_html(\"file.html\")"
      ]
    },
    {
      "cell_type": "code",
      "execution_count": 14,
      "metadata": {
        "colab": {
          "base_uri": "https://localhost:8080/",
          "height": 538
        },
        "id": "3SGPlaw6lryy",
        "outputId": "ce02575a-9e46-4491-b8c8-4ec394b0ec3c"
      },
      "outputs": [
        {
          "data": {
            "text/html": [
              "<html>\n",
              "<head><meta charset=\"utf-8\" /></head>\n",
              "<body>\n",
              "    <div>            <script src=\"https://cdnjs.cloudflare.com/ajax/libs/mathjax/2.7.5/MathJax.js?config=TeX-AMS-MML_SVG\"></script><script type=\"text/javascript\">if (window.MathJax && window.MathJax.Hub && window.MathJax.Hub.Config) {window.MathJax.Hub.Config({SVG: {font: \"STIX-Web\"}});}</script>                <script type=\"text/javascript\">window.PlotlyConfig = {MathJaxConfig: 'local'};</script>\n",
              "        <script src=\"https://cdn.plot.ly/plotly-2.18.2.min.js\"></script>                <div id=\"59969857-2148-4c59-9fa1-d7e11057df13\" class=\"plotly-graph-div\" style=\"height:500px; width:1000px;\"></div>            <script type=\"text/javascript\">                                    window.PLOTLYENV=window.PLOTLYENV || {};                                    if (document.getElementById(\"59969857-2148-4c59-9fa1-d7e11057df13\")) {                    Plotly.newPlot(                        \"59969857-2148-4c59-9fa1-d7e11057df13\",                        [{\"marker\":{\"color\":\"#D55E00\"},\"orientation\":\"h\",\"x\":[0.009083318479627274,0.009480042577833688,0.009494295152119749,0.010011568125539022,0.01934375851286848],\"y\":[\"good  \",\"great  \",\"taste  \",\"spicy  \",\"sauce  \"],\"type\":\"bar\",\"xaxis\":\"x\",\"yaxis\":\"y\"},{\"marker\":{\"color\":\"#0072B2\"},\"orientation\":\"h\",\"x\":[0.009547901104667926,0.010788690112699359,0.01177226940792277,0.012580618598386375,0.05526220544315021],\"y\":[\"like  \",\"roast  \",\"coffees  \",\"cup  \",\"coffee  \"],\"type\":\"bar\",\"xaxis\":\"x2\",\"yaxis\":\"y2\"},{\"marker\":{\"color\":\"#CC79A7\"},\"orientation\":\"h\",\"x\":[0.009300625680574406,0.014570432968312457,0.014815270201685913,0.016285683955459634,0.06744288183638146],\"y\":[\"drink  \",\"green tea  \",\"green  \",\"teas  \",\"tea  \"],\"type\":\"bar\",\"xaxis\":\"x3\",\"yaxis\":\"y3\"},{\"marker\":{\"color\":\"#E69F00\"},\"orientation\":\"h\",\"x\":[0.013749547036977134,0.01488363723175337,0.015331914646269344,0.01734756812356843,0.06205942124546947],\"y\":[\"chip  \",\"potato  \",\"bag  \",\"kettle  \",\"chips  \"],\"type\":\"bar\",\"xaxis\":\"x4\",\"yaxis\":\"y4\"},{\"marker\":{\"color\":\"#56B4E9\"},\"orientation\":\"h\",\"x\":[0.021301918716667246,0.02211997098776189,0.032252118217777966,0.032798038227471495,0.03383742624484459],\"y\":[\"tangerine  \",\"drink  \",\"soda  \",\"juice  \",\"orange  \"],\"type\":\"bar\",\"xaxis\":\"x5\",\"yaxis\":\"y5\"},{\"marker\":{\"color\":\"#009E73\"},\"orientation\":\"h\",\"x\":[0.010920599784771152,0.0118592640595915,0.025868324461309617,0.027488486057504383,0.030866767519654267],\"y\":[\"loves  \",\"price  \",\"dogs  \",\"treats  \",\"dog  \"],\"type\":\"bar\",\"xaxis\":\"x6\",\"yaxis\":\"y6\"},{\"marker\":{\"color\":\"#F0E442\"},\"orientation\":\"h\",\"x\":[0.023573220168016558,0.02422584853079123,0.03224902288031462,0.033958545185461715,0.03472726081946683],\"y\":[\"cup  \",\"kcup  \",\"coffee  \",\"kcups  \",\"keurig  \"],\"type\":\"bar\",\"xaxis\":\"x7\",\"yaxis\":\"y7\"},{\"marker\":{\"color\":\"#D55E00\"},\"orientation\":\"h\",\"x\":[0.013528504954933764,0.01736929691085592,0.01802146742646912,0.03998174711452111,0.06421569532018839],\"y\":[\"fiber  \",\"protein  \",\"snack  \",\"bar  \",\"bars  \"],\"type\":\"bar\",\"xaxis\":\"x8\",\"yaxis\":\"y8\"}],                        {\"template\":{\"data\":{\"barpolar\":[{\"marker\":{\"line\":{\"color\":\"white\",\"width\":0.5},\"pattern\":{\"fillmode\":\"overlay\",\"size\":10,\"solidity\":0.2}},\"type\":\"barpolar\"}],\"bar\":[{\"error_x\":{\"color\":\"#2a3f5f\"},\"error_y\":{\"color\":\"#2a3f5f\"},\"marker\":{\"line\":{\"color\":\"white\",\"width\":0.5},\"pattern\":{\"fillmode\":\"overlay\",\"size\":10,\"solidity\":0.2}},\"type\":\"bar\"}],\"carpet\":[{\"aaxis\":{\"endlinecolor\":\"#2a3f5f\",\"gridcolor\":\"#C8D4E3\",\"linecolor\":\"#C8D4E3\",\"minorgridcolor\":\"#C8D4E3\",\"startlinecolor\":\"#2a3f5f\"},\"baxis\":{\"endlinecolor\":\"#2a3f5f\",\"gridcolor\":\"#C8D4E3\",\"linecolor\":\"#C8D4E3\",\"minorgridcolor\":\"#C8D4E3\",\"startlinecolor\":\"#2a3f5f\"},\"type\":\"carpet\"}],\"choropleth\":[{\"colorbar\":{\"outlinewidth\":0,\"ticks\":\"\"},\"type\":\"choropleth\"}],\"contourcarpet\":[{\"colorbar\":{\"outlinewidth\":0,\"ticks\":\"\"},\"type\":\"contourcarpet\"}],\"contour\":[{\"colorbar\":{\"outlinewidth\":0,\"ticks\":\"\"},\"colorscale\":[[0.0,\"#0d0887\"],[0.1111111111111111,\"#46039f\"],[0.2222222222222222,\"#7201a8\"],[0.3333333333333333,\"#9c179e\"],[0.4444444444444444,\"#bd3786\"],[0.5555555555555556,\"#d8576b\"],[0.6666666666666666,\"#ed7953\"],[0.7777777777777778,\"#fb9f3a\"],[0.8888888888888888,\"#fdca26\"],[1.0,\"#f0f921\"]],\"type\":\"contour\"}],\"heatmapgl\":[{\"colorbar\":{\"outlinewidth\":0,\"ticks\":\"\"},\"colorscale\":[[0.0,\"#0d0887\"],[0.1111111111111111,\"#46039f\"],[0.2222222222222222,\"#7201a8\"],[0.3333333333333333,\"#9c179e\"],[0.4444444444444444,\"#bd3786\"],[0.5555555555555556,\"#d8576b\"],[0.6666666666666666,\"#ed7953\"],[0.7777777777777778,\"#fb9f3a\"],[0.8888888888888888,\"#fdca26\"],[1.0,\"#f0f921\"]],\"type\":\"heatmapgl\"}],\"heatmap\":[{\"colorbar\":{\"outlinewidth\":0,\"ticks\":\"\"},\"colorscale\":[[0.0,\"#0d0887\"],[0.1111111111111111,\"#46039f\"],[0.2222222222222222,\"#7201a8\"],[0.3333333333333333,\"#9c179e\"],[0.4444444444444444,\"#bd3786\"],[0.5555555555555556,\"#d8576b\"],[0.6666666666666666,\"#ed7953\"],[0.7777777777777778,\"#fb9f3a\"],[0.8888888888888888,\"#fdca26\"],[1.0,\"#f0f921\"]],\"type\":\"heatmap\"}],\"histogram2dcontour\":[{\"colorbar\":{\"outlinewidth\":0,\"ticks\":\"\"},\"colorscale\":[[0.0,\"#0d0887\"],[0.1111111111111111,\"#46039f\"],[0.2222222222222222,\"#7201a8\"],[0.3333333333333333,\"#9c179e\"],[0.4444444444444444,\"#bd3786\"],[0.5555555555555556,\"#d8576b\"],[0.6666666666666666,\"#ed7953\"],[0.7777777777777778,\"#fb9f3a\"],[0.8888888888888888,\"#fdca26\"],[1.0,\"#f0f921\"]],\"type\":\"histogram2dcontour\"}],\"histogram2d\":[{\"colorbar\":{\"outlinewidth\":0,\"ticks\":\"\"},\"colorscale\":[[0.0,\"#0d0887\"],[0.1111111111111111,\"#46039f\"],[0.2222222222222222,\"#7201a8\"],[0.3333333333333333,\"#9c179e\"],[0.4444444444444444,\"#bd3786\"],[0.5555555555555556,\"#d8576b\"],[0.6666666666666666,\"#ed7953\"],[0.7777777777777778,\"#fb9f3a\"],[0.8888888888888888,\"#fdca26\"],[1.0,\"#f0f921\"]],\"type\":\"histogram2d\"}],\"histogram\":[{\"marker\":{\"pattern\":{\"fillmode\":\"overlay\",\"size\":10,\"solidity\":0.2}},\"type\":\"histogram\"}],\"mesh3d\":[{\"colorbar\":{\"outlinewidth\":0,\"ticks\":\"\"},\"type\":\"mesh3d\"}],\"parcoords\":[{\"line\":{\"colorbar\":{\"outlinewidth\":0,\"ticks\":\"\"}},\"type\":\"parcoords\"}],\"pie\":[{\"automargin\":true,\"type\":\"pie\"}],\"scatter3d\":[{\"line\":{\"colorbar\":{\"outlinewidth\":0,\"ticks\":\"\"}},\"marker\":{\"colorbar\":{\"outlinewidth\":0,\"ticks\":\"\"}},\"type\":\"scatter3d\"}],\"scattercarpet\":[{\"marker\":{\"colorbar\":{\"outlinewidth\":0,\"ticks\":\"\"}},\"type\":\"scattercarpet\"}],\"scattergeo\":[{\"marker\":{\"colorbar\":{\"outlinewidth\":0,\"ticks\":\"\"}},\"type\":\"scattergeo\"}],\"scattergl\":[{\"marker\":{\"colorbar\":{\"outlinewidth\":0,\"ticks\":\"\"}},\"type\":\"scattergl\"}],\"scattermapbox\":[{\"marker\":{\"colorbar\":{\"outlinewidth\":0,\"ticks\":\"\"}},\"type\":\"scattermapbox\"}],\"scatterpolargl\":[{\"marker\":{\"colorbar\":{\"outlinewidth\":0,\"ticks\":\"\"}},\"type\":\"scatterpolargl\"}],\"scatterpolar\":[{\"marker\":{\"colorbar\":{\"outlinewidth\":0,\"ticks\":\"\"}},\"type\":\"scatterpolar\"}],\"scatter\":[{\"fillpattern\":{\"fillmode\":\"overlay\",\"size\":10,\"solidity\":0.2},\"type\":\"scatter\"}],\"scatterternary\":[{\"marker\":{\"colorbar\":{\"outlinewidth\":0,\"ticks\":\"\"}},\"type\":\"scatterternary\"}],\"surface\":[{\"colorbar\":{\"outlinewidth\":0,\"ticks\":\"\"},\"colorscale\":[[0.0,\"#0d0887\"],[0.1111111111111111,\"#46039f\"],[0.2222222222222222,\"#7201a8\"],[0.3333333333333333,\"#9c179e\"],[0.4444444444444444,\"#bd3786\"],[0.5555555555555556,\"#d8576b\"],[0.6666666666666666,\"#ed7953\"],[0.7777777777777778,\"#fb9f3a\"],[0.8888888888888888,\"#fdca26\"],[1.0,\"#f0f921\"]],\"type\":\"surface\"}],\"table\":[{\"cells\":{\"fill\":{\"color\":\"#EBF0F8\"},\"line\":{\"color\":\"white\"}},\"header\":{\"fill\":{\"color\":\"#C8D4E3\"},\"line\":{\"color\":\"white\"}},\"type\":\"table\"}]},\"layout\":{\"annotationdefaults\":{\"arrowcolor\":\"#2a3f5f\",\"arrowhead\":0,\"arrowwidth\":1},\"autotypenumbers\":\"strict\",\"coloraxis\":{\"colorbar\":{\"outlinewidth\":0,\"ticks\":\"\"}},\"colorscale\":{\"diverging\":[[0,\"#8e0152\"],[0.1,\"#c51b7d\"],[0.2,\"#de77ae\"],[0.3,\"#f1b6da\"],[0.4,\"#fde0ef\"],[0.5,\"#f7f7f7\"],[0.6,\"#e6f5d0\"],[0.7,\"#b8e186\"],[0.8,\"#7fbc41\"],[0.9,\"#4d9221\"],[1,\"#276419\"]],\"sequential\":[[0.0,\"#0d0887\"],[0.1111111111111111,\"#46039f\"],[0.2222222222222222,\"#7201a8\"],[0.3333333333333333,\"#9c179e\"],[0.4444444444444444,\"#bd3786\"],[0.5555555555555556,\"#d8576b\"],[0.6666666666666666,\"#ed7953\"],[0.7777777777777778,\"#fb9f3a\"],[0.8888888888888888,\"#fdca26\"],[1.0,\"#f0f921\"]],\"sequentialminus\":[[0.0,\"#0d0887\"],[0.1111111111111111,\"#46039f\"],[0.2222222222222222,\"#7201a8\"],[0.3333333333333333,\"#9c179e\"],[0.4444444444444444,\"#bd3786\"],[0.5555555555555556,\"#d8576b\"],[0.6666666666666666,\"#ed7953\"],[0.7777777777777778,\"#fb9f3a\"],[0.8888888888888888,\"#fdca26\"],[1.0,\"#f0f921\"]]},\"colorway\":[\"#636efa\",\"#EF553B\",\"#00cc96\",\"#ab63fa\",\"#FFA15A\",\"#19d3f3\",\"#FF6692\",\"#B6E880\",\"#FF97FF\",\"#FECB52\"],\"font\":{\"color\":\"#2a3f5f\"},\"geo\":{\"bgcolor\":\"white\",\"lakecolor\":\"white\",\"landcolor\":\"white\",\"showlakes\":true,\"showland\":true,\"subunitcolor\":\"#C8D4E3\"},\"hoverlabel\":{\"align\":\"left\"},\"hovermode\":\"closest\",\"mapbox\":{\"style\":\"light\"},\"paper_bgcolor\":\"white\",\"plot_bgcolor\":\"white\",\"polar\":{\"angularaxis\":{\"gridcolor\":\"#EBF0F8\",\"linecolor\":\"#EBF0F8\",\"ticks\":\"\"},\"bgcolor\":\"white\",\"radialaxis\":{\"gridcolor\":\"#EBF0F8\",\"linecolor\":\"#EBF0F8\",\"ticks\":\"\"}},\"scene\":{\"xaxis\":{\"backgroundcolor\":\"white\",\"gridcolor\":\"#DFE8F3\",\"gridwidth\":2,\"linecolor\":\"#EBF0F8\",\"showbackground\":true,\"ticks\":\"\",\"zerolinecolor\":\"#EBF0F8\"},\"yaxis\":{\"backgroundcolor\":\"white\",\"gridcolor\":\"#DFE8F3\",\"gridwidth\":2,\"linecolor\":\"#EBF0F8\",\"showbackground\":true,\"ticks\":\"\",\"zerolinecolor\":\"#EBF0F8\"},\"zaxis\":{\"backgroundcolor\":\"white\",\"gridcolor\":\"#DFE8F3\",\"gridwidth\":2,\"linecolor\":\"#EBF0F8\",\"showbackground\":true,\"ticks\":\"\",\"zerolinecolor\":\"#EBF0F8\"}},\"shapedefaults\":{\"line\":{\"color\":\"#2a3f5f\"}},\"ternary\":{\"aaxis\":{\"gridcolor\":\"#DFE8F3\",\"linecolor\":\"#A2B1C6\",\"ticks\":\"\"},\"baxis\":{\"gridcolor\":\"#DFE8F3\",\"linecolor\":\"#A2B1C6\",\"ticks\":\"\"},\"bgcolor\":\"white\",\"caxis\":{\"gridcolor\":\"#DFE8F3\",\"linecolor\":\"#A2B1C6\",\"ticks\":\"\"}},\"title\":{\"x\":0.05},\"xaxis\":{\"automargin\":true,\"gridcolor\":\"#EBF0F8\",\"linecolor\":\"#EBF0F8\",\"ticks\":\"\",\"title\":{\"standoff\":15},\"zerolinecolor\":\"#EBF0F8\",\"zerolinewidth\":2},\"yaxis\":{\"automargin\":true,\"gridcolor\":\"#EBF0F8\",\"linecolor\":\"#EBF0F8\",\"ticks\":\"\",\"title\":{\"standoff\":15},\"zerolinecolor\":\"#EBF0F8\",\"zerolinewidth\":2}}},\"xaxis\":{\"anchor\":\"y\",\"domain\":[0.0,0.175],\"showgrid\":true},\"yaxis\":{\"anchor\":\"x\",\"domain\":[0.6000000000000001,1.0],\"showgrid\":true},\"xaxis2\":{\"anchor\":\"y2\",\"domain\":[0.275,0.45],\"showgrid\":true},\"yaxis2\":{\"anchor\":\"x2\",\"domain\":[0.6000000000000001,1.0],\"showgrid\":true},\"xaxis3\":{\"anchor\":\"y3\",\"domain\":[0.55,0.7250000000000001],\"showgrid\":true},\"yaxis3\":{\"anchor\":\"x3\",\"domain\":[0.6000000000000001,1.0],\"showgrid\":true},\"xaxis4\":{\"anchor\":\"y4\",\"domain\":[0.825,1.0],\"showgrid\":true},\"yaxis4\":{\"anchor\":\"x4\",\"domain\":[0.6000000000000001,1.0],\"showgrid\":true},\"xaxis5\":{\"anchor\":\"y5\",\"domain\":[0.0,0.175],\"showgrid\":true},\"yaxis5\":{\"anchor\":\"x5\",\"domain\":[0.0,0.4],\"showgrid\":true},\"xaxis6\":{\"anchor\":\"y6\",\"domain\":[0.275,0.45],\"showgrid\":true},\"yaxis6\":{\"anchor\":\"x6\",\"domain\":[0.0,0.4],\"showgrid\":true},\"xaxis7\":{\"anchor\":\"y7\",\"domain\":[0.55,0.7250000000000001],\"showgrid\":true},\"yaxis7\":{\"anchor\":\"x7\",\"domain\":[0.0,0.4],\"showgrid\":true},\"xaxis8\":{\"anchor\":\"y8\",\"domain\":[0.825,1.0],\"showgrid\":true},\"yaxis8\":{\"anchor\":\"x8\",\"domain\":[0.0,0.4],\"showgrid\":true},\"annotations\":[{\"font\":{\"size\":16},\"showarrow\":false,\"text\":\"Topic 0\",\"x\":0.0875,\"xanchor\":\"center\",\"xref\":\"paper\",\"y\":1.0,\"yanchor\":\"bottom\",\"yref\":\"paper\"},{\"font\":{\"size\":16},\"showarrow\":false,\"text\":\"Topic 1\",\"x\":0.36250000000000004,\"xanchor\":\"center\",\"xref\":\"paper\",\"y\":1.0,\"yanchor\":\"bottom\",\"yref\":\"paper\"},{\"font\":{\"size\":16},\"showarrow\":false,\"text\":\"Topic 2\",\"x\":0.6375000000000001,\"xanchor\":\"center\",\"xref\":\"paper\",\"y\":1.0,\"yanchor\":\"bottom\",\"yref\":\"paper\"},{\"font\":{\"size\":16},\"showarrow\":false,\"text\":\"Topic 3\",\"x\":0.9125,\"xanchor\":\"center\",\"xref\":\"paper\",\"y\":1.0,\"yanchor\":\"bottom\",\"yref\":\"paper\"},{\"font\":{\"size\":16},\"showarrow\":false,\"text\":\"Topic 4\",\"x\":0.0875,\"xanchor\":\"center\",\"xref\":\"paper\",\"y\":0.4,\"yanchor\":\"bottom\",\"yref\":\"paper\"},{\"font\":{\"size\":16},\"showarrow\":false,\"text\":\"Topic 5\",\"x\":0.36250000000000004,\"xanchor\":\"center\",\"xref\":\"paper\",\"y\":0.4,\"yanchor\":\"bottom\",\"yref\":\"paper\"},{\"font\":{\"size\":16},\"showarrow\":false,\"text\":\"Topic 6\",\"x\":0.6375000000000001,\"xanchor\":\"center\",\"xref\":\"paper\",\"y\":0.4,\"yanchor\":\"bottom\",\"yref\":\"paper\"},{\"font\":{\"size\":16},\"showarrow\":false,\"text\":\"Topic 7\",\"x\":0.9125,\"xanchor\":\"center\",\"xref\":\"paper\",\"y\":0.4,\"yanchor\":\"bottom\",\"yref\":\"paper\"}],\"title\":{\"font\":{\"size\":22,\"color\":\"Black\"},\"text\":\"Topic Word Scores\",\"x\":0.5,\"xanchor\":\"center\",\"yanchor\":\"top\"},\"hoverlabel\":{\"font\":{\"size\":16,\"family\":\"Rockwell\"},\"bgcolor\":\"white\"},\"showlegend\":false,\"width\":1000,\"height\":500},                        {\"responsive\": true}                    ).then(function(){\n",
              "                            \n",
              "var gd = document.getElementById('59969857-2148-4c59-9fa1-d7e11057df13');\n",
              "var x = new MutationObserver(function (mutations, observer) {{\n",
              "        var display = window.getComputedStyle(gd).display;\n",
              "        if (!display || display === 'none') {{\n",
              "            console.log([gd, 'removed!']);\n",
              "            Plotly.purge(gd);\n",
              "            observer.disconnect();\n",
              "        }}\n",
              "}});\n",
              "\n",
              "// Listen for the removal of the full notebook cells\n",
              "var notebookContainer = gd.closest('#notebook-container');\n",
              "if (notebookContainer) {{\n",
              "    x.observe(notebookContainer, {childList: true});\n",
              "}}\n",
              "\n",
              "// Listen for the clearing of the current output cell\n",
              "var outputEl = gd.closest('.output');\n",
              "if (outputEl) {{\n",
              "    x.observe(outputEl, {childList: true});\n",
              "}}\n",
              "\n",
              "                        })                };                            </script>        </div>\n",
              "</body>\n",
              "</html>"
            ]
          },
          "metadata": {},
          "output_type": "display_data"
        }
      ],
      "source": [
        "fig"
      ]
    },
    {
      "cell_type": "code",
      "execution_count": 15,
      "metadata": {
        "colab": {
          "base_uri": "https://localhost:8080/"
        },
        "id": "GNZFfvOQn9eN",
        "outputId": "f38ec237-4de0-4266-c9d2-9c230b21a813"
      },
      "outputs": [
        {
          "name": "stderr",
          "output_type": "stream",
          "text": [
            "19it [00:18,  1.03it/s]\n"
          ]
        }
      ],
      "source": [
        "topics_over_time = model.topics_over_time(data_list, time_list, nr_bins=20)"
      ]
    },
    {
      "cell_type": "code",
      "execution_count": 17,
      "metadata": {
        "colab": {
          "base_uri": "https://localhost:8080/",
          "height": 487
        },
        "id": "2VWQMZKD4Eb7",
        "outputId": "89138b2e-2495-4828-cdc9-d24e37489a10"
      },
      "outputs": [
        {
          "data": {
            "text/html": [
              "<html>\n",
              "<head><meta charset=\"utf-8\" /></head>\n",
              "<body>\n",
              "    <div>            <script src=\"https://cdnjs.cloudflare.com/ajax/libs/mathjax/2.7.5/MathJax.js?config=TeX-AMS-MML_SVG\"></script><script type=\"text/javascript\">if (window.MathJax && window.MathJax.Hub && window.MathJax.Hub.Config) {window.MathJax.Hub.Config({SVG: {font: \"STIX-Web\"}});}</script>                <script type=\"text/javascript\">window.PlotlyConfig = {MathJaxConfig: 'local'};</script>\n",
              "        <script src=\"https://cdn.plot.ly/plotly-2.18.2.min.js\"></script>                <div id=\"6b8c3665-d5ee-4e04-8c0d-4f03137e3ce8\" class=\"plotly-graph-div\" style=\"height:450px; width:1250px;\"></div>            <script type=\"text/javascript\">                                    window.PLOTLYENV=window.PLOTLYENV || {};                                    if (document.getElementById(\"6b8c3665-d5ee-4e04-8c0d-4f03137e3ce8\")) {                    Plotly.newPlot(                        \"6b8c3665-d5ee-4e04-8c0d-4f03137e3ce8\",                        [{\"hoverinfo\":\"text\",\"hovertext\":[\"<b>Topic 0</b><br>Words: sauce, pleasently surprisedits, fish chowder, kick loads, outerbridges sherry\",\"<b>Topic 0</b><br>Words: favor smoothies, stores having, rub awesome, ones came, average buy\",\"<b>Topic 0</b><br>Words: mom mothers, day like, gift mom, lot taste, mothers day\",\"<b>Topic 0</b><br>Words: meat, tried meat, brother mother, subscribing automatic, soups rubs\",\"<b>Topic 0</b><br>Words: linguine, chicken tikka, tikka masala, tikka, masala\",\"<b>Topic 0</b><br>Words: baronet, liquid ordered, brand sense, kick gives, reorder sure\",\"<b>Topic 0</b><br>Words: grams, chili, 16 grams, size servings, type dinner\",\"<b>Topic 0</b><br>Words: matcha, pure matcha, sauce, pure, quality price\",\"<b>Topic 0</b><br>Words: sauce, great, taste, good, chicken\",\"<b>Topic 0</b><br>Words: sauce, used, rub, curry, kraft\",\"<b>Topic 0</b><br>Words: jerk, sauce, good, cayenne pepper, cayenne\",\"<b>Topic 0</b><br>Words: variant, firehouse variant, firehouse, chili, pat\",\"<b>Topic 0</b><br>Words: sauce, chili, spice, chicken, garlic\",\"<b>Topic 0</b><br>Words: sauce, ham, chicken, great, spicy\",\"<b>Topic 0</b><br>Words: sauce, spicy, great, hot, good\",\"<b>Topic 0</b><br>Words: sauce, spicy, taste, great, good\",\"<b>Topic 0</b><br>Words: sauce, hot, gravy, product, turkey\"],\"marker\":{\"color\":\"#E69F00\"},\"mode\":\"lines\",\"name\":\"0_sauce_spicy_taste_great\",\"x\":[\"2017-12-20T04:48:00\",\"2018-03-10T19:12:00\",\"2018-05-30T09:36:00\",\"2018-08-19T00:00:00\",\"2019-01-27T04:48:00\",\"2019-04-17T19:12:00\",\"2019-07-07T09:36:00\",\"2019-09-26T00:00:00\",\"2019-12-15T14:24:00\",\"2020-03-05T04:48:00\",\"2020-05-24T19:12:00\",\"2020-08-13T09:36:00\",\"2020-11-02T00:00:00\",\"2021-01-21T14:24:00\",\"2021-04-12T04:48:00\",\"2021-07-01T19:12:00\",\"2021-09-20T09:36:00\"],\"y\":[3,3,1,7,3,3,4,11,29,11,19,14,31,38,77,72,63],\"type\":\"scatter\"},{\"hoverinfo\":\"text\",\"hovertext\":[\"<b>Topic 1</b><br>Words: italy, coffee, comes dark, ordered 150, target ground\",\"<b>Topic 1</b><br>Words: coffee, dark sumatra, dark, sumatra, ground coffee\",\"<b>Topic 1</b><br>Words: coffee, starbucks coffee, starbucks, tassimo, hazelnut\",\"<b>Topic 1</b><br>Words: coffee, folgers, bean, really, smooth\",\"<b>Topic 1</b><br>Words: nespresso, coffee, pods, coffee local, emerils\",\"<b>Topic 1</b><br>Words: coffees, gourment, epitome, coffees great, flavor truly\",\"<b>Topic 1</b><br>Words: tried drinking, times tastes, rest dont, chemicalartificial taste, chemicalartificial\",\"<b>Topic 1</b><br>Words: coffee, beans, overroasted, strong, coffee ive\",\"<b>Topic 1</b><br>Words: coffee, pods 5998, 50 pods, 5998, instant\",\"<b>Topic 1</b><br>Words: coffee, coffees, roast, jamaica, cup\",\"<b>Topic 1</b><br>Words: coffee, cup, starbucks, freshly ground, freshly\",\"<b>Topic 1</b><br>Words: coffee, creamers, hazelnut, cup, irish creme\",\"<b>Topic 1</b><br>Words: coffee, roast, darkness, darkness roast, artificially flavored\",\"<b>Topic 1</b><br>Words: coffee, cup, coffees, tried, flavor\",\"<b>Topic 1</b><br>Words: coffee, cup, pods, roast, cup coffee\",\"<b>Topic 1</b><br>Words: coffee, cup, coffees, like, bitter\",\"<b>Topic 1</b><br>Words: coffee, coffees, espresso, pods, roast\",\"<b>Topic 1</b><br>Words: coffee, roast, cup, coffees, starbucks\"],\"marker\":{\"color\":\"#56B4E9\"},\"mode\":\"lines\",\"name\":\"1_coffee_cup_coffees_roast\",\"x\":[\"2017-12-20T04:48:00\",\"2018-03-10T19:12:00\",\"2018-05-30T09:36:00\",\"2018-08-19T00:00:00\",\"2018-11-07T14:24:00\",\"2019-01-27T04:48:00\",\"2019-04-17T19:12:00\",\"2019-07-07T09:36:00\",\"2019-09-26T00:00:00\",\"2019-12-15T14:24:00\",\"2020-03-05T04:48:00\",\"2020-05-24T19:12:00\",\"2020-08-13T09:36:00\",\"2020-11-02T00:00:00\",\"2021-01-21T14:24:00\",\"2021-04-12T04:48:00\",\"2021-07-01T19:12:00\",\"2021-09-20T09:36:00\"],\"y\":[3,5,4,11,4,2,1,8,11,29,8,19,7,18,41,83,50,51],\"type\":\"scatter\"},{\"hoverinfo\":\"text\",\"hovertext\":[\"<b>Topic 2</b><br>Words: tea, peach, little bit, different, fan fruit\",\"<b>Topic 2</b><br>Words: tea, rose, rose hips, hips, dont standard\",\"<b>Topic 2</b><br>Words: tea, ice tea, ice, summer, englishstyle\",\"<b>Topic 2</b><br>Words: tea, slimming teas, slimming, teas, refreshing\",\"<b>Topic 2</b><br>Words: tried itbr, itbr mild, super flavor, happily satisfied, taste balanced\",\"<b>Topic 2</b><br>Words: amazing works, works sparkling, adding dash, flavor lemonadebr, dash flavor\",\"<b>Topic 2</b><br>Words: tea, barley, barley tea, drink, didnt really\",\"<b>Topic 2</b><br>Words: tea, green tea, iced tea, iced, green\",\"<b>Topic 2</b><br>Words: tea, teas, green, drink, green tea\",\"<b>Topic 2</b><br>Words: tea, green tea, green, half, teas\",\"<b>Topic 2</b><br>Words: tea, green, green tea, teas, iced\",\"<b>Topic 2</b><br>Words: tea, tea bags, add water, add, green tea\",\"<b>Topic 2</b><br>Words: tea, teas, green, green tea, like\",\"<b>Topic 2</b><br>Words: tea, green tea, green, teas, like\",\"<b>Topic 2</b><br>Words: tea, green, green tea, teas, black tea\",\"<b>Topic 2</b><br>Words: tea, teas, green, green tea, like\",\"<b>Topic 2</b><br>Words: tea, teas, green, green tea, drink\"],\"marker\":{\"color\":\"#009E73\"},\"mode\":\"lines\",\"name\":\"2_tea_teas_green_green tea\",\"x\":[\"2017-12-20T04:48:00\",\"2018-03-10T19:12:00\",\"2018-08-19T00:00:00\",\"2018-11-07T14:24:00\",\"2019-01-27T04:48:00\",\"2019-04-17T19:12:00\",\"2019-07-07T09:36:00\",\"2019-09-26T00:00:00\",\"2019-12-15T14:24:00\",\"2020-03-05T04:48:00\",\"2020-05-24T19:12:00\",\"2020-08-13T09:36:00\",\"2020-11-02T00:00:00\",\"2021-01-21T14:24:00\",\"2021-04-12T04:48:00\",\"2021-07-01T19:12:00\",\"2021-09-20T09:36:00\"],\"y\":[5,3,4,6,2,1,3,10,35,14,34,10,22,38,63,49,50],\"type\":\"scatter\"},{\"hoverinfo\":\"text\",\"hovertext\":[\"<b>Topic 3</b><br>Words: chips, boasts, 1g, potato chips, fat\",\"<b>Topic 3</b><br>Words: lime, chips, lime flavoring, flavoring, sprinkled chips\",\"<b>Topic 3</b><br>Words: chips, rotten, kettle chips, kettle, care consistent\",\"<b>Topic 3</b><br>Words: chips, like little, bag, cheese, asian\",\"<b>Topic 3</b><br>Words: cents ounce, greasy, chips, cents, chip\",\"<b>Topic 3</b><br>Words: lime, chips, lime flavoring, flavoring, sprinkled chips\",\"<b>Topic 3</b><br>Words: chips, texture, bag, chips bag, potato\",\"<b>Topic 3</b><br>Words: chips, lot number, recommend purchasing, discontinued, quantity\",\"<b>Topic 3</b><br>Words: chips, lime, lime flavoring, apple, flavoring\",\"<b>Topic 3</b><br>Words: chips, guacamole, rosemary garlic, crackers, potato\",\"<b>Topic 3</b><br>Words: chips, kettle, pepper, powder, potato\",\"<b>Topic 3</b><br>Words: chips, kettle, bag, chip, potato\",\"<b>Topic 3</b><br>Words: chips, lays, kettle, baked lays, baked\",\"<b>Topic 3</b><br>Words: chips, kettle, potato, sour cream, bag\",\"<b>Topic 3</b><br>Words: chips, bag, potato, potato chips, chip\"],\"marker\":{\"color\":\"#F0E442\"},\"mode\":\"lines\",\"name\":\"3_chips_kettle_bag_potato\",\"x\":[\"2017-12-20T04:48:00\",\"2018-03-10T19:12:00\",\"2018-05-30T09:36:00\",\"2018-08-19T00:00:00\",\"2018-11-07T14:24:00\",\"2019-09-26T00:00:00\",\"2019-12-15T14:24:00\",\"2020-03-05T04:48:00\",\"2020-05-24T19:12:00\",\"2020-08-13T09:36:00\",\"2020-11-02T00:00:00\",\"2021-01-21T14:24:00\",\"2021-04-12T04:48:00\",\"2021-07-01T19:12:00\",\"2021-09-20T09:36:00\"],\"y\":[1,1,1,2,2,1,10,3,3,3,10,18,40,34,19],\"type\":\"scatter\"},{\"hoverinfo\":\"text\",\"hovertext\":[\"<b>Topic 4</b><br>Words: guess slight, wellknown dr, difference led, knock star, ive wanted\",\"<b>Topic 4</b><br>Words: old tasty, flavor stores, law says, treat bro, stores treat\",\"<b>Topic 4</b><br>Words: soda, soda weird, love zevia, fruity really, zevia soda\",\"<b>Topic 4</b><br>Words: instead soda, effervescentbr br, unpleasant mouthfeel, star think, convinence\",\"<b>Topic 4</b><br>Words: lemonade, drink mix, good did, grape great, important kids\",\"<b>Topic 4</b><br>Words: juice, orange, drink, carbonated, switch\",\"<b>Topic 4</b><br>Words: juice, orange, soda, cherry, switch\",\"<b>Topic 4</b><br>Words: orange, switch, drink, juice, allnatural\",\"<b>Topic 4</b><br>Words: soda, sodas, drink, juice, refreshing\",\"<b>Topic 4</b><br>Words: vitamin, 40br, 40br vitamin, squirt, orange\",\"<b>Topic 4</b><br>Words: orange, tangerine, juice, switch, orange tangerine\",\"<b>Topic 4</b><br>Words: soda, juice, orange, switch, carbonated\",\"<b>Topic 4</b><br>Words: orange, juice, soda, drink, tangerine\",\"<b>Topic 4</b><br>Words: soda, orange, juice, drink, tangerine\",\"<b>Topic 4</b><br>Words: juice, orange, soda, tangerine, drink\"],\"marker\":{\"color\":\"#D55E00\"},\"mode\":\"lines\",\"name\":\"4_orange_juice_soda_drink\",\"x\":[\"2017-12-20T04:48:00\",\"2018-03-10T19:12:00\",\"2018-08-19T00:00:00\",\"2019-04-17T19:12:00\",\"2019-07-07T09:36:00\",\"2019-09-26T00:00:00\",\"2019-12-15T14:24:00\",\"2020-03-05T04:48:00\",\"2020-05-24T19:12:00\",\"2020-08-13T09:36:00\",\"2020-11-02T00:00:00\",\"2021-01-21T14:24:00\",\"2021-04-12T04:48:00\",\"2021-07-01T19:12:00\",\"2021-09-20T09:36:00\"],\"y\":[1,1,2,1,2,6,9,3,4,3,10,17,38,20,18],\"type\":\"scatter\"},{\"hoverinfo\":\"text\",\"hovertext\":[\"<b>Topic 5</b><br>Words: favorite texas, taffy thats, chips dogs, smelled bad, lund smelled\",\"<b>Topic 5</b><br>Words: tiffany, tried refused, childrenbuy thesebr, pups treat, hand try\",\"<b>Topic 5</b><br>Words: dogs, treats, puppies, tough, longer\",\"<b>Topic 5</b><br>Words: run amazons, squeals wont, soft break, plastic pored, soft plastic\",\"<b>Topic 5</b><br>Words: dog, treats, dogs, amzn, away dog\",\"<b>Topic 5</b><br>Words: recommend returned, dogs years, years best, returned item, quality purchase\",\"<b>Topic 5</b><br>Words: dogs, puppy, dog, ears, slivers ears\",\"<b>Topic 5</b><br>Words: tsk, tsk tsk, treats, lbs, dogs\",\"<b>Topic 5</b><br>Words: dogs, treats, dog, pocket, price\",\"<b>Topic 5</b><br>Words: dog, dogs, treats, bully, bully sticks\",\"<b>Topic 5</b><br>Words: dog, dogs, treats, pill, vet\",\"<b>Topic 5</b><br>Words: treats, dog, dogs, loves, sniff\",\"<b>Topic 5</b><br>Words: dog, dogs, treats, bones, price\"],\"marker\":{\"color\":\"#0072B2\"},\"mode\":\"lines\",\"name\":\"5_dog_treats_dogs_price\",\"x\":[\"2017-12-20T04:48:00\",\"2018-08-19T00:00:00\",\"2019-07-07T09:36:00\",\"2019-09-26T00:00:00\",\"2019-12-15T14:24:00\",\"2020-03-05T04:48:00\",\"2020-05-24T19:12:00\",\"2020-08-13T09:36:00\",\"2020-11-02T00:00:00\",\"2021-01-21T14:24:00\",\"2021-04-12T04:48:00\",\"2021-07-01T19:12:00\",\"2021-09-20T09:36:00\"],\"y\":[1,1,1,2,8,2,10,2,8,14,25,19,22],\"type\":\"scatter\"},{\"hoverinfo\":\"text\",\"hovertext\":[\"<b>Topic 6</b><br>Words: starbucks kcup, special, coffee, kcups, keurig\",\"<b>Topic 6</b><br>Words: exotic add, far tastes, necessary surprisingly, kcups excellent, make nondairy\",\"<b>Topic 6</b><br>Words: keurig, coffee, office, kcups, far definitely\",\"<b>Topic 6</b><br>Words: kahlua, kahlua great, aroma wonderful, like kahlua, mild overpowering\",\"<b>Topic 6</b><br>Words: plastic base, base plastic, far subscribed, shipped automatically, subscribed shipped\",\"<b>Topic 6</b><br>Words: brewer, kcups, coffee, keurig, cups\",\"<b>Topic 6</b><br>Words: keurig, coffee, undrinkable opinion, transferred secondary, opinion didnt\",\"<b>Topic 6</b><br>Words: kcups, coffee, kcup, cup, filter\",\"<b>Topic 6</b><br>Words: coffee, kcup, coffeebr br, coffeebr, flavored\",\"<b>Topic 6</b><br>Words: keurig, smelled office, real fast, office tastes, terrific got\",\"<b>Topic 6</b><br>Words: keurig, kcups, coffee, cups, cup\",\"<b>Topic 6</b><br>Words: keurig, kcups, coffee, kcup, cup\",\"<b>Topic 6</b><br>Words: kcups, keurig, coffee, cup, kcup\",\"<b>Topic 6</b><br>Words: keurig, kcups, coffee, cup, green mountain\"],\"marker\":{\"color\":\"#CC79A7\"},\"mode\":\"lines\",\"name\":\"6_keurig_kcups_coffee_kcup\",\"x\":[\"2017-12-20T04:48:00\",\"2018-03-10T19:12:00\",\"2018-08-19T00:00:00\",\"2019-07-07T09:36:00\",\"2019-09-26T00:00:00\",\"2019-12-15T14:24:00\",\"2020-03-05T04:48:00\",\"2020-05-24T19:12:00\",\"2020-08-13T09:36:00\",\"2020-11-02T00:00:00\",\"2021-01-21T14:24:00\",\"2021-04-12T04:48:00\",\"2021-07-01T19:12:00\",\"2021-09-20T09:36:00\"],\"y\":[2,2,4,2,1,5,5,7,3,3,11,30,18,19],\"type\":\"scatter\"},{\"hoverinfo\":\"text\",\"hovertext\":[\"<b>Topic 7</b><br>Words: powerbars, bars powerbars, healthy rate, making energy, bar right\",\"<b>Topic 7</b><br>Words: bars, bar, fiber bars, fiber, chewy\",\"<b>Topic 7</b><br>Words: bars, protein, youre, protein bars, taste bars\",\"<b>Topic 7</b><br>Words: bars, perfect hiking, delicious cold, cold doesnt, fitness\",\"<b>Topic 7</b><br>Words: tasty feeling, true bar, great pick, pick mealsbr, bar tasty\",\"<b>Topic 7</b><br>Words: banana, nice banana, quick light, breakfast afternoon, bars soft\",\"<b>Topic 7</b><br>Words: bars, glycemic spiking, version bars, calories healthy, spaced\",\"<b>Topic 7</b><br>Words: bar, bars, cliff, chocolate bar, boom\",\"<b>Topic 7</b><br>Words: bars, bar, kind bars, protein, roll\",\"<b>Topic 7</b><br>Words: bars, bar, snack, snack bars, artificial ingredients\",\"<b>Topic 7</b><br>Words: bars, bar, fiber, protein, snack\",\"<b>Topic 7</b><br>Words: bars, bar, sweet, future, snack\",\"<b>Topic 7</b><br>Words: bars, bar, snack, protein, want\",\"<b>Topic 7</b><br>Words: bars, bar, protein, protein bars, special\",\"<b>Topic 7</b><br>Words: bars, bar, competitors, snack, protein\",\"<b>Topic 7</b><br>Words: bars, bar, granola bars, snack, 6g\",\"<b>Topic 7</b><br>Words: bars, bar, sweet, protein, energy meal\"],\"marker\":{\"color\":\"#E69F00\"},\"mode\":\"lines\",\"name\":\"7_bars_bar_snack_protein\",\"x\":[\"2017-12-20T04:48:00\",\"2018-03-10T19:12:00\",\"2018-08-19T00:00:00\",\"2018-11-07T14:24:00\",\"2019-01-27T04:48:00\",\"2019-04-17T19:12:00\",\"2019-07-07T09:36:00\",\"2019-09-26T00:00:00\",\"2019-12-15T14:24:00\",\"2020-03-05T04:48:00\",\"2020-05-24T19:12:00\",\"2020-08-13T09:36:00\",\"2020-11-02T00:00:00\",\"2021-01-21T14:24:00\",\"2021-04-12T04:48:00\",\"2021-07-01T19:12:00\",\"2021-09-20T09:36:00\"],\"y\":[1,1,4,2,1,1,2,5,8,6,10,6,9,12,12,6,13],\"type\":\"scatter\"},{\"hoverinfo\":\"text\",\"hovertext\":[\"<b>Topic 8</b><br>Words: almonds, natural chocolate, sleep guess, eaten moderation, eat 10\",\"<b>Topic 8</b><br>Words: cashews, stale, stale foul, cashew stale, buy cashews\",\"<b>Topic 8</b><br>Words: jordan, almonds said, agreedbr arrived, agreedbr, candied sisters\",\"<b>Topic 8</b><br>Words: nuts, almonds, balls, peanuts, cashews\",\"<b>Topic 8</b><br>Words: almonds, diamond, nuts, diamond almonds, blue diamond\",\"<b>Topic 8</b><br>Words: nuts, almonds, mixed, mixed nuts, peanuts\",\"<b>Topic 8</b><br>Words: nuts, almonds, peanuts, raw, raw almonds\",\"<b>Topic 8</b><br>Words: nuts, almonds, salt, nutmeg, pepper\",\"<b>Topic 8</b><br>Words: almonds, cashews, nuts, walnuts, black walnuts\",\"<b>Topic 8</b><br>Words: nuts, almonds, nut, beer nuts, nut butter\",\"<b>Topic 8</b><br>Words: almonds, nuts, eating, snack, pistachios\",\"<b>Topic 8</b><br>Words: almonds, nuts, roasted, cashews, almond\",\"<b>Topic 8</b><br>Words: nuts, almonds, beer, beer nuts, snack\"],\"marker\":{\"color\":\"#56B4E9\"},\"mode\":\"lines\",\"name\":\"8_almonds_nuts_cashews_peanuts\",\"x\":[\"2017-12-20T04:48:00\",\"2018-05-30T09:36:00\",\"2019-04-17T19:12:00\",\"2019-07-07T09:36:00\",\"2019-12-15T14:24:00\",\"2020-03-05T04:48:00\",\"2020-05-24T19:12:00\",\"2020-08-13T09:36:00\",\"2020-11-02T00:00:00\",\"2021-01-21T14:24:00\",\"2021-04-12T04:48:00\",\"2021-07-01T19:12:00\",\"2021-09-20T09:36:00\"],\"y\":[2,1,1,7,4,5,6,7,7,9,13,25,11],\"type\":\"scatter\"},{\"hoverinfo\":\"text\",\"hovertext\":[\"<b>Topic 9</b><br>Words: sellers, size 083ozbr, misprint amazon, 14 shipping, kid does\",\"<b>Topic 9</b><br>Words: packs, seven packs, seven, packs 1499, usually receive\",\"<b>Topic 9</b><br>Words: 10, marshmallows, 250, mistake, walmart\",\"<b>Topic 9</b><br>Words: formula, save comes, formula price, problem formula, comes 21can\",\"<b>Topic 9</b><br>Words: buy beech, ripoffbr, baby loved, lower comparable, subscription model\",\"<b>Topic 9</b><br>Words: noamally different, superior keenan, good quaity, quaity order, quaity\",\"<b>Topic 9</b><br>Words: win, locally, careful purchased, looking win, excellent traveling\",\"<b>Topic 9</b><br>Words: price, amazon, target, grocery, understand\",\"<b>Topic 9</b><br>Words: boxes, cheapest price, cheapest, price, formula\",\"<b>Topic 9</b><br>Words: flax seed, section, flax, seed, price\",\"<b>Topic 9</b><br>Words: paid, overpriced big, know source, lot products, case pricing\",\"<b>Topic 9</b><br>Words: change old, bulbs, work, formula, boxes\",\"<b>Topic 9</b><br>Words: grocery, pretzel sticks, store, pretzel, oz\",\"<b>Topic 9</b><br>Words: store, costco, grocery, cheaper, grocery store\",\"<b>Topic 9</b><br>Words: grocery, price, boxes, box, muffins\",\"<b>Topic 9</b><br>Words: marmite, price, grocery, stores, god bless\"],\"marker\":{\"color\":\"#009E73\"},\"mode\":\"lines\",\"name\":\"9_price_grocery_store_boxes\",\"x\":[\"2017-12-20T04:48:00\",\"2018-03-10T19:12:00\",\"2018-08-19T00:00:00\",\"2018-11-07T14:24:00\",\"2019-01-27T04:48:00\",\"2019-07-07T09:36:00\",\"2019-09-26T00:00:00\",\"2019-12-15T14:24:00\",\"2020-03-05T04:48:00\",\"2020-05-24T19:12:00\",\"2020-08-13T09:36:00\",\"2020-11-02T00:00:00\",\"2021-01-21T14:24:00\",\"2021-04-12T04:48:00\",\"2021-07-01T19:12:00\",\"2021-09-20T09:36:00\"],\"y\":[2,1,4,2,2,1,3,5,4,2,3,4,8,18,15,14],\"type\":\"scatter\"},{\"hoverinfo\":\"text\",\"hovertext\":[\"<b>Topic 10</b><br>Words: pieces tiny, longer crisp, fresh price, crisp fresh, tiny holes\",\"<b>Topic 10</b><br>Words: cookies, individually, cookies italy, 15 sec, italy summer\",\"<b>Topic 10</b><br>Words: cookies, purpose cookies, reviewers rarely, mild fleeting, dry feeling\",\"<b>Topic 10</b><br>Words: soft unlike, quaker cookie, loved quaker, unlike hard, box yes\",\"<b>Topic 10</b><br>Words: cookies, mom vox, buying cookies, fantastic picky, vox\",\"<b>Topic 10</b><br>Words: cookie, cookies, cereal normal, cookie added, normal cereal\",\"<b>Topic 10</b><br>Words: chocolate cookies, tried peanut, just tried, butter good, cookies taste\",\"<b>Topic 10</b><br>Words: makes homemade, cookies quaker, baked mom, quaker baked, kid approved\",\"<b>Topic 10</b><br>Words: cookies, cookie, chocolate, wouldnt purchase, money gave\",\"<b>Topic 10</b><br>Words: cookies, cookie, pamelas, son, tree nut\",\"<b>Topic 10</b><br>Words: cookies, cookie, cookies tasty, begging, youve got\",\"<b>Topic 10</b><br>Words: bits fruit, cookies, make great, bits, wire really\",\"<b>Topic 10</b><br>Words: cookies, oreo, breakfast, cookie, chewy\",\"<b>Topic 10</b><br>Words: cookies, chocolate sandwich, whonu, sandwich creme, cookies whonu\",\"<b>Topic 10</b><br>Words: cookies, cookie, fortunes, fortune, breakfast\",\"<b>Topic 10</b><br>Words: cookies, cookie, fudge, paleo, breakfast cookie\",\"<b>Topic 10</b><br>Words: cookies, cookie, oreos, lemon, horizon organic\",\"<b>Topic 10</b><br>Words: cookies, cookie, breakfast, candy corn, br\"],\"marker\":{\"color\":\"#F0E442\"},\"mode\":\"lines\",\"name\":\"10_cookies_cookie_breakfast_chocolate\",\"x\":[\"2017-07-10T09:18:43.200000\",\"2017-12-20T04:48:00\",\"2018-03-10T19:12:00\",\"2018-05-30T09:36:00\",\"2018-08-19T00:00:00\",\"2018-11-07T14:24:00\",\"2019-01-27T04:48:00\",\"2019-04-17T19:12:00\",\"2019-09-26T00:00:00\",\"2019-12-15T14:24:00\",\"2020-03-05T04:48:00\",\"2020-05-24T19:12:00\",\"2020-08-13T09:36:00\",\"2020-11-02T00:00:00\",\"2021-01-21T14:24:00\",\"2021-04-12T04:48:00\",\"2021-07-01T19:12:00\",\"2021-09-20T09:36:00\"],\"y\":[1,3,2,1,4,2,1,1,3,5,5,2,5,5,4,17,17,9],\"type\":\"scatter\"},{\"hoverinfo\":\"text\",\"hovertext\":[\"<b>Topic 11</b><br>Words: think look, bag think, got clear, fresh salty, salty yummy\",\"<b>Topic 11</b><br>Words: corn, corn flavored, flavored pumpkins, traditionbr chocolet, moons corn\",\"<b>Topic 11</b><br>Words: hard previously, plastic soft, fresh sorry, purchase boxed, realize decided\",\"<b>Topic 11</b><br>Words: graduation, pieces candy, candy, candy definitely, description especially\",\"<b>Topic 11</b><br>Words: wrappers, suggested, camping left, sold states, bubble holes\",\"<b>Topic 11</b><br>Words: came large, phillippines came, phillippines, bag fast, fast weeks\",\"<b>Topic 11</b><br>Words: gift, friend, perfect, mos later, little cutting\",\"<b>Topic 11</b><br>Words: candy, fruit roll, packaged shown, roll ups, ups\",\"<b>Topic 11</b><br>Words: candy, roll wrappers, hand catch, spring roll, crank\",\"<b>Topic 11</b><br>Words: candy, dispenser, mm, big bag, big\",\"<b>Topic 11</b><br>Words: candy, ladies brand, ladies, hard, fresh\",\"<b>Topic 11</b><br>Words: candy, bears, basket, box, kindergarten\",\"<b>Topic 11</b><br>Words: candy, bubble, box, packaged, bubble wrap\",\"<b>Topic 11</b><br>Words: broken, gingerbread, candy, kit, candies\",\"<b>Topic 11</b><br>Words: candy, box, bag, stale, eggnog\",\"<b>Topic 11</b><br>Words: candy, candies, box, gift, chuckles\"],\"marker\":{\"color\":\"#D55E00\"},\"mode\":\"lines\",\"name\":\"11_candy_box_wrappers_broken\",\"x\":[\"2017-12-20T04:48:00\",\"2018-03-10T19:12:00\",\"2018-05-30T09:36:00\",\"2018-08-19T00:00:00\",\"2018-11-07T14:24:00\",\"2019-07-07T09:36:00\",\"2019-09-26T00:00:00\",\"2019-12-15T14:24:00\",\"2020-03-05T04:48:00\",\"2020-05-24T19:12:00\",\"2020-08-13T09:36:00\",\"2020-11-02T00:00:00\",\"2021-01-21T14:24:00\",\"2021-04-12T04:48:00\",\"2021-07-01T19:12:00\",\"2021-09-20T09:36:00\"],\"y\":[1,1,1,1,2,1,2,4,5,6,5,8,10,15,12,9],\"type\":\"scatter\"},{\"hoverinfo\":\"text\",\"hovertext\":[\"<b>Topic 12</b><br>Words: cluster, cereal, nutritious, fiber, load lowest\",\"<b>Topic 12</b><br>Words: cereal, cereal bought, need quickeasy, kind cold, bought cereal\",\"<b>Topic 12</b><br>Words: cereal, similar cheerios, hippy food, morning unsweetened, period enjoy\",\"<b>Topic 12</b><br>Words: raisin bran, bran, raisin, original raisin, extra sugar\",\"<b>Topic 12</b><br>Words: cereal, raisin bran, bran, raisin, cereals\",\"<b>Topic 12</b><br>Words: cereal, hnc, crunchy nut, nut, cereals\",\"<b>Topic 12</b><br>Words: cereal, flakes, popular sugary, asinb000e4alf6, yogurt theyre\",\"<b>Topic 12</b><br>Words: sweetners high, fun eat, cereals fun, hard combination, consistency ok\",\"<b>Topic 12</b><br>Words: cereal, cereals, foreverbr, raisin bran, buying pack\",\"<b>Topic 12</b><br>Words: cereal, cereals, prunes, fiber, sugar\",\"<b>Topic 12</b><br>Words: cereal, cereals, high, fiber, post\",\"<b>Topic 12</b><br>Words: cereal, cereals, kashi, healthy, eating\",\"<b>Topic 12</b><br>Words: cereal, fiber, cereals, eating, sugar\"],\"marker\":{\"color\":\"#0072B2\"},\"mode\":\"lines\",\"name\":\"12_cereal_cereals_fiber_eating\",\"x\":[\"2017-12-20T04:48:00\",\"2018-03-10T19:12:00\",\"2018-08-19T00:00:00\",\"2019-09-26T00:00:00\",\"2019-12-15T14:24:00\",\"2020-03-05T04:48:00\",\"2020-05-24T19:12:00\",\"2020-08-13T09:36:00\",\"2020-11-02T00:00:00\",\"2021-01-21T14:24:00\",\"2021-04-12T04:48:00\",\"2021-07-01T19:12:00\",\"2021-09-20T09:36:00\"],\"y\":[2,1,2,1,6,5,2,2,5,13,11,13,14],\"type\":\"scatter\"},{\"hoverinfo\":\"text\",\"hovertext\":[\"<b>Topic 13</b><br>Words: fillers, dog, dogs, far fillers, joes reviews\",\"<b>Topic 13</b><br>Words: dogs, dry dog, blue buffalo, buffalo, dog food\",\"<b>Topic 13</b><br>Words: dog, food, dog food, dogs, meat\",\"<b>Topic 13</b><br>Words: dog, food, dog food, dogs, dog foods\",\"<b>Topic 13</b><br>Words: gas, food, puppies, lb bag, dog\",\"<b>Topic 13</b><br>Words: dog, food, doggie, newmans, harmony\",\"<b>Topic 13</b><br>Words: dog, outside, bowel movements, movements, dogs\",\"<b>Topic 13</b><br>Words: dog, food, dog food, newmans, solid gold\",\"<b>Topic 13</b><br>Words: dog, food, dogs, blue buffalo, dog food\",\"<b>Topic 13</b><br>Words: dog, food, dog food, dogs, hes\",\"<b>Topic 13</b><br>Words: dog, food, dog food, dogs, harmony\",\"<b>Topic 13</b><br>Words: dog, food, dog food, dogs, fromm\"],\"marker\":{\"color\":\"#CC79A7\"},\"mode\":\"lines\",\"name\":\"13_dog_food_dog food_dogs\",\"x\":[\"2018-05-30T09:36:00\",\"2018-11-07T14:24:00\",\"2019-09-26T00:00:00\",\"2019-12-15T14:24:00\",\"2020-03-05T04:48:00\",\"2020-05-24T19:12:00\",\"2020-08-13T09:36:00\",\"2020-11-02T00:00:00\",\"2021-01-21T14:24:00\",\"2021-04-12T04:48:00\",\"2021-07-01T19:12:00\",\"2021-09-20T09:36:00\"],\"y\":[1,1,4,11,1,1,1,6,6,20,10,8],\"type\":\"scatter\"},{\"hoverinfo\":\"text\",\"hovertext\":[\"<b>Topic 14</b><br>Words: cat, bites hes, really hungry, gets current, cat liked\",\"<b>Topic 14</b><br>Words: waste moneyit, donate shelter, food waste, absolutely eat, sitting cabinets\",\"<b>Topic 14</b><br>Words: science diet, science, cats, food, cat\",\"<b>Topic 14</b><br>Words: fortunate cat, feel fortunate, price afford, economy tight, tight feel\",\"<b>Topic 14</b><br>Words: cat, cats, food, slop, felidae\",\"<b>Topic 14</b><br>Words: hes, interested food, tooth pulled, cats, pulled\",\"<b>Topic 14</b><br>Words: cats, cat, wont, looks, im sure\",\"<b>Topic 14</b><br>Words: cat, felidae, food, cats, wellness\",\"<b>Topic 14</b><br>Words: cats, cat, grain free, grain, felidae\",\"<b>Topic 14</b><br>Words: cat, cats, food, science diet, science\",\"<b>Topic 14</b><br>Words: cats, cat, food, felidae, science diet\",\"<b>Topic 14</b><br>Words: cat, cats, food, tiki, fish\",\"<b>Topic 14</b><br>Words: cat, cats, food, cat food, eat\"],\"marker\":{\"color\":\"#E69F00\"},\"mode\":\"lines\",\"name\":\"14_cat_cats_food_science diet\",\"x\":[\"2017-12-20T04:48:00\",\"2018-05-30T09:36:00\",\"2019-04-17T19:12:00\",\"2019-09-26T00:00:00\",\"2019-12-15T14:24:00\",\"2020-03-05T04:48:00\",\"2020-05-24T19:12:00\",\"2020-08-13T09:36:00\",\"2020-11-02T00:00:00\",\"2021-01-21T14:24:00\",\"2021-04-12T04:48:00\",\"2021-07-01T19:12:00\",\"2021-09-20T09:36:00\"],\"y\":[1,1,1,1,3,2,2,4,6,4,17,7,15],\"type\":\"scatter\"},{\"hoverinfo\":\"text\",\"hovertext\":[\"<b>Topic 15</b><br>Words: bar nuts, nutritional bar, tasty nutritional, eat sparingly, china knowing\",\"<b>Topic 15</b><br>Words: amazoncom, liver freeze, helpful cooperative, dogs product, postage paid\",\"<b>Topic 15</b><br>Words: spring rolls, rolls, spring, fresh spring, trang\",\"<b>Topic 15</b><br>Words: china, china contaminated, contaminated, mouth, toys china\",\"<b>Topic 15</b><br>Words: loved thembr, manufacturing china, event buying, switched treatsbr, purchase period\",\"<b>Topic 15</b><br>Words: donoharm, customers exactly, looking sold, mays inform, matter yummy\",\"<b>Topic 15</b><br>Words: china, greta, treats, dogs, dog\",\"<b>Topic 15</b><br>Words: china, treats, jerky, dogswell, usa\",\"<b>Topic 15</b><br>Words: china, treats, dogs, dog, chicken\",\"<b>Topic 15</b><br>Words: china, treats, dog, wegmans, dogs\",\"<b>Topic 15</b><br>Words: china, treats, fda, dog, dogs\"],\"marker\":{\"color\":\"#56B4E9\"},\"mode\":\"lines\",\"name\":\"15_china_treats_dogs_dog\",\"x\":[\"2019-01-27T04:48:00\",\"2019-07-07T09:36:00\",\"2019-12-15T14:24:00\",\"2020-03-05T04:48:00\",\"2020-05-24T19:12:00\",\"2020-08-13T09:36:00\",\"2020-11-02T00:00:00\",\"2021-01-21T14:24:00\",\"2021-04-12T04:48:00\",\"2021-07-01T19:12:00\",\"2021-09-20T09:36:00\"],\"y\":[1,1,2,1,1,2,8,8,18,8,14],\"type\":\"scatter\"},{\"hoverinfo\":\"text\",\"hovertext\":[\"<b>Topic 16</b><br>Words: reseal stay, crackers wonderful, reason knocked, substitute crisp, way reseal\",\"<b>Topic 16</b><br>Words: cracker, gfcf diet, gfcf, crackers, diet\",\"<b>Topic 16</b><br>Words: taken vacations, 22 large, count 22, cracker taken, large cracker\",\"<b>Topic 16</b><br>Words: amazon offers, crackers, offers, crackers day, crunchy treat\",\"<b>Topic 16</b><br>Words: boxes quite, italian cheesy, boxes liked, cheesy taste, crushed boxesbags\",\"<b>Topic 16</b><br>Words: cracker, heard, type change, wonderful brand, theme unfortunately\",\"<b>Topic 16</b><br>Words: crackers, cracker, graham, boxes, 711\",\"<b>Topic 16</b><br>Words: crackers, suitable young, oat cake, flavour rice, competing vile\",\"<b>Topic 16</b><br>Words: crackers, wafers, cracker, zucchini roasted, crackers calories\",\"<b>Topic 16</b><br>Words: crackers, cracker, graham, fat, vender individual\",\"<b>Topic 16</b><br>Words: crackers, cracker, heart, graham, heart heart\",\"<b>Topic 16</b><br>Words: crackers, graham, cracker, graham crackers, grahams\",\"<b>Topic 16</b><br>Words: crackers, graham, graham crackers, cracker, graham cracker\",\"<b>Topic 16</b><br>Words: crackers, cracker, graham, boxes, plain crackers\",\"<b>Topic 16</b><br>Words: crackers, cracker, graham, graham crackers, montgomeryville\"],\"marker\":{\"color\":\"#009E73\"},\"mode\":\"lines\",\"name\":\"16_crackers_cracker_graham_graham cracke...\",\"x\":[\"2017-12-20T04:48:00\",\"2018-08-19T00:00:00\",\"2018-11-07T14:24:00\",\"2019-01-27T04:48:00\",\"2019-04-17T19:12:00\",\"2019-09-26T00:00:00\",\"2019-12-15T14:24:00\",\"2020-03-05T04:48:00\",\"2020-05-24T19:12:00\",\"2020-08-13T09:36:00\",\"2020-11-02T00:00:00\",\"2021-01-21T14:24:00\",\"2021-04-12T04:48:00\",\"2021-07-01T19:12:00\",\"2021-09-20T09:36:00\"],\"y\":[1,1,1,1,1,2,3,2,2,4,10,5,14,10,5],\"type\":\"scatter\"},{\"hoverinfo\":\"text\",\"hovertext\":[\"<b>Topic 17</b><br>Words: peanut, difference use, schools granddaughter, granddaughter taste, peanut free\",\"<b>Topic 17</b><br>Words: peanut, butter, peanut butter, tell wasnt, sunbutter\",\"<b>Topic 17</b><br>Words: peanut butter, peanut, butter, butter stays, waxy paper\",\"<b>Topic 17</b><br>Words: peanut butter, peanut, butter, stuff allergic, allergic peanut\",\"<b>Topic 17</b><br>Words: vegemite, allergic peanuts, butter, peanut, peanut butter\",\"<b>Topic 17</b><br>Words: butter, nutella, peanut, peanut butter, qvc\",\"<b>Topic 17</b><br>Words: butter, peanut, peanut butter, pb2, almond butter\",\"<b>Topic 17</b><br>Words: peanut, peanut butter, butter, reduced, skippy reduced\",\"<b>Topic 17</b><br>Words: smoothe texture, chance peanut, price turns, separation, separation definitely\",\"<b>Topic 17</b><br>Words: peanut, peanut butter, butter, pb2, butter product\",\"<b>Topic 17</b><br>Words: peanut, butter, peanut butter, pb2, gritty\",\"<b>Topic 17</b><br>Words: butter, peanut, almond butter, peanut butter, almond\",\"<b>Topic 17</b><br>Words: butter, peanut, peanut butter, pb2, pb2 chocolate\"],\"marker\":{\"color\":\"#F0E442\"},\"mode\":\"lines\",\"name\":\"17_butter_peanut_peanut butter_pb2\",\"x\":[\"2017-12-20T04:48:00\",\"2018-08-19T00:00:00\",\"2019-01-27T04:48:00\",\"2019-04-17T19:12:00\",\"2019-12-15T14:24:00\",\"2020-03-05T04:48:00\",\"2020-05-24T19:12:00\",\"2020-08-13T09:36:00\",\"2020-11-02T00:00:00\",\"2021-01-21T14:24:00\",\"2021-04-12T04:48:00\",\"2021-07-01T19:12:00\",\"2021-09-20T09:36:00\"],\"y\":[1,2,1,1,3,4,6,4,1,6,12,5,12],\"type\":\"scatter\"},{\"hoverinfo\":\"text\",\"hovertext\":[\"<b>Topic 18</b><br>Words: seasonings mrs, sodium seasonings, hard sodium, dash great, mrs dash\",\"<b>Topic 18</b><br>Words: salt content, salt, reduce, salty, low nutritional\",\"<b>Topic 18</b><br>Words: salt, sprinkled foods, salt needs, fish amazing, telling sprinkling\",\"<b>Topic 18</b><br>Words: salt, love 2lb, learned difference, using love, avoided salt\",\"<b>Topic 18</b><br>Words: salt, lemon, table salt, damp, table\",\"<b>Topic 18</b><br>Words: salt, sea salt, sea, himalayan, sodium\",\"<b>Topic 18</b><br>Words: salt, licorice, salted, salted licorice, acquired\",\"<b>Topic 18</b><br>Words: salt, days free, collection great, dire consequencesbr, near end\",\"<b>Topic 18</b><br>Words: salt, table, sea salt, sea, table salt\",\"<b>Topic 18</b><br>Words: salt, sea, sea salt, add, dulse great\",\"<b>Topic 18</b><br>Words: salt, table, table salt, sea, sea salt\",\"<b>Topic 18</b><br>Words: salt, pink, sodium, table, pink color\"],\"marker\":{\"color\":\"#D55E00\"},\"mode\":\"lines\",\"name\":\"18_salt_table_sea_sea salt\",\"x\":[\"2017-07-10T09:18:43.200000\",\"2017-12-20T04:48:00\",\"2018-08-19T00:00:00\",\"2019-09-26T00:00:00\",\"2019-12-15T14:24:00\",\"2020-05-24T19:12:00\",\"2020-08-13T09:36:00\",\"2020-11-02T00:00:00\",\"2021-01-21T14:24:00\",\"2021-04-12T04:48:00\",\"2021-07-01T19:12:00\",\"2021-09-20T09:36:00\"],\"y\":[1,2,1,1,4,6,2,4,7,9,10,10],\"type\":\"scatter\"},{\"hoverinfo\":\"text\",\"hovertext\":[\"<b>Topic 19</b><br>Words: price buyer, buy half, research buy, overpriced little, wrong product\",\"<b>Topic 19</b><br>Words: stale loved, wanted coming, way looked, later items, week3rd\",\"<b>Topic 19</b><br>Words: willbr purchase, willbr, purchase receive, customer willbr, fast enoughbr\",\"<b>Topic 19</b><br>Words: add amazon, batch wont, wont purchase, awesome correspondence, itbr like\",\"<b>Topic 19</b><br>Words: years convenient, spectacular fashion, able mail, deployed soldier, away perfection\",\"<b>Topic 19</b><br>Words: time buy, price time, healthy product, great healthy, product good\",\"<b>Topic 19</b><br>Words: recipient disliked, disliked product, remaining cartons, money remaining, recomend people\",\"<b>Topic 19</b><br>Words: gift, item, delivered motherinlaw, equally disappointed, substantial really\",\"<b>Topic 19</b><br>Words: product, value definitely, cost 159, consider expensive, small plastic\",\"<b>Topic 19</b><br>Words: company, contact company, getting lol, return believe, actually damagedbr\",\"<b>Topic 19</b><br>Words: company, product, service, item, came quickly\",\"<b>Topic 19</b><br>Words: item, shops, product, carry, need item\",\"<b>Topic 19</b><br>Words: bought gift, saw, appreciate, contact, gift\"],\"marker\":{\"color\":\"#0072B2\"},\"mode\":\"lines\",\"name\":\"19_product_item_gift_company\",\"x\":[\"2017-12-20T04:48:00\",\"2018-03-10T19:12:00\",\"2018-08-19T00:00:00\",\"2019-09-26T00:00:00\",\"2019-12-15T14:24:00\",\"2020-03-05T04:48:00\",\"2020-05-24T19:12:00\",\"2020-08-13T09:36:00\",\"2020-11-02T00:00:00\",\"2021-01-21T14:24:00\",\"2021-04-12T04:48:00\",\"2021-07-01T19:12:00\",\"2021-09-20T09:36:00\"],\"y\":[1,2,1,1,5,1,2,3,4,6,10,7,11],\"type\":\"scatter\"}],                        {\"template\":{\"data\":{\"barpolar\":[{\"marker\":{\"line\":{\"color\":\"white\",\"width\":0.5},\"pattern\":{\"fillmode\":\"overlay\",\"size\":10,\"solidity\":0.2}},\"type\":\"barpolar\"}],\"bar\":[{\"error_x\":{\"color\":\"rgb(36,36,36)\"},\"error_y\":{\"color\":\"rgb(36,36,36)\"},\"marker\":{\"line\":{\"color\":\"white\",\"width\":0.5},\"pattern\":{\"fillmode\":\"overlay\",\"size\":10,\"solidity\":0.2}},\"type\":\"bar\"}],\"carpet\":[{\"aaxis\":{\"endlinecolor\":\"rgb(36,36,36)\",\"gridcolor\":\"white\",\"linecolor\":\"white\",\"minorgridcolor\":\"white\",\"startlinecolor\":\"rgb(36,36,36)\"},\"baxis\":{\"endlinecolor\":\"rgb(36,36,36)\",\"gridcolor\":\"white\",\"linecolor\":\"white\",\"minorgridcolor\":\"white\",\"startlinecolor\":\"rgb(36,36,36)\"},\"type\":\"carpet\"}],\"choropleth\":[{\"colorbar\":{\"outlinewidth\":1,\"tickcolor\":\"rgb(36,36,36)\",\"ticks\":\"outside\"},\"type\":\"choropleth\"}],\"contourcarpet\":[{\"colorbar\":{\"outlinewidth\":1,\"tickcolor\":\"rgb(36,36,36)\",\"ticks\":\"outside\"},\"type\":\"contourcarpet\"}],\"contour\":[{\"colorbar\":{\"outlinewidth\":1,\"tickcolor\":\"rgb(36,36,36)\",\"ticks\":\"outside\"},\"colorscale\":[[0.0,\"#440154\"],[0.1111111111111111,\"#482878\"],[0.2222222222222222,\"#3e4989\"],[0.3333333333333333,\"#31688e\"],[0.4444444444444444,\"#26828e\"],[0.5555555555555556,\"#1f9e89\"],[0.6666666666666666,\"#35b779\"],[0.7777777777777778,\"#6ece58\"],[0.8888888888888888,\"#b5de2b\"],[1.0,\"#fde725\"]],\"type\":\"contour\"}],\"heatmapgl\":[{\"colorbar\":{\"outlinewidth\":1,\"tickcolor\":\"rgb(36,36,36)\",\"ticks\":\"outside\"},\"colorscale\":[[0.0,\"#440154\"],[0.1111111111111111,\"#482878\"],[0.2222222222222222,\"#3e4989\"],[0.3333333333333333,\"#31688e\"],[0.4444444444444444,\"#26828e\"],[0.5555555555555556,\"#1f9e89\"],[0.6666666666666666,\"#35b779\"],[0.7777777777777778,\"#6ece58\"],[0.8888888888888888,\"#b5de2b\"],[1.0,\"#fde725\"]],\"type\":\"heatmapgl\"}],\"heatmap\":[{\"colorbar\":{\"outlinewidth\":1,\"tickcolor\":\"rgb(36,36,36)\",\"ticks\":\"outside\"},\"colorscale\":[[0.0,\"#440154\"],[0.1111111111111111,\"#482878\"],[0.2222222222222222,\"#3e4989\"],[0.3333333333333333,\"#31688e\"],[0.4444444444444444,\"#26828e\"],[0.5555555555555556,\"#1f9e89\"],[0.6666666666666666,\"#35b779\"],[0.7777777777777778,\"#6ece58\"],[0.8888888888888888,\"#b5de2b\"],[1.0,\"#fde725\"]],\"type\":\"heatmap\"}],\"histogram2dcontour\":[{\"colorbar\":{\"outlinewidth\":1,\"tickcolor\":\"rgb(36,36,36)\",\"ticks\":\"outside\"},\"colorscale\":[[0.0,\"#440154\"],[0.1111111111111111,\"#482878\"],[0.2222222222222222,\"#3e4989\"],[0.3333333333333333,\"#31688e\"],[0.4444444444444444,\"#26828e\"],[0.5555555555555556,\"#1f9e89\"],[0.6666666666666666,\"#35b779\"],[0.7777777777777778,\"#6ece58\"],[0.8888888888888888,\"#b5de2b\"],[1.0,\"#fde725\"]],\"type\":\"histogram2dcontour\"}],\"histogram2d\":[{\"colorbar\":{\"outlinewidth\":1,\"tickcolor\":\"rgb(36,36,36)\",\"ticks\":\"outside\"},\"colorscale\":[[0.0,\"#440154\"],[0.1111111111111111,\"#482878\"],[0.2222222222222222,\"#3e4989\"],[0.3333333333333333,\"#31688e\"],[0.4444444444444444,\"#26828e\"],[0.5555555555555556,\"#1f9e89\"],[0.6666666666666666,\"#35b779\"],[0.7777777777777778,\"#6ece58\"],[0.8888888888888888,\"#b5de2b\"],[1.0,\"#fde725\"]],\"type\":\"histogram2d\"}],\"histogram\":[{\"marker\":{\"line\":{\"color\":\"white\",\"width\":0.6}},\"type\":\"histogram\"}],\"mesh3d\":[{\"colorbar\":{\"outlinewidth\":1,\"tickcolor\":\"rgb(36,36,36)\",\"ticks\":\"outside\"},\"type\":\"mesh3d\"}],\"parcoords\":[{\"line\":{\"colorbar\":{\"outlinewidth\":1,\"tickcolor\":\"rgb(36,36,36)\",\"ticks\":\"outside\"}},\"type\":\"parcoords\"}],\"pie\":[{\"automargin\":true,\"type\":\"pie\"}],\"scatter3d\":[{\"line\":{\"colorbar\":{\"outlinewidth\":1,\"tickcolor\":\"rgb(36,36,36)\",\"ticks\":\"outside\"}},\"marker\":{\"colorbar\":{\"outlinewidth\":1,\"tickcolor\":\"rgb(36,36,36)\",\"ticks\":\"outside\"}},\"type\":\"scatter3d\"}],\"scattercarpet\":[{\"marker\":{\"colorbar\":{\"outlinewidth\":1,\"tickcolor\":\"rgb(36,36,36)\",\"ticks\":\"outside\"}},\"type\":\"scattercarpet\"}],\"scattergeo\":[{\"marker\":{\"colorbar\":{\"outlinewidth\":1,\"tickcolor\":\"rgb(36,36,36)\",\"ticks\":\"outside\"}},\"type\":\"scattergeo\"}],\"scattergl\":[{\"marker\":{\"colorbar\":{\"outlinewidth\":1,\"tickcolor\":\"rgb(36,36,36)\",\"ticks\":\"outside\"}},\"type\":\"scattergl\"}],\"scattermapbox\":[{\"marker\":{\"colorbar\":{\"outlinewidth\":1,\"tickcolor\":\"rgb(36,36,36)\",\"ticks\":\"outside\"}},\"type\":\"scattermapbox\"}],\"scatterpolargl\":[{\"marker\":{\"colorbar\":{\"outlinewidth\":1,\"tickcolor\":\"rgb(36,36,36)\",\"ticks\":\"outside\"}},\"type\":\"scatterpolargl\"}],\"scatterpolar\":[{\"marker\":{\"colorbar\":{\"outlinewidth\":1,\"tickcolor\":\"rgb(36,36,36)\",\"ticks\":\"outside\"}},\"type\":\"scatterpolar\"}],\"scatter\":[{\"fillpattern\":{\"fillmode\":\"overlay\",\"size\":10,\"solidity\":0.2},\"type\":\"scatter\"}],\"scatterternary\":[{\"marker\":{\"colorbar\":{\"outlinewidth\":1,\"tickcolor\":\"rgb(36,36,36)\",\"ticks\":\"outside\"}},\"type\":\"scatterternary\"}],\"surface\":[{\"colorbar\":{\"outlinewidth\":1,\"tickcolor\":\"rgb(36,36,36)\",\"ticks\":\"outside\"},\"colorscale\":[[0.0,\"#440154\"],[0.1111111111111111,\"#482878\"],[0.2222222222222222,\"#3e4989\"],[0.3333333333333333,\"#31688e\"],[0.4444444444444444,\"#26828e\"],[0.5555555555555556,\"#1f9e89\"],[0.6666666666666666,\"#35b779\"],[0.7777777777777778,\"#6ece58\"],[0.8888888888888888,\"#b5de2b\"],[1.0,\"#fde725\"]],\"type\":\"surface\"}],\"table\":[{\"cells\":{\"fill\":{\"color\":\"rgb(237,237,237)\"},\"line\":{\"color\":\"white\"}},\"header\":{\"fill\":{\"color\":\"rgb(217,217,217)\"},\"line\":{\"color\":\"white\"}},\"type\":\"table\"}]},\"layout\":{\"annotationdefaults\":{\"arrowhead\":0,\"arrowwidth\":1},\"autotypenumbers\":\"strict\",\"coloraxis\":{\"colorbar\":{\"outlinewidth\":1,\"tickcolor\":\"rgb(36,36,36)\",\"ticks\":\"outside\"}},\"colorscale\":{\"diverging\":[[0.0,\"rgb(103,0,31)\"],[0.1,\"rgb(178,24,43)\"],[0.2,\"rgb(214,96,77)\"],[0.3,\"rgb(244,165,130)\"],[0.4,\"rgb(253,219,199)\"],[0.5,\"rgb(247,247,247)\"],[0.6,\"rgb(209,229,240)\"],[0.7,\"rgb(146,197,222)\"],[0.8,\"rgb(67,147,195)\"],[0.9,\"rgb(33,102,172)\"],[1.0,\"rgb(5,48,97)\"]],\"sequential\":[[0.0,\"#440154\"],[0.1111111111111111,\"#482878\"],[0.2222222222222222,\"#3e4989\"],[0.3333333333333333,\"#31688e\"],[0.4444444444444444,\"#26828e\"],[0.5555555555555556,\"#1f9e89\"],[0.6666666666666666,\"#35b779\"],[0.7777777777777778,\"#6ece58\"],[0.8888888888888888,\"#b5de2b\"],[1.0,\"#fde725\"]],\"sequentialminus\":[[0.0,\"#440154\"],[0.1111111111111111,\"#482878\"],[0.2222222222222222,\"#3e4989\"],[0.3333333333333333,\"#31688e\"],[0.4444444444444444,\"#26828e\"],[0.5555555555555556,\"#1f9e89\"],[0.6666666666666666,\"#35b779\"],[0.7777777777777778,\"#6ece58\"],[0.8888888888888888,\"#b5de2b\"],[1.0,\"#fde725\"]]},\"colorway\":[\"#1F77B4\",\"#FF7F0E\",\"#2CA02C\",\"#D62728\",\"#9467BD\",\"#8C564B\",\"#E377C2\",\"#7F7F7F\",\"#BCBD22\",\"#17BECF\"],\"font\":{\"color\":\"rgb(36,36,36)\"},\"geo\":{\"bgcolor\":\"white\",\"lakecolor\":\"white\",\"landcolor\":\"white\",\"showlakes\":true,\"showland\":true,\"subunitcolor\":\"white\"},\"hoverlabel\":{\"align\":\"left\"},\"hovermode\":\"closest\",\"mapbox\":{\"style\":\"light\"},\"paper_bgcolor\":\"white\",\"plot_bgcolor\":\"white\",\"polar\":{\"angularaxis\":{\"gridcolor\":\"rgb(232,232,232)\",\"linecolor\":\"rgb(36,36,36)\",\"showgrid\":false,\"showline\":true,\"ticks\":\"outside\"},\"bgcolor\":\"white\",\"radialaxis\":{\"gridcolor\":\"rgb(232,232,232)\",\"linecolor\":\"rgb(36,36,36)\",\"showgrid\":false,\"showline\":true,\"ticks\":\"outside\"}},\"scene\":{\"xaxis\":{\"backgroundcolor\":\"white\",\"gridcolor\":\"rgb(232,232,232)\",\"gridwidth\":2,\"linecolor\":\"rgb(36,36,36)\",\"showbackground\":true,\"showgrid\":false,\"showline\":true,\"ticks\":\"outside\",\"zeroline\":false,\"zerolinecolor\":\"rgb(36,36,36)\"},\"yaxis\":{\"backgroundcolor\":\"white\",\"gridcolor\":\"rgb(232,232,232)\",\"gridwidth\":2,\"linecolor\":\"rgb(36,36,36)\",\"showbackground\":true,\"showgrid\":false,\"showline\":true,\"ticks\":\"outside\",\"zeroline\":false,\"zerolinecolor\":\"rgb(36,36,36)\"},\"zaxis\":{\"backgroundcolor\":\"white\",\"gridcolor\":\"rgb(232,232,232)\",\"gridwidth\":2,\"linecolor\":\"rgb(36,36,36)\",\"showbackground\":true,\"showgrid\":false,\"showline\":true,\"ticks\":\"outside\",\"zeroline\":false,\"zerolinecolor\":\"rgb(36,36,36)\"}},\"shapedefaults\":{\"fillcolor\":\"black\",\"line\":{\"width\":0},\"opacity\":0.3},\"ternary\":{\"aaxis\":{\"gridcolor\":\"rgb(232,232,232)\",\"linecolor\":\"rgb(36,36,36)\",\"showgrid\":false,\"showline\":true,\"ticks\":\"outside\"},\"baxis\":{\"gridcolor\":\"rgb(232,232,232)\",\"linecolor\":\"rgb(36,36,36)\",\"showgrid\":false,\"showline\":true,\"ticks\":\"outside\"},\"bgcolor\":\"white\",\"caxis\":{\"gridcolor\":\"rgb(232,232,232)\",\"linecolor\":\"rgb(36,36,36)\",\"showgrid\":false,\"showline\":true,\"ticks\":\"outside\"}},\"title\":{\"x\":0.05},\"xaxis\":{\"automargin\":true,\"gridcolor\":\"rgb(232,232,232)\",\"linecolor\":\"rgb(36,36,36)\",\"showgrid\":false,\"showline\":true,\"ticks\":\"outside\",\"title\":{\"standoff\":15},\"zeroline\":false,\"zerolinecolor\":\"rgb(36,36,36)\"},\"yaxis\":{\"automargin\":true,\"gridcolor\":\"rgb(232,232,232)\",\"linecolor\":\"rgb(36,36,36)\",\"showgrid\":false,\"showline\":true,\"ticks\":\"outside\",\"title\":{\"standoff\":15},\"zeroline\":false,\"zerolinecolor\":\"rgb(36,36,36)\"}}},\"xaxis\":{\"showgrid\":true},\"yaxis\":{\"showgrid\":true,\"title\":{\"text\":\"Frequency\"}},\"title\":{\"font\":{\"size\":22,\"color\":\"Black\"},\"text\":\"<b>Topics over Time</b>\",\"y\":0.95,\"x\":0.4,\"xanchor\":\"center\",\"yanchor\":\"top\"},\"hoverlabel\":{\"font\":{\"size\":16,\"family\":\"Rockwell\"},\"bgcolor\":\"white\"},\"width\":1250,\"height\":450,\"legend\":{\"title\":{\"text\":\"<b>Global Topic Representation\"}}},                        {\"responsive\": true}                    ).then(function(){\n",
              "                            \n",
              "var gd = document.getElementById('6b8c3665-d5ee-4e04-8c0d-4f03137e3ce8');\n",
              "var x = new MutationObserver(function (mutations, observer) {{\n",
              "        var display = window.getComputedStyle(gd).display;\n",
              "        if (!display || display === 'none') {{\n",
              "            console.log([gd, 'removed!']);\n",
              "            Plotly.purge(gd);\n",
              "            observer.disconnect();\n",
              "        }}\n",
              "}});\n",
              "\n",
              "// Listen for the removal of the full notebook cells\n",
              "var notebookContainer = gd.closest('#notebook-container');\n",
              "if (notebookContainer) {{\n",
              "    x.observe(notebookContainer, {childList: true});\n",
              "}}\n",
              "\n",
              "// Listen for the clearing of the current output cell\n",
              "var outputEl = gd.closest('.output');\n",
              "if (outputEl) {{\n",
              "    x.observe(outputEl, {childList: true});\n",
              "}}\n",
              "\n",
              "                        })                };                            </script>        </div>\n",
              "</body>\n",
              "</html>"
            ]
          },
          "metadata": {},
          "output_type": "display_data"
        }
      ],
      "source": [
        "model.visualize_topics_over_time(topics_over_time, top_n_topics=20)"
      ]
    }
  ],
  "metadata": {
    "colab": {
      "provenance": []
    },
    "kernelspec": {
      "display_name": "Python 3",
      "language": "python",
      "name": "python3"
    },
    "language_info": {
      "name": "python",
      "version": "3.10.10"
    },
    "vscode": {
      "interpreter": {
        "hash": "aee8b7b246df8f9039afb4144a1f6fd8d2ca17a180786b69acc140d282b71a49"
      }
    },
    "widgets": {
      "application/vnd.jupyter.widget-state+json": {
        "0934cbd0bd2b4f57844bab7f2df826e8": {
          "model_module": "@jupyter-widgets/controls",
          "model_module_version": "1.5.0",
          "model_name": "HTMLModel",
          "state": {
            "_dom_classes": [],
            "_model_module": "@jupyter-widgets/controls",
            "_model_module_version": "1.5.0",
            "_model_name": "HTMLModel",
            "_view_count": null,
            "_view_module": "@jupyter-widgets/controls",
            "_view_module_version": "1.5.0",
            "_view_name": "HTMLView",
            "description": "",
            "description_tooltip": null,
            "layout": "IPY_MODEL_20396d7dd3024efea7161c4c9b86ee49",
            "placeholder": "​",
            "style": "IPY_MODEL_4dfa3c2102794b368637cc47605e6480",
            "value": "Batches: 100%"
          }
        },
        "172711f25df94ce299232e7d53eaba5e": {
          "model_module": "@jupyter-widgets/base",
          "model_module_version": "1.2.0",
          "model_name": "LayoutModel",
          "state": {
            "_model_module": "@jupyter-widgets/base",
            "_model_module_version": "1.2.0",
            "_model_name": "LayoutModel",
            "_view_count": null,
            "_view_module": "@jupyter-widgets/base",
            "_view_module_version": "1.2.0",
            "_view_name": "LayoutView",
            "align_content": null,
            "align_items": null,
            "align_self": null,
            "border": null,
            "bottom": null,
            "display": null,
            "flex": null,
            "flex_flow": null,
            "grid_area": null,
            "grid_auto_columns": null,
            "grid_auto_flow": null,
            "grid_auto_rows": null,
            "grid_column": null,
            "grid_gap": null,
            "grid_row": null,
            "grid_template_areas": null,
            "grid_template_columns": null,
            "grid_template_rows": null,
            "height": null,
            "justify_content": null,
            "justify_items": null,
            "left": null,
            "margin": null,
            "max_height": null,
            "max_width": null,
            "min_height": null,
            "min_width": null,
            "object_fit": null,
            "object_position": null,
            "order": null,
            "overflow": null,
            "overflow_x": null,
            "overflow_y": null,
            "padding": null,
            "right": null,
            "top": null,
            "visibility": null,
            "width": null
          }
        },
        "20396d7dd3024efea7161c4c9b86ee49": {
          "model_module": "@jupyter-widgets/base",
          "model_module_version": "1.2.0",
          "model_name": "LayoutModel",
          "state": {
            "_model_module": "@jupyter-widgets/base",
            "_model_module_version": "1.2.0",
            "_model_name": "LayoutModel",
            "_view_count": null,
            "_view_module": "@jupyter-widgets/base",
            "_view_module_version": "1.2.0",
            "_view_name": "LayoutView",
            "align_content": null,
            "align_items": null,
            "align_self": null,
            "border": null,
            "bottom": null,
            "display": null,
            "flex": null,
            "flex_flow": null,
            "grid_area": null,
            "grid_auto_columns": null,
            "grid_auto_flow": null,
            "grid_auto_rows": null,
            "grid_column": null,
            "grid_gap": null,
            "grid_row": null,
            "grid_template_areas": null,
            "grid_template_columns": null,
            "grid_template_rows": null,
            "height": null,
            "justify_content": null,
            "justify_items": null,
            "left": null,
            "margin": null,
            "max_height": null,
            "max_width": null,
            "min_height": null,
            "min_width": null,
            "object_fit": null,
            "object_position": null,
            "order": null,
            "overflow": null,
            "overflow_x": null,
            "overflow_y": null,
            "padding": null,
            "right": null,
            "top": null,
            "visibility": null,
            "width": null
          }
        },
        "2622ae864a0741eeb5bf6bb30d42c2a0": {
          "model_module": "@jupyter-widgets/controls",
          "model_module_version": "1.5.0",
          "model_name": "HBoxModel",
          "state": {
            "_dom_classes": [],
            "_model_module": "@jupyter-widgets/controls",
            "_model_module_version": "1.5.0",
            "_model_name": "HBoxModel",
            "_view_count": null,
            "_view_module": "@jupyter-widgets/controls",
            "_view_module_version": "1.5.0",
            "_view_name": "HBoxView",
            "box_style": "",
            "children": [
              "IPY_MODEL_0934cbd0bd2b4f57844bab7f2df826e8",
              "IPY_MODEL_8c3479ea98874be886ddcded00e92074",
              "IPY_MODEL_908c7e80fd56497e89702efef01e9f51"
            ],
            "layout": "IPY_MODEL_f755ac33c5934b228fbbdd27eb678f45"
          }
        },
        "3eb8311230804053bcc91946379de9ce": {
          "model_module": "@jupyter-widgets/controls",
          "model_module_version": "1.5.0",
          "model_name": "DescriptionStyleModel",
          "state": {
            "_model_module": "@jupyter-widgets/controls",
            "_model_module_version": "1.5.0",
            "_model_name": "DescriptionStyleModel",
            "_view_count": null,
            "_view_module": "@jupyter-widgets/base",
            "_view_module_version": "1.2.0",
            "_view_name": "StyleView",
            "description_width": ""
          }
        },
        "4dfa3c2102794b368637cc47605e6480": {
          "model_module": "@jupyter-widgets/controls",
          "model_module_version": "1.5.0",
          "model_name": "DescriptionStyleModel",
          "state": {
            "_model_module": "@jupyter-widgets/controls",
            "_model_module_version": "1.5.0",
            "_model_name": "DescriptionStyleModel",
            "_view_count": null,
            "_view_module": "@jupyter-widgets/base",
            "_view_module_version": "1.2.0",
            "_view_name": "StyleView",
            "description_width": ""
          }
        },
        "5f87a9fa3298428aaa6eb026a039c6b4": {
          "model_module": "@jupyter-widgets/base",
          "model_module_version": "1.2.0",
          "model_name": "LayoutModel",
          "state": {
            "_model_module": "@jupyter-widgets/base",
            "_model_module_version": "1.2.0",
            "_model_name": "LayoutModel",
            "_view_count": null,
            "_view_module": "@jupyter-widgets/base",
            "_view_module_version": "1.2.0",
            "_view_name": "LayoutView",
            "align_content": null,
            "align_items": null,
            "align_self": null,
            "border": null,
            "bottom": null,
            "display": null,
            "flex": null,
            "flex_flow": null,
            "grid_area": null,
            "grid_auto_columns": null,
            "grid_auto_flow": null,
            "grid_auto_rows": null,
            "grid_column": null,
            "grid_gap": null,
            "grid_row": null,
            "grid_template_areas": null,
            "grid_template_columns": null,
            "grid_template_rows": null,
            "height": null,
            "justify_content": null,
            "justify_items": null,
            "left": null,
            "margin": null,
            "max_height": null,
            "max_width": null,
            "min_height": null,
            "min_width": null,
            "object_fit": null,
            "object_position": null,
            "order": null,
            "overflow": null,
            "overflow_x": null,
            "overflow_y": null,
            "padding": null,
            "right": null,
            "top": null,
            "visibility": null,
            "width": null
          }
        },
        "73c58c05e4174ba1a73393955ad51296": {
          "model_module": "@jupyter-widgets/controls",
          "model_module_version": "1.5.0",
          "model_name": "ProgressStyleModel",
          "state": {
            "_model_module": "@jupyter-widgets/controls",
            "_model_module_version": "1.5.0",
            "_model_name": "ProgressStyleModel",
            "_view_count": null,
            "_view_module": "@jupyter-widgets/base",
            "_view_module_version": "1.2.0",
            "_view_name": "StyleView",
            "bar_color": null,
            "description_width": ""
          }
        },
        "8c3479ea98874be886ddcded00e92074": {
          "model_module": "@jupyter-widgets/controls",
          "model_module_version": "1.5.0",
          "model_name": "FloatProgressModel",
          "state": {
            "_dom_classes": [],
            "_model_module": "@jupyter-widgets/controls",
            "_model_module_version": "1.5.0",
            "_model_name": "FloatProgressModel",
            "_view_count": null,
            "_view_module": "@jupyter-widgets/controls",
            "_view_module_version": "1.5.0",
            "_view_name": "ProgressView",
            "bar_style": "success",
            "description": "",
            "description_tooltip": null,
            "layout": "IPY_MODEL_5f87a9fa3298428aaa6eb026a039c6b4",
            "max": 171,
            "min": 0,
            "orientation": "horizontal",
            "style": "IPY_MODEL_73c58c05e4174ba1a73393955ad51296",
            "value": 171
          }
        },
        "908c7e80fd56497e89702efef01e9f51": {
          "model_module": "@jupyter-widgets/controls",
          "model_module_version": "1.5.0",
          "model_name": "HTMLModel",
          "state": {
            "_dom_classes": [],
            "_model_module": "@jupyter-widgets/controls",
            "_model_module_version": "1.5.0",
            "_model_name": "HTMLModel",
            "_view_count": null,
            "_view_module": "@jupyter-widgets/controls",
            "_view_module_version": "1.5.0",
            "_view_name": "HTMLView",
            "description": "",
            "description_tooltip": null,
            "layout": "IPY_MODEL_172711f25df94ce299232e7d53eaba5e",
            "placeholder": "​",
            "style": "IPY_MODEL_3eb8311230804053bcc91946379de9ce",
            "value": " 171/171 [06:25&lt;00:00,  2.10it/s]"
          }
        },
        "f755ac33c5934b228fbbdd27eb678f45": {
          "model_module": "@jupyter-widgets/base",
          "model_module_version": "1.2.0",
          "model_name": "LayoutModel",
          "state": {
            "_model_module": "@jupyter-widgets/base",
            "_model_module_version": "1.2.0",
            "_model_name": "LayoutModel",
            "_view_count": null,
            "_view_module": "@jupyter-widgets/base",
            "_view_module_version": "1.2.0",
            "_view_name": "LayoutView",
            "align_content": null,
            "align_items": null,
            "align_self": null,
            "border": null,
            "bottom": null,
            "display": null,
            "flex": null,
            "flex_flow": null,
            "grid_area": null,
            "grid_auto_columns": null,
            "grid_auto_flow": null,
            "grid_auto_rows": null,
            "grid_column": null,
            "grid_gap": null,
            "grid_row": null,
            "grid_template_areas": null,
            "grid_template_columns": null,
            "grid_template_rows": null,
            "height": null,
            "justify_content": null,
            "justify_items": null,
            "left": null,
            "margin": null,
            "max_height": null,
            "max_width": null,
            "min_height": null,
            "min_width": null,
            "object_fit": null,
            "object_position": null,
            "order": null,
            "overflow": null,
            "overflow_x": null,
            "overflow_y": null,
            "padding": null,
            "right": null,
            "top": null,
            "visibility": null,
            "width": null
          }
        }
      }
    }
  },
  "nbformat": 4,
  "nbformat_minor": 0
}
