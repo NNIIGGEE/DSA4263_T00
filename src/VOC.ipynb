{
 "cells": [
  {
   "cell_type": "markdown",
   "metadata": {},
   "source": [
    "## Sentiment Analysis"
   ]
  },
  {
   "cell_type": "code",
   "execution_count": 41,
   "metadata": {},
   "outputs": [],
   "source": [
    "from sentiment_analysis.prep import preprocess\n",
    "from sentiment_analysis.train import evaluate, train_model"
   ]
  },
  {
   "cell_type": "code",
   "execution_count": null,
   "metadata": {},
   "outputs": [
    {
     "name": "stderr",
     "output_type": "stream",
     "text": [
      "/Users/admin/Documents/GitHub/DSA4263_T00/src/sentiment_analysis/prep/preprocess.py:333: SettingWithCopyWarning: \n",
      "A value is trying to be set on a copy of a slice from a DataFrame.\n",
      "Try using .loc[row_indexer,col_indexer] = value instead\n",
      "\n",
      "See the caveats in the documentation: https://pandas.pydata.org/pandas-docs/stable/user_guide/indexing.html#returning-a-view-versus-a-copy\n",
      "  final_df['cleaned2'] = final_df['cleaned'].apply(lambda x: ' '.join(x))\n"
     ]
    },
    {
     "name": "stdout",
     "output_type": "stream",
     "text": [
      "Epoch 1/10\n"
     ]
    }
   ],
   "source": [
    "data = preprocess.clean_data(\"../datasets/reviews.csv\", \"training\")\n",
    "x_train, x_test, y_train, y_test = preprocess.split_data(data)\n",
    "train_model.run_lstm_training(x_train, x_test, y_train, y_test)\n",
    "lstm_pred = evaluate.get_lstm_score(x_test)\n",
    "vader_pred = evaluate.get_vader_score(x_test)\n",
    "print(\"=========================LSTM=========================\")\n",
    "evaluate.evaluate(lstm_pred, y_test)\n",
    "print(\"=========================VADER========================\")\n",
    "evaluate.evaluate(vader_pred, y_test)"
   ]
  },
  {
   "cell_type": "code",
   "execution_count": null,
   "metadata": {},
   "outputs": [],
   "source": [
    "lstm_pred = evaluate.get_lstm_score(x_test)\n",
    "lstm_pred"
   ]
  },
  {
   "cell_type": "code",
   "execution_count": null,
   "metadata": {},
   "outputs": [],
   "source": [
    "vader_pred = evaluate.get_vader_score(x_test)\n",
    "vader_pred"
   ]
  }
 ],
 "metadata": {
  "kernelspec": {
   "display_name": "Python 3 (ipykernel)",
   "language": "python",
   "name": "python3"
  },
  "language_info": {
   "codemirror_mode": {
    "name": "ipython",
    "version": 3
   },
   "file_extension": ".py",
   "mimetype": "text/x-python",
   "name": "python",
   "nbconvert_exporter": "python",
   "pygments_lexer": "ipython3",
   "version": "3.9.7"
  }
 },
 "nbformat": 4,
 "nbformat_minor": 2
}
