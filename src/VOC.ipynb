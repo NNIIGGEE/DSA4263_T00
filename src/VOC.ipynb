{
 "cells": [
  {
   "cell_type": "markdown",
   "metadata": {},
   "source": [
    "## Sentiment Analysis"
   ]
  },
  {
   "cell_type": "code",
   "execution_count": 3,
   "metadata": {},
   "outputs": [],
   "source": [
    "import train_SA"
   ]
  },
  {
   "cell_type": "code",
   "execution_count": 4,
   "metadata": {},
   "outputs": [
    {
     "name": "stdout",
     "output_type": "stream",
     "text": [
      "=========================CLEANING DATA=========================\n",
      "========================READ RAW DATA=======================\n",
      "=======================LOWERCASE TEXT=======================\n",
      "========================TOKENIZE TEXT=======================\n",
      "=====================REMOVE PUNCTUATION=====================\n",
      "======================REMOVE STOPWORDS======================\n",
      "=====================REMOVE SHORT WORDS=====================\n",
      "==================CONVERT AMAZON.COM TOKENS=================\n",
      "=====================REMOVE CONTRACTIONS====================\n",
      "=====================REMOVE PUNCTUATION=====================\n",
      "========================REMOVE DIGITS=======================\n",
      "======================LEMMATIZE TOKENS======================\n",
      "======================REMOVE DUPLICATES=====================\n",
      "======================APPEND LABELS=========================\n",
      "==================DATA PREPROCESSING DONE===================\n",
      "=======================ORIGINAL TEXT========================\n",
      "0    this is a very healthy dog food. good for thei...\n",
      "1    i've been very pleased with the natural balanc...\n",
      "2    before i was educated about feline nutrition, ...\n",
      "3    my holistic vet recommended this, along with a...\n",
      "4    i bought this coffee because its much cheaper ...\n",
      "Name: Text, dtype: object\n",
      "=====================PREPROCESSED TOKENS====================\n",
      "0    [puppy, every, dog, also, good, food, healthy,...\n",
      "1    [since, possible, free, helpful, large, dog, s...\n",
      "2    [nutrition, eater, good, recently, gamble, inn...\n",
      "3    [clear, sardine, mcdonalds, obvious, rude, bra...\n",
      "4    [week, good, totally, much, coffee, sister, mu...\n",
      "Name: cleaned, dtype: object\n",
      "============================DONE============================\n",
      "=========================TRAINING MODEL=========================\n"
     ]
    },
    {
     "name": "stderr",
     "output_type": "stream",
     "text": [
      "/Users/wangyangyi/Documents/GitHub/DSA4263_T00/src/sentiment_analysis/prep/preprocess.py:346: SettingWithCopyWarning: \n",
      "A value is trying to be set on a copy of a slice from a DataFrame.\n",
      "Try using .loc[row_indexer,col_indexer] = value instead\n",
      "\n",
      "See the caveats in the documentation: https://pandas.pydata.org/pandas-docs/stable/user_guide/indexing.html#returning-a-view-versus-a-copy\n",
      "  final_df.loc[:,'cleaned2'] = final_df.loc[:,'cleaned'].apply(lambda x: ' '.join(x))\n",
      "2023-04-13 13:59:18.451710: I tensorflow/core/platform/cpu_feature_guard.cc:193] This TensorFlow binary is optimized with oneAPI Deep Neural Network Library (oneDNN) to use the following CPU instructions in performance-critical operations:  SSE4.1 SSE4.2\n",
      "To enable them in other operations, rebuild TensorFlow with the appropriate compiler flags.\n"
     ]
    },
    {
     "name": "stdout",
     "output_type": "stream",
     "text": [
      "Epoch 1/10\n",
      "35/35 [==============================] - 3s 54ms/step - loss: 0.6014 - accuracy: 0.7270 - val_loss: 0.5330 - val_accuracy: 0.7401\n",
      "Epoch 2/10\n",
      "35/35 [==============================] - 2s 43ms/step - loss: 0.4424 - accuracy: 0.7644 - val_loss: 0.3812 - val_accuracy: 0.8255\n",
      "Epoch 3/10\n",
      "35/35 [==============================] - 1s 37ms/step - loss: 0.2805 - accuracy: 0.8928 - val_loss: 0.3375 - val_accuracy: 0.8586\n",
      "Epoch 4/10\n",
      "35/35 [==============================] - 1s 37ms/step - loss: 0.1822 - accuracy: 0.9472 - val_loss: 0.3153 - val_accuracy: 0.8577\n",
      "Epoch 5/10\n",
      "35/35 [==============================] - 1s 39ms/step - loss: 0.1174 - accuracy: 0.9681 - val_loss: 0.3247 - val_accuracy: 0.8577\n",
      "Epoch 6/10\n",
      "35/35 [==============================] - 1s 38ms/step - loss: 0.0740 - accuracy: 0.9823 - val_loss: 0.3782 - val_accuracy: 0.8678\n",
      "Epoch 7/10\n",
      "35/35 [==============================] - 1s 37ms/step - loss: 0.0526 - accuracy: 0.9890 - val_loss: 0.3621 - val_accuracy: 0.8623\n",
      "Epoch 8/10\n",
      "35/35 [==============================] - 1s 38ms/step - loss: 0.0334 - accuracy: 0.9943 - val_loss: 0.3933 - val_accuracy: 0.8705\n",
      "Epoch 9/10\n",
      "35/35 [==============================] - 1s 38ms/step - loss: 0.0215 - accuracy: 0.9970 - val_loss: 0.4288 - val_accuracy: 0.8669\n",
      "Epoch 10/10\n",
      "35/35 [==============================] - 1s 37ms/step - loss: 0.0159 - accuracy: 0.9984 - val_loss: 0.4606 - val_accuracy: 0.8632\n"
     ]
    },
    {
     "name": "stderr",
     "output_type": "stream",
     "text": [
      "WARNING:absl:Found untraced functions such as lstm_cell_layer_call_fn, lstm_cell_layer_call_and_return_conditional_losses while saving (showing 2 of 2). These functions will not be directly callable after loading.\n"
     ]
    },
    {
     "name": "stdout",
     "output_type": "stream",
     "text": [
      "INFO:tensorflow:Assets written to: ram://bee6a50b-95f4-426f-9302-f4254b7ba001/assets\n"
     ]
    },
    {
     "name": "stderr",
     "output_type": "stream",
     "text": [
      "INFO:tensorflow:Assets written to: ram://bee6a50b-95f4-426f-9302-f4254b7ba001/assets\n"
     ]
    },
    {
     "name": "stdout",
     "output_type": "stream",
     "text": [
      "You can find trained model in trained_models\n",
      "============================DONE============================\n",
      "=========================GETTING PREDICTIONS=========================\n",
      "35/35 [==============================] - 0s 5ms/step\n",
      "=======================LSTM PREDICTIONS========================\n",
      "                                                   Text  predicted\n",
      "1186  i came home from a hot morning in the arizona ...        1.0\n",
      "4765  overall, this mix is okay, but, the sugar cont...        1.0\n",
      "410   these really are good i gave some to other peo...        1.0\n",
      "1945  this is a poor excuse for coffee - even for in...        0.0\n",
      "3848  we sent this basket to my mother in law for mo...        0.0\n",
      "=======================VADER PREDICTIONS========================\n",
      "                                                   Text  predicted\n",
      "1186  i came home from a hot morning in the arizona ...          1\n",
      "4765  overall, this mix is okay, but, the sugar cont...          1\n",
      "410   these really are good i gave some to other peo...          1\n",
      "1945  this is a poor excuse for coffee - even for in...          1\n",
      "3848  we sent this basket to my mother in law for mo...          1\n",
      "=========================DONE=========================\n",
      "======================EVALUATING MODELS======================\n",
      "======================LSTM PERFORMANCE======================\n",
      "Accuracy =  0.8631772268135904\n",
      "Precision =  0.9060568603213844\n",
      "ROC AUC =  0.8204390218239528\n",
      "              precision    recall  f1-score   support\n",
      "\n",
      "           0       0.74      0.73      0.74       283\n",
      "           1       0.91      0.91      0.91       806\n",
      "\n",
      "    accuracy                           0.86      1089\n",
      "   macro avg       0.82      0.82      0.82      1089\n",
      "weighted avg       0.86      0.86      0.86      1089\n",
      "\n",
      "======================VADER PERFORMANCE======================\n",
      "Accuracy =  0.8025711662075299\n",
      "Precision =  0.797583081570997\n",
      "ROC AUC =  0.6361914615647659\n",
      "              precision    recall  f1-score   support\n",
      "\n",
      "           0       0.85      0.29      0.43       283\n",
      "           1       0.80      0.98      0.88       806\n",
      "\n",
      "    accuracy                           0.80      1089\n",
      "   macro avg       0.83      0.64      0.66      1089\n",
      "weighted avg       0.81      0.80      0.76      1089\n",
      "\n",
      "============================SELECTING BEST MODEL============================\n",
      "LSTM performed better in accuracy\n",
      "LSTM performed better in precision\n",
      "LSTM performed better in ROC AUC\n",
      "LSTM performed better in Recall\n",
      "LSTM performed better in F1 score\n",
      "LSTM is the better model\n",
      "============================DONE============================\n",
      "======================TRAINING SELECTED MODEL ON FULL DATA======================\n",
      "Epoch 1/10\n",
      "35/35 [==============================] - 3s 47ms/step - loss: 0.4774 - accuracy: 0.8930 - val_loss: 2.6474 - val_accuracy: 0.0698\n",
      "Epoch 2/10\n",
      "35/35 [==============================] - 1s 38ms/step - loss: 0.3040 - accuracy: 0.9079 - val_loss: 2.2310 - val_accuracy: 0.0698\n",
      "Epoch 3/10\n",
      "35/35 [==============================] - 1s 38ms/step - loss: 0.2863 - accuracy: 0.9079 - val_loss: 2.0658 - val_accuracy: 0.0698\n",
      "Epoch 4/10\n",
      "35/35 [==============================] - 1s 38ms/step - loss: 0.2216 - accuracy: 0.9107 - val_loss: 1.9794 - val_accuracy: 0.0964\n",
      "Epoch 5/10\n",
      "35/35 [==============================] - 1s 38ms/step - loss: 0.1209 - accuracy: 0.9525 - val_loss: 1.9130 - val_accuracy: 0.2351\n",
      "Epoch 6/10\n",
      "35/35 [==============================] - 1s 40ms/step - loss: 0.0772 - accuracy: 0.9777 - val_loss: 2.2859 - val_accuracy: 0.3104\n",
      "Epoch 7/10\n",
      "35/35 [==============================] - 1s 37ms/step - loss: 0.0543 - accuracy: 0.9878 - val_loss: 2.4674 - val_accuracy: 0.3260\n",
      "Epoch 8/10\n",
      "35/35 [==============================] - 1s 37ms/step - loss: 0.0375 - accuracy: 0.9927 - val_loss: 2.9787 - val_accuracy: 0.3049\n",
      "Epoch 9/10\n",
      "35/35 [==============================] - 1s 37ms/step - loss: 0.0247 - accuracy: 0.9972 - val_loss: 3.2793 - val_accuracy: 0.3242\n",
      "Epoch 10/10\n",
      "35/35 [==============================] - 1s 37ms/step - loss: 0.0179 - accuracy: 0.9989 - val_loss: 2.7035 - val_accuracy: 0.4307\n"
     ]
    },
    {
     "name": "stderr",
     "output_type": "stream",
     "text": [
      "WARNING:absl:Found untraced functions such as lstm_cell_2_layer_call_fn, lstm_cell_2_layer_call_and_return_conditional_losses while saving (showing 2 of 2). These functions will not be directly callable after loading.\n"
     ]
    },
    {
     "name": "stdout",
     "output_type": "stream",
     "text": [
      "INFO:tensorflow:Assets written to: ram://0c516dc5-3643-47dc-907d-a76ab1fcd1fe/assets\n"
     ]
    },
    {
     "name": "stderr",
     "output_type": "stream",
     "text": [
      "INFO:tensorflow:Assets written to: ram://0c516dc5-3643-47dc-907d-a76ab1fcd1fe/assets\n"
     ]
    },
    {
     "name": "stdout",
     "output_type": "stream",
     "text": [
      "You can find trained model in trained_models\n",
      "============================END OF PIPELINE============================\n"
     ]
    }
   ],
   "source": [
    "train_SA.run_sa_pipeline()"
   ]
  },
  {
   "cell_type": "markdown",
   "metadata": {},
   "source": [
    "After evaluating the performance of the different models, our selection compared the scores across the 2 models. From the output we can see that LSTM performed better in all aspects - Accuracy, precision, ROC AUC, Recall and F1 score. Therefore, LSTM is deemed as the best model for sentiment analysis."
   ]
  },
  {
   "cell_type": "markdown",
   "metadata": {},
   "source": [
    "## New Data Predictions"
   ]
  },
  {
   "cell_type": "code",
   "execution_count": 5,
   "metadata": {},
   "outputs": [],
   "source": [
    "from sentiment_analysis.train import evaluate"
   ]
  },
  {
   "cell_type": "code",
   "execution_count": 6,
   "metadata": {},
   "outputs": [
    {
     "name": "stdout",
     "output_type": "stream",
     "text": [
      "========================READ RAW DATA=======================\n",
      "=======================LOWERCASE TEXT=======================\n",
      "========================TOKENIZE TEXT=======================\n",
      "=====================REMOVE PUNCTUATION=====================\n",
      "======================REMOVE STOPWORDS======================\n",
      "=====================REMOVE SHORT WORDS=====================\n",
      "==================CONVERT AMAZON.COM TOKENS=================\n",
      "=====================REMOVE CONTRACTIONS====================\n",
      "=====================REMOVE PUNCTUATION=====================\n",
      "========================REMOVE DIGITS=======================\n",
      "======================LEMMATIZE TOKENS======================\n",
      "======================REMOVE DUPLICATES=====================\n",
      "==================DATA PREPROCESSING DONE===================\n",
      "=======================ORIGINAL TEXT========================\n",
      "0    this is a very healthy dog food. good for thei...\n",
      "1    i've been very pleased with the natural balanc...\n",
      "2    before i was educated about feline nutrition, ...\n",
      "3    my holistic vet recommended this, along with a...\n",
      "4    i bought this coffee because its much cheaper ...\n",
      "Name: Text, dtype: object\n",
      "=====================PREPROCESSED TOKENS====================\n",
      "0    [puppy, every, dog, also, good, food, healthy,...\n",
      "1    [since, possible, free, helpful, large, dog, s...\n",
      "2    [nutrition, eater, good, recently, gamble, inn...\n",
      "3    [clear, sardine, mcdonalds, obvious, rude, bra...\n",
      "4    [week, good, totally, much, coffee, sister, mu...\n",
      "Name: cleaned, dtype: object\n"
     ]
    },
    {
     "name": "stderr",
     "output_type": "stream",
     "text": [
      "/Users/wangyangyi/Documents/GitHub/DSA4263_T00/src/sentiment_analysis/prep/preprocess.py:349: SettingWithCopyWarning: \n",
      "A value is trying to be set on a copy of a slice from a DataFrame.\n",
      "Try using .loc[row_indexer,col_indexer] = value instead\n",
      "\n",
      "See the caveats in the documentation: https://pandas.pydata.org/pandas-docs/stable/user_guide/indexing.html#returning-a-view-versus-a-copy\n",
      "  final_df.loc[:,'cleaned2'] = final_df.loc[:,'cleaned'].apply(lambda x: ' '.join(x))\n"
     ]
    },
    {
     "name": "stdout",
     "output_type": "stream",
     "text": [
      "171/171 [==============================] - 1s 5ms/step\n",
      "Predicted csv has been generated\n"
     ]
    }
   ],
   "source": [
    "evaluate.get_score(\"../datasets/reviews_test.csv\")"
   ]
  }
 ],
 "metadata": {
  "kernelspec": {
   "display_name": "tensorflow",
   "language": "python",
   "name": "tensorflow"
  },
  "language_info": {
   "codemirror_mode": {
    "name": "ipython",
    "version": 3
   },
   "file_extension": ".py",
   "mimetype": "text/x-python",
   "name": "python",
   "nbconvert_exporter": "python",
   "pygments_lexer": "ipython3",
   "version": "3.9.16"
  },
  "vscode": {
   "interpreter": {
    "hash": "aee8b7b246df8f9039afb4144a1f6fd8d2ca17a180786b69acc140d282b71a49"
   }
  }
 },
 "nbformat": 4,
 "nbformat_minor": 2
}
