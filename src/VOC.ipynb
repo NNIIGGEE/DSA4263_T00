{
 "cells": [
  {
   "cell_type": "markdown",
   "metadata": {},
   "source": [
    "## Sentiment Analysis"
   ]
  },
  {
   "cell_type": "code",
   "execution_count": 1,
   "metadata": {},
   "outputs": [
    {
     "name": "stderr",
     "output_type": "stream",
     "text": [
      "[nltk_data] Downloading package wordnet to\n",
      "[nltk_data]     /Users/wangyangyi/nltk_data...\n",
      "[nltk_data]   Package wordnet is already up-to-date!\n",
      "[nltk_data] Downloading package stopwords to\n",
      "[nltk_data]     /Users/wangyangyi/nltk_data...\n",
      "[nltk_data]   Package stopwords is already up-to-date!\n",
      "[nltk_data] Downloading package averaged_perceptron_tagger to\n",
      "[nltk_data]     /Users/wangyangyi/nltk_data...\n",
      "[nltk_data]   Package averaged_perceptron_tagger is already up-to-\n",
      "[nltk_data]       date!\n",
      "[nltk_data] Downloading package words to\n",
      "[nltk_data]     /Users/wangyangyi/nltk_data...\n",
      "[nltk_data]   Package words is already up-to-date!\n",
      "2023-04-12 16:24:08.041319: I tensorflow/core/platform/cpu_feature_guard.cc:193] This TensorFlow binary is optimized with oneAPI Deep Neural Network Library (oneDNN) to use the following CPU instructions in performance-critical operations:  SSE4.1 SSE4.2\n",
      "To enable them in other operations, rebuild TensorFlow with the appropriate compiler flags.\n"
     ]
    }
   ],
   "source": [
    "import train_SA"
   ]
  },
  {
   "cell_type": "code",
   "execution_count": 2,
   "metadata": {},
   "outputs": [
    {
     "name": "stdout",
     "output_type": "stream",
     "text": [
      "=========================CLEANING DATA=========================\n",
      "========================READ RAW DATA=======================\n",
      "=======================LOWERCASE TEXT=======================\n",
      "========================TOKENIZE TEXT=======================\n",
      "=====================REMOVE PUNCTUATION=====================\n",
      "======================REMOVE STOPWORDS======================\n",
      "=====================REMOVE SHORT WORDS=====================\n",
      "==================CONVERT AMAZON.COM TOKENS=================\n",
      "=====================REMOVE CONTRACTIONS====================\n",
      "=====================REMOVE PUNCTUATION=====================\n",
      "========================REMOVE DIGITS=======================\n",
      "======================LEMMATIZE TOKENS======================\n",
      "======================REMOVE DUPLICATES=====================\n",
      "======================APPEND LABELS=========================\n",
      "==================DATA PREPROCESSING DONE===================\n",
      "=======================ORIGINAL TEXT========================\n",
      "0    this is a very healthy dog food. good for thei...\n",
      "1    i've been very pleased with the natural balanc...\n",
      "2    before i was educated about feline nutrition, ...\n",
      "3    my holistic vet recommended this, along with a...\n",
      "4    i bought this coffee because its much cheaper ...\n",
      "Name: Text, dtype: object\n",
      "=====================PREPROCESSED TOKENS====================\n",
      "0    [eats, also, feeding, food, require, dog, ever...\n",
      "1    [kibble, food, someone, dog, allergic, since, ...\n",
      "2    [year, always, finicky, food, pet, two, eat, f...\n",
      "3    [sardine, eat, holistic, want, part, obvious, ...\n",
      "4    [sister, mushroom, well, follow, taste, expect...\n",
      "Name: cleaned, dtype: object\n",
      "============================DONE============================\n",
      "=========================TRAINING MODEL=========================\n"
     ]
    },
    {
     "name": "stderr",
     "output_type": "stream",
     "text": [
      "/Users/wangyangyi/Documents/GitHub/DSA4263_T00/src/sentiment_analysis/prep/preprocess.py:346: SettingWithCopyWarning: \n",
      "A value is trying to be set on a copy of a slice from a DataFrame.\n",
      "Try using .loc[row_indexer,col_indexer] = value instead\n",
      "\n",
      "See the caveats in the documentation: https://pandas.pydata.org/pandas-docs/stable/user_guide/indexing.html#returning-a-view-versus-a-copy\n",
      "  final_df.loc[:,'cleaned2'] = final_df.loc[:,'cleaned'].apply(lambda x: ' '.join(x))\n",
      "2023-04-12 16:24:31.527130: I tensorflow/core/platform/cpu_feature_guard.cc:193] This TensorFlow binary is optimized with oneAPI Deep Neural Network Library (oneDNN) to use the following CPU instructions in performance-critical operations:  SSE4.1 SSE4.2\n",
      "To enable them in other operations, rebuild TensorFlow with the appropriate compiler flags.\n"
     ]
    },
    {
     "name": "stdout",
     "output_type": "stream",
     "text": [
      "Epoch 1/10\n",
      "35/35 [==============================] - 3s 48ms/step - loss: 0.6119 - accuracy: 0.7286 - val_loss: 0.5392 - val_accuracy: 0.7401\n",
      "Epoch 2/10\n",
      "35/35 [==============================] - 1s 37ms/step - loss: 0.4845 - accuracy: 0.7442 - val_loss: 0.4330 - val_accuracy: 0.7668\n",
      "Epoch 3/10\n",
      "35/35 [==============================] - 1s 37ms/step - loss: 0.2942 - accuracy: 0.8762 - val_loss: 0.3311 - val_accuracy: 0.8430\n",
      "Epoch 4/10\n",
      "35/35 [==============================] - 2s 45ms/step - loss: 0.2415 - accuracy: 0.9201 - val_loss: 0.3535 - val_accuracy: 0.8421\n",
      "Epoch 5/10\n",
      "35/35 [==============================] - 1s 40ms/step - loss: 0.1664 - accuracy: 0.9561 - val_loss: 0.3214 - val_accuracy: 0.8586\n",
      "Epoch 6/10\n",
      "35/35 [==============================] - 1s 37ms/step - loss: 0.1197 - accuracy: 0.9759 - val_loss: 0.3230 - val_accuracy: 0.8650\n",
      "Epoch 7/10\n",
      "35/35 [==============================] - 1s 38ms/step - loss: 0.0885 - accuracy: 0.9848 - val_loss: 0.3426 - val_accuracy: 0.8687\n",
      "Epoch 8/10\n",
      "35/35 [==============================] - 1s 40ms/step - loss: 0.0648 - accuracy: 0.9906 - val_loss: 0.3565 - val_accuracy: 0.8724\n",
      "Epoch 9/10\n",
      "35/35 [==============================] - 1s 39ms/step - loss: 0.0485 - accuracy: 0.9933 - val_loss: 0.3755 - val_accuracy: 0.8669\n",
      "Epoch 10/10\n",
      "35/35 [==============================] - 1s 40ms/step - loss: 0.0373 - accuracy: 0.9949 - val_loss: 0.3848 - val_accuracy: 0.8595\n"
     ]
    },
    {
     "name": "stderr",
     "output_type": "stream",
     "text": [
      "WARNING:absl:Found untraced functions such as lstm_cell_layer_call_fn, lstm_cell_layer_call_and_return_conditional_losses while saving (showing 2 of 2). These functions will not be directly callable after loading.\n"
     ]
    },
    {
     "name": "stdout",
     "output_type": "stream",
     "text": [
      "INFO:tensorflow:Assets written to: ram://e0fd18cd-8c44-42c0-87cf-507023bafed3/assets\n"
     ]
    },
    {
     "name": "stderr",
     "output_type": "stream",
     "text": [
      "INFO:tensorflow:Assets written to: ram://e0fd18cd-8c44-42c0-87cf-507023bafed3/assets\n"
     ]
    },
    {
     "name": "stdout",
     "output_type": "stream",
     "text": [
      "You can find trained model in trained_models\n",
      "============================DONE============================\n",
      "=========================GETTING PREDICTIONS=========================\n",
      "35/35 [==============================] - 1s 6ms/step\n",
      "=======================LSTM PREDICTIONS========================\n",
      "                                                   Text  predicted\n",
      "1186  i came home from a hot morning in the arizona ...        1.0\n",
      "4765  overall, this mix is okay, but, the sugar cont...        0.0\n",
      "410   these really are good i gave some to other peo...        0.0\n",
      "1945  this is a poor excuse for coffee - even for in...        0.0\n",
      "3848  we sent this basket to my mother in law for mo...        1.0\n",
      "=======================VADER PREDICTIONS========================\n",
      "                                                   Text  predicted\n",
      "1186  i came home from a hot morning in the arizona ...          1\n",
      "4765  overall, this mix is okay, but, the sugar cont...          1\n",
      "410   these really are good i gave some to other peo...          1\n",
      "1945  this is a poor excuse for coffee - even for in...          1\n",
      "3848  we sent this basket to my mother in law for mo...          1\n",
      "=========================DONE=========================\n",
      "======================EVALUATING MODELS======================\n",
      "======================LSTM PERFORMANCE======================\n",
      "Accuracy =  0.859504132231405\n",
      "Precision =  0.9096612296110415\n",
      "ROC AUC =  0.8225433804768125\n",
      "              precision    recall  f1-score   support\n",
      "\n",
      "           0       0.72      0.75      0.73       283\n",
      "           1       0.91      0.90      0.90       806\n",
      "\n",
      "    accuracy                           0.86      1089\n",
      "   macro avg       0.82      0.82      0.82      1089\n",
      "weighted avg       0.86      0.86      0.86      1089\n",
      "\n",
      "======================VADER PERFORMANCE======================\n",
      "Accuracy =  0.8016528925619835\n",
      "Precision =  0.7961847389558233\n",
      "ROC AUC =  0.6332782400547133\n",
      "              precision    recall  f1-score   support\n",
      "\n",
      "           0       0.86      0.28      0.43       283\n",
      "           1       0.80      0.98      0.88       806\n",
      "\n",
      "    accuracy                           0.80      1089\n",
      "   macro avg       0.83      0.63      0.65      1089\n",
      "weighted avg       0.81      0.80      0.76      1089\n",
      "\n",
      "============================SELECTING BEST MODEL============================\n",
      "LSTM performed better in accuracy\n",
      "LSTM performed better in precision\n",
      "LSTM performed better in ROC AUC\n",
      "LSTM performed better in Recall\n",
      "LSTM performed better in F1 score\n",
      "LSTM is the better model\n",
      "============================DONE============================\n",
      "======================TRAINING SELECTED MODEL ON FULL DATA======================\n",
      "Epoch 1/10\n",
      "35/35 [==============================] - 3s 55ms/step - loss: 0.4658 - accuracy: 0.8863 - val_loss: 2.5330 - val_accuracy: 0.0698\n",
      "Epoch 2/10\n",
      "35/35 [==============================] - 2s 51ms/step - loss: 0.3064 - accuracy: 0.9079 - val_loss: 2.2134 - val_accuracy: 0.0698\n",
      "Epoch 3/10\n",
      "35/35 [==============================] - 1s 39ms/step - loss: 0.2993 - accuracy: 0.9079 - val_loss: 1.9708 - val_accuracy: 0.0698\n",
      "Epoch 4/10\n",
      "35/35 [==============================] - 1s 38ms/step - loss: 0.2803 - accuracy: 0.9079 - val_loss: 1.8526 - val_accuracy: 0.0698\n",
      "Epoch 5/10\n",
      "35/35 [==============================] - 1s 38ms/step - loss: 0.2026 - accuracy: 0.9162 - val_loss: 1.2599 - val_accuracy: 0.2378\n",
      "Epoch 6/10\n",
      "35/35 [==============================] - 1s 42ms/step - loss: 0.1054 - accuracy: 0.9718 - val_loss: 1.9503 - val_accuracy: 0.2773\n",
      "Epoch 7/10\n",
      "35/35 [==============================] - 1s 39ms/step - loss: 0.0608 - accuracy: 0.9867 - val_loss: 1.8739 - val_accuracy: 0.4040\n",
      "Epoch 8/10\n",
      "35/35 [==============================] - 1s 38ms/step - loss: 0.0365 - accuracy: 0.9931 - val_loss: 2.1884 - val_accuracy: 0.3783\n",
      "Epoch 9/10\n",
      "35/35 [==============================] - 1s 38ms/step - loss: 0.0256 - accuracy: 0.9966 - val_loss: 2.2723 - val_accuracy: 0.4242\n",
      "Epoch 10/10\n",
      "35/35 [==============================] - 1s 38ms/step - loss: 0.0187 - accuracy: 0.9970 - val_loss: 2.7949 - val_accuracy: 0.3664\n"
     ]
    },
    {
     "name": "stderr",
     "output_type": "stream",
     "text": [
      "WARNING:absl:Found untraced functions such as lstm_cell_2_layer_call_fn, lstm_cell_2_layer_call_and_return_conditional_losses while saving (showing 2 of 2). These functions will not be directly callable after loading.\n"
     ]
    },
    {
     "name": "stdout",
     "output_type": "stream",
     "text": [
      "INFO:tensorflow:Assets written to: ram://071121b2-1c76-4056-9ef9-cc0496cd46d7/assets\n"
     ]
    },
    {
     "name": "stderr",
     "output_type": "stream",
     "text": [
      "INFO:tensorflow:Assets written to: ram://071121b2-1c76-4056-9ef9-cc0496cd46d7/assets\n"
     ]
    },
    {
     "name": "stdout",
     "output_type": "stream",
     "text": [
      "You can find trained model in trained_models\n",
      "============================END OF PIPELINE============================\n"
     ]
    }
   ],
   "source": [
    "train_SA.run_sa_pipeline()"
   ]
  },
  {
   "attachments": {},
   "cell_type": "markdown",
   "metadata": {},
   "source": [
    "After evaluating the performance of the different models, our selection compared the scores across the 2 models. From the output we can see that LSTM performed better in all aspects - Accuracy, precision, ROC AUC, Recall and F1 score. Therefore, LSTM is deemed as the best model for sentiment analysis."
   ]
  },
  {
   "attachments": {},
   "cell_type": "markdown",
   "metadata": {},
   "source": [
    "## New Data Predictions"
   ]
  },
  {
   "cell_type": "code",
   "execution_count": 3,
   "metadata": {},
   "outputs": [],
   "source": [
    "from sentiment_analysis.train import evaluate"
   ]
  },
  {
   "cell_type": "code",
   "execution_count": null,
   "metadata": {},
   "outputs": [],
   "source": [
    "evaluate.get_score(\"path to reviews_test.csv\")"
   ]
  }
 ],
 "metadata": {
  "kernelspec": {
   "display_name": "tensorflow",
   "language": "python",
   "name": "tensorflow"
  },
  "language_info": {
   "codemirror_mode": {
    "name": "ipython",
    "version": 3
   },
   "file_extension": ".py",
   "mimetype": "text/x-python",
   "name": "python",
   "nbconvert_exporter": "python",
   "pygments_lexer": "ipython3",
   "version": "3.9.16"
  },
  "vscode": {
   "interpreter": {
    "hash": "aee8b7b246df8f9039afb4144a1f6fd8d2ca17a180786b69acc140d282b71a49"
   }
  }
 },
 "nbformat": 4,
 "nbformat_minor": 2
}
